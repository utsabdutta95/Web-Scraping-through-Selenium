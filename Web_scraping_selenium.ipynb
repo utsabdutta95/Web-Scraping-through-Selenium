{
 "cells": [
  {
   "cell_type": "markdown",
   "metadata": {},
   "source": [
    "# WEB SCRAPING (Selenium)"
   ]
  },
  {
   "cell_type": "markdown",
   "metadata": {},
   "source": [
    "Problem Statement:\n",
    "\n",
    "Q1: Write a python program to scrape data for “Data Analyst” Job position in \n",
    "“Bangalore” location. You have to scrape the job-title, job-location, company_name,\n",
    "experience_required. You have to scrape first 10 jobs data.\n",
    "This task will be done in following steps:\n",
    "1. first get the webpage https://www.naukri.com/\n",
    "2. Enter “Data Analyst” in “Skill,Designations,Companies” field and enter “Bangalore” \n",
    "in “enter the location” field.\n",
    "3. Then click the search button.\n",
    "4. Then scrape the data for the first 10 jobs results you get.\n",
    "5. Finally create a dataframe of the scraped data.\n",
    "Note- All of the above steps have to be done in code. No step is to be done manually\n"
   ]
  },
  {
   "cell_type": "code",
   "execution_count": 1,
   "metadata": {},
   "outputs": [
    {
     "name": "stdout",
     "output_type": "stream",
     "text": [
      "Requirement already satisfied: selenium in c:\\users\\utsab\\anaconda3\\lib\\site-packages (3.141.0)\n",
      "Requirement already satisfied: urllib3 in c:\\users\\utsab\\anaconda3\\lib\\site-packages (from selenium) (1.25.11)\n"
     ]
    }
   ],
   "source": [
    "! pip install selenium"
   ]
  },
  {
   "cell_type": "code",
   "execution_count": 2,
   "metadata": {},
   "outputs": [],
   "source": [
    "#Lets now import all the required libraries\n",
    "import selenium\n",
    "import pandas as pd\n",
    "from selenium import webdriver"
   ]
  },
  {
   "cell_type": "code",
   "execution_count": 3,
   "metadata": {},
   "outputs": [],
   "source": [
    "#Lets first connect to the web driver\n",
    "driver = webdriver.Chrome('chromedriver.exe')"
   ]
  },
  {
   "cell_type": "code",
   "execution_count": 4,
   "metadata": {},
   "outputs": [],
   "source": [
    "url = 'https://www.naukri.com/'\n",
    "driver.get(url)"
   ]
  },
  {
   "cell_type": "code",
   "execution_count": 5,
   "metadata": {},
   "outputs": [
    {
     "data": {
      "text/plain": [
       "<selenium.webdriver.remote.webelement.WebElement (session=\"7a49f3c9989739e59e5ebd10948b511d\", element=\"b0ff1ecd-5f24-40e3-bf3c-24f32d551487\")>"
      ]
     },
     "execution_count": 5,
     "metadata": {},
     "output_type": "execute_result"
    }
   ],
   "source": [
    "#finding elements for job search bar\n",
    "search_job = driver.find_element_by_id('qsb-keyword-sugg')\n",
    "search_job"
   ]
  },
  {
   "cell_type": "code",
   "execution_count": 6,
   "metadata": {},
   "outputs": [],
   "source": [
    "#write on search bar\n",
    "search_job.send_keys('Data Scientist')"
   ]
  },
  {
   "cell_type": "code",
   "execution_count": 7,
   "metadata": {},
   "outputs": [],
   "source": [
    "# finding elements for job location bar\n",
    "search_loc = driver.find_element_by_id('qsb-location-sugg')\n",
    "search_loc.send_keys('Bangalore')"
   ]
  },
  {
   "cell_type": "code",
   "execution_count": 8,
   "metadata": {},
   "outputs": [],
   "source": [
    "#do click using xpath function\n",
    "search_btn = driver.find_element_by_xpath(\"//button[@class='btn']\")\n",
    "search_btn.click()"
   ]
  },
  {
   "cell_type": "raw",
   "metadata": {},
   "source": [
    "#do click using class_name function\n",
    "search_btn = driver.find_element_by_class_name('btn')\n",
    "search_btn.click()"
   ]
  },
  {
   "cell_type": "markdown",
   "metadata": {},
   "source": [
    "So now lets 4 create empty lists. In these lists the data will be stored while scraping."
   ]
  },
  {
   "cell_type": "code",
   "execution_count": 9,
   "metadata": {},
   "outputs": [],
   "source": [
    "#So lets extract all the tags having the job titles\n",
    "titles_tags = driver.find_elements_by_xpath(\"//a[@class='title fw500 ellipsis']\")"
   ]
  },
  {
   "cell_type": "code",
   "execution_count": 10,
   "metadata": {
    "scrolled": true
   },
   "outputs": [
    {
     "data": {
      "text/plain": [
       "[<selenium.webdriver.remote.webelement.WebElement (session=\"7a49f3c9989739e59e5ebd10948b511d\", element=\"b6344a00-8b54-45ab-a76a-379636f1b71a\")>,\n",
       " <selenium.webdriver.remote.webelement.WebElement (session=\"7a49f3c9989739e59e5ebd10948b511d\", element=\"60122ab0-13b4-4d69-97aa-bc3afaeb0706\")>,\n",
       " <selenium.webdriver.remote.webelement.WebElement (session=\"7a49f3c9989739e59e5ebd10948b511d\", element=\"48bd5def-01e0-4021-a0ee-a8a91b365d39\")>,\n",
       " <selenium.webdriver.remote.webelement.WebElement (session=\"7a49f3c9989739e59e5ebd10948b511d\", element=\"ee673f9f-cc43-49a3-bda7-2182066469fc\")>,\n",
       " <selenium.webdriver.remote.webelement.WebElement (session=\"7a49f3c9989739e59e5ebd10948b511d\", element=\"6ab2c165-d922-47e0-a9fd-ae86212804f8\")>,\n",
       " <selenium.webdriver.remote.webelement.WebElement (session=\"7a49f3c9989739e59e5ebd10948b511d\", element=\"f3dab171-2022-4d93-ac57-7d9dd374d324\")>,\n",
       " <selenium.webdriver.remote.webelement.WebElement (session=\"7a49f3c9989739e59e5ebd10948b511d\", element=\"c073a1f3-ec1a-41e4-bdf4-5b706bda3e92\")>,\n",
       " <selenium.webdriver.remote.webelement.WebElement (session=\"7a49f3c9989739e59e5ebd10948b511d\", element=\"01a28bbf-7339-46f6-9ee0-8f56c0e9eb08\")>,\n",
       " <selenium.webdriver.remote.webelement.WebElement (session=\"7a49f3c9989739e59e5ebd10948b511d\", element=\"9800d937-99d5-42bd-a24f-7615f4d45b39\")>,\n",
       " <selenium.webdriver.remote.webelement.WebElement (session=\"7a49f3c9989739e59e5ebd10948b511d\", element=\"e968d3e9-f279-4d6f-b9bb-13adbf255573\")>,\n",
       " <selenium.webdriver.remote.webelement.WebElement (session=\"7a49f3c9989739e59e5ebd10948b511d\", element=\"1f8da805-4ac1-4bad-bccf-d5771a367bdb\")>,\n",
       " <selenium.webdriver.remote.webelement.WebElement (session=\"7a49f3c9989739e59e5ebd10948b511d\", element=\"0f941c8b-d4cc-4319-a2ed-37381aecc829\")>,\n",
       " <selenium.webdriver.remote.webelement.WebElement (session=\"7a49f3c9989739e59e5ebd10948b511d\", element=\"5d119d33-5e52-4f9f-a26a-00d46a544868\")>,\n",
       " <selenium.webdriver.remote.webelement.WebElement (session=\"7a49f3c9989739e59e5ebd10948b511d\", element=\"2a14092c-da4f-477a-931d-6817e29ba69d\")>,\n",
       " <selenium.webdriver.remote.webelement.WebElement (session=\"7a49f3c9989739e59e5ebd10948b511d\", element=\"44c1283d-d667-49ef-915c-d7648eff12f8\")>,\n",
       " <selenium.webdriver.remote.webelement.WebElement (session=\"7a49f3c9989739e59e5ebd10948b511d\", element=\"91ad55f8-ae70-402e-b520-ebc87751f8c7\")>,\n",
       " <selenium.webdriver.remote.webelement.WebElement (session=\"7a49f3c9989739e59e5ebd10948b511d\", element=\"8e0164f4-2f93-4702-b5c6-0508cae24bf3\")>,\n",
       " <selenium.webdriver.remote.webelement.WebElement (session=\"7a49f3c9989739e59e5ebd10948b511d\", element=\"f37d4c58-ecff-4f6f-afa7-9792ab9c5d22\")>,\n",
       " <selenium.webdriver.remote.webelement.WebElement (session=\"7a49f3c9989739e59e5ebd10948b511d\", element=\"941f3a1d-1489-4a6f-bbd7-83ab52f08436\")>,\n",
       " <selenium.webdriver.remote.webelement.WebElement (session=\"7a49f3c9989739e59e5ebd10948b511d\", element=\"60ccda8c-cdf2-456e-979e-686548841669\")>]"
      ]
     },
     "execution_count": 10,
     "metadata": {},
     "output_type": "execute_result"
    }
   ],
   "source": [
    "titles_tags"
   ]
  },
  {
   "cell_type": "code",
   "execution_count": 11,
   "metadata": {},
   "outputs": [
    {
     "data": {
      "text/plain": [
       "['Data Scientist / Data Analyst -Business Analyst',\n",
       " 'Senior Data Scientist, Modeling',\n",
       " 'Big Data - Data Scientist',\n",
       " 'Specialist I - Data Scientist',\n",
       " 'Data Scientist',\n",
       " 'Lead Data Scientist',\n",
       " 'Data Scientist',\n",
       " 'SDE Lead Data Scientist-L3',\n",
       " 'Computational Design Lead Data Scientist-L3',\n",
       " 'Hiring For DATA Scientist - ON Contract Basis (3-6 Months)',\n",
       " 'Senior Data Scientist',\n",
       " 'Senior Data Scientist - Chatbot & NLP',\n",
       " 'Senior Data Scientist',\n",
       " 'Sr. Data Scientist',\n",
       " 'Senior Data Scientist',\n",
       " 'Senior Associate/Team Lead - Data Scientist Consulting',\n",
       " 'Senior Data Scientist',\n",
       " 'Data Scientist',\n",
       " 'Hiring For Lead data Scientist For Bangalore location',\n",
       " 'Principal Data Scientist']"
      ]
     },
     "execution_count": 11,
     "metadata": {},
     "output_type": "execute_result"
    }
   ],
   "source": [
    "#Loop to iterate over the tags extracted above and extract the text inside them.\n",
    "job_titles=[]\n",
    "for i in titles_tags:\n",
    "    job_titles.append(i.text)\n",
    "job_titles"
   ]
  },
  {
   "cell_type": "code",
   "execution_count": 12,
   "metadata": {},
   "outputs": [
    {
     "data": {
      "text/plain": [
       "[<selenium.webdriver.remote.webelement.WebElement (session=\"7a49f3c9989739e59e5ebd10948b511d\", element=\"5e6d0c9e-7118-49a3-8bc7-046805d6de3d\")>,\n",
       " <selenium.webdriver.remote.webelement.WebElement (session=\"7a49f3c9989739e59e5ebd10948b511d\", element=\"90d34232-b962-403c-a90a-3d99797cd4d6\")>,\n",
       " <selenium.webdriver.remote.webelement.WebElement (session=\"7a49f3c9989739e59e5ebd10948b511d\", element=\"88f54e7a-1a8b-4f5b-b7d3-97547b2e2ca3\")>,\n",
       " <selenium.webdriver.remote.webelement.WebElement (session=\"7a49f3c9989739e59e5ebd10948b511d\", element=\"31b1594a-49fb-4219-b87e-250304d1ea64\")>,\n",
       " <selenium.webdriver.remote.webelement.WebElement (session=\"7a49f3c9989739e59e5ebd10948b511d\", element=\"20e03a47-c252-4beb-bf5c-30ea33031997\")>,\n",
       " <selenium.webdriver.remote.webelement.WebElement (session=\"7a49f3c9989739e59e5ebd10948b511d\", element=\"eb1abf99-af1a-4a8e-acf3-763888514558\")>,\n",
       " <selenium.webdriver.remote.webelement.WebElement (session=\"7a49f3c9989739e59e5ebd10948b511d\", element=\"d0b99afd-4198-4d8e-b8b4-3eeea83bf7cd\")>,\n",
       " <selenium.webdriver.remote.webelement.WebElement (session=\"7a49f3c9989739e59e5ebd10948b511d\", element=\"43d1a0d7-f05c-40d4-bcdb-280472e96bda\")>,\n",
       " <selenium.webdriver.remote.webelement.WebElement (session=\"7a49f3c9989739e59e5ebd10948b511d\", element=\"57aabcef-9c9f-4f06-84b9-c92f85fd4165\")>,\n",
       " <selenium.webdriver.remote.webelement.WebElement (session=\"7a49f3c9989739e59e5ebd10948b511d\", element=\"0c12599e-3b95-4a00-9207-4e635295765b\")>,\n",
       " <selenium.webdriver.remote.webelement.WebElement (session=\"7a49f3c9989739e59e5ebd10948b511d\", element=\"2523b96d-8a96-43b1-b9a9-15da7cbadbfe\")>,\n",
       " <selenium.webdriver.remote.webelement.WebElement (session=\"7a49f3c9989739e59e5ebd10948b511d\", element=\"6bc5d5a8-357e-4d7e-86a2-a845e9968825\")>,\n",
       " <selenium.webdriver.remote.webelement.WebElement (session=\"7a49f3c9989739e59e5ebd10948b511d\", element=\"1efbee73-e28f-4bb3-93cf-0c61dfb48fba\")>,\n",
       " <selenium.webdriver.remote.webelement.WebElement (session=\"7a49f3c9989739e59e5ebd10948b511d\", element=\"8a465a63-7650-4e08-a739-36fcea2dc17b\")>,\n",
       " <selenium.webdriver.remote.webelement.WebElement (session=\"7a49f3c9989739e59e5ebd10948b511d\", element=\"2a18d72d-1d61-420f-8b8d-230e586aaf49\")>,\n",
       " <selenium.webdriver.remote.webelement.WebElement (session=\"7a49f3c9989739e59e5ebd10948b511d\", element=\"7fe64961-7ed4-4d3d-87fe-271cafeed4fd\")>,\n",
       " <selenium.webdriver.remote.webelement.WebElement (session=\"7a49f3c9989739e59e5ebd10948b511d\", element=\"c66bfb62-0143-4715-ba58-d06292e8c6e6\")>,\n",
       " <selenium.webdriver.remote.webelement.WebElement (session=\"7a49f3c9989739e59e5ebd10948b511d\", element=\"79428371-c3b1-40ea-93d7-a0b52b6bed2c\")>,\n",
       " <selenium.webdriver.remote.webelement.WebElement (session=\"7a49f3c9989739e59e5ebd10948b511d\", element=\"93b5a2ea-df93-472e-8261-0097b52aaf7e\")>,\n",
       " <selenium.webdriver.remote.webelement.WebElement (session=\"7a49f3c9989739e59e5ebd10948b511d\", element=\"ee56a1d8-b3d6-484b-ab34-867c41590a8b\")>]"
      ]
     },
     "execution_count": 12,
     "metadata": {},
     "output_type": "execute_result"
    }
   ],
   "source": [
    "#So lets extract all the tags having the company name\n",
    "companies_tags = driver.find_elements_by_xpath(\"//a[@class='subTitle ellipsis fleft']\")\n",
    "companies_tags"
   ]
  },
  {
   "cell_type": "code",
   "execution_count": 13,
   "metadata": {},
   "outputs": [
    {
     "data": {
      "text/plain": [
       "['Inflexion Analytix Private Limited',\n",
       " 'Nielsen',\n",
       " 'Xoriant Solutions Pvt Ltd',\n",
       " 'Philips India Limited',\n",
       " 'IBM India Pvt. Limited',\n",
       " 'Intel Technology India Pvt Ltd',\n",
       " 'Oracle India Pvt. Ltd.',\n",
       " 'Huawei Technologies India Pvt Ltd',\n",
       " 'Huawei Technologies India Pvt Ltd',\n",
       " 'GlobalEdx Learning and Technology Solution Pvt Ltd',\n",
       " 'GO-JEK India',\n",
       " 'Gojek Tech',\n",
       " 'nanobi data and analytics private limited',\n",
       " 'VALIANCE ANALYTICS PRIVATE LIMITED',\n",
       " 'BankBazaar.com (A&A DUKAAN FINANCIAL SERVICES PVT. LTD)',\n",
       " 'Analytics India Magazine',\n",
       " 'Gojek Tech',\n",
       " 'Applied Materials',\n",
       " 'Societe Generale',\n",
       " 'NetApp']"
      ]
     },
     "execution_count": 13,
     "metadata": {},
     "output_type": "execute_result"
    }
   ],
   "source": [
    "#Loop to iterate over the tags extracted above and extract the text inside them.\n",
    "company_name=[]\n",
    "for i in companies_tags:\n",
    "    company_name.append(i.text)\n",
    "company_name"
   ]
  },
  {
   "cell_type": "code",
   "execution_count": 14,
   "metadata": {},
   "outputs": [
    {
     "data": {
      "text/plain": [
       "[<selenium.webdriver.remote.webelement.WebElement (session=\"7a49f3c9989739e59e5ebd10948b511d\", element=\"f04d03a1-3445-49ff-8e09-5d57083f91c9\")>,\n",
       " <selenium.webdriver.remote.webelement.WebElement (session=\"7a49f3c9989739e59e5ebd10948b511d\", element=\"7057dc33-487a-48de-a21e-a201d1923fb7\")>,\n",
       " <selenium.webdriver.remote.webelement.WebElement (session=\"7a49f3c9989739e59e5ebd10948b511d\", element=\"9b2cce51-9014-43b6-993a-572701efff4e\")>,\n",
       " <selenium.webdriver.remote.webelement.WebElement (session=\"7a49f3c9989739e59e5ebd10948b511d\", element=\"a44fa8c3-4127-41e1-9f4c-67ab1dfa0b25\")>,\n",
       " <selenium.webdriver.remote.webelement.WebElement (session=\"7a49f3c9989739e59e5ebd10948b511d\", element=\"2d0754d8-b77c-4026-88fe-c11570b09a88\")>,\n",
       " <selenium.webdriver.remote.webelement.WebElement (session=\"7a49f3c9989739e59e5ebd10948b511d\", element=\"08b94bc7-178b-4847-a79c-9f31aaa83abd\")>,\n",
       " <selenium.webdriver.remote.webelement.WebElement (session=\"7a49f3c9989739e59e5ebd10948b511d\", element=\"6d50e987-4430-41e1-8f13-f063dd4e99bf\")>,\n",
       " <selenium.webdriver.remote.webelement.WebElement (session=\"7a49f3c9989739e59e5ebd10948b511d\", element=\"b78a885f-261f-48d6-a983-5c393605457a\")>,\n",
       " <selenium.webdriver.remote.webelement.WebElement (session=\"7a49f3c9989739e59e5ebd10948b511d\", element=\"4b21d556-3d31-44a7-ad18-378f4d2e4c4e\")>,\n",
       " <selenium.webdriver.remote.webelement.WebElement (session=\"7a49f3c9989739e59e5ebd10948b511d\", element=\"694714b0-c675-4b9d-9b54-50499c36fc3b\")>,\n",
       " <selenium.webdriver.remote.webelement.WebElement (session=\"7a49f3c9989739e59e5ebd10948b511d\", element=\"d0ad60e2-576a-456f-8b4b-0193fdd44737\")>,\n",
       " <selenium.webdriver.remote.webelement.WebElement (session=\"7a49f3c9989739e59e5ebd10948b511d\", element=\"d8eee9ca-50a4-481c-8f2c-39259b103878\")>,\n",
       " <selenium.webdriver.remote.webelement.WebElement (session=\"7a49f3c9989739e59e5ebd10948b511d\", element=\"e86619cb-aad0-4546-9ab3-778d7ce979e8\")>,\n",
       " <selenium.webdriver.remote.webelement.WebElement (session=\"7a49f3c9989739e59e5ebd10948b511d\", element=\"b2e1f6a2-38c6-4540-b289-8bd97ad36b5c\")>,\n",
       " <selenium.webdriver.remote.webelement.WebElement (session=\"7a49f3c9989739e59e5ebd10948b511d\", element=\"ed7520a4-131d-42c1-a2a3-9a9be1f10135\")>,\n",
       " <selenium.webdriver.remote.webelement.WebElement (session=\"7a49f3c9989739e59e5ebd10948b511d\", element=\"a77ada26-08cc-49a3-9d5b-fc90ea111a36\")>,\n",
       " <selenium.webdriver.remote.webelement.WebElement (session=\"7a49f3c9989739e59e5ebd10948b511d\", element=\"992519c8-4fc2-4a40-9ee8-f2f780aadfa7\")>,\n",
       " <selenium.webdriver.remote.webelement.WebElement (session=\"7a49f3c9989739e59e5ebd10948b511d\", element=\"ea6bc841-34c4-494c-b382-58552871235a\")>,\n",
       " <selenium.webdriver.remote.webelement.WebElement (session=\"7a49f3c9989739e59e5ebd10948b511d\", element=\"3b16bb7f-315a-4b6b-b087-40aa083af7a8\")>,\n",
       " <selenium.webdriver.remote.webelement.WebElement (session=\"7a49f3c9989739e59e5ebd10948b511d\", element=\"4651c982-87be-479b-a833-259fc72d5851\")>]"
      ]
     },
     "execution_count": 14,
     "metadata": {},
     "output_type": "execute_result"
    }
   ],
   "source": [
    "#So lets extract all the tags having the experience\n",
    "experience_tags = driver.find_elements_by_xpath(\"//li[@class='fleft grey-text br2 placeHolderLi experience']//span\")\n",
    "experience_tags"
   ]
  },
  {
   "cell_type": "code",
   "execution_count": 15,
   "metadata": {},
   "outputs": [
    {
     "data": {
      "text/plain": [
       "['0-3 Yrs',\n",
       " '3-7 Yrs',\n",
       " '1-3 Yrs',\n",
       " '4-7 Yrs',\n",
       " '6-8 Yrs',\n",
       " '6-10 Yrs',\n",
       " '6-10 Yrs',\n",
       " '5-8 Yrs',\n",
       " '5-8 Yrs',\n",
       " '3-8 Yrs',\n",
       " '4-11 Yrs',\n",
       " '3-7 Yrs',\n",
       " '7-9 Yrs',\n",
       " '6-8 Yrs',\n",
       " '5-7 Yrs',\n",
       " '3-5 Yrs',\n",
       " '3-7 Yrs',\n",
       " '2-4 Yrs',\n",
       " '5-9 Yrs',\n",
       " '10-15 Yrs']"
      ]
     },
     "execution_count": 15,
     "metadata": {},
     "output_type": "execute_result"
    }
   ],
   "source": [
    "#Loop to iterate over the tags extracted above and extract the text inside them.\n",
    "experience=[]\n",
    "for i in experience_tags:\n",
    "    experience.append(i.text)\n",
    "experience"
   ]
  },
  {
   "cell_type": "code",
   "execution_count": 16,
   "metadata": {},
   "outputs": [
    {
     "data": {
      "text/plain": [
       "[<selenium.webdriver.remote.webelement.WebElement (session=\"7a49f3c9989739e59e5ebd10948b511d\", element=\"6f22c568-6409-4c76-9cb6-adf1df6da23f\")>,\n",
       " <selenium.webdriver.remote.webelement.WebElement (session=\"7a49f3c9989739e59e5ebd10948b511d\", element=\"0156bcc1-48f0-4ddc-8416-6ef3177b29e6\")>,\n",
       " <selenium.webdriver.remote.webelement.WebElement (session=\"7a49f3c9989739e59e5ebd10948b511d\", element=\"333327d5-ba86-4f98-bd5e-afb44ce982df\")>,\n",
       " <selenium.webdriver.remote.webelement.WebElement (session=\"7a49f3c9989739e59e5ebd10948b511d\", element=\"eb9a4982-b490-468c-bdfb-bdbbaa3687e9\")>,\n",
       " <selenium.webdriver.remote.webelement.WebElement (session=\"7a49f3c9989739e59e5ebd10948b511d\", element=\"3b3d3cbd-880d-41b6-983e-c97074c18382\")>,\n",
       " <selenium.webdriver.remote.webelement.WebElement (session=\"7a49f3c9989739e59e5ebd10948b511d\", element=\"c9d49fac-8a48-4cae-92fc-78edf59a0ea5\")>,\n",
       " <selenium.webdriver.remote.webelement.WebElement (session=\"7a49f3c9989739e59e5ebd10948b511d\", element=\"b59133eb-ea6c-45c8-b7ee-0c22af4245d7\")>,\n",
       " <selenium.webdriver.remote.webelement.WebElement (session=\"7a49f3c9989739e59e5ebd10948b511d\", element=\"5f1dde49-63d0-49ef-9137-66092d844013\")>,\n",
       " <selenium.webdriver.remote.webelement.WebElement (session=\"7a49f3c9989739e59e5ebd10948b511d\", element=\"f4328ea7-c3f8-4ffb-a00c-c6733e4a06b8\")>,\n",
       " <selenium.webdriver.remote.webelement.WebElement (session=\"7a49f3c9989739e59e5ebd10948b511d\", element=\"37e8bbeb-5f67-4077-9f80-bd871610e206\")>,\n",
       " <selenium.webdriver.remote.webelement.WebElement (session=\"7a49f3c9989739e59e5ebd10948b511d\", element=\"9fe6180e-c07b-488d-af63-9e85e6ac99ba\")>,\n",
       " <selenium.webdriver.remote.webelement.WebElement (session=\"7a49f3c9989739e59e5ebd10948b511d\", element=\"b6864f91-d87a-49a9-aa3e-b7961a205c34\")>,\n",
       " <selenium.webdriver.remote.webelement.WebElement (session=\"7a49f3c9989739e59e5ebd10948b511d\", element=\"49201497-642c-42cf-982e-1de4578ff359\")>,\n",
       " <selenium.webdriver.remote.webelement.WebElement (session=\"7a49f3c9989739e59e5ebd10948b511d\", element=\"61469935-e066-4e93-a8e7-3f65817f4df0\")>,\n",
       " <selenium.webdriver.remote.webelement.WebElement (session=\"7a49f3c9989739e59e5ebd10948b511d\", element=\"7f23b259-c301-4646-9aaf-122c6617ead1\")>,\n",
       " <selenium.webdriver.remote.webelement.WebElement (session=\"7a49f3c9989739e59e5ebd10948b511d\", element=\"0d6fa5be-6ab5-44a8-9058-288da0a36236\")>,\n",
       " <selenium.webdriver.remote.webelement.WebElement (session=\"7a49f3c9989739e59e5ebd10948b511d\", element=\"eff48cc4-aa10-4fd4-bc18-1d7b2c0f343d\")>,\n",
       " <selenium.webdriver.remote.webelement.WebElement (session=\"7a49f3c9989739e59e5ebd10948b511d\", element=\"6141906c-3e45-413f-901e-5714991e7409\")>,\n",
       " <selenium.webdriver.remote.webelement.WebElement (session=\"7a49f3c9989739e59e5ebd10948b511d\", element=\"849f1c64-7f13-448f-ae08-6ca30d94a807\")>,\n",
       " <selenium.webdriver.remote.webelement.WebElement (session=\"7a49f3c9989739e59e5ebd10948b511d\", element=\"04a9ee2f-a908-499a-a814-434daad2b0b0\")>]"
      ]
     },
     "execution_count": 16,
     "metadata": {},
     "output_type": "execute_result"
    }
   ],
   "source": [
    "#So lets extract all the tags having the salary\n",
    "salary_tags = driver.find_elements_by_xpath(\"//li[@class='fleft grey-text br2 placeHolderLi salary']//span\")\n",
    "salary_tags"
   ]
  },
  {
   "cell_type": "code",
   "execution_count": 17,
   "metadata": {},
   "outputs": [
    {
     "data": {
      "text/plain": [
       "['3,50,000 - 4,50,000 PA.',\n",
       " '7,00,000 - 9,50,000 PA.',\n",
       " 'Not disclosed',\n",
       " 'Not disclosed',\n",
       " 'Not disclosed',\n",
       " 'Not disclosed',\n",
       " 'Not disclosed',\n",
       " 'Not disclosed',\n",
       " 'Not disclosed',\n",
       " '50,000 - 70,000 PA.',\n",
       " 'Not disclosed',\n",
       " 'Not disclosed',\n",
       " 'Not disclosed',\n",
       " '20,00,000 - 35,00,000 PA.',\n",
       " 'Not disclosed',\n",
       " 'Not disclosed',\n",
       " 'Not disclosed',\n",
       " 'Not disclosed',\n",
       " 'Not disclosed',\n",
       " 'Not disclosed']"
      ]
     },
     "execution_count": 17,
     "metadata": {},
     "output_type": "execute_result"
    }
   ],
   "source": [
    "#Loop to iterate over the tags extracted above and extract the text inside them.\n",
    "salary=[]\n",
    "for i in salary_tags:\n",
    "    salary.append(i.text)\n",
    "salary"
   ]
  },
  {
   "cell_type": "code",
   "execution_count": 18,
   "metadata": {},
   "outputs": [
    {
     "data": {
      "text/plain": [
       "[<selenium.webdriver.remote.webelement.WebElement (session=\"7a49f3c9989739e59e5ebd10948b511d\", element=\"676a2007-528c-4f8b-a395-0ddafb2053ba\")>,\n",
       " <selenium.webdriver.remote.webelement.WebElement (session=\"7a49f3c9989739e59e5ebd10948b511d\", element=\"3d98a062-b1c5-4297-8474-a05b980d7387\")>,\n",
       " <selenium.webdriver.remote.webelement.WebElement (session=\"7a49f3c9989739e59e5ebd10948b511d\", element=\"88ec3a64-97a6-44d6-b0c7-37557a04a602\")>,\n",
       " <selenium.webdriver.remote.webelement.WebElement (session=\"7a49f3c9989739e59e5ebd10948b511d\", element=\"705fde45-7f6c-4e45-99c7-2f38dcc42320\")>,\n",
       " <selenium.webdriver.remote.webelement.WebElement (session=\"7a49f3c9989739e59e5ebd10948b511d\", element=\"0aae64dd-e765-4417-9120-c7bbdaead197\")>,\n",
       " <selenium.webdriver.remote.webelement.WebElement (session=\"7a49f3c9989739e59e5ebd10948b511d\", element=\"4ec1ba12-e3a5-4c21-a988-a26b4bc59f7e\")>,\n",
       " <selenium.webdriver.remote.webelement.WebElement (session=\"7a49f3c9989739e59e5ebd10948b511d\", element=\"0d8ab8e6-497e-41fb-a4d3-da26ab26610d\")>,\n",
       " <selenium.webdriver.remote.webelement.WebElement (session=\"7a49f3c9989739e59e5ebd10948b511d\", element=\"1a5eade8-910a-4641-a1a6-38689b1a7fce\")>,\n",
       " <selenium.webdriver.remote.webelement.WebElement (session=\"7a49f3c9989739e59e5ebd10948b511d\", element=\"3360a69e-be8a-485c-b508-c39d8210fefa\")>,\n",
       " <selenium.webdriver.remote.webelement.WebElement (session=\"7a49f3c9989739e59e5ebd10948b511d\", element=\"101eb3ff-9090-4989-8bf2-699656698861\")>,\n",
       " <selenium.webdriver.remote.webelement.WebElement (session=\"7a49f3c9989739e59e5ebd10948b511d\", element=\"1d1d6eba-d1a5-4567-a9d9-11646ff4bc4b\")>,\n",
       " <selenium.webdriver.remote.webelement.WebElement (session=\"7a49f3c9989739e59e5ebd10948b511d\", element=\"05d1a9e5-fcd5-4f71-a9e9-ec8138ad7ec5\")>,\n",
       " <selenium.webdriver.remote.webelement.WebElement (session=\"7a49f3c9989739e59e5ebd10948b511d\", element=\"e90591a1-aa50-4b38-b7ac-ab975d1a6f8e\")>,\n",
       " <selenium.webdriver.remote.webelement.WebElement (session=\"7a49f3c9989739e59e5ebd10948b511d\", element=\"f78b01fb-a8de-4eb9-a4a6-071c0c165bc2\")>,\n",
       " <selenium.webdriver.remote.webelement.WebElement (session=\"7a49f3c9989739e59e5ebd10948b511d\", element=\"897c0990-9a91-4f56-882a-26e4388cf288\")>,\n",
       " <selenium.webdriver.remote.webelement.WebElement (session=\"7a49f3c9989739e59e5ebd10948b511d\", element=\"4d707044-5db6-48bf-92e5-e562cbebd84b\")>,\n",
       " <selenium.webdriver.remote.webelement.WebElement (session=\"7a49f3c9989739e59e5ebd10948b511d\", element=\"cf7c9018-554f-4da2-825c-4b9f21f52b95\")>,\n",
       " <selenium.webdriver.remote.webelement.WebElement (session=\"7a49f3c9989739e59e5ebd10948b511d\", element=\"afc765e4-3915-4b8d-aaf1-cb486575877c\")>,\n",
       " <selenium.webdriver.remote.webelement.WebElement (session=\"7a49f3c9989739e59e5ebd10948b511d\", element=\"21fa91ce-7542-4a1c-b609-a97816696c52\")>,\n",
       " <selenium.webdriver.remote.webelement.WebElement (session=\"7a49f3c9989739e59e5ebd10948b511d\", element=\"8ec19c86-0e0a-4496-8d5a-36ba131f03b6\")>]"
      ]
     },
     "execution_count": 18,
     "metadata": {},
     "output_type": "execute_result"
    }
   ],
   "source": [
    "#So lets extract all the tags having the salary\n",
    "location_tags = driver.find_elements_by_xpath(\"//li[@class='fleft grey-text br2 placeHolderLi location']//span\")\n",
    "location_tags"
   ]
  },
  {
   "cell_type": "code",
   "execution_count": 19,
   "metadata": {},
   "outputs": [
    {
     "data": {
      "text/plain": [
       "['Mumbai, Hyderabad/Secunderabad, Pune, Gurgaon/Gurugram, Chennai, Bangalore/Bengaluru',\n",
       " 'Kolkata, Gurgaon/Gurugram, Bangalore/Bengaluru, Vadodara, Mumbai (All Areas)',\n",
       " 'Kochi/Cochin, Indore, Hyderabad/Secunderabad, Pune, Ahmedabad, Bangalore/Bengaluru, Mumbai (All Areas)',\n",
       " 'Bangalore/Bengaluru',\n",
       " 'Bangalore/Bengaluru',\n",
       " 'Bangalore/Bengaluru',\n",
       " 'Bangalore/Bengaluru',\n",
       " 'Bangalore/Bengaluru',\n",
       " 'Bangalore/Bengaluru',\n",
       " 'Hyderabad/Secunderabad, Bangalore/Bengaluru, Mumbai (All Areas)',\n",
       " 'Bangalore/Bengaluru',\n",
       " 'Bangalore/Bengaluru',\n",
       " 'Bangalore/Bengaluru',\n",
       " 'Bangalore/Bengaluru, Delhi / NCR',\n",
       " 'Bangalore/Bengaluru',\n",
       " 'Bangalore/Bengaluru',\n",
       " 'Bangalore/Bengaluru',\n",
       " 'Bangalore/Bengaluru',\n",
       " 'Bangalore/Bengaluru',\n",
       " 'Bangalore/Bengaluru']"
      ]
     },
     "execution_count": 19,
     "metadata": {},
     "output_type": "execute_result"
    }
   ],
   "source": [
    "#Loop to iterate over the tags extracted above and extract the text inside them.\n",
    "location=[]\n",
    "for i in location_tags:\n",
    "    location.append(i.text)\n",
    "location"
   ]
  },
  {
   "cell_type": "code",
   "execution_count": 22,
   "metadata": {},
   "outputs": [
    {
     "name": "stdout",
     "output_type": "stream",
     "text": [
      "20 20 20 20 20\n"
     ]
    }
   ],
   "source": [
    "print(len(job_titles),len(company_name),len(salary),len(location),len(experience))"
   ]
  },
  {
   "cell_type": "code",
   "execution_count": 23,
   "metadata": {},
   "outputs": [],
   "source": [
    "import pandas as pd"
   ]
  },
  {
   "cell_type": "code",
   "execution_count": 25,
   "metadata": {},
   "outputs": [
    {
     "data": {
      "text/html": [
       "<div>\n",
       "<style scoped>\n",
       "    .dataframe tbody tr th:only-of-type {\n",
       "        vertical-align: middle;\n",
       "    }\n",
       "\n",
       "    .dataframe tbody tr th {\n",
       "        vertical-align: top;\n",
       "    }\n",
       "\n",
       "    .dataframe thead th {\n",
       "        text-align: right;\n",
       "    }\n",
       "</style>\n",
       "<table border=\"1\" class=\"dataframe\">\n",
       "  <thead>\n",
       "    <tr style=\"text-align: right;\">\n",
       "      <th></th>\n",
       "      <th>title</th>\n",
       "      <th>company</th>\n",
       "      <th>experience</th>\n",
       "      <th>salary</th>\n",
       "      <th>location</th>\n",
       "    </tr>\n",
       "  </thead>\n",
       "  <tbody>\n",
       "    <tr>\n",
       "      <th>0</th>\n",
       "      <td>Data Scientist / Data Analyst -Business Analyst</td>\n",
       "      <td>Inflexion Analytix Private Limited</td>\n",
       "      <td>0-3 Yrs</td>\n",
       "      <td>3,50,000 - 4,50,000 PA.</td>\n",
       "      <td>Mumbai, Hyderabad/Secunderabad, Pune, Gurgaon/...</td>\n",
       "    </tr>\n",
       "    <tr>\n",
       "      <th>1</th>\n",
       "      <td>Senior Data Scientist, Modeling</td>\n",
       "      <td>Nielsen</td>\n",
       "      <td>3-7 Yrs</td>\n",
       "      <td>7,00,000 - 9,50,000 PA.</td>\n",
       "      <td>Kolkata, Gurgaon/Gurugram, Bangalore/Bengaluru...</td>\n",
       "    </tr>\n",
       "    <tr>\n",
       "      <th>2</th>\n",
       "      <td>Big Data - Data Scientist</td>\n",
       "      <td>Xoriant Solutions Pvt Ltd</td>\n",
       "      <td>1-3 Yrs</td>\n",
       "      <td>Not disclosed</td>\n",
       "      <td>Kochi/Cochin, Indore, Hyderabad/Secunderabad, ...</td>\n",
       "    </tr>\n",
       "    <tr>\n",
       "      <th>3</th>\n",
       "      <td>Specialist I - Data Scientist</td>\n",
       "      <td>Philips India Limited</td>\n",
       "      <td>4-7 Yrs</td>\n",
       "      <td>Not disclosed</td>\n",
       "      <td>Bangalore/Bengaluru</td>\n",
       "    </tr>\n",
       "    <tr>\n",
       "      <th>4</th>\n",
       "      <td>Data Scientist</td>\n",
       "      <td>IBM India Pvt. Limited</td>\n",
       "      <td>6-8 Yrs</td>\n",
       "      <td>Not disclosed</td>\n",
       "      <td>Bangalore/Bengaluru</td>\n",
       "    </tr>\n",
       "    <tr>\n",
       "      <th>5</th>\n",
       "      <td>Lead Data Scientist</td>\n",
       "      <td>Intel Technology India Pvt Ltd</td>\n",
       "      <td>6-10 Yrs</td>\n",
       "      <td>Not disclosed</td>\n",
       "      <td>Bangalore/Bengaluru</td>\n",
       "    </tr>\n",
       "    <tr>\n",
       "      <th>6</th>\n",
       "      <td>Data Scientist</td>\n",
       "      <td>Oracle India Pvt. Ltd.</td>\n",
       "      <td>6-10 Yrs</td>\n",
       "      <td>Not disclosed</td>\n",
       "      <td>Bangalore/Bengaluru</td>\n",
       "    </tr>\n",
       "    <tr>\n",
       "      <th>7</th>\n",
       "      <td>SDE Lead Data Scientist-L3</td>\n",
       "      <td>Huawei Technologies India Pvt Ltd</td>\n",
       "      <td>5-8 Yrs</td>\n",
       "      <td>Not disclosed</td>\n",
       "      <td>Bangalore/Bengaluru</td>\n",
       "    </tr>\n",
       "    <tr>\n",
       "      <th>8</th>\n",
       "      <td>Computational Design Lead Data Scientist-L3</td>\n",
       "      <td>Huawei Technologies India Pvt Ltd</td>\n",
       "      <td>5-8 Yrs</td>\n",
       "      <td>Not disclosed</td>\n",
       "      <td>Bangalore/Bengaluru</td>\n",
       "    </tr>\n",
       "    <tr>\n",
       "      <th>9</th>\n",
       "      <td>Hiring For DATA Scientist - ON Contract Basis ...</td>\n",
       "      <td>GlobalEdx Learning and Technology Solution Pvt...</td>\n",
       "      <td>3-8 Yrs</td>\n",
       "      <td>50,000 - 70,000 PA.</td>\n",
       "      <td>Hyderabad/Secunderabad, Bangalore/Bengaluru, M...</td>\n",
       "    </tr>\n",
       "    <tr>\n",
       "      <th>10</th>\n",
       "      <td>Senior Data Scientist</td>\n",
       "      <td>GO-JEK India</td>\n",
       "      <td>4-11 Yrs</td>\n",
       "      <td>Not disclosed</td>\n",
       "      <td>Bangalore/Bengaluru</td>\n",
       "    </tr>\n",
       "    <tr>\n",
       "      <th>11</th>\n",
       "      <td>Senior Data Scientist - Chatbot &amp; NLP</td>\n",
       "      <td>Gojek Tech</td>\n",
       "      <td>3-7 Yrs</td>\n",
       "      <td>Not disclosed</td>\n",
       "      <td>Bangalore/Bengaluru</td>\n",
       "    </tr>\n",
       "    <tr>\n",
       "      <th>12</th>\n",
       "      <td>Senior Data Scientist</td>\n",
       "      <td>nanobi data and analytics private limited</td>\n",
       "      <td>7-9 Yrs</td>\n",
       "      <td>Not disclosed</td>\n",
       "      <td>Bangalore/Bengaluru</td>\n",
       "    </tr>\n",
       "    <tr>\n",
       "      <th>13</th>\n",
       "      <td>Sr. Data Scientist</td>\n",
       "      <td>VALIANCE ANALYTICS PRIVATE LIMITED</td>\n",
       "      <td>6-8 Yrs</td>\n",
       "      <td>20,00,000 - 35,00,000 PA.</td>\n",
       "      <td>Bangalore/Bengaluru, Delhi / NCR</td>\n",
       "    </tr>\n",
       "    <tr>\n",
       "      <th>14</th>\n",
       "      <td>Senior Data Scientist</td>\n",
       "      <td>BankBazaar.com (A&amp;A DUKAAN FINANCIAL SERVICES ...</td>\n",
       "      <td>5-7 Yrs</td>\n",
       "      <td>Not disclosed</td>\n",
       "      <td>Bangalore/Bengaluru</td>\n",
       "    </tr>\n",
       "    <tr>\n",
       "      <th>15</th>\n",
       "      <td>Senior Associate/Team Lead - Data Scientist Co...</td>\n",
       "      <td>Analytics India Magazine</td>\n",
       "      <td>3-5 Yrs</td>\n",
       "      <td>Not disclosed</td>\n",
       "      <td>Bangalore/Bengaluru</td>\n",
       "    </tr>\n",
       "    <tr>\n",
       "      <th>16</th>\n",
       "      <td>Senior Data Scientist</td>\n",
       "      <td>Gojek Tech</td>\n",
       "      <td>3-7 Yrs</td>\n",
       "      <td>Not disclosed</td>\n",
       "      <td>Bangalore/Bengaluru</td>\n",
       "    </tr>\n",
       "    <tr>\n",
       "      <th>17</th>\n",
       "      <td>Data Scientist</td>\n",
       "      <td>Applied Materials</td>\n",
       "      <td>2-4 Yrs</td>\n",
       "      <td>Not disclosed</td>\n",
       "      <td>Bangalore/Bengaluru</td>\n",
       "    </tr>\n",
       "    <tr>\n",
       "      <th>18</th>\n",
       "      <td>Hiring For Lead data Scientist For Bangalore l...</td>\n",
       "      <td>Societe Generale</td>\n",
       "      <td>5-9 Yrs</td>\n",
       "      <td>Not disclosed</td>\n",
       "      <td>Bangalore/Bengaluru</td>\n",
       "    </tr>\n",
       "    <tr>\n",
       "      <th>19</th>\n",
       "      <td>Principal Data Scientist</td>\n",
       "      <td>NetApp</td>\n",
       "      <td>10-15 Yrs</td>\n",
       "      <td>Not disclosed</td>\n",
       "      <td>Bangalore/Bengaluru</td>\n",
       "    </tr>\n",
       "  </tbody>\n",
       "</table>\n",
       "</div>"
      ],
      "text/plain": [
       "                                                title  \\\n",
       "0     Data Scientist / Data Analyst -Business Analyst   \n",
       "1                     Senior Data Scientist, Modeling   \n",
       "2                           Big Data - Data Scientist   \n",
       "3                       Specialist I - Data Scientist   \n",
       "4                                      Data Scientist   \n",
       "5                                 Lead Data Scientist   \n",
       "6                                      Data Scientist   \n",
       "7                          SDE Lead Data Scientist-L3   \n",
       "8         Computational Design Lead Data Scientist-L3   \n",
       "9   Hiring For DATA Scientist - ON Contract Basis ...   \n",
       "10                              Senior Data Scientist   \n",
       "11              Senior Data Scientist - Chatbot & NLP   \n",
       "12                              Senior Data Scientist   \n",
       "13                                 Sr. Data Scientist   \n",
       "14                              Senior Data Scientist   \n",
       "15  Senior Associate/Team Lead - Data Scientist Co...   \n",
       "16                              Senior Data Scientist   \n",
       "17                                     Data Scientist   \n",
       "18  Hiring For Lead data Scientist For Bangalore l...   \n",
       "19                           Principal Data Scientist   \n",
       "\n",
       "                                              company experience  \\\n",
       "0                  Inflexion Analytix Private Limited    0-3 Yrs   \n",
       "1                                             Nielsen    3-7 Yrs   \n",
       "2                           Xoriant Solutions Pvt Ltd    1-3 Yrs   \n",
       "3                               Philips India Limited    4-7 Yrs   \n",
       "4                              IBM India Pvt. Limited    6-8 Yrs   \n",
       "5                      Intel Technology India Pvt Ltd   6-10 Yrs   \n",
       "6                              Oracle India Pvt. Ltd.   6-10 Yrs   \n",
       "7                   Huawei Technologies India Pvt Ltd    5-8 Yrs   \n",
       "8                   Huawei Technologies India Pvt Ltd    5-8 Yrs   \n",
       "9   GlobalEdx Learning and Technology Solution Pvt...    3-8 Yrs   \n",
       "10                                       GO-JEK India   4-11 Yrs   \n",
       "11                                         Gojek Tech    3-7 Yrs   \n",
       "12          nanobi data and analytics private limited    7-9 Yrs   \n",
       "13                 VALIANCE ANALYTICS PRIVATE LIMITED    6-8 Yrs   \n",
       "14  BankBazaar.com (A&A DUKAAN FINANCIAL SERVICES ...    5-7 Yrs   \n",
       "15                           Analytics India Magazine    3-5 Yrs   \n",
       "16                                         Gojek Tech    3-7 Yrs   \n",
       "17                                  Applied Materials    2-4 Yrs   \n",
       "18                                   Societe Generale    5-9 Yrs   \n",
       "19                                             NetApp  10-15 Yrs   \n",
       "\n",
       "                       salary  \\\n",
       "0     3,50,000 - 4,50,000 PA.   \n",
       "1     7,00,000 - 9,50,000 PA.   \n",
       "2               Not disclosed   \n",
       "3               Not disclosed   \n",
       "4               Not disclosed   \n",
       "5               Not disclosed   \n",
       "6               Not disclosed   \n",
       "7               Not disclosed   \n",
       "8               Not disclosed   \n",
       "9         50,000 - 70,000 PA.   \n",
       "10              Not disclosed   \n",
       "11              Not disclosed   \n",
       "12              Not disclosed   \n",
       "13  20,00,000 - 35,00,000 PA.   \n",
       "14              Not disclosed   \n",
       "15              Not disclosed   \n",
       "16              Not disclosed   \n",
       "17              Not disclosed   \n",
       "18              Not disclosed   \n",
       "19              Not disclosed   \n",
       "\n",
       "                                             location  \n",
       "0   Mumbai, Hyderabad/Secunderabad, Pune, Gurgaon/...  \n",
       "1   Kolkata, Gurgaon/Gurugram, Bangalore/Bengaluru...  \n",
       "2   Kochi/Cochin, Indore, Hyderabad/Secunderabad, ...  \n",
       "3                                 Bangalore/Bengaluru  \n",
       "4                                 Bangalore/Bengaluru  \n",
       "5                                 Bangalore/Bengaluru  \n",
       "6                                 Bangalore/Bengaluru  \n",
       "7                                 Bangalore/Bengaluru  \n",
       "8                                 Bangalore/Bengaluru  \n",
       "9   Hyderabad/Secunderabad, Bangalore/Bengaluru, M...  \n",
       "10                                Bangalore/Bengaluru  \n",
       "11                                Bangalore/Bengaluru  \n",
       "12                                Bangalore/Bengaluru  \n",
       "13                   Bangalore/Bengaluru, Delhi / NCR  \n",
       "14                                Bangalore/Bengaluru  \n",
       "15                                Bangalore/Bengaluru  \n",
       "16                                Bangalore/Bengaluru  \n",
       "17                                Bangalore/Bengaluru  \n",
       "18                                Bangalore/Bengaluru  \n",
       "19                                Bangalore/Bengaluru  "
      ]
     },
     "execution_count": 25,
     "metadata": {},
     "output_type": "execute_result"
    }
   ],
   "source": [
    "jobs=pd.DataFrame({})\n",
    "jobs['title'] =job_titles\n",
    "jobs['company'] =company_name\n",
    "jobs['experience'] = experience\n",
    "jobs['salary'] = salary\n",
    "jobs['location'] = location\n",
    "\n",
    "jobs"
   ]
  },
  {
   "cell_type": "code",
   "execution_count": null,
   "metadata": {},
   "outputs": [],
   "source": []
  },
  {
   "cell_type": "code",
   "execution_count": null,
   "metadata": {},
   "outputs": [],
   "source": []
  },
  {
   "cell_type": "markdown",
   "metadata": {},
   "source": [
    "Problem Statement:\n",
    "Q2: Write a python program to scrape data for “Data Scientist” Job position in \n",
    "“Bangalore” location. You have to scrape the job-title, job-location,\n",
    "company_name, full job-description. You have to scrape first 10 jobs data.\n",
    "This task will be done in following steps:\n",
    "1. first get the webpage https://www.naukri.com/\n",
    "2. Enter “Data Scientist” in “Skill,Designations,Companies” field and enter \n",
    "“Bangalore” in “enter the location” field.\n",
    "3. Then click the search button.\n",
    "4. Then scrape the data for the first 10 jobs results you get.\n",
    "5. Finally create a dataframe of the scraped data.\n",
    "Note- 1. All of the above steps have to be done in code. No step is to be done \n",
    "manually."
   ]
  },
  {
   "cell_type": "code",
   "execution_count": 26,
   "metadata": {},
   "outputs": [],
   "source": [
    "#Lets now import all the required libraries\n",
    "import selenium\n",
    "import pandas as pd\n",
    "from selenium import webdriver"
   ]
  },
  {
   "cell_type": "code",
   "execution_count": 27,
   "metadata": {},
   "outputs": [],
   "source": [
    "#Lets first connect to the web driver\n",
    "driver = webdriver.Chrome('chromedriver.exe')"
   ]
  },
  {
   "cell_type": "code",
   "execution_count": 28,
   "metadata": {},
   "outputs": [],
   "source": [
    "url = 'https://www.naukri.com/'\n",
    "driver.get(url)"
   ]
  },
  {
   "cell_type": "code",
   "execution_count": 29,
   "metadata": {},
   "outputs": [
    {
     "data": {
      "text/plain": [
       "<selenium.webdriver.remote.webelement.WebElement (session=\"e0e996cece0d216d34a136097b0f1ba1\", element=\"aeaf030d-5779-4782-984f-f22eb194908a\")>"
      ]
     },
     "execution_count": 29,
     "metadata": {},
     "output_type": "execute_result"
    }
   ],
   "source": [
    "#finding elements for job search bar\n",
    "search_job = driver.find_element_by_id('qsb-keyword-sugg')\n",
    "search_job"
   ]
  },
  {
   "cell_type": "code",
   "execution_count": 30,
   "metadata": {},
   "outputs": [],
   "source": [
    "#write on search bar\n",
    "search_job.send_keys('Data Analyst')"
   ]
  },
  {
   "cell_type": "code",
   "execution_count": 31,
   "metadata": {},
   "outputs": [],
   "source": [
    "# finding elements for job location bar\n",
    "search_loc = driver.find_element_by_id('qsb-location-sugg')\n",
    "search_loc.send_keys('Bangalore')"
   ]
  },
  {
   "cell_type": "code",
   "execution_count": 32,
   "metadata": {},
   "outputs": [],
   "source": [
    "#do click using xpath function\n",
    "search_btn = driver.find_element_by_xpath(\"//button[@class='btn']\")\n",
    "search_btn.click()"
   ]
  },
  {
   "cell_type": "markdown",
   "metadata": {},
   "source": [
    "So now lets 4 create empty lists. In these lists the data will be stored while scraping.\n",
    "\n"
   ]
  },
  {
   "cell_type": "code",
   "execution_count": 35,
   "metadata": {},
   "outputs": [
    {
     "data": {
      "text/plain": [
       "[<selenium.webdriver.remote.webelement.WebElement (session=\"e0e996cece0d216d34a136097b0f1ba1\", element=\"c0c8b8d5-e64f-4f4b-b0aa-69de83ce1f39\")>,\n",
       " <selenium.webdriver.remote.webelement.WebElement (session=\"e0e996cece0d216d34a136097b0f1ba1\", element=\"1122a58a-b20f-42e2-ad27-71bcd4f4f30f\")>,\n",
       " <selenium.webdriver.remote.webelement.WebElement (session=\"e0e996cece0d216d34a136097b0f1ba1\", element=\"74e9c73b-72ef-4e58-ab64-98076fcc6553\")>,\n",
       " <selenium.webdriver.remote.webelement.WebElement (session=\"e0e996cece0d216d34a136097b0f1ba1\", element=\"8fa6f7b8-2061-44ae-a379-ee808f0f0cdc\")>,\n",
       " <selenium.webdriver.remote.webelement.WebElement (session=\"e0e996cece0d216d34a136097b0f1ba1\", element=\"8badffea-98d2-481b-b2a2-499b2869a2b2\")>,\n",
       " <selenium.webdriver.remote.webelement.WebElement (session=\"e0e996cece0d216d34a136097b0f1ba1\", element=\"7b059514-1565-4040-a27f-fb54f1678de3\")>,\n",
       " <selenium.webdriver.remote.webelement.WebElement (session=\"e0e996cece0d216d34a136097b0f1ba1\", element=\"fba7395f-0283-4c6b-809c-8e3fd18aa38e\")>,\n",
       " <selenium.webdriver.remote.webelement.WebElement (session=\"e0e996cece0d216d34a136097b0f1ba1\", element=\"85ef55f2-004e-4258-8af6-9c55eeb5010e\")>,\n",
       " <selenium.webdriver.remote.webelement.WebElement (session=\"e0e996cece0d216d34a136097b0f1ba1\", element=\"daf07b80-8ee2-4b2c-a1c8-7eedcb216926\")>,\n",
       " <selenium.webdriver.remote.webelement.WebElement (session=\"e0e996cece0d216d34a136097b0f1ba1\", element=\"97191dab-b7e6-49d0-917f-9fcec89c3276\")>,\n",
       " <selenium.webdriver.remote.webelement.WebElement (session=\"e0e996cece0d216d34a136097b0f1ba1\", element=\"813d8441-48ec-43c7-87cb-4c1e01827667\")>,\n",
       " <selenium.webdriver.remote.webelement.WebElement (session=\"e0e996cece0d216d34a136097b0f1ba1\", element=\"c206a0b1-abe2-4a1c-9308-c4fafabcd450\")>,\n",
       " <selenium.webdriver.remote.webelement.WebElement (session=\"e0e996cece0d216d34a136097b0f1ba1\", element=\"b4cebdb9-0a94-4a0d-9150-07dc369575f9\")>,\n",
       " <selenium.webdriver.remote.webelement.WebElement (session=\"e0e996cece0d216d34a136097b0f1ba1\", element=\"bd81a3cc-143d-4834-bac6-317f11247c8a\")>,\n",
       " <selenium.webdriver.remote.webelement.WebElement (session=\"e0e996cece0d216d34a136097b0f1ba1\", element=\"fd7e61b4-ebf8-4e0b-830f-dcaf7fd65590\")>,\n",
       " <selenium.webdriver.remote.webelement.WebElement (session=\"e0e996cece0d216d34a136097b0f1ba1\", element=\"86ffe736-3ee8-4fe1-ac81-5739e168a6f8\")>,\n",
       " <selenium.webdriver.remote.webelement.WebElement (session=\"e0e996cece0d216d34a136097b0f1ba1\", element=\"6c34d98d-a580-4add-ab3d-0c0f10e3a5d4\")>,\n",
       " <selenium.webdriver.remote.webelement.WebElement (session=\"e0e996cece0d216d34a136097b0f1ba1\", element=\"b6107996-dd29-4068-b6fd-d1abc142efa4\")>,\n",
       " <selenium.webdriver.remote.webelement.WebElement (session=\"e0e996cece0d216d34a136097b0f1ba1\", element=\"0630c6c2-7c05-4bcf-af52-b6f357c47236\")>,\n",
       " <selenium.webdriver.remote.webelement.WebElement (session=\"e0e996cece0d216d34a136097b0f1ba1\", element=\"50da4447-3353-4bbe-a3b5-e64c6191a098\")>]"
      ]
     },
     "execution_count": 35,
     "metadata": {},
     "output_type": "execute_result"
    }
   ],
   "source": [
    "#So lets extract all the tags having the job titles\n",
    "titles_tags = driver.find_elements_by_xpath(\"//a[@class='title fw500 ellipsis']\")\n",
    "titles_tags"
   ]
  },
  {
   "cell_type": "code",
   "execution_count": 38,
   "metadata": {},
   "outputs": [
    {
     "data": {
      "text/plain": [
       "['Data Scientist / Data Analyst -Business Analyst',\n",
       " 'Data Analyst - Informatica MDM',\n",
       " 'Assistant Vice President - MIS & Reporting ( Business Data Analyst)',\n",
       " 'Data Analyst',\n",
       " 'Data Analyst',\n",
       " 'Data Analyst',\n",
       " 'Data Analyst',\n",
       " 'Data Analyst',\n",
       " 'Data analyst - Google Analytics',\n",
       " 'Senior/Regular Business Analyst / Data Analyst',\n",
       " 'Data Analyst',\n",
       " 'Hiring For Data Analyst @ Flipkart on Contract',\n",
       " 'Senior Data Analyst',\n",
       " 'Data Analyst',\n",
       " 'Cybersecurity Data Analyst',\n",
       " 'Business Data Analyst - MIS & Reporting',\n",
       " 'Data Analyst / Business Analyst -',\n",
       " 'Business Data Analyst',\n",
       " 'Data Analyst',\n",
       " 'Data Analyst']"
      ]
     },
     "execution_count": 38,
     "metadata": {},
     "output_type": "execute_result"
    }
   ],
   "source": [
    "#Loop to iterate over the tags extracted above and extract the text inside them.\n",
    "job_title=[]\n",
    "for i in titles_tags:\n",
    "    job_title.append(i.text)\n",
    "job_title"
   ]
  },
  {
   "cell_type": "code",
   "execution_count": 39,
   "metadata": {},
   "outputs": [
    {
     "data": {
      "text/plain": [
       "[<selenium.webdriver.remote.webelement.WebElement (session=\"e0e996cece0d216d34a136097b0f1ba1\", element=\"95adb985-0855-4c31-a83f-0ec3832a4cde\")>,\n",
       " <selenium.webdriver.remote.webelement.WebElement (session=\"e0e996cece0d216d34a136097b0f1ba1\", element=\"33196802-5065-4857-baeb-060373fda3c9\")>,\n",
       " <selenium.webdriver.remote.webelement.WebElement (session=\"e0e996cece0d216d34a136097b0f1ba1\", element=\"4de61520-b219-495e-96a0-755df25370e3\")>,\n",
       " <selenium.webdriver.remote.webelement.WebElement (session=\"e0e996cece0d216d34a136097b0f1ba1\", element=\"097e0419-fd23-481c-bc4c-d9a6a43bebd4\")>,\n",
       " <selenium.webdriver.remote.webelement.WebElement (session=\"e0e996cece0d216d34a136097b0f1ba1\", element=\"47aa7bdf-d30d-4f54-a502-27f69bcddb61\")>,\n",
       " <selenium.webdriver.remote.webelement.WebElement (session=\"e0e996cece0d216d34a136097b0f1ba1\", element=\"672164ca-ff93-4711-ad03-869c55d881df\")>,\n",
       " <selenium.webdriver.remote.webelement.WebElement (session=\"e0e996cece0d216d34a136097b0f1ba1\", element=\"5d7fccb9-33e7-4e52-90dc-f8a680673561\")>,\n",
       " <selenium.webdriver.remote.webelement.WebElement (session=\"e0e996cece0d216d34a136097b0f1ba1\", element=\"71dac909-61d1-4409-a437-73b207c987ce\")>,\n",
       " <selenium.webdriver.remote.webelement.WebElement (session=\"e0e996cece0d216d34a136097b0f1ba1\", element=\"e50024e1-09a6-4363-b792-be2fa20fd567\")>,\n",
       " <selenium.webdriver.remote.webelement.WebElement (session=\"e0e996cece0d216d34a136097b0f1ba1\", element=\"0537c7c9-f5f0-4c97-b82d-9b7a4492f571\")>,\n",
       " <selenium.webdriver.remote.webelement.WebElement (session=\"e0e996cece0d216d34a136097b0f1ba1\", element=\"4f49b708-e4ec-4ad6-a7cc-8921c801eaea\")>,\n",
       " <selenium.webdriver.remote.webelement.WebElement (session=\"e0e996cece0d216d34a136097b0f1ba1\", element=\"885fa811-276e-48a0-94cd-025b370e24ca\")>,\n",
       " <selenium.webdriver.remote.webelement.WebElement (session=\"e0e996cece0d216d34a136097b0f1ba1\", element=\"eeb1f355-b843-4b6a-99cf-18338c0c1fad\")>,\n",
       " <selenium.webdriver.remote.webelement.WebElement (session=\"e0e996cece0d216d34a136097b0f1ba1\", element=\"75a47738-76aa-41d5-97de-1d6ca276c30f\")>,\n",
       " <selenium.webdriver.remote.webelement.WebElement (session=\"e0e996cece0d216d34a136097b0f1ba1\", element=\"016868e0-9688-4e65-a617-f8d7943b3c30\")>,\n",
       " <selenium.webdriver.remote.webelement.WebElement (session=\"e0e996cece0d216d34a136097b0f1ba1\", element=\"83cf54d8-addb-474e-a3a5-ab3ca2311530\")>,\n",
       " <selenium.webdriver.remote.webelement.WebElement (session=\"e0e996cece0d216d34a136097b0f1ba1\", element=\"0422874e-75b9-4946-8157-690f8695d12e\")>,\n",
       " <selenium.webdriver.remote.webelement.WebElement (session=\"e0e996cece0d216d34a136097b0f1ba1\", element=\"c6f7db96-44eb-4e0c-b05b-4e7cb0bb15ac\")>,\n",
       " <selenium.webdriver.remote.webelement.WebElement (session=\"e0e996cece0d216d34a136097b0f1ba1\", element=\"73e4b7b0-ecbb-47ca-a541-e5d433c05275\")>,\n",
       " <selenium.webdriver.remote.webelement.WebElement (session=\"e0e996cece0d216d34a136097b0f1ba1\", element=\"7ac264a0-b594-40bc-bcb1-832645d0e090\")>]"
      ]
     },
     "execution_count": 39,
     "metadata": {},
     "output_type": "execute_result"
    }
   ],
   "source": [
    "#So lets extract all the tags having the company names\n",
    "company_tags = driver.find_elements_by_xpath(\"//a[@class='subTitle ellipsis fleft']\")\n",
    "company_tags"
   ]
  },
  {
   "cell_type": "code",
   "execution_count": 40,
   "metadata": {},
   "outputs": [
    {
     "data": {
      "text/plain": [
       "['Inflexion Analytix Private Limited',\n",
       " 'Shell India Markets Private Limited',\n",
       " 'INTERTRUSTVITEOS CORPORATE AND FUND SERVICES PVT. LTD.',\n",
       " 'Myntra Designs Pvt. Ltd.',\n",
       " 'Myntra Designs Pvt. Ltd.',\n",
       " 'Myntra Designs Pvt. Ltd.',\n",
       " 'Myntra Designs Pvt. Ltd.',\n",
       " 'SA Tech Software (I) Pvt. Ltd.',\n",
       " 'H and M Hennes and Mauritz (P) Ltd.',\n",
       " 'Luxoft',\n",
       " 'Flipkart Internet Private Limited',\n",
       " 'Flipkart Internet Private Limited',\n",
       " 'Flipkart Internet Private Limited',\n",
       " 'IBM India Pvt. Limited',\n",
       " 'Huawei Technologies India Pvt Ltd',\n",
       " 'INTERTRUST GROUP',\n",
       " 'LatentView Analytics Private Limited',\n",
       " 'ALSTOM India Limited',\n",
       " 'Udaan',\n",
       " 'Luxoft']"
      ]
     },
     "execution_count": 40,
     "metadata": {},
     "output_type": "execute_result"
    }
   ],
   "source": [
    "#Loop to iterate over the tags extracted above and extract the text inside them.\n",
    "company_names=[]\n",
    "for i in company_tags:\n",
    "    company_names.append(i.text)\n",
    "company_names"
   ]
  },
  {
   "cell_type": "code",
   "execution_count": 43,
   "metadata": {},
   "outputs": [
    {
     "data": {
      "text/plain": [
       "[<selenium.webdriver.remote.webelement.WebElement (session=\"e0e996cece0d216d34a136097b0f1ba1\", element=\"20b189c0-b43d-48b4-8012-986d7133fa9d\")>,\n",
       " <selenium.webdriver.remote.webelement.WebElement (session=\"e0e996cece0d216d34a136097b0f1ba1\", element=\"b7c0fe7f-266f-4c59-bdf1-00951e38858f\")>,\n",
       " <selenium.webdriver.remote.webelement.WebElement (session=\"e0e996cece0d216d34a136097b0f1ba1\", element=\"e98bcfd5-38b1-4941-a515-46117d3b5e8e\")>,\n",
       " <selenium.webdriver.remote.webelement.WebElement (session=\"e0e996cece0d216d34a136097b0f1ba1\", element=\"4781e245-cad8-4ebf-af5a-597373f411db\")>,\n",
       " <selenium.webdriver.remote.webelement.WebElement (session=\"e0e996cece0d216d34a136097b0f1ba1\", element=\"a5154be6-9caa-4ff7-9099-77b4c6f1ab41\")>,\n",
       " <selenium.webdriver.remote.webelement.WebElement (session=\"e0e996cece0d216d34a136097b0f1ba1\", element=\"c6e8fbd2-52d1-411f-b2c2-ec784c5d439a\")>,\n",
       " <selenium.webdriver.remote.webelement.WebElement (session=\"e0e996cece0d216d34a136097b0f1ba1\", element=\"c3eb0256-a1df-4888-afe3-f42459aeb2d3\")>,\n",
       " <selenium.webdriver.remote.webelement.WebElement (session=\"e0e996cece0d216d34a136097b0f1ba1\", element=\"fc9020c0-2284-4359-a5b7-0807a442ac8b\")>,\n",
       " <selenium.webdriver.remote.webelement.WebElement (session=\"e0e996cece0d216d34a136097b0f1ba1\", element=\"98a15158-f816-4c81-9510-7eadd96f3510\")>,\n",
       " <selenium.webdriver.remote.webelement.WebElement (session=\"e0e996cece0d216d34a136097b0f1ba1\", element=\"e70cfb3e-fe49-48db-8017-6efbe1148c57\")>,\n",
       " <selenium.webdriver.remote.webelement.WebElement (session=\"e0e996cece0d216d34a136097b0f1ba1\", element=\"5fc62089-45d9-4ad9-82aa-3fa378ea6e3f\")>,\n",
       " <selenium.webdriver.remote.webelement.WebElement (session=\"e0e996cece0d216d34a136097b0f1ba1\", element=\"607f1651-8e5f-406e-b5bc-5e3cd8a81d19\")>,\n",
       " <selenium.webdriver.remote.webelement.WebElement (session=\"e0e996cece0d216d34a136097b0f1ba1\", element=\"3e5d47d6-7d53-4213-a1fe-7dfa5bcc06dc\")>,\n",
       " <selenium.webdriver.remote.webelement.WebElement (session=\"e0e996cece0d216d34a136097b0f1ba1\", element=\"718238b9-4821-4c39-9285-39dd883a50a9\")>,\n",
       " <selenium.webdriver.remote.webelement.WebElement (session=\"e0e996cece0d216d34a136097b0f1ba1\", element=\"e93f8b35-2380-41c0-9609-b871da850e86\")>,\n",
       " <selenium.webdriver.remote.webelement.WebElement (session=\"e0e996cece0d216d34a136097b0f1ba1\", element=\"5da65ca0-6d6d-4246-9165-144f09422771\")>,\n",
       " <selenium.webdriver.remote.webelement.WebElement (session=\"e0e996cece0d216d34a136097b0f1ba1\", element=\"17761384-3b77-4cda-bdd1-0984dbebc5c0\")>,\n",
       " <selenium.webdriver.remote.webelement.WebElement (session=\"e0e996cece0d216d34a136097b0f1ba1\", element=\"46502ca9-03b6-4e42-91bd-f55357e52b94\")>,\n",
       " <selenium.webdriver.remote.webelement.WebElement (session=\"e0e996cece0d216d34a136097b0f1ba1\", element=\"e283e8f6-ec3a-42b4-8143-0b3c58fa665e\")>,\n",
       " <selenium.webdriver.remote.webelement.WebElement (session=\"e0e996cece0d216d34a136097b0f1ba1\", element=\"86c1dd9d-81b6-4859-b943-e61da1e19589\")>]"
      ]
     },
     "execution_count": 43,
     "metadata": {},
     "output_type": "execute_result"
    }
   ],
   "source": [
    "#So lets extract all the tags having the company names\n",
    "experience_tags = driver.find_elements_by_xpath(\"//li[@class='fleft grey-text br2 placeHolderLi experience']//span\")\n",
    "experience_tags"
   ]
  },
  {
   "cell_type": "code",
   "execution_count": 44,
   "metadata": {},
   "outputs": [
    {
     "data": {
      "text/plain": [
       "['0-3 Yrs',\n",
       " '6-9 Yrs',\n",
       " '12-18 Yrs',\n",
       " '3-6 Yrs',\n",
       " '3-6 Yrs',\n",
       " '4-9 Yrs',\n",
       " '4-8 Yrs',\n",
       " '1-3 Yrs',\n",
       " '4-7 Yrs',\n",
       " '3-6 Yrs',\n",
       " '1-3 Yrs',\n",
       " '2-6 Yrs',\n",
       " '2-5 Yrs',\n",
       " '5-10 Yrs',\n",
       " '5-8 Yrs',\n",
       " '3-8 Yrs',\n",
       " '1-5 Yrs',\n",
       " '5-10 Yrs',\n",
       " '1-6 Yrs',\n",
       " '2-6 Yrs']"
      ]
     },
     "execution_count": 44,
     "metadata": {},
     "output_type": "execute_result"
    }
   ],
   "source": [
    "#Loop to iterate over the tags extracted above and extract the text inside them.\n",
    "experiences=[]\n",
    "for i in experience_tags:\n",
    "    experiences.append(i.text)\n",
    "experiences"
   ]
  },
  {
   "cell_type": "code",
   "execution_count": 45,
   "metadata": {},
   "outputs": [
    {
     "data": {
      "text/plain": [
       "[<selenium.webdriver.remote.webelement.WebElement (session=\"e0e996cece0d216d34a136097b0f1ba1\", element=\"aa9932af-706f-466c-8708-8701a19ea170\")>,\n",
       " <selenium.webdriver.remote.webelement.WebElement (session=\"e0e996cece0d216d34a136097b0f1ba1\", element=\"4b923bf9-ae73-444f-bbc6-4a07553cab68\")>,\n",
       " <selenium.webdriver.remote.webelement.WebElement (session=\"e0e996cece0d216d34a136097b0f1ba1\", element=\"3bf3c032-f350-4a2b-af76-abb780f1a1e1\")>,\n",
       " <selenium.webdriver.remote.webelement.WebElement (session=\"e0e996cece0d216d34a136097b0f1ba1\", element=\"62d58bf3-9468-4449-a714-a35b5c244282\")>,\n",
       " <selenium.webdriver.remote.webelement.WebElement (session=\"e0e996cece0d216d34a136097b0f1ba1\", element=\"0dbd5218-579d-49b9-84a6-b9947b872c23\")>,\n",
       " <selenium.webdriver.remote.webelement.WebElement (session=\"e0e996cece0d216d34a136097b0f1ba1\", element=\"c269172b-cdbb-4022-b7d9-499a09bf8eec\")>,\n",
       " <selenium.webdriver.remote.webelement.WebElement (session=\"e0e996cece0d216d34a136097b0f1ba1\", element=\"f4feb55f-bcfb-40e9-a88a-be56921e38ed\")>,\n",
       " <selenium.webdriver.remote.webelement.WebElement (session=\"e0e996cece0d216d34a136097b0f1ba1\", element=\"33e1cbaa-341a-40d7-882c-d41d3ab98ef7\")>,\n",
       " <selenium.webdriver.remote.webelement.WebElement (session=\"e0e996cece0d216d34a136097b0f1ba1\", element=\"969ccecb-a36f-4487-87e4-00ccf13d7856\")>,\n",
       " <selenium.webdriver.remote.webelement.WebElement (session=\"e0e996cece0d216d34a136097b0f1ba1\", element=\"ca455174-6b2d-473f-b25b-0f06cf5ae71c\")>,\n",
       " <selenium.webdriver.remote.webelement.WebElement (session=\"e0e996cece0d216d34a136097b0f1ba1\", element=\"cc5bce2a-0067-4271-b59b-2fa08b8e9ac5\")>,\n",
       " <selenium.webdriver.remote.webelement.WebElement (session=\"e0e996cece0d216d34a136097b0f1ba1\", element=\"da9f0e0c-7bb3-4cd4-a297-a4bcdc2e6768\")>,\n",
       " <selenium.webdriver.remote.webelement.WebElement (session=\"e0e996cece0d216d34a136097b0f1ba1\", element=\"a5a4332a-18f1-4060-8938-62293fa058a2\")>,\n",
       " <selenium.webdriver.remote.webelement.WebElement (session=\"e0e996cece0d216d34a136097b0f1ba1\", element=\"6842c806-dd46-49a4-a79e-caac935510de\")>,\n",
       " <selenium.webdriver.remote.webelement.WebElement (session=\"e0e996cece0d216d34a136097b0f1ba1\", element=\"0d195a8e-4b21-4e44-9bdf-7617e4c43ea4\")>,\n",
       " <selenium.webdriver.remote.webelement.WebElement (session=\"e0e996cece0d216d34a136097b0f1ba1\", element=\"403a4a6a-880a-4707-bbb3-51007cc327d1\")>,\n",
       " <selenium.webdriver.remote.webelement.WebElement (session=\"e0e996cece0d216d34a136097b0f1ba1\", element=\"c687119c-0fd0-47db-879b-8200c137fa62\")>,\n",
       " <selenium.webdriver.remote.webelement.WebElement (session=\"e0e996cece0d216d34a136097b0f1ba1\", element=\"8145011a-0350-49ef-a54c-cc5fda34144c\")>,\n",
       " <selenium.webdriver.remote.webelement.WebElement (session=\"e0e996cece0d216d34a136097b0f1ba1\", element=\"675fe8f9-9756-4743-83ff-59bf5661260b\")>,\n",
       " <selenium.webdriver.remote.webelement.WebElement (session=\"e0e996cece0d216d34a136097b0f1ba1\", element=\"7004ac02-31fa-4785-984e-ef5dbcaa614f\")>]"
      ]
     },
     "execution_count": 45,
     "metadata": {},
     "output_type": "execute_result"
    }
   ],
   "source": [
    "#So lets extract all the tags having the salary\n",
    "salary_tags = driver.find_elements_by_xpath(\"//li[@class='fleft grey-text br2 placeHolderLi salary']//span\")\n",
    "salary_tags"
   ]
  },
  {
   "cell_type": "code",
   "execution_count": 46,
   "metadata": {},
   "outputs": [
    {
     "data": {
      "text/plain": [
       "['3,50,000 - 4,50,000 PA.',\n",
       " 'Not disclosed',\n",
       " 'Not disclosed',\n",
       " 'Not disclosed',\n",
       " 'Not disclosed',\n",
       " 'Not disclosed',\n",
       " 'Not disclosed',\n",
       " 'Not disclosed',\n",
       " 'Not disclosed',\n",
       " 'Not disclosed',\n",
       " 'Not disclosed',\n",
       " 'Not disclosed',\n",
       " 'Not disclosed',\n",
       " 'Not disclosed',\n",
       " 'Not disclosed',\n",
       " 'Not disclosed',\n",
       " 'Not disclosed',\n",
       " 'Not disclosed',\n",
       " 'Not disclosed',\n",
       " 'Not disclosed']"
      ]
     },
     "execution_count": 46,
     "metadata": {},
     "output_type": "execute_result"
    }
   ],
   "source": [
    "#Loop to iterate over the tags extracted above and extract the text inside them.\n",
    "salaries=[]\n",
    "for i in salary_tags:\n",
    "    salaries.append(i.text)\n",
    "salaries"
   ]
  },
  {
   "cell_type": "code",
   "execution_count": 47,
   "metadata": {},
   "outputs": [
    {
     "data": {
      "text/plain": [
       "[<selenium.webdriver.remote.webelement.WebElement (session=\"e0e996cece0d216d34a136097b0f1ba1\", element=\"9e27d9ce-75d6-4814-b256-835c462a60e0\")>,\n",
       " <selenium.webdriver.remote.webelement.WebElement (session=\"e0e996cece0d216d34a136097b0f1ba1\", element=\"82edd939-ed3c-4c0e-b6bd-9cf46bee4ca5\")>,\n",
       " <selenium.webdriver.remote.webelement.WebElement (session=\"e0e996cece0d216d34a136097b0f1ba1\", element=\"b57bb9df-f8d0-4cf9-a1aa-ef6df88c4f8c\")>,\n",
       " <selenium.webdriver.remote.webelement.WebElement (session=\"e0e996cece0d216d34a136097b0f1ba1\", element=\"b819cfef-0384-4dd5-80fe-59d1ab0a25a7\")>,\n",
       " <selenium.webdriver.remote.webelement.WebElement (session=\"e0e996cece0d216d34a136097b0f1ba1\", element=\"c603c6a9-a0d7-4a35-8137-585861966d08\")>,\n",
       " <selenium.webdriver.remote.webelement.WebElement (session=\"e0e996cece0d216d34a136097b0f1ba1\", element=\"dfda4f28-41fc-428c-b605-9340bc756bb9\")>,\n",
       " <selenium.webdriver.remote.webelement.WebElement (session=\"e0e996cece0d216d34a136097b0f1ba1\", element=\"3da0a90b-082f-4668-81ee-2d1ad34ca6a0\")>,\n",
       " <selenium.webdriver.remote.webelement.WebElement (session=\"e0e996cece0d216d34a136097b0f1ba1\", element=\"17fb4880-e9f7-4d08-b333-fd05c9c6d91e\")>,\n",
       " <selenium.webdriver.remote.webelement.WebElement (session=\"e0e996cece0d216d34a136097b0f1ba1\", element=\"42a75e17-fcf4-439d-a77c-3d8b309ec4da\")>,\n",
       " <selenium.webdriver.remote.webelement.WebElement (session=\"e0e996cece0d216d34a136097b0f1ba1\", element=\"62fe0b78-39ea-4e52-9e28-d28eaf569c88\")>,\n",
       " <selenium.webdriver.remote.webelement.WebElement (session=\"e0e996cece0d216d34a136097b0f1ba1\", element=\"b26333ae-3e5c-40c6-a8f8-efe0d10e1dd0\")>,\n",
       " <selenium.webdriver.remote.webelement.WebElement (session=\"e0e996cece0d216d34a136097b0f1ba1\", element=\"f280b2c2-b5df-4fed-83c9-00da4bcf4473\")>,\n",
       " <selenium.webdriver.remote.webelement.WebElement (session=\"e0e996cece0d216d34a136097b0f1ba1\", element=\"40426dcd-8cac-4afa-8257-90c7ef697b54\")>,\n",
       " <selenium.webdriver.remote.webelement.WebElement (session=\"e0e996cece0d216d34a136097b0f1ba1\", element=\"7e4e6e1a-771a-4b48-b879-f7e47373b323\")>,\n",
       " <selenium.webdriver.remote.webelement.WebElement (session=\"e0e996cece0d216d34a136097b0f1ba1\", element=\"ec0af62c-4524-4f70-80ca-18b49559b996\")>,\n",
       " <selenium.webdriver.remote.webelement.WebElement (session=\"e0e996cece0d216d34a136097b0f1ba1\", element=\"4e5b1fb2-b546-4516-9b8b-005a0acba775\")>,\n",
       " <selenium.webdriver.remote.webelement.WebElement (session=\"e0e996cece0d216d34a136097b0f1ba1\", element=\"c95d12cf-289f-4825-aa98-ea9148d8c6b2\")>,\n",
       " <selenium.webdriver.remote.webelement.WebElement (session=\"e0e996cece0d216d34a136097b0f1ba1\", element=\"87c828a5-f84e-4817-bc4c-6e9fa8e52728\")>,\n",
       " <selenium.webdriver.remote.webelement.WebElement (session=\"e0e996cece0d216d34a136097b0f1ba1\", element=\"a4beaa05-b2ef-4e71-ad95-a2d1a48e4ee5\")>,\n",
       " <selenium.webdriver.remote.webelement.WebElement (session=\"e0e996cece0d216d34a136097b0f1ba1\", element=\"36a65436-9a5c-4276-ae53-5eeac0acacfe\")>]"
      ]
     },
     "execution_count": 47,
     "metadata": {},
     "output_type": "execute_result"
    }
   ],
   "source": [
    "#So lets extract all the tags having the locations\n",
    "location_tags = driver.find_elements_by_xpath(\"//li[@class='fleft grey-text br2 placeHolderLi location']//span\")\n",
    "location_tags"
   ]
  },
  {
   "cell_type": "code",
   "execution_count": 48,
   "metadata": {},
   "outputs": [
    {
     "data": {
      "text/plain": [
       "['Mumbai, Hyderabad/Secunderabad, Pune, Gurgaon/Gurugram, Chennai, Bangalore/Bengaluru',\n",
       " 'Bangalore/Bengaluru',\n",
       " 'Mumbai, Bangalore/Bengaluru',\n",
       " 'Bangalore/Bengaluru',\n",
       " 'Bangalore/Bengaluru',\n",
       " 'Bangalore/Bengaluru',\n",
       " 'Bangalore/Bengaluru',\n",
       " 'Kolkata, Pune, Chennai, Bangalore/Bengaluru, Delhi / NCR, Mumbai (All Areas)',\n",
       " 'Bangalore/Bengaluru',\n",
       " 'Bangalore/Bengaluru',\n",
       " 'Bangalore/Bengaluru',\n",
       " 'Bangalore/Bengaluru',\n",
       " 'Bangalore/Bengaluru',\n",
       " 'Bangalore/Bengaluru',\n",
       " 'Bangalore/Bengaluru',\n",
       " 'Mumbai, Bangalore/Bengaluru',\n",
       " 'Chennai, Bangalore/Bengaluru',\n",
       " 'Bangalore/Bengaluru',\n",
       " 'Bangalore/Bengaluru',\n",
       " 'Bangalore/Bengaluru']"
      ]
     },
     "execution_count": 48,
     "metadata": {},
     "output_type": "execute_result"
    }
   ],
   "source": [
    "#Loop to iterate over the tags extracted above and extract the text inside them.\n",
    "locations=[]\n",
    "for i in location_tags:\n",
    "    locations.append(i.text)\n",
    "locations"
   ]
  },
  {
   "cell_type": "code",
   "execution_count": 49,
   "metadata": {},
   "outputs": [
    {
     "name": "stdout",
     "output_type": "stream",
     "text": [
      "20 20 20 20 20\n"
     ]
    }
   ],
   "source": [
    "print(len(job_title),len(company_names),len(salaries),len(locations),len(experiences))"
   ]
  },
  {
   "cell_type": "code",
   "execution_count": 50,
   "metadata": {},
   "outputs": [
    {
     "data": {
      "text/html": [
       "<div>\n",
       "<style scoped>\n",
       "    .dataframe tbody tr th:only-of-type {\n",
       "        vertical-align: middle;\n",
       "    }\n",
       "\n",
       "    .dataframe tbody tr th {\n",
       "        vertical-align: top;\n",
       "    }\n",
       "\n",
       "    .dataframe thead th {\n",
       "        text-align: right;\n",
       "    }\n",
       "</style>\n",
       "<table border=\"1\" class=\"dataframe\">\n",
       "  <thead>\n",
       "    <tr style=\"text-align: right;\">\n",
       "      <th></th>\n",
       "      <th>title</th>\n",
       "      <th>company</th>\n",
       "      <th>experience</th>\n",
       "      <th>salary</th>\n",
       "      <th>location</th>\n",
       "    </tr>\n",
       "  </thead>\n",
       "  <tbody>\n",
       "    <tr>\n",
       "      <th>0</th>\n",
       "      <td>Data Scientist / Data Analyst -Business Analyst</td>\n",
       "      <td>Inflexion Analytix Private Limited</td>\n",
       "      <td>0-3 Yrs</td>\n",
       "      <td>3,50,000 - 4,50,000 PA.</td>\n",
       "      <td>Mumbai, Hyderabad/Secunderabad, Pune, Gurgaon/...</td>\n",
       "    </tr>\n",
       "    <tr>\n",
       "      <th>1</th>\n",
       "      <td>Data Analyst - Informatica MDM</td>\n",
       "      <td>Shell India Markets Private Limited</td>\n",
       "      <td>6-9 Yrs</td>\n",
       "      <td>Not disclosed</td>\n",
       "      <td>Bangalore/Bengaluru</td>\n",
       "    </tr>\n",
       "    <tr>\n",
       "      <th>2</th>\n",
       "      <td>Assistant Vice President - MIS &amp; Reporting ( B...</td>\n",
       "      <td>INTERTRUSTVITEOS CORPORATE AND FUND SERVICES P...</td>\n",
       "      <td>12-18 Yrs</td>\n",
       "      <td>Not disclosed</td>\n",
       "      <td>Mumbai, Bangalore/Bengaluru</td>\n",
       "    </tr>\n",
       "    <tr>\n",
       "      <th>3</th>\n",
       "      <td>Data Analyst</td>\n",
       "      <td>Myntra Designs Pvt. Ltd.</td>\n",
       "      <td>3-6 Yrs</td>\n",
       "      <td>Not disclosed</td>\n",
       "      <td>Bangalore/Bengaluru</td>\n",
       "    </tr>\n",
       "    <tr>\n",
       "      <th>4</th>\n",
       "      <td>Data Analyst</td>\n",
       "      <td>Myntra Designs Pvt. Ltd.</td>\n",
       "      <td>3-6 Yrs</td>\n",
       "      <td>Not disclosed</td>\n",
       "      <td>Bangalore/Bengaluru</td>\n",
       "    </tr>\n",
       "    <tr>\n",
       "      <th>5</th>\n",
       "      <td>Data Analyst</td>\n",
       "      <td>Myntra Designs Pvt. Ltd.</td>\n",
       "      <td>4-9 Yrs</td>\n",
       "      <td>Not disclosed</td>\n",
       "      <td>Bangalore/Bengaluru</td>\n",
       "    </tr>\n",
       "    <tr>\n",
       "      <th>6</th>\n",
       "      <td>Data Analyst</td>\n",
       "      <td>Myntra Designs Pvt. Ltd.</td>\n",
       "      <td>4-8 Yrs</td>\n",
       "      <td>Not disclosed</td>\n",
       "      <td>Bangalore/Bengaluru</td>\n",
       "    </tr>\n",
       "    <tr>\n",
       "      <th>7</th>\n",
       "      <td>Data Analyst</td>\n",
       "      <td>SA Tech Software (I) Pvt. Ltd.</td>\n",
       "      <td>1-3 Yrs</td>\n",
       "      <td>Not disclosed</td>\n",
       "      <td>Kolkata, Pune, Chennai, Bangalore/Bengaluru, D...</td>\n",
       "    </tr>\n",
       "    <tr>\n",
       "      <th>8</th>\n",
       "      <td>Data analyst - Google Analytics</td>\n",
       "      <td>H and M Hennes and Mauritz (P) Ltd.</td>\n",
       "      <td>4-7 Yrs</td>\n",
       "      <td>Not disclosed</td>\n",
       "      <td>Bangalore/Bengaluru</td>\n",
       "    </tr>\n",
       "    <tr>\n",
       "      <th>9</th>\n",
       "      <td>Senior/Regular Business Analyst / Data Analyst</td>\n",
       "      <td>Luxoft</td>\n",
       "      <td>3-6 Yrs</td>\n",
       "      <td>Not disclosed</td>\n",
       "      <td>Bangalore/Bengaluru</td>\n",
       "    </tr>\n",
       "    <tr>\n",
       "      <th>10</th>\n",
       "      <td>Data Analyst</td>\n",
       "      <td>Flipkart Internet Private Limited</td>\n",
       "      <td>1-3 Yrs</td>\n",
       "      <td>Not disclosed</td>\n",
       "      <td>Bangalore/Bengaluru</td>\n",
       "    </tr>\n",
       "    <tr>\n",
       "      <th>11</th>\n",
       "      <td>Hiring For Data Analyst @ Flipkart on Contract</td>\n",
       "      <td>Flipkart Internet Private Limited</td>\n",
       "      <td>2-6 Yrs</td>\n",
       "      <td>Not disclosed</td>\n",
       "      <td>Bangalore/Bengaluru</td>\n",
       "    </tr>\n",
       "    <tr>\n",
       "      <th>12</th>\n",
       "      <td>Senior Data Analyst</td>\n",
       "      <td>Flipkart Internet Private Limited</td>\n",
       "      <td>2-5 Yrs</td>\n",
       "      <td>Not disclosed</td>\n",
       "      <td>Bangalore/Bengaluru</td>\n",
       "    </tr>\n",
       "    <tr>\n",
       "      <th>13</th>\n",
       "      <td>Data Analyst</td>\n",
       "      <td>IBM India Pvt. Limited</td>\n",
       "      <td>5-10 Yrs</td>\n",
       "      <td>Not disclosed</td>\n",
       "      <td>Bangalore/Bengaluru</td>\n",
       "    </tr>\n",
       "    <tr>\n",
       "      <th>14</th>\n",
       "      <td>Cybersecurity Data Analyst</td>\n",
       "      <td>Huawei Technologies India Pvt Ltd</td>\n",
       "      <td>5-8 Yrs</td>\n",
       "      <td>Not disclosed</td>\n",
       "      <td>Bangalore/Bengaluru</td>\n",
       "    </tr>\n",
       "    <tr>\n",
       "      <th>15</th>\n",
       "      <td>Business Data Analyst - MIS &amp; Reporting</td>\n",
       "      <td>INTERTRUST GROUP</td>\n",
       "      <td>3-8 Yrs</td>\n",
       "      <td>Not disclosed</td>\n",
       "      <td>Mumbai, Bangalore/Bengaluru</td>\n",
       "    </tr>\n",
       "    <tr>\n",
       "      <th>16</th>\n",
       "      <td>Data Analyst / Business Analyst -</td>\n",
       "      <td>LatentView Analytics Private Limited</td>\n",
       "      <td>1-5 Yrs</td>\n",
       "      <td>Not disclosed</td>\n",
       "      <td>Chennai, Bangalore/Bengaluru</td>\n",
       "    </tr>\n",
       "    <tr>\n",
       "      <th>17</th>\n",
       "      <td>Business Data Analyst</td>\n",
       "      <td>ALSTOM India Limited</td>\n",
       "      <td>5-10 Yrs</td>\n",
       "      <td>Not disclosed</td>\n",
       "      <td>Bangalore/Bengaluru</td>\n",
       "    </tr>\n",
       "    <tr>\n",
       "      <th>18</th>\n",
       "      <td>Data Analyst</td>\n",
       "      <td>Udaan</td>\n",
       "      <td>1-6 Yrs</td>\n",
       "      <td>Not disclosed</td>\n",
       "      <td>Bangalore/Bengaluru</td>\n",
       "    </tr>\n",
       "    <tr>\n",
       "      <th>19</th>\n",
       "      <td>Data Analyst</td>\n",
       "      <td>Luxoft</td>\n",
       "      <td>2-6 Yrs</td>\n",
       "      <td>Not disclosed</td>\n",
       "      <td>Bangalore/Bengaluru</td>\n",
       "    </tr>\n",
       "  </tbody>\n",
       "</table>\n",
       "</div>"
      ],
      "text/plain": [
       "                                                title  \\\n",
       "0     Data Scientist / Data Analyst -Business Analyst   \n",
       "1                      Data Analyst - Informatica MDM   \n",
       "2   Assistant Vice President - MIS & Reporting ( B...   \n",
       "3                                        Data Analyst   \n",
       "4                                        Data Analyst   \n",
       "5                                        Data Analyst   \n",
       "6                                        Data Analyst   \n",
       "7                                        Data Analyst   \n",
       "8                     Data analyst - Google Analytics   \n",
       "9      Senior/Regular Business Analyst / Data Analyst   \n",
       "10                                       Data Analyst   \n",
       "11     Hiring For Data Analyst @ Flipkart on Contract   \n",
       "12                                Senior Data Analyst   \n",
       "13                                       Data Analyst   \n",
       "14                         Cybersecurity Data Analyst   \n",
       "15            Business Data Analyst - MIS & Reporting   \n",
       "16                  Data Analyst / Business Analyst -   \n",
       "17                              Business Data Analyst   \n",
       "18                                       Data Analyst   \n",
       "19                                       Data Analyst   \n",
       "\n",
       "                                              company experience  \\\n",
       "0                  Inflexion Analytix Private Limited    0-3 Yrs   \n",
       "1                 Shell India Markets Private Limited    6-9 Yrs   \n",
       "2   INTERTRUSTVITEOS CORPORATE AND FUND SERVICES P...  12-18 Yrs   \n",
       "3                            Myntra Designs Pvt. Ltd.    3-6 Yrs   \n",
       "4                            Myntra Designs Pvt. Ltd.    3-6 Yrs   \n",
       "5                            Myntra Designs Pvt. Ltd.    4-9 Yrs   \n",
       "6                            Myntra Designs Pvt. Ltd.    4-8 Yrs   \n",
       "7                      SA Tech Software (I) Pvt. Ltd.    1-3 Yrs   \n",
       "8                 H and M Hennes and Mauritz (P) Ltd.    4-7 Yrs   \n",
       "9                                              Luxoft    3-6 Yrs   \n",
       "10                  Flipkart Internet Private Limited    1-3 Yrs   \n",
       "11                  Flipkart Internet Private Limited    2-6 Yrs   \n",
       "12                  Flipkart Internet Private Limited    2-5 Yrs   \n",
       "13                             IBM India Pvt. Limited   5-10 Yrs   \n",
       "14                  Huawei Technologies India Pvt Ltd    5-8 Yrs   \n",
       "15                                   INTERTRUST GROUP    3-8 Yrs   \n",
       "16               LatentView Analytics Private Limited    1-5 Yrs   \n",
       "17                               ALSTOM India Limited   5-10 Yrs   \n",
       "18                                              Udaan    1-6 Yrs   \n",
       "19                                             Luxoft    2-6 Yrs   \n",
       "\n",
       "                     salary                                           location  \n",
       "0   3,50,000 - 4,50,000 PA.  Mumbai, Hyderabad/Secunderabad, Pune, Gurgaon/...  \n",
       "1             Not disclosed                                Bangalore/Bengaluru  \n",
       "2             Not disclosed                        Mumbai, Bangalore/Bengaluru  \n",
       "3             Not disclosed                                Bangalore/Bengaluru  \n",
       "4             Not disclosed                                Bangalore/Bengaluru  \n",
       "5             Not disclosed                                Bangalore/Bengaluru  \n",
       "6             Not disclosed                                Bangalore/Bengaluru  \n",
       "7             Not disclosed  Kolkata, Pune, Chennai, Bangalore/Bengaluru, D...  \n",
       "8             Not disclosed                                Bangalore/Bengaluru  \n",
       "9             Not disclosed                                Bangalore/Bengaluru  \n",
       "10            Not disclosed                                Bangalore/Bengaluru  \n",
       "11            Not disclosed                                Bangalore/Bengaluru  \n",
       "12            Not disclosed                                Bangalore/Bengaluru  \n",
       "13            Not disclosed                                Bangalore/Bengaluru  \n",
       "14            Not disclosed                                Bangalore/Bengaluru  \n",
       "15            Not disclosed                        Mumbai, Bangalore/Bengaluru  \n",
       "16            Not disclosed                       Chennai, Bangalore/Bengaluru  \n",
       "17            Not disclosed                                Bangalore/Bengaluru  \n",
       "18            Not disclosed                                Bangalore/Bengaluru  \n",
       "19            Not disclosed                                Bangalore/Bengaluru  "
      ]
     },
     "execution_count": 50,
     "metadata": {},
     "output_type": "execute_result"
    }
   ],
   "source": [
    "jobs=pd.DataFrame({})\n",
    "jobs['title'] =job_title\n",
    "jobs['company'] =company_names\n",
    "jobs['experience'] = experiences\n",
    "jobs['salary'] = salaries\n",
    "jobs['location'] = locations\n",
    "\n",
    "jobs"
   ]
  },
  {
   "cell_type": "code",
   "execution_count": null,
   "metadata": {},
   "outputs": [],
   "source": []
  },
  {
   "cell_type": "code",
   "execution_count": null,
   "metadata": {},
   "outputs": [],
   "source": []
  },
  {
   "cell_type": "markdown",
   "metadata": {},
   "source": [
    "Q3: In this question you have to scrape data using the filters available on the \n",
    "webpage as shown below:\n",
    "You have to use the location and salary filter.\n",
    "You have to scrape data for “Data Scientist” designation for first 10 job results.\n",
    "You have to scrape the job-title, job-location, company_name,\n",
    "experience_required.\n",
    "The location filter to be used is “Delhi/NCR”\n",
    "The salary filter to be used is “3-6” lakhs\n",
    "The task will be done as shown in the below steps:\n",
    "1. first get the webpage https://www.naukri.com/\n",
    "2. Enter “Data Scientist” in “Skill,Designations,Companies” field \n",
    "3. Then click the search button.\n",
    "4. Then apply the location filter and salary filter by checking the respective boxes\n",
    "4. Then scrape the data for the first 10 jobs results you get.\n",
    "5. Finally create a dataframe of the scraped data.\n",
    "Note- All of the above steps have to be done in code. No step is to be done \n",
    "manually."
   ]
  },
  {
   "cell_type": "code",
   "execution_count": 122,
   "metadata": {},
   "outputs": [],
   "source": [
    "#Lets now import all the required libraries\n",
    "import selenium\n",
    "import pandas as pd\n",
    "from selenium import webdriver"
   ]
  },
  {
   "cell_type": "code",
   "execution_count": 123,
   "metadata": {},
   "outputs": [],
   "source": [
    "#Lets first connect to the web driver\n",
    "driver = webdriver.Chrome('chromedriver.exe')"
   ]
  },
  {
   "cell_type": "code",
   "execution_count": 124,
   "metadata": {},
   "outputs": [],
   "source": [
    "url = 'https://www.naukri.com/'\n",
    "driver.get(url)"
   ]
  },
  {
   "cell_type": "code",
   "execution_count": 125,
   "metadata": {},
   "outputs": [
    {
     "data": {
      "text/plain": [
       "<selenium.webdriver.remote.webelement.WebElement (session=\"11f7cdf24b721a18c02fe2684af14997\", element=\"23143b8f-d1af-45be-9424-b830ff3c962f\")>"
      ]
     },
     "execution_count": 125,
     "metadata": {},
     "output_type": "execute_result"
    }
   ],
   "source": [
    "\n",
    "#finding elements for job search bar\n",
    "search_job = driver.find_element_by_id('qsb-keyword-sugg')\n",
    "search_job"
   ]
  },
  {
   "cell_type": "code",
   "execution_count": 126,
   "metadata": {},
   "outputs": [],
   "source": [
    "#write on search bar\n",
    "search_job.send_keys('Data Scientist')"
   ]
  },
  {
   "cell_type": "code",
   "execution_count": 127,
   "metadata": {},
   "outputs": [],
   "source": [
    "#do click using xpath function\n",
    "search_btn = driver.find_element_by_xpath(\"//button[@class='btn']\")\n",
    "search_btn.click()"
   ]
  },
  {
   "cell_type": "code",
   "execution_count": 128,
   "metadata": {},
   "outputs": [],
   "source": [
    "#finding elements for delhi/Ncr filter\n",
    "search_sal =  driver.find_element_by_xpath(\"//span[@title='3-6 Lakhs']\")\n",
    "search_sal.click()"
   ]
  },
  {
   "cell_type": "code",
   "execution_count": 129,
   "metadata": {},
   "outputs": [],
   "source": [
    "#finding elements for delhi/Ncr filter\n",
    "search_sal =  driver.find_element_by_xpath('//span[@title=\"Delhi / NCR\"]')\n",
    "search_sal.click()"
   ]
  },
  {
   "cell_type": "code",
   "execution_count": 130,
   "metadata": {},
   "outputs": [
    {
     "data": {
      "text/plain": [
       "[<selenium.webdriver.remote.webelement.WebElement (session=\"11f7cdf24b721a18c02fe2684af14997\", element=\"9e52c644-b142-4fb0-a416-d0cc9ed859df\")>,\n",
       " <selenium.webdriver.remote.webelement.WebElement (session=\"11f7cdf24b721a18c02fe2684af14997\", element=\"e0dde576-7c28-45d9-a32d-850d366b43bc\")>,\n",
       " <selenium.webdriver.remote.webelement.WebElement (session=\"11f7cdf24b721a18c02fe2684af14997\", element=\"910f4df3-2344-453f-8c02-37d399f065e7\")>,\n",
       " <selenium.webdriver.remote.webelement.WebElement (session=\"11f7cdf24b721a18c02fe2684af14997\", element=\"806b0401-39a2-423d-9e35-470fc088a633\")>,\n",
       " <selenium.webdriver.remote.webelement.WebElement (session=\"11f7cdf24b721a18c02fe2684af14997\", element=\"d9fb8cbe-b717-4079-91bf-002b23da7343\")>,\n",
       " <selenium.webdriver.remote.webelement.WebElement (session=\"11f7cdf24b721a18c02fe2684af14997\", element=\"ed4eaeed-aad0-4360-a053-414e18fb72d0\")>,\n",
       " <selenium.webdriver.remote.webelement.WebElement (session=\"11f7cdf24b721a18c02fe2684af14997\", element=\"591babfb-0bf5-44bc-af29-61a7b1b070a4\")>,\n",
       " <selenium.webdriver.remote.webelement.WebElement (session=\"11f7cdf24b721a18c02fe2684af14997\", element=\"02bfa059-45e4-418b-9d30-8e7fd508f6ea\")>,\n",
       " <selenium.webdriver.remote.webelement.WebElement (session=\"11f7cdf24b721a18c02fe2684af14997\", element=\"b8ec1bb3-80ee-4a99-a795-57a5051a6b93\")>,\n",
       " <selenium.webdriver.remote.webelement.WebElement (session=\"11f7cdf24b721a18c02fe2684af14997\", element=\"bac06f58-7c25-4630-91e4-9d54d8ca4bb1\")>,\n",
       " <selenium.webdriver.remote.webelement.WebElement (session=\"11f7cdf24b721a18c02fe2684af14997\", element=\"c8302ccf-0aa1-4255-8b89-657ce4240233\")>,\n",
       " <selenium.webdriver.remote.webelement.WebElement (session=\"11f7cdf24b721a18c02fe2684af14997\", element=\"2fae44a3-8084-487e-89e4-37c983910095\")>,\n",
       " <selenium.webdriver.remote.webelement.WebElement (session=\"11f7cdf24b721a18c02fe2684af14997\", element=\"bf16d424-f591-4100-b937-d1c8796df3a2\")>,\n",
       " <selenium.webdriver.remote.webelement.WebElement (session=\"11f7cdf24b721a18c02fe2684af14997\", element=\"5fd92bc4-c329-409b-aeb1-afe05681b208\")>,\n",
       " <selenium.webdriver.remote.webelement.WebElement (session=\"11f7cdf24b721a18c02fe2684af14997\", element=\"f2b15b33-a686-4d7c-8ffb-151d7c264c4c\")>,\n",
       " <selenium.webdriver.remote.webelement.WebElement (session=\"11f7cdf24b721a18c02fe2684af14997\", element=\"b460fd68-35f1-4081-b121-66e5a06ff10a\")>,\n",
       " <selenium.webdriver.remote.webelement.WebElement (session=\"11f7cdf24b721a18c02fe2684af14997\", element=\"b842e4b7-f313-490a-b46d-d6b0920f63b4\")>,\n",
       " <selenium.webdriver.remote.webelement.WebElement (session=\"11f7cdf24b721a18c02fe2684af14997\", element=\"7b54c6e9-0aea-49c4-9227-050a0c0ed1a2\")>,\n",
       " <selenium.webdriver.remote.webelement.WebElement (session=\"11f7cdf24b721a18c02fe2684af14997\", element=\"24fba193-1c93-4548-9bf1-7ad09499fb77\")>,\n",
       " <selenium.webdriver.remote.webelement.WebElement (session=\"11f7cdf24b721a18c02fe2684af14997\", element=\"56b02520-681b-4619-bb48-07d33a6c43a0\")>]"
      ]
     },
     "execution_count": 130,
     "metadata": {},
     "output_type": "execute_result"
    }
   ],
   "source": [
    "#So lets extract all the tags having the job titles\n",
    "titles_tags = driver.find_elements_by_xpath(\"//a[@class='title fw500 ellipsis']\")\n",
    "titles_tags"
   ]
  },
  {
   "cell_type": "code",
   "execution_count": 131,
   "metadata": {},
   "outputs": [
    {
     "data": {
      "text/plain": [
       "['Data Scientist / Data Analyst -Business Analyst',\n",
       " 'Business Analyst- Data Scientist',\n",
       " 'Data Scientist - High growth VC backed Influencer Marketplace',\n",
       " 'DATA Scientist – Gurgaon (Exp 3-6 years)',\n",
       " 'DATA Scientist – Gurgaon (Exp 3-6 years)',\n",
       " 'Data Scientist - Noida',\n",
       " 'Data Scientist',\n",
       " 'Data Scientist',\n",
       " 'Data Scientist',\n",
       " 'Senior Data Scientist II 5+ yrs II Gurgaon',\n",
       " 'Senior Data Scientist',\n",
       " 'Data Scientist',\n",
       " 'Data Scientist Machine Learning',\n",
       " 'Data Scientist',\n",
       " 'Data Scientist',\n",
       " 'Data Scientist',\n",
       " 'Data Scientist',\n",
       " 'Data Scientist',\n",
       " 'Associate Data Scientist',\n",
       " 'Associate Data Scientist']"
      ]
     },
     "execution_count": 131,
     "metadata": {},
     "output_type": "execute_result"
    }
   ],
   "source": [
    "#Loop to iterate over the tags extracted above and extract the text inside them.\n",
    "job_title=[]\n",
    "for i in titles_tags:\n",
    "    job_title.append(i.text)\n",
    "job_title"
   ]
  },
  {
   "cell_type": "code",
   "execution_count": 132,
   "metadata": {},
   "outputs": [
    {
     "data": {
      "text/plain": [
       "[<selenium.webdriver.remote.webelement.WebElement (session=\"11f7cdf24b721a18c02fe2684af14997\", element=\"f9158caa-d91f-44a5-80a4-e0f04ae012ac\")>,\n",
       " <selenium.webdriver.remote.webelement.WebElement (session=\"11f7cdf24b721a18c02fe2684af14997\", element=\"8df3c938-55e1-4770-9a5f-5424c163eded\")>,\n",
       " <selenium.webdriver.remote.webelement.WebElement (session=\"11f7cdf24b721a18c02fe2684af14997\", element=\"54b2819c-caba-4d0b-b68c-8c9abd9d1b55\")>,\n",
       " <selenium.webdriver.remote.webelement.WebElement (session=\"11f7cdf24b721a18c02fe2684af14997\", element=\"0cf01c5d-637b-4aa1-8271-e4f71f8b9a34\")>,\n",
       " <selenium.webdriver.remote.webelement.WebElement (session=\"11f7cdf24b721a18c02fe2684af14997\", element=\"f96ee5eb-ebc4-415d-bce9-fe53c50c7e78\")>,\n",
       " <selenium.webdriver.remote.webelement.WebElement (session=\"11f7cdf24b721a18c02fe2684af14997\", element=\"95def420-4521-4aa0-aeeb-a7da984f629e\")>,\n",
       " <selenium.webdriver.remote.webelement.WebElement (session=\"11f7cdf24b721a18c02fe2684af14997\", element=\"05199e02-51cb-4e16-abc8-a34997d6d695\")>,\n",
       " <selenium.webdriver.remote.webelement.WebElement (session=\"11f7cdf24b721a18c02fe2684af14997\", element=\"10ad6729-6f8b-4c6b-b58c-ae791e6a5dec\")>,\n",
       " <selenium.webdriver.remote.webelement.WebElement (session=\"11f7cdf24b721a18c02fe2684af14997\", element=\"61077e6c-0d67-43a1-b4ef-f4a754cdf7d7\")>,\n",
       " <selenium.webdriver.remote.webelement.WebElement (session=\"11f7cdf24b721a18c02fe2684af14997\", element=\"9dfa9e49-69c9-4766-a90f-3f078127731a\")>,\n",
       " <selenium.webdriver.remote.webelement.WebElement (session=\"11f7cdf24b721a18c02fe2684af14997\", element=\"e269ed43-3aab-4486-9a10-e4e1b6858984\")>,\n",
       " <selenium.webdriver.remote.webelement.WebElement (session=\"11f7cdf24b721a18c02fe2684af14997\", element=\"02b3b50f-a096-426a-bfdb-0a1e99b6fd9d\")>,\n",
       " <selenium.webdriver.remote.webelement.WebElement (session=\"11f7cdf24b721a18c02fe2684af14997\", element=\"53538963-84b9-45eb-8028-006e2e208f37\")>,\n",
       " <selenium.webdriver.remote.webelement.WebElement (session=\"11f7cdf24b721a18c02fe2684af14997\", element=\"97da6940-7001-46c1-bfe1-ea4623538963\")>,\n",
       " <selenium.webdriver.remote.webelement.WebElement (session=\"11f7cdf24b721a18c02fe2684af14997\", element=\"5c0f1711-c8d1-4512-adc2-d325bb81f745\")>,\n",
       " <selenium.webdriver.remote.webelement.WebElement (session=\"11f7cdf24b721a18c02fe2684af14997\", element=\"209f5ca5-c7c0-4968-8edf-6fcf24998222\")>,\n",
       " <selenium.webdriver.remote.webelement.WebElement (session=\"11f7cdf24b721a18c02fe2684af14997\", element=\"998a3fbd-3e96-4631-a505-d2361077fb87\")>,\n",
       " <selenium.webdriver.remote.webelement.WebElement (session=\"11f7cdf24b721a18c02fe2684af14997\", element=\"ea4bf776-fb5c-4696-b48b-27aa310c9194\")>,\n",
       " <selenium.webdriver.remote.webelement.WebElement (session=\"11f7cdf24b721a18c02fe2684af14997\", element=\"a3307ede-fd35-4a7a-aa9d-71acf7c5762d\")>,\n",
       " <selenium.webdriver.remote.webelement.WebElement (session=\"11f7cdf24b721a18c02fe2684af14997\", element=\"fc773ead-6c8b-43b1-830a-2f91fd6c076d\")>]"
      ]
     },
     "execution_count": 132,
     "metadata": {},
     "output_type": "execute_result"
    }
   ],
   "source": [
    "#So lets extract all the tags having the job titles\n",
    "company_tags = driver.find_elements_by_xpath(\"//a[@class='subTitle ellipsis fleft']\")\n",
    "company_tags"
   ]
  },
  {
   "cell_type": "code",
   "execution_count": 133,
   "metadata": {},
   "outputs": [
    {
     "data": {
      "text/plain": [
       "['Inflexion Analytix Private Limited',\n",
       " 'Wipro',\n",
       " 'Ravgins International Pvt. Ltd.',\n",
       " 'CRESCENDO GLOBAL LEADERSHIP HIRING INDIA PRIVATE L IMITED',\n",
       " 'CRESCENDO GLOBAL LEADERSHIP HIRING INDIA PRIVATE L IMITED',\n",
       " 'Optum Global Solutions (India) Private Limited',\n",
       " 'IBM India Pvt. Limited',\n",
       " 'Blitz Jobs',\n",
       " 'Country Veggie',\n",
       " 'Zenatix Solutions Private Limited',\n",
       " 'iNICU',\n",
       " 'BlackBuck',\n",
       " 'Delhivery',\n",
       " 'Sentieo',\n",
       " 'Mahajan Imaging',\n",
       " 'Mahajan Imaging',\n",
       " 'Mobikwik',\n",
       " 'itForte Staffing Services Private Ltd.',\n",
       " 'Blow Trumpet Solutions',\n",
       " 'Right Step Consulting']"
      ]
     },
     "execution_count": 133,
     "metadata": {},
     "output_type": "execute_result"
    }
   ],
   "source": [
    "#Loop to iterate over the tags extracted above and extract the text inside them.\n",
    "company_name=[]\n",
    "for i in company_tags:\n",
    "    company_name.append(i.text)\n",
    "company_name"
   ]
  },
  {
   "cell_type": "code",
   "execution_count": 134,
   "metadata": {},
   "outputs": [
    {
     "data": {
      "text/plain": [
       "[<selenium.webdriver.remote.webelement.WebElement (session=\"11f7cdf24b721a18c02fe2684af14997\", element=\"3ffe256a-41fb-4cd3-b114-e74d67268676\")>,\n",
       " <selenium.webdriver.remote.webelement.WebElement (session=\"11f7cdf24b721a18c02fe2684af14997\", element=\"6da1ef59-d7f5-49fc-8e66-d541a01434fd\")>,\n",
       " <selenium.webdriver.remote.webelement.WebElement (session=\"11f7cdf24b721a18c02fe2684af14997\", element=\"e5d93e94-0d67-4559-b56e-722e62885e60\")>,\n",
       " <selenium.webdriver.remote.webelement.WebElement (session=\"11f7cdf24b721a18c02fe2684af14997\", element=\"fd1feaff-defc-4a2f-b715-46866e431625\")>,\n",
       " <selenium.webdriver.remote.webelement.WebElement (session=\"11f7cdf24b721a18c02fe2684af14997\", element=\"43b48313-90b7-4dc8-9953-3453566b37ac\")>,\n",
       " <selenium.webdriver.remote.webelement.WebElement (session=\"11f7cdf24b721a18c02fe2684af14997\", element=\"ca07c5d6-6bec-4148-a476-f5c5f284af2d\")>,\n",
       " <selenium.webdriver.remote.webelement.WebElement (session=\"11f7cdf24b721a18c02fe2684af14997\", element=\"658d5d6c-7cf9-44dd-b30f-03dd7442a6c6\")>,\n",
       " <selenium.webdriver.remote.webelement.WebElement (session=\"11f7cdf24b721a18c02fe2684af14997\", element=\"9780b52f-074a-41d3-964b-6c9145d3f7ec\")>,\n",
       " <selenium.webdriver.remote.webelement.WebElement (session=\"11f7cdf24b721a18c02fe2684af14997\", element=\"63bc9756-9ea7-460d-b678-cac25ac3f78c\")>,\n",
       " <selenium.webdriver.remote.webelement.WebElement (session=\"11f7cdf24b721a18c02fe2684af14997\", element=\"aa15e0e9-dac5-4fd2-9a72-1110d95ff893\")>,\n",
       " <selenium.webdriver.remote.webelement.WebElement (session=\"11f7cdf24b721a18c02fe2684af14997\", element=\"ac9417bb-a652-4c9a-9286-0be41ca67263\")>,\n",
       " <selenium.webdriver.remote.webelement.WebElement (session=\"11f7cdf24b721a18c02fe2684af14997\", element=\"2507539e-ed72-441c-95e8-9fff91a7d16c\")>,\n",
       " <selenium.webdriver.remote.webelement.WebElement (session=\"11f7cdf24b721a18c02fe2684af14997\", element=\"275db0b5-3aca-45bd-96bc-45e1ffacddbb\")>,\n",
       " <selenium.webdriver.remote.webelement.WebElement (session=\"11f7cdf24b721a18c02fe2684af14997\", element=\"2cd9ab97-b671-4579-ada4-a3d38e8d52ac\")>,\n",
       " <selenium.webdriver.remote.webelement.WebElement (session=\"11f7cdf24b721a18c02fe2684af14997\", element=\"1f3437c4-d850-4512-b820-d3e365dc2560\")>,\n",
       " <selenium.webdriver.remote.webelement.WebElement (session=\"11f7cdf24b721a18c02fe2684af14997\", element=\"932b0cb0-efa6-4e63-a021-728ecccfbddc\")>,\n",
       " <selenium.webdriver.remote.webelement.WebElement (session=\"11f7cdf24b721a18c02fe2684af14997\", element=\"de44f2ba-1838-4b4a-9bb5-d5482cbc1196\")>,\n",
       " <selenium.webdriver.remote.webelement.WebElement (session=\"11f7cdf24b721a18c02fe2684af14997\", element=\"4d4d874a-563e-482d-beae-dd36f3bf5ca1\")>,\n",
       " <selenium.webdriver.remote.webelement.WebElement (session=\"11f7cdf24b721a18c02fe2684af14997\", element=\"8e5889a5-a01e-4162-ba4c-6c625aaa439a\")>,\n",
       " <selenium.webdriver.remote.webelement.WebElement (session=\"11f7cdf24b721a18c02fe2684af14997\", element=\"1a7e05ad-d345-4629-b4fb-682021baf643\")>]"
      ]
     },
     "execution_count": 134,
     "metadata": {},
     "output_type": "execute_result"
    }
   ],
   "source": [
    "#So lets extract all the tags having the experience\n",
    "experience_tags = driver.find_elements_by_xpath(\"//li[@class='fleft grey-text br2 placeHolderLi experience']//span\")\n",
    "experience_tags"
   ]
  },
  {
   "cell_type": "code",
   "execution_count": 135,
   "metadata": {},
   "outputs": [
    {
     "data": {
      "text/plain": [
       "['0-3 Yrs',\n",
       " '2-5 Yrs',\n",
       " '3-5 Yrs',\n",
       " '3-6 Yrs',\n",
       " '3-6 Yrs',\n",
       " '3-5 Yrs',\n",
       " '4-9 Yrs',\n",
       " '3-5 Yrs',\n",
       " '1-3 Yrs',\n",
       " '5-10 Yrs',\n",
       " '1-5 Yrs',\n",
       " '3-7 Yrs',\n",
       " '1-3 Yrs',\n",
       " '2-7 Yrs',\n",
       " '2-6 Yrs',\n",
       " '2-6 Yrs',\n",
       " '3-5 Yrs',\n",
       " '3-8 Yrs',\n",
       " '1-5 Yrs',\n",
       " '3-6 Yrs']"
      ]
     },
     "execution_count": 135,
     "metadata": {},
     "output_type": "execute_result"
    }
   ],
   "source": [
    "\n",
    "#Loop to iterate over the tags extracted above and extract the text inside them.\n",
    "experience=[]\n",
    "for i in experience_tags:\n",
    "    experience.append(i.text)\n",
    "experience"
   ]
  },
  {
   "cell_type": "code",
   "execution_count": 136,
   "metadata": {},
   "outputs": [
    {
     "data": {
      "text/plain": [
       "[<selenium.webdriver.remote.webelement.WebElement (session=\"11f7cdf24b721a18c02fe2684af14997\", element=\"abd59f26-b5d8-4344-9598-480157d8fa9d\")>,\n",
       " <selenium.webdriver.remote.webelement.WebElement (session=\"11f7cdf24b721a18c02fe2684af14997\", element=\"01c147b6-6958-4cbe-a18f-4da88c96319f\")>,\n",
       " <selenium.webdriver.remote.webelement.WebElement (session=\"11f7cdf24b721a18c02fe2684af14997\", element=\"5487f60c-f7a4-4cb4-8c8b-ac2e4a92bd16\")>,\n",
       " <selenium.webdriver.remote.webelement.WebElement (session=\"11f7cdf24b721a18c02fe2684af14997\", element=\"a9ce635f-d701-4c37-a1f1-e09f87e3a341\")>,\n",
       " <selenium.webdriver.remote.webelement.WebElement (session=\"11f7cdf24b721a18c02fe2684af14997\", element=\"8914a785-be2b-4f68-bd70-6237669eebce\")>,\n",
       " <selenium.webdriver.remote.webelement.WebElement (session=\"11f7cdf24b721a18c02fe2684af14997\", element=\"930679d3-830a-4d67-b596-96317df29450\")>,\n",
       " <selenium.webdriver.remote.webelement.WebElement (session=\"11f7cdf24b721a18c02fe2684af14997\", element=\"dab96c8c-fbb8-471d-a308-97ad18279979\")>,\n",
       " <selenium.webdriver.remote.webelement.WebElement (session=\"11f7cdf24b721a18c02fe2684af14997\", element=\"33d86b7e-8993-4227-98f9-fb78ef74c492\")>,\n",
       " <selenium.webdriver.remote.webelement.WebElement (session=\"11f7cdf24b721a18c02fe2684af14997\", element=\"3de95039-7be3-44da-bb18-b8233893e694\")>,\n",
       " <selenium.webdriver.remote.webelement.WebElement (session=\"11f7cdf24b721a18c02fe2684af14997\", element=\"e7f869e9-4a92-4b67-a587-73ac61457859\")>,\n",
       " <selenium.webdriver.remote.webelement.WebElement (session=\"11f7cdf24b721a18c02fe2684af14997\", element=\"9ba15145-2e74-46ba-8add-fd268b1c8fd0\")>,\n",
       " <selenium.webdriver.remote.webelement.WebElement (session=\"11f7cdf24b721a18c02fe2684af14997\", element=\"191018b2-baac-4700-b8c0-b097b9bc0d7c\")>,\n",
       " <selenium.webdriver.remote.webelement.WebElement (session=\"11f7cdf24b721a18c02fe2684af14997\", element=\"04cdb3a5-6c61-4362-8481-6d69af38a9fe\")>,\n",
       " <selenium.webdriver.remote.webelement.WebElement (session=\"11f7cdf24b721a18c02fe2684af14997\", element=\"63021ca0-685e-44cf-8813-4e5f0b6b922b\")>,\n",
       " <selenium.webdriver.remote.webelement.WebElement (session=\"11f7cdf24b721a18c02fe2684af14997\", element=\"1da2caf0-325f-42e9-bde8-b8c851d29049\")>,\n",
       " <selenium.webdriver.remote.webelement.WebElement (session=\"11f7cdf24b721a18c02fe2684af14997\", element=\"f275f86b-26ff-43ca-886b-8432fa457804\")>,\n",
       " <selenium.webdriver.remote.webelement.WebElement (session=\"11f7cdf24b721a18c02fe2684af14997\", element=\"2be31bf6-f52f-43a5-be15-0d3f74ca3a42\")>,\n",
       " <selenium.webdriver.remote.webelement.WebElement (session=\"11f7cdf24b721a18c02fe2684af14997\", element=\"7d18fc92-7ccf-4a1b-a0a9-32f53cb8cbdd\")>,\n",
       " <selenium.webdriver.remote.webelement.WebElement (session=\"11f7cdf24b721a18c02fe2684af14997\", element=\"1809ed91-97b9-4737-b26b-431580490a9b\")>,\n",
       " <selenium.webdriver.remote.webelement.WebElement (session=\"11f7cdf24b721a18c02fe2684af14997\", element=\"5a462c5e-9eca-4879-ae37-4a3e1c358bc7\")>]"
      ]
     },
     "execution_count": 136,
     "metadata": {},
     "output_type": "execute_result"
    }
   ],
   "source": [
    "#So lets extract all the tags having the salary\n",
    "salary_tags = driver.find_elements_by_xpath(\"//li[@class='fleft grey-text br2 placeHolderLi salary']//span\")\n",
    "salary_tags"
   ]
  },
  {
   "cell_type": "code",
   "execution_count": 137,
   "metadata": {},
   "outputs": [
    {
     "data": {
      "text/plain": [
       "['3,50,000 - 4,50,000 PA.',\n",
       " '3,50,000 - 6,50,000 PA.',\n",
       " '5,00,000 - 6,00,000 PA.',\n",
       " '5,00,000 - 9,00,000 PA.',\n",
       " '5,00,000 - 8,00,000 PA.',\n",
       " 'Not disclosed',\n",
       " 'Not disclosed',\n",
       " 'Not disclosed',\n",
       " 'Not disclosed',\n",
       " '5,00,000 - 14,00,000 PA.',\n",
       " 'Not disclosed',\n",
       " 'Not disclosed',\n",
       " 'Not disclosed',\n",
       " 'Not disclosed',\n",
       " 'Not disclosed',\n",
       " 'Not disclosed',\n",
       " 'Not disclosed',\n",
       " 'Not disclosed',\n",
       " 'Not disclosed',\n",
       " 'Not disclosed']"
      ]
     },
     "execution_count": 137,
     "metadata": {},
     "output_type": "execute_result"
    }
   ],
   "source": [
    "\n",
    "#Loop to iterate over the tags extracted above and extract the text inside them.\n",
    "salary=[]\n",
    "for i in salary_tags:\n",
    "    salary.append(i.text)\n",
    "salary"
   ]
  },
  {
   "cell_type": "code",
   "execution_count": 138,
   "metadata": {},
   "outputs": [
    {
     "data": {
      "text/plain": [
       "[<selenium.webdriver.remote.webelement.WebElement (session=\"11f7cdf24b721a18c02fe2684af14997\", element=\"ba841129-cc1a-486b-9095-71cb94262203\")>,\n",
       " <selenium.webdriver.remote.webelement.WebElement (session=\"11f7cdf24b721a18c02fe2684af14997\", element=\"20a9e4cb-2c24-4b93-bad4-dba6c3abacb7\")>,\n",
       " <selenium.webdriver.remote.webelement.WebElement (session=\"11f7cdf24b721a18c02fe2684af14997\", element=\"10c1f325-6c76-4f05-8d68-ee2fea2d5b3d\")>,\n",
       " <selenium.webdriver.remote.webelement.WebElement (session=\"11f7cdf24b721a18c02fe2684af14997\", element=\"45811174-a3d5-44c3-a9ee-32a08995958e\")>,\n",
       " <selenium.webdriver.remote.webelement.WebElement (session=\"11f7cdf24b721a18c02fe2684af14997\", element=\"dd12e00d-c5dc-4ebf-bc76-2a9a62ecfc10\")>,\n",
       " <selenium.webdriver.remote.webelement.WebElement (session=\"11f7cdf24b721a18c02fe2684af14997\", element=\"021f9fbe-849a-4ee3-8320-cd4621e9b300\")>,\n",
       " <selenium.webdriver.remote.webelement.WebElement (session=\"11f7cdf24b721a18c02fe2684af14997\", element=\"50576b6c-f128-4281-b7d5-06dddde72343\")>,\n",
       " <selenium.webdriver.remote.webelement.WebElement (session=\"11f7cdf24b721a18c02fe2684af14997\", element=\"9332a3df-6100-43bd-8fd1-0ed9ef6ed004\")>,\n",
       " <selenium.webdriver.remote.webelement.WebElement (session=\"11f7cdf24b721a18c02fe2684af14997\", element=\"fabf3a34-70a6-480a-8565-1e65b5e42d8c\")>,\n",
       " <selenium.webdriver.remote.webelement.WebElement (session=\"11f7cdf24b721a18c02fe2684af14997\", element=\"987bf861-efe7-47f2-894c-dc4958023208\")>,\n",
       " <selenium.webdriver.remote.webelement.WebElement (session=\"11f7cdf24b721a18c02fe2684af14997\", element=\"6d476e0f-bd78-4931-b68f-c10d82058b70\")>,\n",
       " <selenium.webdriver.remote.webelement.WebElement (session=\"11f7cdf24b721a18c02fe2684af14997\", element=\"582a9df8-9bf5-46f6-ba07-55a2dbf9ae87\")>,\n",
       " <selenium.webdriver.remote.webelement.WebElement (session=\"11f7cdf24b721a18c02fe2684af14997\", element=\"cc3c5b1e-09b3-4ea6-a225-67774333401b\")>,\n",
       " <selenium.webdriver.remote.webelement.WebElement (session=\"11f7cdf24b721a18c02fe2684af14997\", element=\"6fdeb41e-2572-445a-80f8-4baf6db21557\")>,\n",
       " <selenium.webdriver.remote.webelement.WebElement (session=\"11f7cdf24b721a18c02fe2684af14997\", element=\"359d09d3-661d-4113-ac62-9d87b5b4030e\")>,\n",
       " <selenium.webdriver.remote.webelement.WebElement (session=\"11f7cdf24b721a18c02fe2684af14997\", element=\"cc7f2195-32e1-4ed9-9504-19019b1832e6\")>,\n",
       " <selenium.webdriver.remote.webelement.WebElement (session=\"11f7cdf24b721a18c02fe2684af14997\", element=\"b20277a0-a2ba-4ca9-aee7-2039616d47bb\")>,\n",
       " <selenium.webdriver.remote.webelement.WebElement (session=\"11f7cdf24b721a18c02fe2684af14997\", element=\"5cabce55-016b-45d7-abc7-2a749c237c1d\")>,\n",
       " <selenium.webdriver.remote.webelement.WebElement (session=\"11f7cdf24b721a18c02fe2684af14997\", element=\"9427b820-6a89-4afb-b406-7bb15193a08d\")>,\n",
       " <selenium.webdriver.remote.webelement.WebElement (session=\"11f7cdf24b721a18c02fe2684af14997\", element=\"831c0256-0f7b-49c3-b91e-eaf2ee6af2d8\")>]"
      ]
     },
     "execution_count": 138,
     "metadata": {},
     "output_type": "execute_result"
    }
   ],
   "source": [
    "\n",
    "#So lets extract all the tags having the salary\n",
    "location_tags = driver.find_elements_by_xpath(\"//li[@class='fleft grey-text br2 placeHolderLi location']//span\")\n",
    "location_tags"
   ]
  },
  {
   "cell_type": "code",
   "execution_count": 139,
   "metadata": {},
   "outputs": [
    {
     "data": {
      "text/plain": [
       "['Mumbai, Hyderabad/Secunderabad, Pune, Gurgaon/Gurugram, Chennai, Bangalore/Bengaluru',\n",
       " 'Noida, Gurgaon/Gurugram',\n",
       " 'Bangalore/Bengaluru, Delhi / NCR, Mumbai (All Areas)',\n",
       " 'Gurgaon/Gurugram, Delhi / NCR',\n",
       " 'Gurgaon/Gurugram, Delhi / NCR',\n",
       " 'Noida',\n",
       " 'Noida, Hyderabad/Secunderabad, Bangalore/Bengaluru',\n",
       " 'Noida',\n",
       " 'Bharuch, Jaipur, Bhopal, Mumbai, Jhansi, Nagpur, Ghaziabad, Jaunpur, Kanpur, New Delhi, Lucknow, Agra, Gurgaon/Gurugram, Rajkot, Bangalore/Bengaluru',\n",
       " 'Gurgaon/Gurugram',\n",
       " 'Delhi',\n",
       " 'Gurgaon/Gurugram, Bangalore/Bengaluru',\n",
       " 'Gurgaon/Gurugram',\n",
       " 'Delhi',\n",
       " 'New Delhi',\n",
       " 'Delhi',\n",
       " 'New Delhi, Gurgaon/Gurugram, Delhi / NCR',\n",
       " 'Gurgaon',\n",
       " 'New Delhi',\n",
       " 'Noida']"
      ]
     },
     "execution_count": 139,
     "metadata": {},
     "output_type": "execute_result"
    }
   ],
   "source": [
    "\n",
    "#Loop to iterate over the tags extracted above and extract the text inside them.\n",
    "location=[]\n",
    "for i in location_tags:\n",
    "    location.append(i.text)\n",
    "location"
   ]
  },
  {
   "cell_type": "code",
   "execution_count": 141,
   "metadata": {},
   "outputs": [
    {
     "data": {
      "text/html": [
       "<div>\n",
       "<style scoped>\n",
       "    .dataframe tbody tr th:only-of-type {\n",
       "        vertical-align: middle;\n",
       "    }\n",
       "\n",
       "    .dataframe tbody tr th {\n",
       "        vertical-align: top;\n",
       "    }\n",
       "\n",
       "    .dataframe thead th {\n",
       "        text-align: right;\n",
       "    }\n",
       "</style>\n",
       "<table border=\"1\" class=\"dataframe\">\n",
       "  <thead>\n",
       "    <tr style=\"text-align: right;\">\n",
       "      <th></th>\n",
       "      <th>title</th>\n",
       "      <th>company</th>\n",
       "      <th>experience</th>\n",
       "      <th>salary</th>\n",
       "      <th>location</th>\n",
       "    </tr>\n",
       "  </thead>\n",
       "  <tbody>\n",
       "    <tr>\n",
       "      <th>0</th>\n",
       "      <td>Data Scientist / Data Analyst -Business Analyst</td>\n",
       "      <td>Inflexion Analytix Private Limited</td>\n",
       "      <td>0-3 Yrs</td>\n",
       "      <td>3,50,000 - 4,50,000 PA.</td>\n",
       "      <td>Mumbai, Hyderabad/Secunderabad, Pune, Gurgaon/...</td>\n",
       "    </tr>\n",
       "    <tr>\n",
       "      <th>1</th>\n",
       "      <td>Business Analyst- Data Scientist</td>\n",
       "      <td>Wipro</td>\n",
       "      <td>2-5 Yrs</td>\n",
       "      <td>3,50,000 - 6,50,000 PA.</td>\n",
       "      <td>Noida, Gurgaon/Gurugram</td>\n",
       "    </tr>\n",
       "    <tr>\n",
       "      <th>2</th>\n",
       "      <td>Data Scientist - High growth VC backed Influen...</td>\n",
       "      <td>Ravgins International Pvt. Ltd.</td>\n",
       "      <td>3-5 Yrs</td>\n",
       "      <td>5,00,000 - 6,00,000 PA.</td>\n",
       "      <td>Bangalore/Bengaluru, Delhi / NCR, Mumbai (All ...</td>\n",
       "    </tr>\n",
       "    <tr>\n",
       "      <th>3</th>\n",
       "      <td>DATA Scientist – Gurgaon (Exp 3-6 years)</td>\n",
       "      <td>CRESCENDO GLOBAL LEADERSHIP HIRING INDIA PRIVA...</td>\n",
       "      <td>3-6 Yrs</td>\n",
       "      <td>5,00,000 - 9,00,000 PA.</td>\n",
       "      <td>Gurgaon/Gurugram, Delhi / NCR</td>\n",
       "    </tr>\n",
       "    <tr>\n",
       "      <th>4</th>\n",
       "      <td>DATA Scientist – Gurgaon (Exp 3-6 years)</td>\n",
       "      <td>CRESCENDO GLOBAL LEADERSHIP HIRING INDIA PRIVA...</td>\n",
       "      <td>3-6 Yrs</td>\n",
       "      <td>5,00,000 - 8,00,000 PA.</td>\n",
       "      <td>Gurgaon/Gurugram, Delhi / NCR</td>\n",
       "    </tr>\n",
       "    <tr>\n",
       "      <th>5</th>\n",
       "      <td>Data Scientist - Noida</td>\n",
       "      <td>Optum Global Solutions (India) Private Limited</td>\n",
       "      <td>3-5 Yrs</td>\n",
       "      <td>Not disclosed</td>\n",
       "      <td>Noida</td>\n",
       "    </tr>\n",
       "    <tr>\n",
       "      <th>6</th>\n",
       "      <td>Data Scientist</td>\n",
       "      <td>IBM India Pvt. Limited</td>\n",
       "      <td>4-9 Yrs</td>\n",
       "      <td>Not disclosed</td>\n",
       "      <td>Noida, Hyderabad/Secunderabad, Bangalore/Benga...</td>\n",
       "    </tr>\n",
       "    <tr>\n",
       "      <th>7</th>\n",
       "      <td>Data Scientist</td>\n",
       "      <td>Blitz Jobs</td>\n",
       "      <td>3-5 Yrs</td>\n",
       "      <td>Not disclosed</td>\n",
       "      <td>Noida</td>\n",
       "    </tr>\n",
       "    <tr>\n",
       "      <th>8</th>\n",
       "      <td>Data Scientist</td>\n",
       "      <td>Country Veggie</td>\n",
       "      <td>1-3 Yrs</td>\n",
       "      <td>Not disclosed</td>\n",
       "      <td>Bharuch, Jaipur, Bhopal, Mumbai, Jhansi, Nagpu...</td>\n",
       "    </tr>\n",
       "    <tr>\n",
       "      <th>9</th>\n",
       "      <td>Senior Data Scientist II 5+ yrs II Gurgaon</td>\n",
       "      <td>Zenatix Solutions Private Limited</td>\n",
       "      <td>5-10 Yrs</td>\n",
       "      <td>5,00,000 - 14,00,000 PA.</td>\n",
       "      <td>Gurgaon/Gurugram</td>\n",
       "    </tr>\n",
       "    <tr>\n",
       "      <th>10</th>\n",
       "      <td>Senior Data Scientist</td>\n",
       "      <td>iNICU</td>\n",
       "      <td>1-5 Yrs</td>\n",
       "      <td>Not disclosed</td>\n",
       "      <td>Delhi</td>\n",
       "    </tr>\n",
       "    <tr>\n",
       "      <th>11</th>\n",
       "      <td>Data Scientist</td>\n",
       "      <td>BlackBuck</td>\n",
       "      <td>3-7 Yrs</td>\n",
       "      <td>Not disclosed</td>\n",
       "      <td>Gurgaon/Gurugram, Bangalore/Bengaluru</td>\n",
       "    </tr>\n",
       "    <tr>\n",
       "      <th>12</th>\n",
       "      <td>Data Scientist Machine Learning</td>\n",
       "      <td>Delhivery</td>\n",
       "      <td>1-3 Yrs</td>\n",
       "      <td>Not disclosed</td>\n",
       "      <td>Gurgaon/Gurugram</td>\n",
       "    </tr>\n",
       "    <tr>\n",
       "      <th>13</th>\n",
       "      <td>Data Scientist</td>\n",
       "      <td>Sentieo</td>\n",
       "      <td>2-7 Yrs</td>\n",
       "      <td>Not disclosed</td>\n",
       "      <td>Delhi</td>\n",
       "    </tr>\n",
       "    <tr>\n",
       "      <th>14</th>\n",
       "      <td>Data Scientist</td>\n",
       "      <td>Mahajan Imaging</td>\n",
       "      <td>2-6 Yrs</td>\n",
       "      <td>Not disclosed</td>\n",
       "      <td>New Delhi</td>\n",
       "    </tr>\n",
       "    <tr>\n",
       "      <th>15</th>\n",
       "      <td>Data Scientist</td>\n",
       "      <td>Mahajan Imaging</td>\n",
       "      <td>2-6 Yrs</td>\n",
       "      <td>Not disclosed</td>\n",
       "      <td>Delhi</td>\n",
       "    </tr>\n",
       "    <tr>\n",
       "      <th>16</th>\n",
       "      <td>Data Scientist</td>\n",
       "      <td>Mobikwik</td>\n",
       "      <td>3-5 Yrs</td>\n",
       "      <td>Not disclosed</td>\n",
       "      <td>New Delhi, Gurgaon/Gurugram, Delhi / NCR</td>\n",
       "    </tr>\n",
       "    <tr>\n",
       "      <th>17</th>\n",
       "      <td>Data Scientist</td>\n",
       "      <td>itForte Staffing Services Private Ltd.</td>\n",
       "      <td>3-8 Yrs</td>\n",
       "      <td>Not disclosed</td>\n",
       "      <td>Gurgaon</td>\n",
       "    </tr>\n",
       "    <tr>\n",
       "      <th>18</th>\n",
       "      <td>Associate Data Scientist</td>\n",
       "      <td>Blow Trumpet Solutions</td>\n",
       "      <td>1-5 Yrs</td>\n",
       "      <td>Not disclosed</td>\n",
       "      <td>New Delhi</td>\n",
       "    </tr>\n",
       "    <tr>\n",
       "      <th>19</th>\n",
       "      <td>Associate Data Scientist</td>\n",
       "      <td>Right Step Consulting</td>\n",
       "      <td>3-6 Yrs</td>\n",
       "      <td>Not disclosed</td>\n",
       "      <td>Noida</td>\n",
       "    </tr>\n",
       "  </tbody>\n",
       "</table>\n",
       "</div>"
      ],
      "text/plain": [
       "                                                title  \\\n",
       "0     Data Scientist / Data Analyst -Business Analyst   \n",
       "1                    Business Analyst- Data Scientist   \n",
       "2   Data Scientist - High growth VC backed Influen...   \n",
       "3            DATA Scientist – Gurgaon (Exp 3-6 years)   \n",
       "4            DATA Scientist – Gurgaon (Exp 3-6 years)   \n",
       "5                              Data Scientist - Noida   \n",
       "6                                      Data Scientist   \n",
       "7                                      Data Scientist   \n",
       "8                                      Data Scientist   \n",
       "9          Senior Data Scientist II 5+ yrs II Gurgaon   \n",
       "10                              Senior Data Scientist   \n",
       "11                                     Data Scientist   \n",
       "12                    Data Scientist Machine Learning   \n",
       "13                                     Data Scientist   \n",
       "14                                     Data Scientist   \n",
       "15                                     Data Scientist   \n",
       "16                                     Data Scientist   \n",
       "17                                     Data Scientist   \n",
       "18                           Associate Data Scientist   \n",
       "19                           Associate Data Scientist   \n",
       "\n",
       "                                              company experience  \\\n",
       "0                  Inflexion Analytix Private Limited    0-3 Yrs   \n",
       "1                                               Wipro    2-5 Yrs   \n",
       "2                     Ravgins International Pvt. Ltd.    3-5 Yrs   \n",
       "3   CRESCENDO GLOBAL LEADERSHIP HIRING INDIA PRIVA...    3-6 Yrs   \n",
       "4   CRESCENDO GLOBAL LEADERSHIP HIRING INDIA PRIVA...    3-6 Yrs   \n",
       "5      Optum Global Solutions (India) Private Limited    3-5 Yrs   \n",
       "6                              IBM India Pvt. Limited    4-9 Yrs   \n",
       "7                                          Blitz Jobs    3-5 Yrs   \n",
       "8                                      Country Veggie    1-3 Yrs   \n",
       "9                   Zenatix Solutions Private Limited   5-10 Yrs   \n",
       "10                                              iNICU    1-5 Yrs   \n",
       "11                                          BlackBuck    3-7 Yrs   \n",
       "12                                          Delhivery    1-3 Yrs   \n",
       "13                                            Sentieo    2-7 Yrs   \n",
       "14                                    Mahajan Imaging    2-6 Yrs   \n",
       "15                                    Mahajan Imaging    2-6 Yrs   \n",
       "16                                           Mobikwik    3-5 Yrs   \n",
       "17             itForte Staffing Services Private Ltd.    3-8 Yrs   \n",
       "18                             Blow Trumpet Solutions    1-5 Yrs   \n",
       "19                              Right Step Consulting    3-6 Yrs   \n",
       "\n",
       "                      salary  \\\n",
       "0    3,50,000 - 4,50,000 PA.   \n",
       "1    3,50,000 - 6,50,000 PA.   \n",
       "2    5,00,000 - 6,00,000 PA.   \n",
       "3    5,00,000 - 9,00,000 PA.   \n",
       "4    5,00,000 - 8,00,000 PA.   \n",
       "5              Not disclosed   \n",
       "6              Not disclosed   \n",
       "7              Not disclosed   \n",
       "8              Not disclosed   \n",
       "9   5,00,000 - 14,00,000 PA.   \n",
       "10             Not disclosed   \n",
       "11             Not disclosed   \n",
       "12             Not disclosed   \n",
       "13             Not disclosed   \n",
       "14             Not disclosed   \n",
       "15             Not disclosed   \n",
       "16             Not disclosed   \n",
       "17             Not disclosed   \n",
       "18             Not disclosed   \n",
       "19             Not disclosed   \n",
       "\n",
       "                                             location  \n",
       "0   Mumbai, Hyderabad/Secunderabad, Pune, Gurgaon/...  \n",
       "1                             Noida, Gurgaon/Gurugram  \n",
       "2   Bangalore/Bengaluru, Delhi / NCR, Mumbai (All ...  \n",
       "3                       Gurgaon/Gurugram, Delhi / NCR  \n",
       "4                       Gurgaon/Gurugram, Delhi / NCR  \n",
       "5                                               Noida  \n",
       "6   Noida, Hyderabad/Secunderabad, Bangalore/Benga...  \n",
       "7                                               Noida  \n",
       "8   Bharuch, Jaipur, Bhopal, Mumbai, Jhansi, Nagpu...  \n",
       "9                                    Gurgaon/Gurugram  \n",
       "10                                              Delhi  \n",
       "11              Gurgaon/Gurugram, Bangalore/Bengaluru  \n",
       "12                                   Gurgaon/Gurugram  \n",
       "13                                              Delhi  \n",
       "14                                          New Delhi  \n",
       "15                                              Delhi  \n",
       "16           New Delhi, Gurgaon/Gurugram, Delhi / NCR  \n",
       "17                                            Gurgaon  \n",
       "18                                          New Delhi  \n",
       "19                                              Noida  "
      ]
     },
     "execution_count": 141,
     "metadata": {},
     "output_type": "execute_result"
    }
   ],
   "source": [
    "jobs=pd.DataFrame({})\n",
    "jobs['title'] =job_title\n",
    "jobs['company'] =company_name\n",
    "jobs['experience'] = experience\n",
    "jobs['salary'] = salary\n",
    "jobs['location'] = location\n",
    "\n",
    "jobs"
   ]
  },
  {
   "cell_type": "markdown",
   "metadata": {},
   "source": [
    "Q4: Write a python program to scrape data for first 10 job results for Data scientist \n",
    "Designation in Noida location. You have to scrape company_name, No. of days \n",
    "ago when job was posted, Rating of the company.\n",
    "This task will be done in following steps:\n",
    "1. first get the webpage https://www.glassdoor.co.in/index.htm\n",
    "2. Enter “Data Scientist” in “Job Title,Keyword,Company” field and enter “Noida” \n",
    "in “location” field.\n",
    "3. Then click the search button. You will land up in the below page:\n",
    "4. Then scrape the data for the first 10 jobs results you get in the above shown \n",
    "page.\n",
    "5. Finally create a dataframe of the scraped data.\n",
    "Note- All of the above steps have to be done in code. No step is to be done \n",
    "manually."
   ]
  },
  {
   "cell_type": "code",
   "execution_count": 25,
   "metadata": {},
   "outputs": [],
   "source": [
    "#Lets now import all the required libraries\n",
    "import selenium\n",
    "import pandas as pd\n",
    "from selenium import webdriver"
   ]
  },
  {
   "cell_type": "code",
   "execution_count": 26,
   "metadata": {},
   "outputs": [],
   "source": [
    "#Lets first connect to the web driver\n",
    "driver = webdriver.Chrome('chromedriver.exe')"
   ]
  },
  {
   "cell_type": "code",
   "execution_count": 27,
   "metadata": {},
   "outputs": [],
   "source": [
    "url = 'https://www.glassdoor.co.in/'\n",
    "driver.get(url)"
   ]
  },
  {
   "cell_type": "code",
   "execution_count": 44,
   "metadata": {},
   "outputs": [
    {
     "data": {
      "text/plain": [
       "<selenium.webdriver.remote.webelement.WebElement (session=\"d65939e301407b5aaf481f8568269d83\", element=\"ea19aa8a-9d1d-409b-99a4-2f0c674350c0\")>"
      ]
     },
     "execution_count": 44,
     "metadata": {},
     "output_type": "execute_result"
    }
   ],
   "source": [
    "#finding elements for job search bar\n",
    "search_job = driver.find_element_by_id(\"sc.keyword\")\n",
    "search_job"
   ]
  },
  {
   "cell_type": "code",
   "execution_count": 45,
   "metadata": {},
   "outputs": [],
   "source": [
    "#write on search bar\n",
    "search_job.send_keys('Data Scientist')"
   ]
  },
  {
   "cell_type": "code",
   "execution_count": 46,
   "metadata": {},
   "outputs": [],
   "source": [
    "# finding elements for job location bar\n",
    "search_loc = driver.find_element_by_id('sc.location')\n",
    "search_loc.send_keys('Noida')"
   ]
  },
  {
   "cell_type": "code",
   "execution_count": 47,
   "metadata": {},
   "outputs": [],
   "source": [
    "#do click using xpath function\n",
    "search_btn = driver.find_element_by_xpath(\"//button[@class='gd-ui-button ml-std col-auto SearchStyles__newSearchButton css-iixdfr']//span\")\n",
    "search_btn.click()"
   ]
  },
  {
   "cell_type": "markdown",
   "metadata": {},
   "source": [
    "So now lets 4 create empty lists. In these lists the data will be stored while scraping.\n"
   ]
  },
  {
   "cell_type": "code",
   "execution_count": 56,
   "metadata": {},
   "outputs": [
    {
     "data": {
      "text/plain": [
       "[<selenium.webdriver.remote.webelement.WebElement (session=\"d65939e301407b5aaf481f8568269d83\", element=\"df16cc28-94c7-4354-823f-4c84f3beb968\")>,\n",
       " <selenium.webdriver.remote.webelement.WebElement (session=\"d65939e301407b5aaf481f8568269d83\", element=\"6887aab5-53c9-40c3-a478-299616779fc5\")>,\n",
       " <selenium.webdriver.remote.webelement.WebElement (session=\"d65939e301407b5aaf481f8568269d83\", element=\"000728e0-3637-47a9-b90a-5c0b7eaee737\")>,\n",
       " <selenium.webdriver.remote.webelement.WebElement (session=\"d65939e301407b5aaf481f8568269d83\", element=\"69f53a33-2e84-4df1-b04d-848b2112c111\")>,\n",
       " <selenium.webdriver.remote.webelement.WebElement (session=\"d65939e301407b5aaf481f8568269d83\", element=\"c4829080-7f35-4d9c-821f-cbadd0a39157\")>,\n",
       " <selenium.webdriver.remote.webelement.WebElement (session=\"d65939e301407b5aaf481f8568269d83\", element=\"054442e9-b70b-4f5c-833a-b81e1f5f9920\")>,\n",
       " <selenium.webdriver.remote.webelement.WebElement (session=\"d65939e301407b5aaf481f8568269d83\", element=\"8cfc1687-c6ec-490d-9551-f7175bd51ec7\")>,\n",
       " <selenium.webdriver.remote.webelement.WebElement (session=\"d65939e301407b5aaf481f8568269d83\", element=\"9d7ac246-dc63-4618-a6ed-3eb0aca1405b\")>,\n",
       " <selenium.webdriver.remote.webelement.WebElement (session=\"d65939e301407b5aaf481f8568269d83\", element=\"c4686169-a25f-4545-b3dc-d859f6cf201e\")>,\n",
       " <selenium.webdriver.remote.webelement.WebElement (session=\"d65939e301407b5aaf481f8568269d83\", element=\"ca676340-3966-47cd-9d03-77d518f59fde\")>,\n",
       " <selenium.webdriver.remote.webelement.WebElement (session=\"d65939e301407b5aaf481f8568269d83\", element=\"67c14325-9bb4-40b0-942b-9847a718eff7\")>,\n",
       " <selenium.webdriver.remote.webelement.WebElement (session=\"d65939e301407b5aaf481f8568269d83\", element=\"a93a2899-2cec-4284-b8ff-a9d06ba9c254\")>,\n",
       " <selenium.webdriver.remote.webelement.WebElement (session=\"d65939e301407b5aaf481f8568269d83\", element=\"fc266c6a-0132-4b51-b187-4e2865bf2f4c\")>,\n",
       " <selenium.webdriver.remote.webelement.WebElement (session=\"d65939e301407b5aaf481f8568269d83\", element=\"a49437cb-a607-4209-969c-42c82a89d638\")>,\n",
       " <selenium.webdriver.remote.webelement.WebElement (session=\"d65939e301407b5aaf481f8568269d83\", element=\"0f4dab72-58bf-48a8-b84b-25448a17b20e\")>,\n",
       " <selenium.webdriver.remote.webelement.WebElement (session=\"d65939e301407b5aaf481f8568269d83\", element=\"71a1417b-0845-4b37-93ad-bbad4f40bc44\")>,\n",
       " <selenium.webdriver.remote.webelement.WebElement (session=\"d65939e301407b5aaf481f8568269d83\", element=\"994ff11a-d8cf-4c44-a4dc-48fb4f9ae12c\")>,\n",
       " <selenium.webdriver.remote.webelement.WebElement (session=\"d65939e301407b5aaf481f8568269d83\", element=\"80862f2d-a268-4002-8281-71efc13a022c\")>,\n",
       " <selenium.webdriver.remote.webelement.WebElement (session=\"d65939e301407b5aaf481f8568269d83\", element=\"884e3e5e-35d2-472e-9c81-41e205bd2cf3\")>,\n",
       " <selenium.webdriver.remote.webelement.WebElement (session=\"d65939e301407b5aaf481f8568269d83\", element=\"f30a9d13-ca93-4416-bc98-b4faa0559829\")>,\n",
       " <selenium.webdriver.remote.webelement.WebElement (session=\"d65939e301407b5aaf481f8568269d83\", element=\"358f3a16-bcf1-49b9-a299-218bd62ee38e\")>,\n",
       " <selenium.webdriver.remote.webelement.WebElement (session=\"d65939e301407b5aaf481f8568269d83\", element=\"d0db16f8-60ce-42ac-a2fb-533d4116e85f\")>,\n",
       " <selenium.webdriver.remote.webelement.WebElement (session=\"d65939e301407b5aaf481f8568269d83\", element=\"eaaef689-9a9d-4b64-9350-aebbe5968806\")>,\n",
       " <selenium.webdriver.remote.webelement.WebElement (session=\"d65939e301407b5aaf481f8568269d83\", element=\"14fa5e24-0594-4ac3-b918-f8905d0c537b\")>,\n",
       " <selenium.webdriver.remote.webelement.WebElement (session=\"d65939e301407b5aaf481f8568269d83\", element=\"29c6a768-6e99-4748-9a9c-6d6619fd1722\")>,\n",
       " <selenium.webdriver.remote.webelement.WebElement (session=\"d65939e301407b5aaf481f8568269d83\", element=\"2a5b614a-ad00-4dd8-a40b-ef27ddaa39aa\")>,\n",
       " <selenium.webdriver.remote.webelement.WebElement (session=\"d65939e301407b5aaf481f8568269d83\", element=\"1ef180a7-86dd-4179-80ff-3d660a30e745\")>,\n",
       " <selenium.webdriver.remote.webelement.WebElement (session=\"d65939e301407b5aaf481f8568269d83\", element=\"2e0066aa-f695-450b-a4ea-4fd89d035fed\")>,\n",
       " <selenium.webdriver.remote.webelement.WebElement (session=\"d65939e301407b5aaf481f8568269d83\", element=\"4e983abd-20d0-47d1-a0b9-67fc7363a3ce\")>,\n",
       " <selenium.webdriver.remote.webelement.WebElement (session=\"d65939e301407b5aaf481f8568269d83\", element=\"63b0e8c7-3943-4d86-bf92-ae341b599e1d\")>]"
      ]
     },
     "execution_count": 56,
     "metadata": {},
     "output_type": "execute_result"
    }
   ],
   "source": [
    "\n",
    "#So lets extract all the tags having the company name\n",
    "company_tags = driver.find_elements_by_xpath(\"//a[@class=' css-l2wjgv e1n63ojh0 jobLink']\")\n",
    "company_tags"
   ]
  },
  {
   "cell_type": "code",
   "execution_count": 57,
   "metadata": {},
   "outputs": [
    {
     "data": {
      "text/plain": [
       "['Ericsson',\n",
       " 'Mansha Solutions',\n",
       " 'Lantern Digital Services',\n",
       " 'Boston Consulting Group',\n",
       " 'Sparkbpl',\n",
       " 'Priority Vendor',\n",
       " 'Biz2Credit Inc',\n",
       " 'MasterCard',\n",
       " 'Gauge Data Solutions',\n",
       " 'Techlive',\n",
       " 'Skyjobs hr services',\n",
       " 'SearchUrCollege',\n",
       " 'xtLytics',\n",
       " 'Siemens Technology and Services Private Limited',\n",
       " 'WishFin',\n",
       " 'Webhelp',\n",
       " 'Khan Academy',\n",
       " 'Team Computers',\n",
       " 'Ank Aha',\n",
       " 'Fitfyles',\n",
       " 'Mahajan Imaging',\n",
       " 'Maruti Suzuki India Ltd',\n",
       " 'Profisor Services',\n",
       " 'Sentieo',\n",
       " 'Analytics Vidhya',\n",
       " 'Axslogic',\n",
       " 'ESRI, Inc.',\n",
       " 'Nihilent',\n",
       " 'Saffron Consultancy Services',\n",
       " 'Futures and Careers']"
      ]
     },
     "execution_count": 57,
     "metadata": {},
     "output_type": "execute_result"
    }
   ],
   "source": [
    "\n",
    "#Loop to iterate over the tags extracted above and extract the text inside them.\n",
    "company_name=[]\n",
    "for i in company_tags:\n",
    "    company_name.append(i.text)\n",
    "company_name"
   ]
  },
  {
   "cell_type": "code",
   "execution_count": 59,
   "metadata": {},
   "outputs": [
    {
     "data": {
      "text/plain": [
       "[<selenium.webdriver.remote.webelement.WebElement (session=\"d65939e301407b5aaf481f8568269d83\", element=\"ff8478a8-fd9b-4f0d-9fb8-7d24c443cc2f\")>,\n",
       " <selenium.webdriver.remote.webelement.WebElement (session=\"d65939e301407b5aaf481f8568269d83\", element=\"88bc75d6-d8fd-4cfd-90ac-c5242cfb4f13\")>,\n",
       " <selenium.webdriver.remote.webelement.WebElement (session=\"d65939e301407b5aaf481f8568269d83\", element=\"12c36678-9613-4048-8b45-483eedd98708\")>,\n",
       " <selenium.webdriver.remote.webelement.WebElement (session=\"d65939e301407b5aaf481f8568269d83\", element=\"0c14b8a9-71ed-4266-aa40-ce7942c9773a\")>,\n",
       " <selenium.webdriver.remote.webelement.WebElement (session=\"d65939e301407b5aaf481f8568269d83\", element=\"feeeb23c-60ff-4d60-b2eb-15438194313e\")>,\n",
       " <selenium.webdriver.remote.webelement.WebElement (session=\"d65939e301407b5aaf481f8568269d83\", element=\"3c85ccef-ea8a-4ae1-9f73-841b9375b5c0\")>,\n",
       " <selenium.webdriver.remote.webelement.WebElement (session=\"d65939e301407b5aaf481f8568269d83\", element=\"77cbcb12-befd-4e5d-a59f-a319a2f37bac\")>,\n",
       " <selenium.webdriver.remote.webelement.WebElement (session=\"d65939e301407b5aaf481f8568269d83\", element=\"df1e21d3-9c26-4f18-b313-ebb211c6883b\")>,\n",
       " <selenium.webdriver.remote.webelement.WebElement (session=\"d65939e301407b5aaf481f8568269d83\", element=\"50911ac2-424a-47fd-b05f-5a91c879192b\")>,\n",
       " <selenium.webdriver.remote.webelement.WebElement (session=\"d65939e301407b5aaf481f8568269d83\", element=\"a887a7ad-a017-47f3-b618-a681336b2cb5\")>,\n",
       " <selenium.webdriver.remote.webelement.WebElement (session=\"d65939e301407b5aaf481f8568269d83\", element=\"b89fb34e-ef39-4a42-89b3-e297df32f57b\")>,\n",
       " <selenium.webdriver.remote.webelement.WebElement (session=\"d65939e301407b5aaf481f8568269d83\", element=\"f46c4ea3-11fb-41d4-a250-f27d4c73336d\")>,\n",
       " <selenium.webdriver.remote.webelement.WebElement (session=\"d65939e301407b5aaf481f8568269d83\", element=\"3694df9d-d8a4-42a3-8f1d-9f2b52b14c3b\")>,\n",
       " <selenium.webdriver.remote.webelement.WebElement (session=\"d65939e301407b5aaf481f8568269d83\", element=\"79c499d2-dbb6-4750-b830-589066c54dc7\")>,\n",
       " <selenium.webdriver.remote.webelement.WebElement (session=\"d65939e301407b5aaf481f8568269d83\", element=\"e5df04ca-4a24-4b76-be53-72d53415e623\")>,\n",
       " <selenium.webdriver.remote.webelement.WebElement (session=\"d65939e301407b5aaf481f8568269d83\", element=\"ec38cd9b-0a75-48bd-99b4-63c8dab733e6\")>,\n",
       " <selenium.webdriver.remote.webelement.WebElement (session=\"d65939e301407b5aaf481f8568269d83\", element=\"259e9051-8c90-4f62-abd5-49103423a15c\")>,\n",
       " <selenium.webdriver.remote.webelement.WebElement (session=\"d65939e301407b5aaf481f8568269d83\", element=\"76b7039a-9f7c-4364-983b-feeb01b91d81\")>,\n",
       " <selenium.webdriver.remote.webelement.WebElement (session=\"d65939e301407b5aaf481f8568269d83\", element=\"3de56076-e259-4a75-820f-e15fe058a581\")>,\n",
       " <selenium.webdriver.remote.webelement.WebElement (session=\"d65939e301407b5aaf481f8568269d83\", element=\"a4763735-80a4-4b7f-ad84-faf0329da033\")>,\n",
       " <selenium.webdriver.remote.webelement.WebElement (session=\"d65939e301407b5aaf481f8568269d83\", element=\"ca26f042-ca59-4736-b001-d4aa2d92f99c\")>,\n",
       " <selenium.webdriver.remote.webelement.WebElement (session=\"d65939e301407b5aaf481f8568269d83\", element=\"25199869-2f0f-4a22-892b-36a8100486aa\")>,\n",
       " <selenium.webdriver.remote.webelement.WebElement (session=\"d65939e301407b5aaf481f8568269d83\", element=\"caf166da-5a97-4168-9b41-a41656aacddb\")>,\n",
       " <selenium.webdriver.remote.webelement.WebElement (session=\"d65939e301407b5aaf481f8568269d83\", element=\"276eef0d-e2bb-44cd-b3cf-e1d3cd9beda0\")>,\n",
       " <selenium.webdriver.remote.webelement.WebElement (session=\"d65939e301407b5aaf481f8568269d83\", element=\"47375958-0ef0-4eb1-85df-81cd1fdc78b5\")>,\n",
       " <selenium.webdriver.remote.webelement.WebElement (session=\"d65939e301407b5aaf481f8568269d83\", element=\"55511531-8c2e-496c-a88e-de69cf59ba0f\")>,\n",
       " <selenium.webdriver.remote.webelement.WebElement (session=\"d65939e301407b5aaf481f8568269d83\", element=\"a62f1421-7c43-4f07-a5bc-a4fe5a341456\")>,\n",
       " <selenium.webdriver.remote.webelement.WebElement (session=\"d65939e301407b5aaf481f8568269d83\", element=\"fc58285a-a0f1-4c71-8f7e-7a506bf0207b\")>,\n",
       " <selenium.webdriver.remote.webelement.WebElement (session=\"d65939e301407b5aaf481f8568269d83\", element=\"907c7b27-f164-4c0f-8118-a231ed8f9d91\")>,\n",
       " <selenium.webdriver.remote.webelement.WebElement (session=\"d65939e301407b5aaf481f8568269d83\", element=\"cddacd84-e7e4-4aad-a0be-a778db0ff08c\")>]"
      ]
     },
     "execution_count": 59,
     "metadata": {},
     "output_type": "execute_result"
    }
   ],
   "source": [
    "\n",
    "#So lets extract all the tags having no.of days ago it was posted\n",
    "job_tags = driver.find_elements_by_xpath(\"//div[@class='d-flex align-items-end pl-std css-mi55ob']\")\n",
    "job_tags"
   ]
  },
  {
   "cell_type": "code",
   "execution_count": 61,
   "metadata": {},
   "outputs": [
    {
     "data": {
      "text/plain": [
       "['16d',\n",
       " '11d',\n",
       " '9d',\n",
       " '2d',\n",
       " '16d',\n",
       " '',\n",
       " '24d',\n",
       " '24d',\n",
       " '15d',\n",
       " '22d',\n",
       " '8d',\n",
       " '15d',\n",
       " '2d',\n",
       " '3d',\n",
       " '26d',\n",
       " '9d',\n",
       " '1d',\n",
       " '3d',\n",
       " '15d',\n",
       " '15d',\n",
       " '15d',\n",
       " '24h',\n",
       " '15d',\n",
       " '17d',\n",
       " '15d',\n",
       " '13d',\n",
       " '24d',\n",
       " '24d',\n",
       " '15d',\n",
       " '27d']"
      ]
     },
     "execution_count": 61,
     "metadata": {},
     "output_type": "execute_result"
    }
   ],
   "source": [
    "\n",
    "#Loop to iterate over the tags extracted above and extract the text inside them.\n",
    "job_posted=[]\n",
    "for i in job_tags:\n",
    "    job_posted.append(i.text)\n",
    "job_posted"
   ]
  },
  {
   "cell_type": "code",
   "execution_count": 62,
   "metadata": {},
   "outputs": [
    {
     "data": {
      "text/plain": [
       "[<selenium.webdriver.remote.webelement.WebElement (session=\"d65939e301407b5aaf481f8568269d83\", element=\"4b13fac1-8e8d-4e8a-8055-929412242cf0\")>,\n",
       " <selenium.webdriver.remote.webelement.WebElement (session=\"d65939e301407b5aaf481f8568269d83\", element=\"b78006c0-8ffb-4a38-9452-7dd032b4cd3b\")>,\n",
       " <selenium.webdriver.remote.webelement.WebElement (session=\"d65939e301407b5aaf481f8568269d83\", element=\"fc404d00-f989-45c8-863b-964d73505aa4\")>,\n",
       " <selenium.webdriver.remote.webelement.WebElement (session=\"d65939e301407b5aaf481f8568269d83\", element=\"82bbb7d0-c876-4304-ae0a-dc0e7fd273a9\")>,\n",
       " <selenium.webdriver.remote.webelement.WebElement (session=\"d65939e301407b5aaf481f8568269d83\", element=\"137558e5-c6be-44dd-bea4-b2583b492a09\")>,\n",
       " <selenium.webdriver.remote.webelement.WebElement (session=\"d65939e301407b5aaf481f8568269d83\", element=\"201c9f72-bc80-443f-bce2-2c6e60861c88\")>,\n",
       " <selenium.webdriver.remote.webelement.WebElement (session=\"d65939e301407b5aaf481f8568269d83\", element=\"5a40e043-1ea2-4b6a-923c-8f99389099ff\")>,\n",
       " <selenium.webdriver.remote.webelement.WebElement (session=\"d65939e301407b5aaf481f8568269d83\", element=\"8db9a48b-2436-42a4-be0e-cc372dca65bc\")>,\n",
       " <selenium.webdriver.remote.webelement.WebElement (session=\"d65939e301407b5aaf481f8568269d83\", element=\"30f8f1d3-e2c7-4265-b5cc-319fba253413\")>,\n",
       " <selenium.webdriver.remote.webelement.WebElement (session=\"d65939e301407b5aaf481f8568269d83\", element=\"e3669eb7-b744-44f3-8e66-bdb62652e812\")>,\n",
       " <selenium.webdriver.remote.webelement.WebElement (session=\"d65939e301407b5aaf481f8568269d83\", element=\"bdea8aca-6cb1-4afb-9107-84d438f58e5f\")>,\n",
       " <selenium.webdriver.remote.webelement.WebElement (session=\"d65939e301407b5aaf481f8568269d83\", element=\"aa8220c0-61af-4855-906d-4fa33c844859\")>,\n",
       " <selenium.webdriver.remote.webelement.WebElement (session=\"d65939e301407b5aaf481f8568269d83\", element=\"20b689b7-a96d-4e64-9fa0-c4d6891b8172\")>,\n",
       " <selenium.webdriver.remote.webelement.WebElement (session=\"d65939e301407b5aaf481f8568269d83\", element=\"c8b8c379-6430-4d9c-af38-2b2fbe53b30d\")>,\n",
       " <selenium.webdriver.remote.webelement.WebElement (session=\"d65939e301407b5aaf481f8568269d83\", element=\"3e28868e-fda6-4bac-9468-4fd3795335b3\")>]"
      ]
     },
     "execution_count": 62,
     "metadata": {},
     "output_type": "execute_result"
    }
   ],
   "source": [
    "\n",
    "#So lets extract all the ratings\n",
    "rating_tags = driver.find_elements_by_xpath(\"//span[@class='css-19pjha7 e1cjmv6j1']\")\n",
    "rating_tags"
   ]
  },
  {
   "cell_type": "code",
   "execution_count": 63,
   "metadata": {},
   "outputs": [
    {
     "data": {
      "text/plain": [
       "['4.1',\n",
       " '4.1',\n",
       " '3.7',\n",
       " '3.8',\n",
       " '3.1',\n",
       " '5.0',\n",
       " '4.1',\n",
       " '3.8',\n",
       " '4.1',\n",
       " '4.0',\n",
       " '4.0',\n",
       " '4.5',\n",
       " '3.7',\n",
       " '4.3',\n",
       " '3.6']"
      ]
     },
     "execution_count": 63,
     "metadata": {},
     "output_type": "execute_result"
    }
   ],
   "source": [
    "#Loop to iterate over the tags extracted above and extract the text inside them.\n",
    "ratings=[]\n",
    "for i in rating_tags:\n",
    "    ratings.append(i.text)\n",
    "ratings"
   ]
  },
  {
   "cell_type": "code",
   "execution_count": 65,
   "metadata": {},
   "outputs": [
    {
     "name": "stdout",
     "output_type": "stream",
     "text": [
      "30 15 30\n"
     ]
    }
   ],
   "source": [
    "print(len(company_name),len(ratings),len(job_posted))\n"
   ]
  },
  {
   "cell_type": "code",
   "execution_count": null,
   "metadata": {},
   "outputs": [],
   "source": []
  },
  {
   "cell_type": "code",
   "execution_count": null,
   "metadata": {},
   "outputs": [],
   "source": []
  },
  {
   "cell_type": "markdown",
   "metadata": {},
   "source": [
    "Problem Statement:\n",
    "Q5: Write a python program to scrape the salary data for Data Scientist designation \n",
    "in Noida location.\n",
    "You have to scrape Company name, Number of salaries, Average salary, Min\n",
    "salary, Max Salary.\n",
    "The above task will be, done as shown in the below steps:\n",
    "1. first get the webpage https://www.glassdoor.co.in/Salaries/index.htm\n",
    "2. Enter “Data Scientist” in Job title field and “Noida” in location field.\n",
    "3. Click the search button.\n",
    "4. After that you will land on the below page.\n",
    "You have to scrape whole data from this webpage\n",
    "5. Scrape data for first 10 companies. Scrape the min salary, max salary, company \n",
    "name, Average salary and rating of the company.\n",
    "6.Store the data in a dataframe.\n",
    "Note that all of the above steps have to be done by coding only and not manually"
   ]
  },
  {
   "cell_type": "code",
   "execution_count": 66,
   "metadata": {},
   "outputs": [],
   "source": [
    "#Lets now import all the required libraries\n",
    "import selenium\n",
    "import pandas as pd\n",
    "from selenium import webdriver"
   ]
  },
  {
   "cell_type": "code",
   "execution_count": 67,
   "metadata": {},
   "outputs": [],
   "source": [
    "#Lets first connect to the web driver\n",
    "driver = webdriver.Chrome('chromedriver.exe')"
   ]
  },
  {
   "cell_type": "code",
   "execution_count": 68,
   "metadata": {},
   "outputs": [],
   "source": [
    "url = 'https://www.glassdoor.co.in/Salaries/'\n",
    "driver.get(url)"
   ]
  },
  {
   "cell_type": "code",
   "execution_count": 69,
   "metadata": {},
   "outputs": [
    {
     "data": {
      "text/plain": [
       "<selenium.webdriver.remote.webelement.WebElement (session=\"11d343cd2e632f17da1c555568cc50b6\", element=\"d9fef89b-19f8-4986-832a-81fc95dd35fe\")>"
      ]
     },
     "execution_count": 69,
     "metadata": {},
     "output_type": "execute_result"
    }
   ],
   "source": [
    "#finding elements for job search bar\n",
    "search_job = driver.find_element_by_id('KeywordSearch')\n",
    "search_job"
   ]
  },
  {
   "cell_type": "code",
   "execution_count": 70,
   "metadata": {},
   "outputs": [],
   "source": [
    "\n",
    "#write on search bar\n",
    "search_job.send_keys('Data Scientist')\n"
   ]
  },
  {
   "cell_type": "code",
   "execution_count": 72,
   "metadata": {},
   "outputs": [],
   "source": [
    "# finding elements for job location bar\n",
    "search_loc = driver.find_element_by_id('LocationSearch')\n",
    "search_loc.send_keys('Noida')"
   ]
  },
  {
   "cell_type": "code",
   "execution_count": 73,
   "metadata": {},
   "outputs": [],
   "source": [
    "#do click using xpath function\n",
    "search_btn = driver.find_element_by_xpath(\"//button[@class='gd-btn-mkt']\")\n",
    "search_btn.click()"
   ]
  },
  {
   "cell_type": "markdown",
   "metadata": {},
   "source": [
    "So now lets some create empty lists. In these lists the data will be stored while scraping."
   ]
  },
  {
   "cell_type": "code",
   "execution_count": 79,
   "metadata": {},
   "outputs": [
    {
     "data": {
      "text/plain": [
       "[<selenium.webdriver.remote.webelement.WebElement (session=\"11d343cd2e632f17da1c555568cc50b6\", element=\"d4e3e9a7-1c5c-4a7d-bbcf-2609094d17bb\")>,\n",
       " <selenium.webdriver.remote.webelement.WebElement (session=\"11d343cd2e632f17da1c555568cc50b6\", element=\"ec881cd7-8647-4d72-b67c-9942a3a9c148\")>,\n",
       " <selenium.webdriver.remote.webelement.WebElement (session=\"11d343cd2e632f17da1c555568cc50b6\", element=\"8483d7ea-6848-4c1e-a3e4-691f4dbd0397\")>,\n",
       " <selenium.webdriver.remote.webelement.WebElement (session=\"11d343cd2e632f17da1c555568cc50b6\", element=\"333c7c14-63c3-4091-b90f-bdc375668539\")>,\n",
       " <selenium.webdriver.remote.webelement.WebElement (session=\"11d343cd2e632f17da1c555568cc50b6\", element=\"560a1f56-188e-4115-b34c-ca1db268d675\")>,\n",
       " <selenium.webdriver.remote.webelement.WebElement (session=\"11d343cd2e632f17da1c555568cc50b6\", element=\"fde7d79d-bf1f-49f7-bc7d-d2b5456d70fc\")>,\n",
       " <selenium.webdriver.remote.webelement.WebElement (session=\"11d343cd2e632f17da1c555568cc50b6\", element=\"0a0655c0-e12c-4b36-839e-2228cb3ffc7a\")>,\n",
       " <selenium.webdriver.remote.webelement.WebElement (session=\"11d343cd2e632f17da1c555568cc50b6\", element=\"a4b74e82-abe6-418c-a6be-53b9fee2dd40\")>,\n",
       " <selenium.webdriver.remote.webelement.WebElement (session=\"11d343cd2e632f17da1c555568cc50b6\", element=\"2999b718-0397-4f19-9235-65e30433e4ff\")>,\n",
       " <selenium.webdriver.remote.webelement.WebElement (session=\"11d343cd2e632f17da1c555568cc50b6\", element=\"26381f07-31bf-41fc-ad33-5c575ecf1392\")>,\n",
       " <selenium.webdriver.remote.webelement.WebElement (session=\"11d343cd2e632f17da1c555568cc50b6\", element=\"07b42f55-e958-4293-ad2d-1a5583b88e7a\")>,\n",
       " <selenium.webdriver.remote.webelement.WebElement (session=\"11d343cd2e632f17da1c555568cc50b6\", element=\"ebf084c3-59af-43d2-b257-3505c6a9edc7\")>,\n",
       " <selenium.webdriver.remote.webelement.WebElement (session=\"11d343cd2e632f17da1c555568cc50b6\", element=\"8932277e-23e5-44b1-81b4-a2469c2c2681\")>,\n",
       " <selenium.webdriver.remote.webelement.WebElement (session=\"11d343cd2e632f17da1c555568cc50b6\", element=\"7ab55d4b-cd2e-4743-b67e-9f995052b480\")>,\n",
       " <selenium.webdriver.remote.webelement.WebElement (session=\"11d343cd2e632f17da1c555568cc50b6\", element=\"e3d2a17f-f37b-428b-93e9-da125a2a3dc4\")>,\n",
       " <selenium.webdriver.remote.webelement.WebElement (session=\"11d343cd2e632f17da1c555568cc50b6\", element=\"cc6084f9-cb0d-4fe4-993c-ec95c483d2cc\")>,\n",
       " <selenium.webdriver.remote.webelement.WebElement (session=\"11d343cd2e632f17da1c555568cc50b6\", element=\"3330cc8d-6b14-4493-bfff-9f2ab00785f2\")>,\n",
       " <selenium.webdriver.remote.webelement.WebElement (session=\"11d343cd2e632f17da1c555568cc50b6\", element=\"56e96856-ce26-45dc-8292-cd92a5ad8c20\")>,\n",
       " <selenium.webdriver.remote.webelement.WebElement (session=\"11d343cd2e632f17da1c555568cc50b6\", element=\"dbcf7337-aeef-41e1-85bd-10025f0ae899\")>,\n",
       " <selenium.webdriver.remote.webelement.WebElement (session=\"11d343cd2e632f17da1c555568cc50b6\", element=\"a6997659-1054-4697-93c8-8b39b9f88af1\")>]"
      ]
     },
     "execution_count": 79,
     "metadata": {},
     "output_type": "execute_result"
    }
   ],
   "source": [
    "#So lets extract all the tags having the job titles\n",
    "company_tags = driver.find_elements_by_xpath(\"//div[@class='d-flex']\")\n",
    "company_tags"
   ]
  },
  {
   "cell_type": "code",
   "execution_count": 80,
   "metadata": {},
   "outputs": [
    {
     "data": {
      "text/plain": [
       "['Data Scientist\\nTata Consultancy Services\\n17 salaries\\nSee 130 salaries from all locations',\n",
       " 'Data Scientist\\nAccenture\\n14 salaries\\nSee 61 salaries from all locations',\n",
       " 'Data Scientist\\nIBM\\n14 salaries\\nSee 116 salaries from all locations',\n",
       " 'Data Scientist\\nEricsson-Worldwide\\n14 salaries\\nSee 30 salaries from all locations',\n",
       " 'Data Scientist\\nDelhivery\\n14 salaries\\nSee 18 salaries from all locations',\n",
       " 'Data Scientist\\nUnitedHealth Group\\n11 salaries\\nSee 18 salaries from all locations',\n",
       " 'Data Scientist\\nValiance Solutions\\n9 salaries\\nSee 11 salaries from all locations',\n",
       " 'Data Scientist\\nZS Associates\\n8 salaries\\nSee 21 salaries from all locations',\n",
       " 'Data Scientist\\nEXL Service\\n8 salaries\\nSee 10 salaries from all locations',\n",
       " 'Optum Global Solutions\\nData Scientist\\nOptum Global Solutions\\n8 salaries\\nSee 12 salaries from all locations',\n",
       " 'Data Scientist\\nInnovaccer\\n8 salaries\\nSee 12 salaries from all locations',\n",
       " 'Data Scientist\\nCognizant Technology Solutions\\n6 salaries\\nSee 60 salaries from all locations',\n",
       " 'Data Scientist\\nOptum\\n6 salaries\\nSee 17 salaries from all locations',\n",
       " 'Data Scientist\\nTech Mahindra\\n5 salaries\\nSee 23 salaries from all locations',\n",
       " 'Data Scientist\\nOYO\\n5 salaries\\nSee 11 salaries from all locations',\n",
       " 'Data Scientist\\nNagarro\\n5 salaries\\nSee 5 salaries from all locations',\n",
       " 'Data Scientist\\ndunnhumby\\n5 salaries\\nSee 8 salaries from all locations',\n",
       " 'Data Scientist - Monthly\\nVidooly Media Tech\\n5 salaries\\nSee 12 salaries from all locations',\n",
       " 'Data Scientist\\nAlgo8.ai\\n5 salaries\\nSee 8 salaries from all locations',\n",
       " 'Data Scientist\\nAmazon\\n4 salaries\\nSee 35 salaries from all locations']"
      ]
     },
     "execution_count": 80,
     "metadata": {},
     "output_type": "execute_result"
    }
   ],
   "source": [
    "\n",
    "#Loop to iterate over the tags extracted above and extract the text inside them.\n",
    "company_name=[]\n",
    "for i in company_tags:\n",
    "    company_name.append(i.text)\n",
    "company_name"
   ]
  },
  {
   "cell_type": "code",
   "execution_count": 81,
   "metadata": {},
   "outputs": [
    {
     "data": {
      "text/plain": [
       "[<selenium.webdriver.remote.webelement.WebElement (session=\"11d343cd2e632f17da1c555568cc50b6\", element=\"1eccb1c8-6c2e-4252-8d9c-7a3f4a142668\")>,\n",
       " <selenium.webdriver.remote.webelement.WebElement (session=\"11d343cd2e632f17da1c555568cc50b6\", element=\"3fb1ce7f-5917-479d-a009-bcba1da70ea7\")>,\n",
       " <selenium.webdriver.remote.webelement.WebElement (session=\"11d343cd2e632f17da1c555568cc50b6\", element=\"658dd5c7-4ded-4e87-b6da-a88581ad1473\")>,\n",
       " <selenium.webdriver.remote.webelement.WebElement (session=\"11d343cd2e632f17da1c555568cc50b6\", element=\"c9576c23-bf4a-4880-b956-3966909e6362\")>,\n",
       " <selenium.webdriver.remote.webelement.WebElement (session=\"11d343cd2e632f17da1c555568cc50b6\", element=\"9e51b717-d5bf-4185-aab7-30ae33377440\")>,\n",
       " <selenium.webdriver.remote.webelement.WebElement (session=\"11d343cd2e632f17da1c555568cc50b6\", element=\"3b60093f-d934-41e2-b90e-207ca1a46059\")>,\n",
       " <selenium.webdriver.remote.webelement.WebElement (session=\"11d343cd2e632f17da1c555568cc50b6\", element=\"405904ea-ef4e-4c15-bf0f-e0a0f13bd050\")>,\n",
       " <selenium.webdriver.remote.webelement.WebElement (session=\"11d343cd2e632f17da1c555568cc50b6\", element=\"df047063-a422-44f5-9a6f-4e5cea8f45b7\")>,\n",
       " <selenium.webdriver.remote.webelement.WebElement (session=\"11d343cd2e632f17da1c555568cc50b6\", element=\"7720f039-02d2-436c-a2df-9b620534ab0a\")>,\n",
       " <selenium.webdriver.remote.webelement.WebElement (session=\"11d343cd2e632f17da1c555568cc50b6\", element=\"30a2c9fe-4b97-47a5-9ef5-121a7c8547bc\")>,\n",
       " <selenium.webdriver.remote.webelement.WebElement (session=\"11d343cd2e632f17da1c555568cc50b6\", element=\"8868b23e-f0c4-45f0-945a-4c6e4b419196\")>,\n",
       " <selenium.webdriver.remote.webelement.WebElement (session=\"11d343cd2e632f17da1c555568cc50b6\", element=\"af56fd9b-c186-48a0-b320-18d38b6793ef\")>,\n",
       " <selenium.webdriver.remote.webelement.WebElement (session=\"11d343cd2e632f17da1c555568cc50b6\", element=\"e37dd5b0-b99a-4499-9ccc-717c9e6832cb\")>,\n",
       " <selenium.webdriver.remote.webelement.WebElement (session=\"11d343cd2e632f17da1c555568cc50b6\", element=\"bb8ab08e-f6f3-421b-8d9b-b1d934c5b668\")>,\n",
       " <selenium.webdriver.remote.webelement.WebElement (session=\"11d343cd2e632f17da1c555568cc50b6\", element=\"0e0b287f-fce4-4cb4-a0fd-dd0c4daa4817\")>,\n",
       " <selenium.webdriver.remote.webelement.WebElement (session=\"11d343cd2e632f17da1c555568cc50b6\", element=\"9ba8adba-5534-4bb5-99d6-ca82ddff24b5\")>,\n",
       " <selenium.webdriver.remote.webelement.WebElement (session=\"11d343cd2e632f17da1c555568cc50b6\", element=\"2e697680-f41d-49d4-a303-b167ad1094cb\")>,\n",
       " <selenium.webdriver.remote.webelement.WebElement (session=\"11d343cd2e632f17da1c555568cc50b6\", element=\"0e21854a-2a18-4b13-b94f-68648bf38fed\")>,\n",
       " <selenium.webdriver.remote.webelement.WebElement (session=\"11d343cd2e632f17da1c555568cc50b6\", element=\"d3f4f615-6bb7-4da0-85c3-ce75093a51b2\")>,\n",
       " <selenium.webdriver.remote.webelement.WebElement (session=\"11d343cd2e632f17da1c555568cc50b6\", element=\"4dd3ae27-d07f-4a34-b9ba-0b7fc56e8938\")>]"
      ]
     },
     "execution_count": 81,
     "metadata": {},
     "output_type": "execute_result"
    }
   ],
   "source": [
    "#So lets extract all the tags having the job titles\n",
    "avgsal_tags = driver.find_elements_by_xpath(\"//div[@class='col-2 d-none d-md-flex flex-row justify-content-end']//strong\")\n",
    "avgsal_tags"
   ]
  },
  {
   "cell_type": "code",
   "execution_count": 82,
   "metadata": {},
   "outputs": [
    {
     "data": {
      "text/plain": [
       "['₹ 6,14,306',\n",
       " '₹ 11,46,533',\n",
       " '₹ 8,97,795',\n",
       " '₹ 7,38,057',\n",
       " '₹ 12,39,781',\n",
       " '₹ 13,36,142',\n",
       " '₹ 8,15,192',\n",
       " '₹ 11,35,221',\n",
       " '₹ 11,44,243',\n",
       " '₹ 14,13,288',\n",
       " '₹ 12,07,110',\n",
       " '₹ 10,07,410',\n",
       " '₹ 13,18,851',\n",
       " '₹ 10,52,718',\n",
       " '₹ 14,13,078',\n",
       " '₹ 9,61,653',\n",
       " '₹ 11,00,000',\n",
       " '₹ 15,887',\n",
       " '₹ 6,75,000',\n",
       " '₹ 15,00,000']"
      ]
     },
     "execution_count": 82,
     "metadata": {},
     "output_type": "execute_result"
    }
   ],
   "source": [
    "\n",
    "#Loop to iterate over the tags extracted above and extract the text inside them.\n",
    "avg_salary=[]\n",
    "for i in avgsal_tags:\n",
    "    avg_salary.append(i.text)\n",
    "avg_salary"
   ]
  },
  {
   "cell_type": "code",
   "execution_count": 83,
   "metadata": {
    "scrolled": true
   },
   "outputs": [
    {
     "data": {
      "text/plain": [
       "[<selenium.webdriver.remote.webelement.WebElement (session=\"11d343cd2e632f17da1c555568cc50b6\", element=\"34f9f19f-a6ff-4dbc-a27d-7d7f94a26134\")>,\n",
       " <selenium.webdriver.remote.webelement.WebElement (session=\"11d343cd2e632f17da1c555568cc50b6\", element=\"74cef0b8-f5d7-4ea5-897e-754d7f5d56e8\")>,\n",
       " <selenium.webdriver.remote.webelement.WebElement (session=\"11d343cd2e632f17da1c555568cc50b6\", element=\"450dd6b9-b528-41b7-a961-22892c40a495\")>,\n",
       " <selenium.webdriver.remote.webelement.WebElement (session=\"11d343cd2e632f17da1c555568cc50b6\", element=\"199d6dbe-ae6a-4702-9949-5f7a250c7105\")>,\n",
       " <selenium.webdriver.remote.webelement.WebElement (session=\"11d343cd2e632f17da1c555568cc50b6\", element=\"1c2c6812-ef25-4f5d-a000-d4497c517d5a\")>,\n",
       " <selenium.webdriver.remote.webelement.WebElement (session=\"11d343cd2e632f17da1c555568cc50b6\", element=\"89ed82c9-8fae-491f-97d0-4a6a97c35070\")>,\n",
       " <selenium.webdriver.remote.webelement.WebElement (session=\"11d343cd2e632f17da1c555568cc50b6\", element=\"e2605490-a558-4b2a-945b-4f2afb77d34d\")>,\n",
       " <selenium.webdriver.remote.webelement.WebElement (session=\"11d343cd2e632f17da1c555568cc50b6\", element=\"58a92459-ad96-45d9-8c88-87dc104e7442\")>,\n",
       " <selenium.webdriver.remote.webelement.WebElement (session=\"11d343cd2e632f17da1c555568cc50b6\", element=\"5376d5e0-161a-45c6-a22c-dcac62df4811\")>,\n",
       " <selenium.webdriver.remote.webelement.WebElement (session=\"11d343cd2e632f17da1c555568cc50b6\", element=\"badf40fa-776d-44ce-95db-10ace7d42157\")>,\n",
       " <selenium.webdriver.remote.webelement.WebElement (session=\"11d343cd2e632f17da1c555568cc50b6\", element=\"05df1b90-fda8-4f17-9204-101c439dfe9d\")>,\n",
       " <selenium.webdriver.remote.webelement.WebElement (session=\"11d343cd2e632f17da1c555568cc50b6\", element=\"e234a8f9-fb06-4bb0-b548-6812843163ad\")>,\n",
       " <selenium.webdriver.remote.webelement.WebElement (session=\"11d343cd2e632f17da1c555568cc50b6\", element=\"8007f6d4-b1d1-4e06-a99d-c6fe55f168fe\")>,\n",
       " <selenium.webdriver.remote.webelement.WebElement (session=\"11d343cd2e632f17da1c555568cc50b6\", element=\"478a8edd-5e48-4250-9339-39659ff13f7a\")>,\n",
       " <selenium.webdriver.remote.webelement.WebElement (session=\"11d343cd2e632f17da1c555568cc50b6\", element=\"99a081d6-f7ba-49e8-9491-61a7d0687a4f\")>,\n",
       " <selenium.webdriver.remote.webelement.WebElement (session=\"11d343cd2e632f17da1c555568cc50b6\", element=\"d27a0007-22d0-4740-9af8-970f568a0830\")>,\n",
       " <selenium.webdriver.remote.webelement.WebElement (session=\"11d343cd2e632f17da1c555568cc50b6\", element=\"0d14e302-5b96-42bb-a1e0-790992d8a9fd\")>,\n",
       " <selenium.webdriver.remote.webelement.WebElement (session=\"11d343cd2e632f17da1c555568cc50b6\", element=\"3c207ce4-04ab-47cf-8ab0-9e3768891d0e\")>,\n",
       " <selenium.webdriver.remote.webelement.WebElement (session=\"11d343cd2e632f17da1c555568cc50b6\", element=\"5bbc6725-af19-468b-8c38-d85105698096\")>,\n",
       " <selenium.webdriver.remote.webelement.WebElement (session=\"11d343cd2e632f17da1c555568cc50b6\", element=\"0ade593f-6c3f-4530-94f3-8b897009e019\")>,\n",
       " <selenium.webdriver.remote.webelement.WebElement (session=\"11d343cd2e632f17da1c555568cc50b6\", element=\"1fe37bce-6c99-4fe0-b26a-701f244b0890\")>,\n",
       " <selenium.webdriver.remote.webelement.WebElement (session=\"11d343cd2e632f17da1c555568cc50b6\", element=\"9c814b67-bd96-40df-8882-8d24a9f84d3f\")>,\n",
       " <selenium.webdriver.remote.webelement.WebElement (session=\"11d343cd2e632f17da1c555568cc50b6\", element=\"d8aa2a11-c2e9-42f1-a05a-79e370ae8d7a\")>,\n",
       " <selenium.webdriver.remote.webelement.WebElement (session=\"11d343cd2e632f17da1c555568cc50b6\", element=\"b9388a6f-e2b4-4c49-97aa-e056273d7c45\")>,\n",
       " <selenium.webdriver.remote.webelement.WebElement (session=\"11d343cd2e632f17da1c555568cc50b6\", element=\"b1539b7c-fc6b-4d63-9544-11959c395853\")>,\n",
       " <selenium.webdriver.remote.webelement.WebElement (session=\"11d343cd2e632f17da1c555568cc50b6\", element=\"96622e32-1eb7-4e94-9ea8-62ac8951b307\")>,\n",
       " <selenium.webdriver.remote.webelement.WebElement (session=\"11d343cd2e632f17da1c555568cc50b6\", element=\"4f6b83c3-b7b9-4d97-80e9-e508cba8f465\")>,\n",
       " <selenium.webdriver.remote.webelement.WebElement (session=\"11d343cd2e632f17da1c555568cc50b6\", element=\"750391db-6701-408b-bec4-9095d9bd8d29\")>,\n",
       " <selenium.webdriver.remote.webelement.WebElement (session=\"11d343cd2e632f17da1c555568cc50b6\", element=\"4f428f2c-1dab-46c1-b128-8806f5c6c53b\")>,\n",
       " <selenium.webdriver.remote.webelement.WebElement (session=\"11d343cd2e632f17da1c555568cc50b6\", element=\"537af7f1-6e2b-4da8-beef-42436626b03a\")>,\n",
       " <selenium.webdriver.remote.webelement.WebElement (session=\"11d343cd2e632f17da1c555568cc50b6\", element=\"65b7af96-591c-4c3e-ab59-69fc67f95d5e\")>,\n",
       " <selenium.webdriver.remote.webelement.WebElement (session=\"11d343cd2e632f17da1c555568cc50b6\", element=\"fe7be4fb-cef2-45b7-a9ec-ac303765498a\")>,\n",
       " <selenium.webdriver.remote.webelement.WebElement (session=\"11d343cd2e632f17da1c555568cc50b6\", element=\"e87849db-336b-4af6-ab90-764508e85089\")>,\n",
       " <selenium.webdriver.remote.webelement.WebElement (session=\"11d343cd2e632f17da1c555568cc50b6\", element=\"85fba881-f54c-4073-b692-aa5c97c189c4\")>,\n",
       " <selenium.webdriver.remote.webelement.WebElement (session=\"11d343cd2e632f17da1c555568cc50b6\", element=\"6359af1b-deee-46a3-b54e-532fa3b24b87\")>,\n",
       " <selenium.webdriver.remote.webelement.WebElement (session=\"11d343cd2e632f17da1c555568cc50b6\", element=\"69628340-baff-4bcb-ae0e-e754110c1a5a\")>,\n",
       " <selenium.webdriver.remote.webelement.WebElement (session=\"11d343cd2e632f17da1c555568cc50b6\", element=\"eed46d49-b510-4f81-9f6f-0e701a747192\")>,\n",
       " <selenium.webdriver.remote.webelement.WebElement (session=\"11d343cd2e632f17da1c555568cc50b6\", element=\"a3357279-a841-4846-ba7c-246a9d90022c\")>,\n",
       " <selenium.webdriver.remote.webelement.WebElement (session=\"11d343cd2e632f17da1c555568cc50b6\", element=\"67b8398f-10d8-4190-9dcd-7d7f72387c6d\")>,\n",
       " <selenium.webdriver.remote.webelement.WebElement (session=\"11d343cd2e632f17da1c555568cc50b6\", element=\"f200fb70-3db9-403b-a73f-833062f192a3\")>]"
      ]
     },
     "execution_count": 83,
     "metadata": {},
     "output_type": "execute_result"
    }
   ],
   "source": [
    "#So lets extract all the tags having the job titles\n",
    "minmax_tags = driver.find_elements_by_xpath(\"//div[@class='common__RangeBarStyle__values d-flex justify-content-between ']//span\")\n",
    "minmax_tags"
   ]
  },
  {
   "cell_type": "code",
   "execution_count": 92,
   "metadata": {},
   "outputs": [
    {
     "data": {
      "text/plain": [
       "['₹343K',\n",
       " '₹1,250K',\n",
       " '₹577K',\n",
       " '₹2,213K',\n",
       " '₹586K',\n",
       " '₹2,730K',\n",
       " '₹355K',\n",
       " '₹1,613K',\n",
       " '₹450K',\n",
       " '₹11,622K',\n",
       " '₹1,069K',\n",
       " '₹1,520K',\n",
       " '₹502K',\n",
       " '₹1,465K',\n",
       " '₹202K',\n",
       " '₹1,809K',\n",
       " '₹575K',\n",
       " '₹1,520K',\n",
       " '₹1,014K',\n",
       " '₹2,149K',\n",
       " '₹620K',\n",
       " '₹1,695K',\n",
       " '₹792K',\n",
       " '₹1,263K',\n",
       " '₹807K',\n",
       " '₹1,986K',\n",
       " '₹405K',\n",
       " '₹1,703K',\n",
       " '₹971K',\n",
       " '₹1,883K',\n",
       " '₹400K',\n",
       " '₹1,124K',\n",
       " '₹817K',\n",
       " '₹2,006K',\n",
       " '₹12K',\n",
       " '₹63K',\n",
       " '₹86K',\n",
       " '₹1,358K',\n",
       " '₹772K',\n",
       " '₹2,091K']"
      ]
     },
     "execution_count": 92,
     "metadata": {},
     "output_type": "execute_result"
    }
   ],
   "source": [
    "#Loop to iterate over the tags extracted above and extract the text inside them.\n",
    "minmax_sal=[]\n",
    "for i in minmax_tags:\n",
    "    minmax_sal.append(i.text)\n",
    "minmax_sal"
   ]
  },
  {
   "cell_type": "code",
   "execution_count": 93,
   "metadata": {},
   "outputs": [
    {
     "data": {
      "text/plain": [
       "['₹343K',\n",
       " '₹577K',\n",
       " '₹586K',\n",
       " '₹355K',\n",
       " '₹450K',\n",
       " '₹1,069K',\n",
       " '₹502K',\n",
       " '₹202K',\n",
       " '₹575K',\n",
       " '₹1,014K',\n",
       " '₹620K',\n",
       " '₹792K',\n",
       " '₹807K',\n",
       " '₹405K',\n",
       " '₹971K',\n",
       " '₹400K',\n",
       " '₹817K',\n",
       " '₹12K',\n",
       " '₹86K',\n",
       " '₹772K']"
      ]
     },
     "execution_count": 93,
     "metadata": {},
     "output_type": "execute_result"
    }
   ],
   "source": [
    "#using slicing\n",
    "minsalary = slice(0,40,2)\n",
    "min_salary = minmax_sal[minsalary] \n",
    "min_salary\n"
   ]
  },
  {
   "cell_type": "code",
   "execution_count": 94,
   "metadata": {},
   "outputs": [
    {
     "data": {
      "text/plain": [
       "['₹343K',\n",
       " '₹1,250K',\n",
       " '₹577K',\n",
       " '₹2,213K',\n",
       " '₹586K',\n",
       " '₹2,730K',\n",
       " '₹355K',\n",
       " '₹1,613K',\n",
       " '₹450K',\n",
       " '₹11,622K',\n",
       " '₹1,069K',\n",
       " '₹1,520K',\n",
       " '₹502K',\n",
       " '₹1,465K',\n",
       " '₹202K',\n",
       " '₹1,809K',\n",
       " '₹575K',\n",
       " '₹1,520K',\n",
       " '₹1,014K',\n",
       " '₹2,149K',\n",
       " '₹620K',\n",
       " '₹1,695K',\n",
       " '₹792K',\n",
       " '₹1,263K',\n",
       " '₹807K',\n",
       " '₹1,986K',\n",
       " '₹405K',\n",
       " '₹1,703K',\n",
       " '₹971K',\n",
       " '₹1,883K',\n",
       " '₹400K',\n",
       " '₹1,124K',\n",
       " '₹817K',\n",
       " '₹2,006K',\n",
       " '₹12K',\n",
       " '₹63K',\n",
       " '₹86K',\n",
       " '₹1,358K',\n",
       " '₹772K',\n",
       " '₹2,091K']"
      ]
     },
     "execution_count": 94,
     "metadata": {},
     "output_type": "execute_result"
    }
   ],
   "source": [
    "minmax_sal"
   ]
  },
  {
   "cell_type": "code",
   "execution_count": 97,
   "metadata": {},
   "outputs": [
    {
     "data": {
      "text/plain": [
       "['₹1,250K',\n",
       " '₹2,213K',\n",
       " '₹2,730K',\n",
       " '₹1,613K',\n",
       " '₹11,622K',\n",
       " '₹1,520K',\n",
       " '₹1,465K',\n",
       " '₹1,809K',\n",
       " '₹1,520K',\n",
       " '₹2,149K',\n",
       " '₹1,695K',\n",
       " '₹1,263K',\n",
       " '₹1,986K',\n",
       " '₹1,703K',\n",
       " '₹1,883K',\n",
       " '₹1,124K',\n",
       " '₹2,006K',\n",
       " '₹63K',\n",
       " '₹1,358K',\n",
       " '₹2,091K']"
      ]
     },
     "execution_count": 97,
     "metadata": {},
     "output_type": "execute_result"
    }
   ],
   "source": [
    "#using slicing\n",
    "maxsalary = slice(1,40,2)\n",
    "max_salary = minmax_sal[maxsalary] \n",
    "max_salary\n"
   ]
  },
  {
   "cell_type": "code",
   "execution_count": 98,
   "metadata": {},
   "outputs": [
    {
     "name": "stdout",
     "output_type": "stream",
     "text": [
      "20 20 20 20\n"
     ]
    }
   ],
   "source": [
    "print(len(company_name),len(avg_salary),len(min_salary),len(max_salary))"
   ]
  },
  {
   "cell_type": "code",
   "execution_count": 100,
   "metadata": {},
   "outputs": [
    {
     "data": {
      "text/html": [
       "<div>\n",
       "<style scoped>\n",
       "    .dataframe tbody tr th:only-of-type {\n",
       "        vertical-align: middle;\n",
       "    }\n",
       "\n",
       "    .dataframe tbody tr th {\n",
       "        vertical-align: top;\n",
       "    }\n",
       "\n",
       "    .dataframe thead th {\n",
       "        text-align: right;\n",
       "    }\n",
       "</style>\n",
       "<table border=\"1\" class=\"dataframe\">\n",
       "  <thead>\n",
       "    <tr style=\"text-align: right;\">\n",
       "      <th></th>\n",
       "      <th>Company</th>\n",
       "      <th>Avg Salary</th>\n",
       "      <th>Max salary</th>\n",
       "      <th>Min Salary</th>\n",
       "    </tr>\n",
       "  </thead>\n",
       "  <tbody>\n",
       "    <tr>\n",
       "      <th>0</th>\n",
       "      <td>Data Scientist\\nTata Consultancy Services\\n17 ...</td>\n",
       "      <td>₹ 6,14,306</td>\n",
       "      <td>₹1,250K</td>\n",
       "      <td>₹343K</td>\n",
       "    </tr>\n",
       "    <tr>\n",
       "      <th>1</th>\n",
       "      <td>Data Scientist\\nAccenture\\n14 salaries\\nSee 61...</td>\n",
       "      <td>₹ 11,46,533</td>\n",
       "      <td>₹2,213K</td>\n",
       "      <td>₹577K</td>\n",
       "    </tr>\n",
       "    <tr>\n",
       "      <th>2</th>\n",
       "      <td>Data Scientist\\nIBM\\n14 salaries\\nSee 116 sala...</td>\n",
       "      <td>₹ 8,97,795</td>\n",
       "      <td>₹2,730K</td>\n",
       "      <td>₹586K</td>\n",
       "    </tr>\n",
       "    <tr>\n",
       "      <th>3</th>\n",
       "      <td>Data Scientist\\nEricsson-Worldwide\\n14 salarie...</td>\n",
       "      <td>₹ 7,38,057</td>\n",
       "      <td>₹1,613K</td>\n",
       "      <td>₹355K</td>\n",
       "    </tr>\n",
       "    <tr>\n",
       "      <th>4</th>\n",
       "      <td>Data Scientist\\nDelhivery\\n14 salaries\\nSee 18...</td>\n",
       "      <td>₹ 12,39,781</td>\n",
       "      <td>₹11,622K</td>\n",
       "      <td>₹450K</td>\n",
       "    </tr>\n",
       "    <tr>\n",
       "      <th>5</th>\n",
       "      <td>Data Scientist\\nUnitedHealth Group\\n11 salarie...</td>\n",
       "      <td>₹ 13,36,142</td>\n",
       "      <td>₹1,520K</td>\n",
       "      <td>₹1,069K</td>\n",
       "    </tr>\n",
       "    <tr>\n",
       "      <th>6</th>\n",
       "      <td>Data Scientist\\nValiance Solutions\\n9 salaries...</td>\n",
       "      <td>₹ 8,15,192</td>\n",
       "      <td>₹1,465K</td>\n",
       "      <td>₹502K</td>\n",
       "    </tr>\n",
       "    <tr>\n",
       "      <th>7</th>\n",
       "      <td>Data Scientist\\nZS Associates\\n8 salaries\\nSee...</td>\n",
       "      <td>₹ 11,35,221</td>\n",
       "      <td>₹1,809K</td>\n",
       "      <td>₹202K</td>\n",
       "    </tr>\n",
       "    <tr>\n",
       "      <th>8</th>\n",
       "      <td>Data Scientist\\nEXL Service\\n8 salaries\\nSee 1...</td>\n",
       "      <td>₹ 11,44,243</td>\n",
       "      <td>₹1,520K</td>\n",
       "      <td>₹575K</td>\n",
       "    </tr>\n",
       "    <tr>\n",
       "      <th>9</th>\n",
       "      <td>Optum Global Solutions\\nData Scientist\\nOptum ...</td>\n",
       "      <td>₹ 14,13,288</td>\n",
       "      <td>₹2,149K</td>\n",
       "      <td>₹1,014K</td>\n",
       "    </tr>\n",
       "    <tr>\n",
       "      <th>10</th>\n",
       "      <td>Data Scientist\\nInnovaccer\\n8 salaries\\nSee 12...</td>\n",
       "      <td>₹ 12,07,110</td>\n",
       "      <td>₹1,695K</td>\n",
       "      <td>₹620K</td>\n",
       "    </tr>\n",
       "    <tr>\n",
       "      <th>11</th>\n",
       "      <td>Data Scientist\\nCognizant Technology Solutions...</td>\n",
       "      <td>₹ 10,07,410</td>\n",
       "      <td>₹1,263K</td>\n",
       "      <td>₹792K</td>\n",
       "    </tr>\n",
       "    <tr>\n",
       "      <th>12</th>\n",
       "      <td>Data Scientist\\nOptum\\n6 salaries\\nSee 17 sala...</td>\n",
       "      <td>₹ 13,18,851</td>\n",
       "      <td>₹1,986K</td>\n",
       "      <td>₹807K</td>\n",
       "    </tr>\n",
       "    <tr>\n",
       "      <th>13</th>\n",
       "      <td>Data Scientist\\nTech Mahindra\\n5 salaries\\nSee...</td>\n",
       "      <td>₹ 10,52,718</td>\n",
       "      <td>₹1,703K</td>\n",
       "      <td>₹405K</td>\n",
       "    </tr>\n",
       "    <tr>\n",
       "      <th>14</th>\n",
       "      <td>Data Scientist\\nOYO\\n5 salaries\\nSee 11 salari...</td>\n",
       "      <td>₹ 14,13,078</td>\n",
       "      <td>₹1,883K</td>\n",
       "      <td>₹971K</td>\n",
       "    </tr>\n",
       "    <tr>\n",
       "      <th>15</th>\n",
       "      <td>Data Scientist\\nNagarro\\n5 salaries\\nSee 5 sal...</td>\n",
       "      <td>₹ 9,61,653</td>\n",
       "      <td>₹1,124K</td>\n",
       "      <td>₹400K</td>\n",
       "    </tr>\n",
       "    <tr>\n",
       "      <th>16</th>\n",
       "      <td>Data Scientist\\ndunnhumby\\n5 salaries\\nSee 8 s...</td>\n",
       "      <td>₹ 11,00,000</td>\n",
       "      <td>₹2,006K</td>\n",
       "      <td>₹817K</td>\n",
       "    </tr>\n",
       "    <tr>\n",
       "      <th>17</th>\n",
       "      <td>Data Scientist - Monthly\\nVidooly Media Tech\\n...</td>\n",
       "      <td>₹ 15,887</td>\n",
       "      <td>₹63K</td>\n",
       "      <td>₹12K</td>\n",
       "    </tr>\n",
       "    <tr>\n",
       "      <th>18</th>\n",
       "      <td>Data Scientist\\nAlgo8.ai\\n5 salaries\\nSee 8 sa...</td>\n",
       "      <td>₹ 6,75,000</td>\n",
       "      <td>₹1,358K</td>\n",
       "      <td>₹86K</td>\n",
       "    </tr>\n",
       "    <tr>\n",
       "      <th>19</th>\n",
       "      <td>Data Scientist\\nAmazon\\n4 salaries\\nSee 35 sal...</td>\n",
       "      <td>₹ 15,00,000</td>\n",
       "      <td>₹2,091K</td>\n",
       "      <td>₹772K</td>\n",
       "    </tr>\n",
       "  </tbody>\n",
       "</table>\n",
       "</div>"
      ],
      "text/plain": [
       "                                              Company   Avg Salary Max salary  \\\n",
       "0   Data Scientist\\nTata Consultancy Services\\n17 ...   ₹ 6,14,306    ₹1,250K   \n",
       "1   Data Scientist\\nAccenture\\n14 salaries\\nSee 61...  ₹ 11,46,533    ₹2,213K   \n",
       "2   Data Scientist\\nIBM\\n14 salaries\\nSee 116 sala...   ₹ 8,97,795    ₹2,730K   \n",
       "3   Data Scientist\\nEricsson-Worldwide\\n14 salarie...   ₹ 7,38,057    ₹1,613K   \n",
       "4   Data Scientist\\nDelhivery\\n14 salaries\\nSee 18...  ₹ 12,39,781   ₹11,622K   \n",
       "5   Data Scientist\\nUnitedHealth Group\\n11 salarie...  ₹ 13,36,142    ₹1,520K   \n",
       "6   Data Scientist\\nValiance Solutions\\n9 salaries...   ₹ 8,15,192    ₹1,465K   \n",
       "7   Data Scientist\\nZS Associates\\n8 salaries\\nSee...  ₹ 11,35,221    ₹1,809K   \n",
       "8   Data Scientist\\nEXL Service\\n8 salaries\\nSee 1...  ₹ 11,44,243    ₹1,520K   \n",
       "9   Optum Global Solutions\\nData Scientist\\nOptum ...  ₹ 14,13,288    ₹2,149K   \n",
       "10  Data Scientist\\nInnovaccer\\n8 salaries\\nSee 12...  ₹ 12,07,110    ₹1,695K   \n",
       "11  Data Scientist\\nCognizant Technology Solutions...  ₹ 10,07,410    ₹1,263K   \n",
       "12  Data Scientist\\nOptum\\n6 salaries\\nSee 17 sala...  ₹ 13,18,851    ₹1,986K   \n",
       "13  Data Scientist\\nTech Mahindra\\n5 salaries\\nSee...  ₹ 10,52,718    ₹1,703K   \n",
       "14  Data Scientist\\nOYO\\n5 salaries\\nSee 11 salari...  ₹ 14,13,078    ₹1,883K   \n",
       "15  Data Scientist\\nNagarro\\n5 salaries\\nSee 5 sal...   ₹ 9,61,653    ₹1,124K   \n",
       "16  Data Scientist\\ndunnhumby\\n5 salaries\\nSee 8 s...  ₹ 11,00,000    ₹2,006K   \n",
       "17  Data Scientist - Monthly\\nVidooly Media Tech\\n...     ₹ 15,887       ₹63K   \n",
       "18  Data Scientist\\nAlgo8.ai\\n5 salaries\\nSee 8 sa...   ₹ 6,75,000    ₹1,358K   \n",
       "19  Data Scientist\\nAmazon\\n4 salaries\\nSee 35 sal...  ₹ 15,00,000    ₹2,091K   \n",
       "\n",
       "   Min Salary  \n",
       "0       ₹343K  \n",
       "1       ₹577K  \n",
       "2       ₹586K  \n",
       "3       ₹355K  \n",
       "4       ₹450K  \n",
       "5     ₹1,069K  \n",
       "6       ₹502K  \n",
       "7       ₹202K  \n",
       "8       ₹575K  \n",
       "9     ₹1,014K  \n",
       "10      ₹620K  \n",
       "11      ₹792K  \n",
       "12      ₹807K  \n",
       "13      ₹405K  \n",
       "14      ₹971K  \n",
       "15      ₹400K  \n",
       "16      ₹817K  \n",
       "17       ₹12K  \n",
       "18       ₹86K  \n",
       "19      ₹772K  "
      ]
     },
     "execution_count": 100,
     "metadata": {},
     "output_type": "execute_result"
    }
   ],
   "source": [
    "jobs=pd.DataFrame({})\n",
    "jobs['Company'] =company_name\n",
    "jobs['Avg Salary'] = avg_salary\n",
    "jobs['Max salary'] = max_salary\n",
    "jobs['Min Salary'] = min_salary\n",
    "\n",
    "jobs"
   ]
  },
  {
   "cell_type": "code",
   "execution_count": null,
   "metadata": {},
   "outputs": [],
   "source": []
  },
  {
   "cell_type": "code",
   "execution_count": null,
   "metadata": {},
   "outputs": [],
   "source": []
  },
  {
   "cell_type": "markdown",
   "metadata": {},
   "source": [
    "Q6 : Scrape data of first 100 sunglasses listings on flipkart.com. You have to \n",
    "scrape four attributes:\n",
    "1. Brand\n",
    "2. Product Description\n",
    "3. Price\n",
    "4. Discount %\n",
    "The attributes which you have to scrape is ticked marked in the below image.\n",
    "To scrape the data you have to go through following steps:\n",
    "1. Go to flipkart webpage by url https://www.flipkart.com/\n",
    "2. Enter “sunglasses” in the search field where “search for products, brands and \n",
    "more” is written and click the search icon\n",
    "3. after that you will reach to a webpage having a lot of sunglasses. From this page \n",
    "you can scrap the required data as usual.\n",
    "4. after scraping data from the first page, go to the “Next” Button at the bottom of \n",
    "the page , then click on it.\n",
    "5. Now scrape data from this page as usual\n",
    "6. repeat this until you get data for 100 sunglasses.\n",
    "Note that all of the above steps have to be done by coding only and not manually."
   ]
  },
  {
   "cell_type": "code",
   "execution_count": 87,
   "metadata": {},
   "outputs": [],
   "source": [
    "#Lets now import all the required libraries\n",
    "import selenium\n",
    "import pandas as pd\n",
    "from selenium import webdriver"
   ]
  },
  {
   "cell_type": "code",
   "execution_count": 88,
   "metadata": {},
   "outputs": [],
   "source": [
    "#Lets first connect to the web driver\n",
    "driver = webdriver.Chrome('chromedriver.exe')"
   ]
  },
  {
   "cell_type": "code",
   "execution_count": 89,
   "metadata": {},
   "outputs": [],
   "source": [
    "url = 'https://www.flipkart.com/'\n",
    "driver.get(url)\n"
   ]
  },
  {
   "cell_type": "code",
   "execution_count": 90,
   "metadata": {},
   "outputs": [
    {
     "data": {
      "text/plain": [
       "<selenium.webdriver.remote.webelement.WebElement (session=\"fa9b16f0ef8ba96f54b36e9bf2e65201\", element=\"cc3afedb-21ea-4007-a52c-a99e8287a49f\")>"
      ]
     },
     "execution_count": 90,
     "metadata": {},
     "output_type": "execute_result"
    }
   ],
   "source": [
    "#finding elements for job search bar\n",
    "search_bar = driver.find_element_by_xpath(\"//div[@class='_3OO5Xc']//input\")\n",
    "search_bar"
   ]
  },
  {
   "cell_type": "code",
   "execution_count": 91,
   "metadata": {},
   "outputs": [],
   "source": [
    "#write on search bar\n",
    "search_bar.send_keys('Sunglasses')"
   ]
  },
  {
   "cell_type": "code",
   "execution_count": 92,
   "metadata": {},
   "outputs": [],
   "source": [
    "#do click using xpath function\n",
    "search_btn = driver.find_element_by_xpath(\"//button[@class='L0Z3Pu']\")\n",
    "search_btn.click()"
   ]
  },
  {
   "cell_type": "markdown",
   "metadata": {},
   "source": [
    "So now lets 4 create empty lists. In these lists the data will be stored while scraping."
   ]
  },
  {
   "cell_type": "code",
   "execution_count": 93,
   "metadata": {},
   "outputs": [
    {
     "data": {
      "text/plain": [
       "[<selenium.webdriver.remote.webelement.WebElement (session=\"fa9b16f0ef8ba96f54b36e9bf2e65201\", element=\"d18dc9a5-ee4c-428c-8c3e-c567dde42f5c\")>,\n",
       " <selenium.webdriver.remote.webelement.WebElement (session=\"fa9b16f0ef8ba96f54b36e9bf2e65201\", element=\"7c0f5aec-3c2a-4d6e-bae7-2338ac96d225\")>,\n",
       " <selenium.webdriver.remote.webelement.WebElement (session=\"fa9b16f0ef8ba96f54b36e9bf2e65201\", element=\"fd2e21a9-1f59-4a53-9263-81c8a1490e0a\")>,\n",
       " <selenium.webdriver.remote.webelement.WebElement (session=\"fa9b16f0ef8ba96f54b36e9bf2e65201\", element=\"949d0128-c2b7-47c7-b3e9-1dfa3aab818c\")>,\n",
       " <selenium.webdriver.remote.webelement.WebElement (session=\"fa9b16f0ef8ba96f54b36e9bf2e65201\", element=\"e616824c-4ca5-4dff-bc33-d95f745f956c\")>,\n",
       " <selenium.webdriver.remote.webelement.WebElement (session=\"fa9b16f0ef8ba96f54b36e9bf2e65201\", element=\"a9bdfd6a-3d6b-426f-9b30-2038d825db8d\")>,\n",
       " <selenium.webdriver.remote.webelement.WebElement (session=\"fa9b16f0ef8ba96f54b36e9bf2e65201\", element=\"1367be4d-c37a-4784-a0cb-197c217e2dc7\")>,\n",
       " <selenium.webdriver.remote.webelement.WebElement (session=\"fa9b16f0ef8ba96f54b36e9bf2e65201\", element=\"3381c962-7046-4b8d-818f-95e947ee8888\")>,\n",
       " <selenium.webdriver.remote.webelement.WebElement (session=\"fa9b16f0ef8ba96f54b36e9bf2e65201\", element=\"a66d5891-4c7e-4c02-9a68-78840b72ef92\")>,\n",
       " <selenium.webdriver.remote.webelement.WebElement (session=\"fa9b16f0ef8ba96f54b36e9bf2e65201\", element=\"6793b458-3784-46df-a73f-8c7fba5d8706\")>,\n",
       " <selenium.webdriver.remote.webelement.WebElement (session=\"fa9b16f0ef8ba96f54b36e9bf2e65201\", element=\"f2090374-26a8-4933-b256-bae457e45594\")>,\n",
       " <selenium.webdriver.remote.webelement.WebElement (session=\"fa9b16f0ef8ba96f54b36e9bf2e65201\", element=\"441b02c5-70ae-47cf-bf0d-614049ac6771\")>,\n",
       " <selenium.webdriver.remote.webelement.WebElement (session=\"fa9b16f0ef8ba96f54b36e9bf2e65201\", element=\"929c04a9-36e2-4c7c-b9dd-7a06e78f5091\")>,\n",
       " <selenium.webdriver.remote.webelement.WebElement (session=\"fa9b16f0ef8ba96f54b36e9bf2e65201\", element=\"07d0f7df-10e6-40ab-800b-911f6605f654\")>,\n",
       " <selenium.webdriver.remote.webelement.WebElement (session=\"fa9b16f0ef8ba96f54b36e9bf2e65201\", element=\"47e8c187-c427-4f19-a81a-b8498216bd63\")>,\n",
       " <selenium.webdriver.remote.webelement.WebElement (session=\"fa9b16f0ef8ba96f54b36e9bf2e65201\", element=\"32dcef31-77d8-47da-baff-9373b44c290b\")>,\n",
       " <selenium.webdriver.remote.webelement.WebElement (session=\"fa9b16f0ef8ba96f54b36e9bf2e65201\", element=\"20541abd-7115-4704-b3c9-46f20283e964\")>,\n",
       " <selenium.webdriver.remote.webelement.WebElement (session=\"fa9b16f0ef8ba96f54b36e9bf2e65201\", element=\"862f68fb-5952-4486-b910-1ebfb6b7e918\")>,\n",
       " <selenium.webdriver.remote.webelement.WebElement (session=\"fa9b16f0ef8ba96f54b36e9bf2e65201\", element=\"0e5697d0-9c8c-47e2-a56f-ee9533109228\")>,\n",
       " <selenium.webdriver.remote.webelement.WebElement (session=\"fa9b16f0ef8ba96f54b36e9bf2e65201\", element=\"d09f7838-22b3-4ead-acc0-10c64866844b\")>,\n",
       " <selenium.webdriver.remote.webelement.WebElement (session=\"fa9b16f0ef8ba96f54b36e9bf2e65201\", element=\"d67dc29d-6b48-4223-aaed-71c6c6238957\")>,\n",
       " <selenium.webdriver.remote.webelement.WebElement (session=\"fa9b16f0ef8ba96f54b36e9bf2e65201\", element=\"8b7bb98a-e34a-4e31-a315-ce213bcb0a94\")>,\n",
       " <selenium.webdriver.remote.webelement.WebElement (session=\"fa9b16f0ef8ba96f54b36e9bf2e65201\", element=\"62993deb-1719-4e7e-91e6-2cb10a1c25cc\")>,\n",
       " <selenium.webdriver.remote.webelement.WebElement (session=\"fa9b16f0ef8ba96f54b36e9bf2e65201\", element=\"80025910-b62c-4035-a01a-ed36297d03e3\")>,\n",
       " <selenium.webdriver.remote.webelement.WebElement (session=\"fa9b16f0ef8ba96f54b36e9bf2e65201\", element=\"11d51d99-b67a-4cdd-8d4c-a34bec33745a\")>,\n",
       " <selenium.webdriver.remote.webelement.WebElement (session=\"fa9b16f0ef8ba96f54b36e9bf2e65201\", element=\"328a7d92-37f9-4279-8aac-e85908de972c\")>,\n",
       " <selenium.webdriver.remote.webelement.WebElement (session=\"fa9b16f0ef8ba96f54b36e9bf2e65201\", element=\"5e7d08bc-b97b-4a99-98f0-5fec6e339602\")>,\n",
       " <selenium.webdriver.remote.webelement.WebElement (session=\"fa9b16f0ef8ba96f54b36e9bf2e65201\", element=\"df38453b-4ef9-4371-b60e-ed6f55ddd4c4\")>,\n",
       " <selenium.webdriver.remote.webelement.WebElement (session=\"fa9b16f0ef8ba96f54b36e9bf2e65201\", element=\"be65523a-d937-4deb-9b07-15b2c3fdbce5\")>,\n",
       " <selenium.webdriver.remote.webelement.WebElement (session=\"fa9b16f0ef8ba96f54b36e9bf2e65201\", element=\"6e8dbb60-886c-42b4-aeeb-b0d4e39dd411\")>,\n",
       " <selenium.webdriver.remote.webelement.WebElement (session=\"fa9b16f0ef8ba96f54b36e9bf2e65201\", element=\"013fb6d2-d349-4f4c-bde5-8325821516ac\")>,\n",
       " <selenium.webdriver.remote.webelement.WebElement (session=\"fa9b16f0ef8ba96f54b36e9bf2e65201\", element=\"fa0fdd20-c4db-44b6-8778-51ee8bddce8e\")>,\n",
       " <selenium.webdriver.remote.webelement.WebElement (session=\"fa9b16f0ef8ba96f54b36e9bf2e65201\", element=\"703c6ec8-6803-4cd0-9474-e228c6474f3e\")>,\n",
       " <selenium.webdriver.remote.webelement.WebElement (session=\"fa9b16f0ef8ba96f54b36e9bf2e65201\", element=\"17334d93-96a5-4f4c-a123-b2caa180dda7\")>,\n",
       " <selenium.webdriver.remote.webelement.WebElement (session=\"fa9b16f0ef8ba96f54b36e9bf2e65201\", element=\"fa4af568-1074-44a3-9180-c49b5e13cc24\")>,\n",
       " <selenium.webdriver.remote.webelement.WebElement (session=\"fa9b16f0ef8ba96f54b36e9bf2e65201\", element=\"40a02d18-b52c-4543-b2de-60917ed41a64\")>,\n",
       " <selenium.webdriver.remote.webelement.WebElement (session=\"fa9b16f0ef8ba96f54b36e9bf2e65201\", element=\"0dc3949f-610f-4ad1-8e11-4445c1a33868\")>,\n",
       " <selenium.webdriver.remote.webelement.WebElement (session=\"fa9b16f0ef8ba96f54b36e9bf2e65201\", element=\"71dbdae2-ffa2-4908-af02-c773bd1b366b\")>,\n",
       " <selenium.webdriver.remote.webelement.WebElement (session=\"fa9b16f0ef8ba96f54b36e9bf2e65201\", element=\"5869765f-d95f-4580-8f74-8aa54c85b121\")>,\n",
       " <selenium.webdriver.remote.webelement.WebElement (session=\"fa9b16f0ef8ba96f54b36e9bf2e65201\", element=\"1579bbc3-f912-4ff2-8720-a7bba10be936\")>]"
      ]
     },
     "execution_count": 93,
     "metadata": {},
     "output_type": "execute_result"
    }
   ],
   "source": [
    "\n",
    "#So lets extract all the tags having the job titles\n",
    "brand_tags = driver.find_elements_by_xpath(\"//div[@class='_2WkVRV']\")\n",
    "brand_tags"
   ]
  },
  {
   "cell_type": "code",
   "execution_count": 94,
   "metadata": {},
   "outputs": [
    {
     "data": {
      "text/plain": [
       "['SUNBEE',\n",
       " 'HAMIW COLLECTION',\n",
       " 'Fastrack',\n",
       " 'ROZZETTA CRAFT',\n",
       " 'PIRASO',\n",
       " 'NuVew',\n",
       " 'Singco India',\n",
       " 'DEIXELS',\n",
       " 'HIPPON',\n",
       " 'PHENOMENAL',\n",
       " 'GANSTA',\n",
       " 'Silver Kartz',\n",
       " 'Villain',\n",
       " 'HAMIW COLLECTION',\n",
       " 'ROYAL SON',\n",
       " 'hipe',\n",
       " 'Flizz',\n",
       " 'AweStuffs',\n",
       " 'AISLIN',\n",
       " 'HAMIW COLLECTION',\n",
       " 'elegante',\n",
       " 'Ray-Ban',\n",
       " 'Cristiano Ronnie',\n",
       " 'HAMIW COLLECTION',\n",
       " 'Crackers',\n",
       " 'FOSSIL',\n",
       " 'Fravy',\n",
       " 'Singco',\n",
       " 'Wrogn',\n",
       " 'ROYAL SON',\n",
       " 'PETER JONES',\n",
       " 'SRPM',\n",
       " 'IDEE',\n",
       " 'ROYAL SON',\n",
       " 'Elligator',\n",
       " 'Fastrack',\n",
       " 'ROZZETTA CRAFT',\n",
       " 'PIRASO',\n",
       " 'GANSTA',\n",
       " 'hipe']"
      ]
     },
     "execution_count": 94,
     "metadata": {},
     "output_type": "execute_result"
    }
   ],
   "source": [
    "#Loop to iterate over the tags extracted above and extract the text inside them.\n",
    "brand_name=[]\n",
    "for i in brand_tags:\n",
    "    brand_name.append(i.text)\n",
    "brand_name"
   ]
  },
  {
   "cell_type": "code",
   "execution_count": 95,
   "metadata": {},
   "outputs": [
    {
     "data": {
      "text/plain": [
       "[<selenium.webdriver.remote.webelement.WebElement (session=\"fa9b16f0ef8ba96f54b36e9bf2e65201\", element=\"e3cf5237-2f6d-4187-bf18-cee30c7ade91\")>,\n",
       " <selenium.webdriver.remote.webelement.WebElement (session=\"fa9b16f0ef8ba96f54b36e9bf2e65201\", element=\"c5ef766b-be3b-4950-b8a4-3f70d92793e2\")>,\n",
       " <selenium.webdriver.remote.webelement.WebElement (session=\"fa9b16f0ef8ba96f54b36e9bf2e65201\", element=\"92b5f0b0-a077-4862-9c94-10708b6ff5d8\")>,\n",
       " <selenium.webdriver.remote.webelement.WebElement (session=\"fa9b16f0ef8ba96f54b36e9bf2e65201\", element=\"3def239d-518d-43a0-b143-05e6d0d4e687\")>,\n",
       " <selenium.webdriver.remote.webelement.WebElement (session=\"fa9b16f0ef8ba96f54b36e9bf2e65201\", element=\"5e0d9f4d-0400-4b94-a6ef-a038ebc0f868\")>,\n",
       " <selenium.webdriver.remote.webelement.WebElement (session=\"fa9b16f0ef8ba96f54b36e9bf2e65201\", element=\"6dbec322-3e04-47ab-adff-5d4821c02215\")>,\n",
       " <selenium.webdriver.remote.webelement.WebElement (session=\"fa9b16f0ef8ba96f54b36e9bf2e65201\", element=\"b4ae7fbf-ca69-4898-b814-26edb8f45fc4\")>,\n",
       " <selenium.webdriver.remote.webelement.WebElement (session=\"fa9b16f0ef8ba96f54b36e9bf2e65201\", element=\"73298975-58f7-48b6-83fe-b8107113b019\")>,\n",
       " <selenium.webdriver.remote.webelement.WebElement (session=\"fa9b16f0ef8ba96f54b36e9bf2e65201\", element=\"6856b05b-bdd7-4734-9545-4448cba22fc7\")>,\n",
       " <selenium.webdriver.remote.webelement.WebElement (session=\"fa9b16f0ef8ba96f54b36e9bf2e65201\", element=\"8576eefd-570a-439f-aeee-91b8b7c4da1e\")>,\n",
       " <selenium.webdriver.remote.webelement.WebElement (session=\"fa9b16f0ef8ba96f54b36e9bf2e65201\", element=\"1d4d433c-cab1-4d03-9a5b-ca81996ea3ea\")>,\n",
       " <selenium.webdriver.remote.webelement.WebElement (session=\"fa9b16f0ef8ba96f54b36e9bf2e65201\", element=\"142a9b3e-7c9e-4a77-b0f3-89e70787f217\")>,\n",
       " <selenium.webdriver.remote.webelement.WebElement (session=\"fa9b16f0ef8ba96f54b36e9bf2e65201\", element=\"1bf886e2-0e0e-4119-8fe4-5c960b09565d\")>,\n",
       " <selenium.webdriver.remote.webelement.WebElement (session=\"fa9b16f0ef8ba96f54b36e9bf2e65201\", element=\"75e642ce-3e0a-4579-ae2e-c539235baccd\")>,\n",
       " <selenium.webdriver.remote.webelement.WebElement (session=\"fa9b16f0ef8ba96f54b36e9bf2e65201\", element=\"1ece43f7-0eb9-47df-affd-498b5fb69475\")>,\n",
       " <selenium.webdriver.remote.webelement.WebElement (session=\"fa9b16f0ef8ba96f54b36e9bf2e65201\", element=\"e68ca43d-9982-4a64-a523-03c42f936911\")>,\n",
       " <selenium.webdriver.remote.webelement.WebElement (session=\"fa9b16f0ef8ba96f54b36e9bf2e65201\", element=\"4d9694eb-f7c7-4412-a9b4-2410800e11e1\")>,\n",
       " <selenium.webdriver.remote.webelement.WebElement (session=\"fa9b16f0ef8ba96f54b36e9bf2e65201\", element=\"15adcd43-5931-475b-a485-00ef9d920914\")>,\n",
       " <selenium.webdriver.remote.webelement.WebElement (session=\"fa9b16f0ef8ba96f54b36e9bf2e65201\", element=\"bff7aa9e-fc48-4e2e-a1a9-fde3e95deb3b\")>,\n",
       " <selenium.webdriver.remote.webelement.WebElement (session=\"fa9b16f0ef8ba96f54b36e9bf2e65201\", element=\"9b9df7cb-33de-49a1-866f-0633184676dc\")>,\n",
       " <selenium.webdriver.remote.webelement.WebElement (session=\"fa9b16f0ef8ba96f54b36e9bf2e65201\", element=\"2a50d38e-321d-45b6-85fc-9e6a656dd36a\")>,\n",
       " <selenium.webdriver.remote.webelement.WebElement (session=\"fa9b16f0ef8ba96f54b36e9bf2e65201\", element=\"368af6f2-d8a7-452a-a84d-5e3256f12e1c\")>,\n",
       " <selenium.webdriver.remote.webelement.WebElement (session=\"fa9b16f0ef8ba96f54b36e9bf2e65201\", element=\"fd676131-2d54-4aea-9fc9-9ea5534e0809\")>,\n",
       " <selenium.webdriver.remote.webelement.WebElement (session=\"fa9b16f0ef8ba96f54b36e9bf2e65201\", element=\"9ef37f5a-8e19-4242-bac2-6a86b012391c\")>,\n",
       " <selenium.webdriver.remote.webelement.WebElement (session=\"fa9b16f0ef8ba96f54b36e9bf2e65201\", element=\"61ffafe0-f1f2-4fd1-a8c8-18d0d43bb757\")>,\n",
       " <selenium.webdriver.remote.webelement.WebElement (session=\"fa9b16f0ef8ba96f54b36e9bf2e65201\", element=\"0925b51c-1b0e-4a96-8bf3-060af3c846e2\")>,\n",
       " <selenium.webdriver.remote.webelement.WebElement (session=\"fa9b16f0ef8ba96f54b36e9bf2e65201\", element=\"10d14b98-3b35-4afd-8c69-012328ff35f6\")>,\n",
       " <selenium.webdriver.remote.webelement.WebElement (session=\"fa9b16f0ef8ba96f54b36e9bf2e65201\", element=\"b50a836d-5571-4c75-a01d-5386016800ce\")>,\n",
       " <selenium.webdriver.remote.webelement.WebElement (session=\"fa9b16f0ef8ba96f54b36e9bf2e65201\", element=\"60dd0aa4-171a-4f82-a2e6-7024d17920f5\")>,\n",
       " <selenium.webdriver.remote.webelement.WebElement (session=\"fa9b16f0ef8ba96f54b36e9bf2e65201\", element=\"f03ca312-5989-4e30-9ac1-62f5376fd367\")>,\n",
       " <selenium.webdriver.remote.webelement.WebElement (session=\"fa9b16f0ef8ba96f54b36e9bf2e65201\", element=\"457115fb-41a1-4abf-9945-e6a1d96c1dba\")>,\n",
       " <selenium.webdriver.remote.webelement.WebElement (session=\"fa9b16f0ef8ba96f54b36e9bf2e65201\", element=\"185f7751-9735-40fe-839e-06f529fcf9bc\")>,\n",
       " <selenium.webdriver.remote.webelement.WebElement (session=\"fa9b16f0ef8ba96f54b36e9bf2e65201\", element=\"c0021dc2-c6e7-4ac8-980b-feb176f110db\")>,\n",
       " <selenium.webdriver.remote.webelement.WebElement (session=\"fa9b16f0ef8ba96f54b36e9bf2e65201\", element=\"db620417-b0e5-42eb-9724-2ef9f71915d0\")>,\n",
       " <selenium.webdriver.remote.webelement.WebElement (session=\"fa9b16f0ef8ba96f54b36e9bf2e65201\", element=\"a53636eb-db67-4b04-9ca1-3f53ad928922\")>,\n",
       " <selenium.webdriver.remote.webelement.WebElement (session=\"fa9b16f0ef8ba96f54b36e9bf2e65201\", element=\"c7251d74-55e6-4e0a-bc1e-3326557fc93b\")>,\n",
       " <selenium.webdriver.remote.webelement.WebElement (session=\"fa9b16f0ef8ba96f54b36e9bf2e65201\", element=\"5f050315-c324-4adb-9f51-600091a32224\")>,\n",
       " <selenium.webdriver.remote.webelement.WebElement (session=\"fa9b16f0ef8ba96f54b36e9bf2e65201\", element=\"e85412c6-d482-44a3-be83-1da107918706\")>,\n",
       " <selenium.webdriver.remote.webelement.WebElement (session=\"fa9b16f0ef8ba96f54b36e9bf2e65201\", element=\"24675c69-74f3-4e35-a835-e39e2130896c\")>]"
      ]
     },
     "execution_count": 95,
     "metadata": {},
     "output_type": "execute_result"
    }
   ],
   "source": [
    "#So lets extract all the tags having the job titles\n",
    "prod_tags = driver.find_elements_by_xpath(\"//a[@class='IRpwTa']\")\n",
    "prod_tags"
   ]
  },
  {
   "cell_type": "code",
   "execution_count": 96,
   "metadata": {},
   "outputs": [
    {
     "data": {
      "text/plain": [
       "['UV Protection, Polarized, Mirrored Round Sunglasses (Fr...',\n",
       " 'UV Protection Round Sunglasses (53)',\n",
       " 'UV Protection Rectangular Sunglasses (Free Size)',\n",
       " 'UV Protection Retro Square Sunglasses (Free Size)',\n",
       " 'UV Protection Aviator Sunglasses (Free Size)',\n",
       " 'UV Protection Aviator Sunglasses (58)',\n",
       " 'Mirrored, Riding Glasses, Others Sports Sunglasses (50)',\n",
       " 'UV Protection Aviator, Wayfarer Sunglasses (Free Size)',\n",
       " 'UV Protection Wayfarer Sunglasses (55)',\n",
       " 'UV Protection Retro Square Sunglasses (Free Size)',\n",
       " 'UV Protection, Mirrored Wayfarer Sunglasses (53)',\n",
       " 'UV Protection Oval Sunglasses (56)',\n",
       " 'Others Retro Square Sunglasses (Free Size)',\n",
       " 'UV Protection Round Sunglasses (Free Size)',\n",
       " 'UV Protection Rectangular Sunglasses (58)',\n",
       " 'UV Protection, Mirrored Round Sunglasses (Free Size)',\n",
       " 'UV Protection Retro Square Sunglasses (Free Size)',\n",
       " 'UV Protection Retro Square Sunglasses (Free Size)',\n",
       " 'UV Protection Oval Sunglasses (60)',\n",
       " 'UV Protection Wayfarer, Sports, Shield, Rectangular, Re...',\n",
       " 'UV Protection Wayfarer Sunglasses (Free Size)',\n",
       " 'Gradient Aviator Sunglasses (58)',\n",
       " 'UV Protection, Mirrored Clubmaster Sunglasses (52)',\n",
       " 'UV Protection Wayfarer, Sports, Shield, Rectangular, Re...',\n",
       " 'UV Protection Aviator Sunglasses (55)',\n",
       " 'Mirrored Round Sunglasses (51)',\n",
       " 'UV Protection Retro Square Sunglasses (Free Size)',\n",
       " 'UV Protection, Others Aviator Sunglasses (32)',\n",
       " 'Mirrored Aviator Sunglasses (60)',\n",
       " 'Gradient, UV Protection Round, Oval, Cat-eye Sunglasses...',\n",
       " 'Night Vision Aviator Sunglasses (56)',\n",
       " 'UV Protection Round Sunglasses (53)',\n",
       " 'Gradient Aviator Sunglasses (58)',\n",
       " 'UV Protection Wrap-around Sunglasses (52)',\n",
       " 'UV Protection Wayfarer Sunglasses (Free Size)',\n",
       " 'UV Protection, Gradient Rectangular Sunglasses (Free Si...',\n",
       " 'UV Protection Aviator Sunglasses (54)',\n",
       " 'UV Protection Aviator Sunglasses (57)',\n",
       " 'Mirrored, UV Protection, Gradient Round Sunglasses (55)']"
      ]
     },
     "execution_count": 96,
     "metadata": {},
     "output_type": "execute_result"
    }
   ],
   "source": [
    "#Loop to iterate over the tags extracted above and extract the text inside them.\n",
    "prod_desc=[]\n",
    "for i in prod_tags:\n",
    "    prod_desc.append(i.text)\n",
    "prod_desc"
   ]
  },
  {
   "cell_type": "code",
   "execution_count": 46,
   "metadata": {},
   "outputs": [
    {
     "data": {
      "text/plain": [
       "[<selenium.webdriver.remote.webelement.WebElement (session=\"592ff384e38d3b2b95e9d5117e87e3ea\", element=\"f918a5f3-e288-4ef7-9ef6-48b78c661516\")>,\n",
       " <selenium.webdriver.remote.webelement.WebElement (session=\"592ff384e38d3b2b95e9d5117e87e3ea\", element=\"3d8543c5-9f31-4989-abd3-5df390e14b17\")>,\n",
       " <selenium.webdriver.remote.webelement.WebElement (session=\"592ff384e38d3b2b95e9d5117e87e3ea\", element=\"6c7878de-9ca5-4ee0-892b-6d44d10c2142\")>,\n",
       " <selenium.webdriver.remote.webelement.WebElement (session=\"592ff384e38d3b2b95e9d5117e87e3ea\", element=\"c4887f89-6d9f-4718-afcd-a59a0bc114ab\")>,\n",
       " <selenium.webdriver.remote.webelement.WebElement (session=\"592ff384e38d3b2b95e9d5117e87e3ea\", element=\"2f488713-46da-4637-a407-d513a7dafc0c\")>,\n",
       " <selenium.webdriver.remote.webelement.WebElement (session=\"592ff384e38d3b2b95e9d5117e87e3ea\", element=\"1533df73-bfab-4a42-b014-60dd8d2d686d\")>,\n",
       " <selenium.webdriver.remote.webelement.WebElement (session=\"592ff384e38d3b2b95e9d5117e87e3ea\", element=\"074aefba-f260-4684-aea0-a7c3d2ebeb66\")>,\n",
       " <selenium.webdriver.remote.webelement.WebElement (session=\"592ff384e38d3b2b95e9d5117e87e3ea\", element=\"c64994ba-41bc-4259-bec5-6f251b0a5e85\")>,\n",
       " <selenium.webdriver.remote.webelement.WebElement (session=\"592ff384e38d3b2b95e9d5117e87e3ea\", element=\"ff34f0b5-b22f-4596-9bc2-1a04f04101f2\")>,\n",
       " <selenium.webdriver.remote.webelement.WebElement (session=\"592ff384e38d3b2b95e9d5117e87e3ea\", element=\"5835628c-7df3-4357-a500-72a4d347754a\")>,\n",
       " <selenium.webdriver.remote.webelement.WebElement (session=\"592ff384e38d3b2b95e9d5117e87e3ea\", element=\"c03eb0fc-f66e-41b7-8e4d-ea1b83264c54\")>,\n",
       " <selenium.webdriver.remote.webelement.WebElement (session=\"592ff384e38d3b2b95e9d5117e87e3ea\", element=\"3a7541f3-5be6-43fb-8ed1-ecaaf1e17018\")>,\n",
       " <selenium.webdriver.remote.webelement.WebElement (session=\"592ff384e38d3b2b95e9d5117e87e3ea\", element=\"13f91a2b-14e3-439a-a8b3-72a629156bb3\")>,\n",
       " <selenium.webdriver.remote.webelement.WebElement (session=\"592ff384e38d3b2b95e9d5117e87e3ea\", element=\"4b56992b-6d11-4ad1-b87e-ef52c07898c1\")>,\n",
       " <selenium.webdriver.remote.webelement.WebElement (session=\"592ff384e38d3b2b95e9d5117e87e3ea\", element=\"af98b907-1936-4257-9b15-f9177b713ed3\")>,\n",
       " <selenium.webdriver.remote.webelement.WebElement (session=\"592ff384e38d3b2b95e9d5117e87e3ea\", element=\"eee20ae1-200f-4581-8994-152ff1851845\")>,\n",
       " <selenium.webdriver.remote.webelement.WebElement (session=\"592ff384e38d3b2b95e9d5117e87e3ea\", element=\"15f10b3e-ffe5-4e1b-9f23-6e6055ceb53c\")>,\n",
       " <selenium.webdriver.remote.webelement.WebElement (session=\"592ff384e38d3b2b95e9d5117e87e3ea\", element=\"13e173f0-2c30-40cc-b80e-c10f9f88e180\")>,\n",
       " <selenium.webdriver.remote.webelement.WebElement (session=\"592ff384e38d3b2b95e9d5117e87e3ea\", element=\"cc5ce6b6-20c8-4411-8707-3f0e2873c46b\")>,\n",
       " <selenium.webdriver.remote.webelement.WebElement (session=\"592ff384e38d3b2b95e9d5117e87e3ea\", element=\"1384d33e-e346-472b-a942-d122cf2a1d76\")>,\n",
       " <selenium.webdriver.remote.webelement.WebElement (session=\"592ff384e38d3b2b95e9d5117e87e3ea\", element=\"87f34279-a584-4c6c-8772-52c2458fd3bd\")>,\n",
       " <selenium.webdriver.remote.webelement.WebElement (session=\"592ff384e38d3b2b95e9d5117e87e3ea\", element=\"d690bb3d-a8b6-4b5a-888e-c79d5fd1cd0d\")>,\n",
       " <selenium.webdriver.remote.webelement.WebElement (session=\"592ff384e38d3b2b95e9d5117e87e3ea\", element=\"14475be9-a6a3-41d6-8f0d-126134597d1c\")>,\n",
       " <selenium.webdriver.remote.webelement.WebElement (session=\"592ff384e38d3b2b95e9d5117e87e3ea\", element=\"20850186-92f6-4d4d-814c-e9176fa00a93\")>,\n",
       " <selenium.webdriver.remote.webelement.WebElement (session=\"592ff384e38d3b2b95e9d5117e87e3ea\", element=\"103fb234-81ad-4a1f-9cc2-8fca97ae3515\")>,\n",
       " <selenium.webdriver.remote.webelement.WebElement (session=\"592ff384e38d3b2b95e9d5117e87e3ea\", element=\"13337e67-e460-4712-86ee-4fd2c687d469\")>,\n",
       " <selenium.webdriver.remote.webelement.WebElement (session=\"592ff384e38d3b2b95e9d5117e87e3ea\", element=\"c86b908a-e3aa-4b7e-852c-0e56d8b5710a\")>,\n",
       " <selenium.webdriver.remote.webelement.WebElement (session=\"592ff384e38d3b2b95e9d5117e87e3ea\", element=\"b5797ba0-2b04-4315-a129-1ec09b41b698\")>,\n",
       " <selenium.webdriver.remote.webelement.WebElement (session=\"592ff384e38d3b2b95e9d5117e87e3ea\", element=\"dae3e77e-0551-4e58-b44c-7e3525a605b5\")>,\n",
       " <selenium.webdriver.remote.webelement.WebElement (session=\"592ff384e38d3b2b95e9d5117e87e3ea\", element=\"dc58f230-2624-428c-8858-5580a870533f\")>,\n",
       " <selenium.webdriver.remote.webelement.WebElement (session=\"592ff384e38d3b2b95e9d5117e87e3ea\", element=\"10991491-df5a-4042-8d01-6969ea81fd13\")>,\n",
       " <selenium.webdriver.remote.webelement.WebElement (session=\"592ff384e38d3b2b95e9d5117e87e3ea\", element=\"e1ee36eb-1ffa-424b-a4e9-c1e937e65978\")>,\n",
       " <selenium.webdriver.remote.webelement.WebElement (session=\"592ff384e38d3b2b95e9d5117e87e3ea\", element=\"9dd1d8c6-a1b8-4cc9-8d9f-b893ebd6194b\")>,\n",
       " <selenium.webdriver.remote.webelement.WebElement (session=\"592ff384e38d3b2b95e9d5117e87e3ea\", element=\"9792d710-19af-4cd4-ae60-87531d8aab7f\")>,\n",
       " <selenium.webdriver.remote.webelement.WebElement (session=\"592ff384e38d3b2b95e9d5117e87e3ea\", element=\"c0a78642-a7fb-4e0f-806f-95434f3dca87\")>,\n",
       " <selenium.webdriver.remote.webelement.WebElement (session=\"592ff384e38d3b2b95e9d5117e87e3ea\", element=\"87fdfa35-1b0e-4925-924d-22a6b8a27472\")>,\n",
       " <selenium.webdriver.remote.webelement.WebElement (session=\"592ff384e38d3b2b95e9d5117e87e3ea\", element=\"641c73d0-10f5-4743-b1de-0eaee3e4776d\")>,\n",
       " <selenium.webdriver.remote.webelement.WebElement (session=\"592ff384e38d3b2b95e9d5117e87e3ea\", element=\"1a1d901f-eb51-4b8c-8acf-518a91cdfa1a\")>,\n",
       " <selenium.webdriver.remote.webelement.WebElement (session=\"592ff384e38d3b2b95e9d5117e87e3ea\", element=\"9eae36f8-1967-4cd0-9b79-06a8b286a039\")>,\n",
       " <selenium.webdriver.remote.webelement.WebElement (session=\"592ff384e38d3b2b95e9d5117e87e3ea\", element=\"02611df9-9c04-4e5e-8115-6bda1df09bf2\")>]"
      ]
     },
     "execution_count": 46,
     "metadata": {},
     "output_type": "execute_result"
    }
   ],
   "source": [
    "#So lets extract all the tags having the job titles\n",
    "price_tags = driver.find_elements_by_xpath(\"//div[@class='_30jeq3']\")\n",
    "price_tags"
   ]
  },
  {
   "cell_type": "code",
   "execution_count": 47,
   "metadata": {},
   "outputs": [
    {
     "data": {
      "text/plain": [
       "['₹210',\n",
       " '₹395',\n",
       " '₹570',\n",
       " '₹499',\n",
       " '₹349',\n",
       " '₹236',\n",
       " '₹215',\n",
       " '₹213',\n",
       " '₹251',\n",
       " '₹399',\n",
       " '₹199',\n",
       " '₹299',\n",
       " '₹599',\n",
       " '₹395',\n",
       " '₹219',\n",
       " '₹474',\n",
       " '₹403',\n",
       " '₹399',\n",
       " '₹449',\n",
       " '₹399',\n",
       " '₹764',\n",
       " '₹7,281',\n",
       " '₹584',\n",
       " '₹664',\n",
       " '₹1,214',\n",
       " '₹170',\n",
       " '₹2,123',\n",
       " '₹289',\n",
       " '₹327',\n",
       " '₹995',\n",
       " '₹369',\n",
       " '₹189',\n",
       " '₹1,181',\n",
       " '₹259',\n",
       " '₹279',\n",
       " '₹733',\n",
       " '₹404',\n",
       " '₹250',\n",
       " '₹281',\n",
       " '₹419']"
      ]
     },
     "execution_count": 47,
     "metadata": {},
     "output_type": "execute_result"
    }
   ],
   "source": [
    "#Loop to iterate over the tags extracted above and extract the text inside them.\n",
    "price=[]\n",
    "for i in price_tags:\n",
    "    price.append(i.text)\n",
    "price"
   ]
  },
  {
   "cell_type": "code",
   "execution_count": 48,
   "metadata": {},
   "outputs": [
    {
     "data": {
      "text/plain": [
       "[<selenium.webdriver.remote.webelement.WebElement (session=\"592ff384e38d3b2b95e9d5117e87e3ea\", element=\"06a431ca-e7f7-40f9-a012-a1f865a3dd41\")>,\n",
       " <selenium.webdriver.remote.webelement.WebElement (session=\"592ff384e38d3b2b95e9d5117e87e3ea\", element=\"abc6d888-3cba-4617-8c4e-560c64c86b87\")>,\n",
       " <selenium.webdriver.remote.webelement.WebElement (session=\"592ff384e38d3b2b95e9d5117e87e3ea\", element=\"e957b725-47ab-4a29-a828-65160a6faf59\")>,\n",
       " <selenium.webdriver.remote.webelement.WebElement (session=\"592ff384e38d3b2b95e9d5117e87e3ea\", element=\"528d95d5-9be4-401b-a644-eb42cce8cb99\")>,\n",
       " <selenium.webdriver.remote.webelement.WebElement (session=\"592ff384e38d3b2b95e9d5117e87e3ea\", element=\"b3ac6de8-dfc4-4202-9eff-321c9022fb70\")>,\n",
       " <selenium.webdriver.remote.webelement.WebElement (session=\"592ff384e38d3b2b95e9d5117e87e3ea\", element=\"0c1326a5-8693-4739-afa3-18944aae367d\")>,\n",
       " <selenium.webdriver.remote.webelement.WebElement (session=\"592ff384e38d3b2b95e9d5117e87e3ea\", element=\"84293ab5-bced-4443-92e3-3b193807ffd1\")>,\n",
       " <selenium.webdriver.remote.webelement.WebElement (session=\"592ff384e38d3b2b95e9d5117e87e3ea\", element=\"b760088c-db58-439b-aa27-2324ab14160e\")>,\n",
       " <selenium.webdriver.remote.webelement.WebElement (session=\"592ff384e38d3b2b95e9d5117e87e3ea\", element=\"eaeb3b80-f98e-49b5-99f4-fb5acff04b4f\")>,\n",
       " <selenium.webdriver.remote.webelement.WebElement (session=\"592ff384e38d3b2b95e9d5117e87e3ea\", element=\"2fdf3e64-c04e-4dce-b129-cf468e6d3457\")>,\n",
       " <selenium.webdriver.remote.webelement.WebElement (session=\"592ff384e38d3b2b95e9d5117e87e3ea\", element=\"9e30029a-00d6-432d-a6e9-6447aa00d83c\")>,\n",
       " <selenium.webdriver.remote.webelement.WebElement (session=\"592ff384e38d3b2b95e9d5117e87e3ea\", element=\"bb7a1d55-d555-4ec8-9a47-a139393af908\")>,\n",
       " <selenium.webdriver.remote.webelement.WebElement (session=\"592ff384e38d3b2b95e9d5117e87e3ea\", element=\"aa20ca04-5666-4153-8502-6b272f5e97df\")>,\n",
       " <selenium.webdriver.remote.webelement.WebElement (session=\"592ff384e38d3b2b95e9d5117e87e3ea\", element=\"12072b68-785a-478c-a44d-948dc8e22bdc\")>,\n",
       " <selenium.webdriver.remote.webelement.WebElement (session=\"592ff384e38d3b2b95e9d5117e87e3ea\", element=\"03aa569b-a872-459c-baff-d44f8aca35f7\")>,\n",
       " <selenium.webdriver.remote.webelement.WebElement (session=\"592ff384e38d3b2b95e9d5117e87e3ea\", element=\"14da4aae-8bfa-4497-a3b8-ab9e87f9c798\")>,\n",
       " <selenium.webdriver.remote.webelement.WebElement (session=\"592ff384e38d3b2b95e9d5117e87e3ea\", element=\"e87fcb75-9f86-4b57-ae5b-fdac70831f96\")>,\n",
       " <selenium.webdriver.remote.webelement.WebElement (session=\"592ff384e38d3b2b95e9d5117e87e3ea\", element=\"2c27bc29-d675-4515-b1ee-142009e010a7\")>,\n",
       " <selenium.webdriver.remote.webelement.WebElement (session=\"592ff384e38d3b2b95e9d5117e87e3ea\", element=\"df172960-0dff-4624-ba24-e8f2bbf2e64f\")>,\n",
       " <selenium.webdriver.remote.webelement.WebElement (session=\"592ff384e38d3b2b95e9d5117e87e3ea\", element=\"de12508a-3d9f-417f-bc46-d770214e6501\")>,\n",
       " <selenium.webdriver.remote.webelement.WebElement (session=\"592ff384e38d3b2b95e9d5117e87e3ea\", element=\"0d7103d8-459e-48ab-98e7-8fbe97d34449\")>,\n",
       " <selenium.webdriver.remote.webelement.WebElement (session=\"592ff384e38d3b2b95e9d5117e87e3ea\", element=\"e902ae2c-147f-4653-9e66-1402e72fd5f4\")>,\n",
       " <selenium.webdriver.remote.webelement.WebElement (session=\"592ff384e38d3b2b95e9d5117e87e3ea\", element=\"1a115870-dae2-4cbe-a929-43cc4b9ec6c5\")>,\n",
       " <selenium.webdriver.remote.webelement.WebElement (session=\"592ff384e38d3b2b95e9d5117e87e3ea\", element=\"186f0bbe-3844-43bb-b7be-a150c0b22e07\")>,\n",
       " <selenium.webdriver.remote.webelement.WebElement (session=\"592ff384e38d3b2b95e9d5117e87e3ea\", element=\"d7444659-9638-44aa-a70b-1452d515e3a7\")>,\n",
       " <selenium.webdriver.remote.webelement.WebElement (session=\"592ff384e38d3b2b95e9d5117e87e3ea\", element=\"c5b0aae6-cabd-42b5-a2d9-b4448754e7a1\")>,\n",
       " <selenium.webdriver.remote.webelement.WebElement (session=\"592ff384e38d3b2b95e9d5117e87e3ea\", element=\"05823372-ad9c-4012-b6b3-905ce917d1c9\")>,\n",
       " <selenium.webdriver.remote.webelement.WebElement (session=\"592ff384e38d3b2b95e9d5117e87e3ea\", element=\"ed60d3cd-9f86-478e-9717-54482a1d6355\")>,\n",
       " <selenium.webdriver.remote.webelement.WebElement (session=\"592ff384e38d3b2b95e9d5117e87e3ea\", element=\"6a3e6c46-6af6-44d1-9e5d-e7e70896bf0c\")>,\n",
       " <selenium.webdriver.remote.webelement.WebElement (session=\"592ff384e38d3b2b95e9d5117e87e3ea\", element=\"aeabb801-a25a-45b0-afcf-09868415f3df\")>,\n",
       " <selenium.webdriver.remote.webelement.WebElement (session=\"592ff384e38d3b2b95e9d5117e87e3ea\", element=\"c301eaa7-cb1a-4bd9-a91f-be7115a194c0\")>,\n",
       " <selenium.webdriver.remote.webelement.WebElement (session=\"592ff384e38d3b2b95e9d5117e87e3ea\", element=\"edbb7635-4ac0-45ce-84f8-4af5cb5d84e5\")>,\n",
       " <selenium.webdriver.remote.webelement.WebElement (session=\"592ff384e38d3b2b95e9d5117e87e3ea\", element=\"265b625f-d4a6-42be-9765-1a2c667a2cca\")>,\n",
       " <selenium.webdriver.remote.webelement.WebElement (session=\"592ff384e38d3b2b95e9d5117e87e3ea\", element=\"c5b7edf6-8107-48bc-8970-1132785cf460\")>,\n",
       " <selenium.webdriver.remote.webelement.WebElement (session=\"592ff384e38d3b2b95e9d5117e87e3ea\", element=\"ce062282-df04-42b5-b6fe-81fe21f2a354\")>,\n",
       " <selenium.webdriver.remote.webelement.WebElement (session=\"592ff384e38d3b2b95e9d5117e87e3ea\", element=\"d1946a18-a49f-4039-96a4-0caf7a7c1145\")>,\n",
       " <selenium.webdriver.remote.webelement.WebElement (session=\"592ff384e38d3b2b95e9d5117e87e3ea\", element=\"ce6c884c-4ba1-41f6-a6eb-dca883b50da3\")>,\n",
       " <selenium.webdriver.remote.webelement.WebElement (session=\"592ff384e38d3b2b95e9d5117e87e3ea\", element=\"8c53940b-7054-4a67-a55d-3367cf3a389e\")>,\n",
       " <selenium.webdriver.remote.webelement.WebElement (session=\"592ff384e38d3b2b95e9d5117e87e3ea\", element=\"ca54530e-f1dd-4d72-b130-2601366f689d\")>,\n",
       " <selenium.webdriver.remote.webelement.WebElement (session=\"592ff384e38d3b2b95e9d5117e87e3ea\", element=\"7e367a82-abf9-40de-aebd-f774b8036851\")>]"
      ]
     },
     "execution_count": 48,
     "metadata": {},
     "output_type": "execute_result"
    }
   ],
   "source": [
    "#So lets extract all the tags having the job titles\n",
    "discount_tags = driver.find_elements_by_xpath(\"//div[@class='_3Ay6Sb']//span\")\n",
    "discount_tags"
   ]
  },
  {
   "cell_type": "code",
   "execution_count": 49,
   "metadata": {},
   "outputs": [
    {
     "data": {
      "text/plain": [
       "['85% off',\n",
       " '77% off',\n",
       " '28% off',\n",
       " '77% off',\n",
       " '78% off',\n",
       " '84% off',\n",
       " '72% off',\n",
       " '82% off',\n",
       " '79% off',\n",
       " '80% off',\n",
       " '80% off',\n",
       " '75% off',\n",
       " '20% off',\n",
       " '74% off',\n",
       " '86% off',\n",
       " '68% off',\n",
       " '59% off',\n",
       " '81% off',\n",
       " '70% off',\n",
       " '73% off',\n",
       " '69% off',\n",
       " '10% off',\n",
       " '70% off',\n",
       " '66% off',\n",
       " '62% off',\n",
       " '82% off',\n",
       " '51% off',\n",
       " '80% off',\n",
       " '83% off',\n",
       " '73% off',\n",
       " '69% off',\n",
       " '62% off',\n",
       " '58% off',\n",
       " '67% off',\n",
       " '88% off',\n",
       " '18% off',\n",
       " '79% off',\n",
       " '84% off',\n",
       " '85% off',\n",
       " '71% off']"
      ]
     },
     "execution_count": 49,
     "metadata": {},
     "output_type": "execute_result"
    }
   ],
   "source": [
    "#Loop to iterate over the tags extracted above and extract the text inside them.\n",
    "discount=[]\n",
    "for i in discount_tags:\n",
    "    discount.append(i.text)\n",
    "discount"
   ]
  },
  {
   "cell_type": "code",
   "execution_count": 54,
   "metadata": {},
   "outputs": [
    {
     "data": {
      "text/plain": [
       "<selenium.webdriver.remote.webelement.WebElement (session=\"592ff384e38d3b2b95e9d5117e87e3ea\", element=\"aaf0f672-7d79-43ea-a1cb-98c1a65ba500\")>"
      ]
     },
     "execution_count": 54,
     "metadata": {},
     "output_type": "execute_result"
    }
   ],
   "source": [
    "#do click using xpath function\n",
    "search_btn = driver.find_element_by_xpath(\"//a[@href='/search?q=Sunglasses&otracker=search&otracker1=search&marketplace=FLIPKART&as-show=on&as=off&page=2']\")\n",
    "search_btn"
   ]
  },
  {
   "cell_type": "code",
   "execution_count": 55,
   "metadata": {},
   "outputs": [],
   "source": [
    "search_btn.click()"
   ]
  },
  {
   "cell_type": "code",
   "execution_count": 59,
   "metadata": {},
   "outputs": [
    {
     "data": {
      "text/plain": [
       "[<selenium.webdriver.remote.webelement.WebElement (session=\"592ff384e38d3b2b95e9d5117e87e3ea\", element=\"c71e06ee-b9e0-424f-bae8-2fa17393acb7\")>,\n",
       " <selenium.webdriver.remote.webelement.WebElement (session=\"592ff384e38d3b2b95e9d5117e87e3ea\", element=\"85b47154-a1dd-4b38-9c71-a0585e5f453d\")>,\n",
       " <selenium.webdriver.remote.webelement.WebElement (session=\"592ff384e38d3b2b95e9d5117e87e3ea\", element=\"d35cc4c9-83d8-4907-aecb-8a59a7709a5d\")>,\n",
       " <selenium.webdriver.remote.webelement.WebElement (session=\"592ff384e38d3b2b95e9d5117e87e3ea\", element=\"32a0b2f0-e6d7-4a0c-b8b4-d9663a286cd9\")>,\n",
       " <selenium.webdriver.remote.webelement.WebElement (session=\"592ff384e38d3b2b95e9d5117e87e3ea\", element=\"1a8867ea-e501-4347-b2da-119137e9e859\")>,\n",
       " <selenium.webdriver.remote.webelement.WebElement (session=\"592ff384e38d3b2b95e9d5117e87e3ea\", element=\"3c4f5978-5a98-48c6-b1b1-2c2bd0a357a8\")>,\n",
       " <selenium.webdriver.remote.webelement.WebElement (session=\"592ff384e38d3b2b95e9d5117e87e3ea\", element=\"360a5002-39ca-4ad8-a0b2-088ee652cd81\")>,\n",
       " <selenium.webdriver.remote.webelement.WebElement (session=\"592ff384e38d3b2b95e9d5117e87e3ea\", element=\"c52c5f96-e98a-491f-8aa3-0fb1356a10aa\")>,\n",
       " <selenium.webdriver.remote.webelement.WebElement (session=\"592ff384e38d3b2b95e9d5117e87e3ea\", element=\"a74d3f91-2bc2-48a6-8803-caced5ee62d7\")>,\n",
       " <selenium.webdriver.remote.webelement.WebElement (session=\"592ff384e38d3b2b95e9d5117e87e3ea\", element=\"721d8f22-01ad-4a0a-ba11-ef716a72725a\")>,\n",
       " <selenium.webdriver.remote.webelement.WebElement (session=\"592ff384e38d3b2b95e9d5117e87e3ea\", element=\"e7520f84-88ef-49f2-90e6-1381810ee961\")>,\n",
       " <selenium.webdriver.remote.webelement.WebElement (session=\"592ff384e38d3b2b95e9d5117e87e3ea\", element=\"f07d8999-889d-4aab-bfa9-7403e17573d4\")>,\n",
       " <selenium.webdriver.remote.webelement.WebElement (session=\"592ff384e38d3b2b95e9d5117e87e3ea\", element=\"479f246b-25eb-42d0-b4b6-2dea29166d46\")>,\n",
       " <selenium.webdriver.remote.webelement.WebElement (session=\"592ff384e38d3b2b95e9d5117e87e3ea\", element=\"c80a8104-c867-4b8d-8a60-ed9bcde3971c\")>,\n",
       " <selenium.webdriver.remote.webelement.WebElement (session=\"592ff384e38d3b2b95e9d5117e87e3ea\", element=\"50e0a762-34a5-4f56-96ed-21d2ca4fa90d\")>,\n",
       " <selenium.webdriver.remote.webelement.WebElement (session=\"592ff384e38d3b2b95e9d5117e87e3ea\", element=\"d11e33bd-3ba0-4e3f-ae93-443fc05b4571\")>,\n",
       " <selenium.webdriver.remote.webelement.WebElement (session=\"592ff384e38d3b2b95e9d5117e87e3ea\", element=\"7ade2a8e-1831-4d5a-8c11-e2cd9062e2de\")>,\n",
       " <selenium.webdriver.remote.webelement.WebElement (session=\"592ff384e38d3b2b95e9d5117e87e3ea\", element=\"57f4ad38-4a05-4f98-95c9-ed1f32b2c8fe\")>,\n",
       " <selenium.webdriver.remote.webelement.WebElement (session=\"592ff384e38d3b2b95e9d5117e87e3ea\", element=\"2b5e2727-9644-4863-9bdd-5f1ddc624d31\")>,\n",
       " <selenium.webdriver.remote.webelement.WebElement (session=\"592ff384e38d3b2b95e9d5117e87e3ea\", element=\"6e4b0424-1530-470f-9ebb-05b047ebf06b\")>,\n",
       " <selenium.webdriver.remote.webelement.WebElement (session=\"592ff384e38d3b2b95e9d5117e87e3ea\", element=\"670058c5-fc67-497c-ba77-6c55771781f1\")>,\n",
       " <selenium.webdriver.remote.webelement.WebElement (session=\"592ff384e38d3b2b95e9d5117e87e3ea\", element=\"254bc4f0-8e90-4aa4-be0d-13eb5a4429e8\")>,\n",
       " <selenium.webdriver.remote.webelement.WebElement (session=\"592ff384e38d3b2b95e9d5117e87e3ea\", element=\"dfe3569d-0a9c-4bdb-9f72-096b3aafac18\")>,\n",
       " <selenium.webdriver.remote.webelement.WebElement (session=\"592ff384e38d3b2b95e9d5117e87e3ea\", element=\"54656ed6-a6df-456a-9f40-2551696c3457\")>,\n",
       " <selenium.webdriver.remote.webelement.WebElement (session=\"592ff384e38d3b2b95e9d5117e87e3ea\", element=\"28ee0fa0-c272-4fea-bd68-a036fbdf09f4\")>,\n",
       " <selenium.webdriver.remote.webelement.WebElement (session=\"592ff384e38d3b2b95e9d5117e87e3ea\", element=\"9b6fe9f5-ee45-4e19-81ea-d98f3171ba56\")>,\n",
       " <selenium.webdriver.remote.webelement.WebElement (session=\"592ff384e38d3b2b95e9d5117e87e3ea\", element=\"e5e8e518-0a87-4540-80e9-7ba3d6f1e846\")>,\n",
       " <selenium.webdriver.remote.webelement.WebElement (session=\"592ff384e38d3b2b95e9d5117e87e3ea\", element=\"a04a0d60-e57d-493b-9b6d-eeca4058bfd3\")>,\n",
       " <selenium.webdriver.remote.webelement.WebElement (session=\"592ff384e38d3b2b95e9d5117e87e3ea\", element=\"913584b2-422c-4969-9a2c-46dfd4c01530\")>,\n",
       " <selenium.webdriver.remote.webelement.WebElement (session=\"592ff384e38d3b2b95e9d5117e87e3ea\", element=\"688f763b-3491-4b71-af2e-08fbabfd32e4\")>,\n",
       " <selenium.webdriver.remote.webelement.WebElement (session=\"592ff384e38d3b2b95e9d5117e87e3ea\", element=\"6e200942-2f30-4e99-8ff4-7de0153d02a5\")>,\n",
       " <selenium.webdriver.remote.webelement.WebElement (session=\"592ff384e38d3b2b95e9d5117e87e3ea\", element=\"8ada23c4-8cd5-428b-ba8c-13d7142d37a0\")>,\n",
       " <selenium.webdriver.remote.webelement.WebElement (session=\"592ff384e38d3b2b95e9d5117e87e3ea\", element=\"e45c3748-51ed-4a64-b206-4d240cdde510\")>,\n",
       " <selenium.webdriver.remote.webelement.WebElement (session=\"592ff384e38d3b2b95e9d5117e87e3ea\", element=\"e7ea3881-0e33-4fd8-9812-e830b4781ec2\")>,\n",
       " <selenium.webdriver.remote.webelement.WebElement (session=\"592ff384e38d3b2b95e9d5117e87e3ea\", element=\"4a8b3205-65bf-4482-addf-3dab0d9bdcf0\")>,\n",
       " <selenium.webdriver.remote.webelement.WebElement (session=\"592ff384e38d3b2b95e9d5117e87e3ea\", element=\"c4c8c156-9da7-4036-a2b2-224fa9b1b03e\")>,\n",
       " <selenium.webdriver.remote.webelement.WebElement (session=\"592ff384e38d3b2b95e9d5117e87e3ea\", element=\"42cfb8bd-b86d-405f-b476-4175cc44e8f9\")>,\n",
       " <selenium.webdriver.remote.webelement.WebElement (session=\"592ff384e38d3b2b95e9d5117e87e3ea\", element=\"e1347d01-d5c3-4c19-b733-9897ef1575ec\")>,\n",
       " <selenium.webdriver.remote.webelement.WebElement (session=\"592ff384e38d3b2b95e9d5117e87e3ea\", element=\"1fce9692-e3a4-4a31-8d52-6c855f564a16\")>,\n",
       " <selenium.webdriver.remote.webelement.WebElement (session=\"592ff384e38d3b2b95e9d5117e87e3ea\", element=\"d94af441-27e4-4df8-8a64-42878ca1a588\")>]"
      ]
     },
     "execution_count": 59,
     "metadata": {},
     "output_type": "execute_result"
    }
   ],
   "source": [
    "#So lets extract all the tags having the job titles\n",
    "brand_tags1 = driver.find_elements_by_xpath(\"//div[@class='_2WkVRV']\")\n",
    "brand_tags1"
   ]
  },
  {
   "cell_type": "code",
   "execution_count": 61,
   "metadata": {},
   "outputs": [
    {
     "data": {
      "text/plain": [
       "['Silver Kartz',\n",
       " 'GANSTA',\n",
       " 'PHENOMENAL',\n",
       " 'AISLIN',\n",
       " 'DEIXELS',\n",
       " 'ROYAL SON',\n",
       " 'hipe',\n",
       " 'elegante',\n",
       " 'Wrogn',\n",
       " 'AISLIN',\n",
       " 'AISLIN',\n",
       " 'Ray-Ban',\n",
       " 'Fravy',\n",
       " 'AISLIN',\n",
       " 'NuVew',\n",
       " 'Fastrack',\n",
       " 'ROZZETTA CRAFT',\n",
       " 'Singco India',\n",
       " 'GANSTA',\n",
       " 'AISLIN',\n",
       " 'ROYAL SON',\n",
       " 'PHENOMENAL',\n",
       " 'DEIXELS',\n",
       " 'AISLIN',\n",
       " 'Silver Kartz',\n",
       " 'hipe',\n",
       " 'PIRASO',\n",
       " 'Wrogn',\n",
       " 'Ray-Ban',\n",
       " 'AISLIN',\n",
       " 'Fastrack',\n",
       " 'ROZZETTA CRAFT',\n",
       " 'GANSTA',\n",
       " 'NuVew',\n",
       " 'ROYAL SON',\n",
       " 'PHENOMENAL',\n",
       " 'Singco India',\n",
       " 'DEIXELS',\n",
       " 'hipe',\n",
       " 'AISLIN']"
      ]
     },
     "execution_count": 61,
     "metadata": {},
     "output_type": "execute_result"
    }
   ],
   "source": [
    "#Loop to iterate over the tags extracted above and extract the text inside them.\n",
    "brand_name1=[]\n",
    "for i in brand_tags1:\n",
    "    brand_name1.append(i.text)\n",
    "brand_name1"
   ]
  },
  {
   "cell_type": "code",
   "execution_count": 63,
   "metadata": {},
   "outputs": [
    {
     "data": {
      "text/plain": [
       "[<selenium.webdriver.remote.webelement.WebElement (session=\"592ff384e38d3b2b95e9d5117e87e3ea\", element=\"fbffd8a6-6ed2-469b-b7da-14a5596bf570\")>,\n",
       " <selenium.webdriver.remote.webelement.WebElement (session=\"592ff384e38d3b2b95e9d5117e87e3ea\", element=\"525f81a7-ab41-4417-bc20-e8598d6a0fc1\")>,\n",
       " <selenium.webdriver.remote.webelement.WebElement (session=\"592ff384e38d3b2b95e9d5117e87e3ea\", element=\"3a60d0e0-c97d-4e6f-b133-79f729982cc6\")>,\n",
       " <selenium.webdriver.remote.webelement.WebElement (session=\"592ff384e38d3b2b95e9d5117e87e3ea\", element=\"09ab747b-9c13-4426-8ade-9e1c4324a750\")>,\n",
       " <selenium.webdriver.remote.webelement.WebElement (session=\"592ff384e38d3b2b95e9d5117e87e3ea\", element=\"e14ef264-36d8-44cc-a48c-2d16962c0dd9\")>,\n",
       " <selenium.webdriver.remote.webelement.WebElement (session=\"592ff384e38d3b2b95e9d5117e87e3ea\", element=\"9b8037b4-5144-48a6-83ab-a3367a8b366d\")>,\n",
       " <selenium.webdriver.remote.webelement.WebElement (session=\"592ff384e38d3b2b95e9d5117e87e3ea\", element=\"ff87050d-bfb1-46a9-9e77-911cf4d8333f\")>,\n",
       " <selenium.webdriver.remote.webelement.WebElement (session=\"592ff384e38d3b2b95e9d5117e87e3ea\", element=\"141c72fa-fdf5-4c67-a64d-0de07a2b703b\")>,\n",
       " <selenium.webdriver.remote.webelement.WebElement (session=\"592ff384e38d3b2b95e9d5117e87e3ea\", element=\"79339cec-d071-46f0-bddd-cad205832546\")>,\n",
       " <selenium.webdriver.remote.webelement.WebElement (session=\"592ff384e38d3b2b95e9d5117e87e3ea\", element=\"ae9285a5-f314-4318-96dd-50a1870a8456\")>,\n",
       " <selenium.webdriver.remote.webelement.WebElement (session=\"592ff384e38d3b2b95e9d5117e87e3ea\", element=\"270ad5e9-582e-45f3-b819-9b34a1e2a697\")>,\n",
       " <selenium.webdriver.remote.webelement.WebElement (session=\"592ff384e38d3b2b95e9d5117e87e3ea\", element=\"57f1a312-8db3-42a5-9910-059ea2be187f\")>,\n",
       " <selenium.webdriver.remote.webelement.WebElement (session=\"592ff384e38d3b2b95e9d5117e87e3ea\", element=\"5d23ba25-4fda-4720-a486-88fe5a247a4f\")>,\n",
       " <selenium.webdriver.remote.webelement.WebElement (session=\"592ff384e38d3b2b95e9d5117e87e3ea\", element=\"8ee6962e-d6bc-46b6-911d-c93feca02889\")>,\n",
       " <selenium.webdriver.remote.webelement.WebElement (session=\"592ff384e38d3b2b95e9d5117e87e3ea\", element=\"07aafefd-c817-4a11-af75-8bde3e683520\")>,\n",
       " <selenium.webdriver.remote.webelement.WebElement (session=\"592ff384e38d3b2b95e9d5117e87e3ea\", element=\"09cef012-97b9-4658-8a33-98cc94848f45\")>,\n",
       " <selenium.webdriver.remote.webelement.WebElement (session=\"592ff384e38d3b2b95e9d5117e87e3ea\", element=\"a1e2b601-947b-4f99-bbd9-d3cef6fda1a5\")>,\n",
       " <selenium.webdriver.remote.webelement.WebElement (session=\"592ff384e38d3b2b95e9d5117e87e3ea\", element=\"ab2d9e81-6939-4738-a1e8-b0b3998748fc\")>,\n",
       " <selenium.webdriver.remote.webelement.WebElement (session=\"592ff384e38d3b2b95e9d5117e87e3ea\", element=\"e4f9a9b7-8ded-458d-9ede-641a62f0acff\")>,\n",
       " <selenium.webdriver.remote.webelement.WebElement (session=\"592ff384e38d3b2b95e9d5117e87e3ea\", element=\"fc08e0ee-d694-41ef-b910-b1f9dca08459\")>,\n",
       " <selenium.webdriver.remote.webelement.WebElement (session=\"592ff384e38d3b2b95e9d5117e87e3ea\", element=\"0ac1a331-d8da-4c5a-8ffd-c070206fafb9\")>,\n",
       " <selenium.webdriver.remote.webelement.WebElement (session=\"592ff384e38d3b2b95e9d5117e87e3ea\", element=\"c04d2e45-386c-4a3e-ae26-67f8826bab6d\")>,\n",
       " <selenium.webdriver.remote.webelement.WebElement (session=\"592ff384e38d3b2b95e9d5117e87e3ea\", element=\"b5ba8947-0b12-435a-81de-2af205e77aeb\")>,\n",
       " <selenium.webdriver.remote.webelement.WebElement (session=\"592ff384e38d3b2b95e9d5117e87e3ea\", element=\"a6b15d47-d055-4490-b3a0-6211072b492e\")>,\n",
       " <selenium.webdriver.remote.webelement.WebElement (session=\"592ff384e38d3b2b95e9d5117e87e3ea\", element=\"c328ddbf-c9a5-424b-ac6a-b8d476cfc6d6\")>,\n",
       " <selenium.webdriver.remote.webelement.WebElement (session=\"592ff384e38d3b2b95e9d5117e87e3ea\", element=\"9ca12806-d8d0-4823-b5a2-736f9d057485\")>,\n",
       " <selenium.webdriver.remote.webelement.WebElement (session=\"592ff384e38d3b2b95e9d5117e87e3ea\", element=\"10082294-899d-4cb8-9e20-151605ff729b\")>,\n",
       " <selenium.webdriver.remote.webelement.WebElement (session=\"592ff384e38d3b2b95e9d5117e87e3ea\", element=\"b933f71a-fdf2-4ba0-ba18-9d97960afeca\")>,\n",
       " <selenium.webdriver.remote.webelement.WebElement (session=\"592ff384e38d3b2b95e9d5117e87e3ea\", element=\"be1997f9-cd4c-4d92-a712-a0dcd1cdcc79\")>,\n",
       " <selenium.webdriver.remote.webelement.WebElement (session=\"592ff384e38d3b2b95e9d5117e87e3ea\", element=\"fb775fec-4b01-4d0a-b4f3-ead26a96b290\")>,\n",
       " <selenium.webdriver.remote.webelement.WebElement (session=\"592ff384e38d3b2b95e9d5117e87e3ea\", element=\"012d9bb0-d496-4df4-83cf-c824b4dcd92e\")>,\n",
       " <selenium.webdriver.remote.webelement.WebElement (session=\"592ff384e38d3b2b95e9d5117e87e3ea\", element=\"7fdb597c-774a-4555-8eaa-4a1ea9f51ffc\")>,\n",
       " <selenium.webdriver.remote.webelement.WebElement (session=\"592ff384e38d3b2b95e9d5117e87e3ea\", element=\"32ba2930-a27e-4fda-b555-10d3282cbc26\")>,\n",
       " <selenium.webdriver.remote.webelement.WebElement (session=\"592ff384e38d3b2b95e9d5117e87e3ea\", element=\"b025257e-4e89-4ecf-b46f-fc608a8f439a\")>,\n",
       " <selenium.webdriver.remote.webelement.WebElement (session=\"592ff384e38d3b2b95e9d5117e87e3ea\", element=\"e2351fd9-f862-4419-b130-6f91c0736d50\")>,\n",
       " <selenium.webdriver.remote.webelement.WebElement (session=\"592ff384e38d3b2b95e9d5117e87e3ea\", element=\"5485c6be-5e0c-417c-a8f8-25357b8119c0\")>,\n",
       " <selenium.webdriver.remote.webelement.WebElement (session=\"592ff384e38d3b2b95e9d5117e87e3ea\", element=\"f9c5f378-85ef-4999-95fa-3b2933e50982\")>,\n",
       " <selenium.webdriver.remote.webelement.WebElement (session=\"592ff384e38d3b2b95e9d5117e87e3ea\", element=\"2b6930bf-61e4-4305-bf6e-e1327eda109e\")>,\n",
       " <selenium.webdriver.remote.webelement.WebElement (session=\"592ff384e38d3b2b95e9d5117e87e3ea\", element=\"6fd58f34-4a36-4513-b02d-ad56a5626528\")>,\n",
       " <selenium.webdriver.remote.webelement.WebElement (session=\"592ff384e38d3b2b95e9d5117e87e3ea\", element=\"eb5ad029-80bc-4480-853e-3028ad9e5d4c\")>]"
      ]
     },
     "execution_count": 63,
     "metadata": {},
     "output_type": "execute_result"
    }
   ],
   "source": [
    "#So lets extract all the tags having the job titles\n",
    "prod_tags1 = driver.find_elements_by_xpath(\"//a[@class='IRpwTa']\")\n",
    "prod_tags1"
   ]
  },
  {
   "cell_type": "code",
   "execution_count": 65,
   "metadata": {},
   "outputs": [
    {
     "data": {
      "text/plain": [
       "['UV Protection Wayfarer Sunglasses (Free Size)',\n",
       " 'UV Protection Aviator Sunglasses (57)',\n",
       " 'UV Protection, Mirrored Retro Square Sunglasses (53)',\n",
       " 'UV Protection Aviator, Wayfarer Sunglasses (60)',\n",
       " 'UV Protection Round Sunglasses (Free Size)',\n",
       " 'Mirrored Aviator Sunglasses (58)',\n",
       " 'UV Protection, Mirrored Aviator Sunglasses (Free Size)',\n",
       " 'UV Protection Wrap-around Sunglasses (Free Size)',\n",
       " 'UV Protection Wayfarer Sunglasses (55)',\n",
       " 'UV Protection Aviator, Wrap-around Sunglasses (60)',\n",
       " 'UV Protection Rectangular, Cat-eye Sunglasses (58)',\n",
       " 'Mirrored Aviator Sunglasses (63)',\n",
       " 'UV Protection, Gradient, Night Vision Retro Square Sung...',\n",
       " 'UV Protection, Gradient Wayfarer Sunglasses (57)',\n",
       " 'UV Protection Cat-eye Sunglasses (60)',\n",
       " 'UV Protection Aviator Sunglasses (Free Size)',\n",
       " 'UV Protection Retro Square Sunglasses (Free Size)',\n",
       " 'UV Protection Aviator Sunglasses (Free Size)',\n",
       " 'UV Protection Aviator Sunglasses (57)',\n",
       " 'Polarized, UV Protection Wayfarer, Rectangular Sunglass...',\n",
       " 'UV Protection, Gradient Wayfarer Sunglasses (55)',\n",
       " 'UV Protection, Mirrored Retro Square Sunglasses (Free S...',\n",
       " 'Polarized, UV Protection, Riding Glasses Wayfarer Sungl...',\n",
       " 'UV Protection Wayfarer, Rectangular Sunglasses (64)',\n",
       " 'UV Protection Aviator Sunglasses (62)',\n",
       " 'UV Protection, Night Vision, Riding Glasses, Gradient, ...',\n",
       " 'UV Protection Aviator Sunglasses (54)',\n",
       " 'Polarized Aviator Sunglasses (60)',\n",
       " 'Rectangular Sunglasses',\n",
       " 'UV Protection Wayfarer, Rectangular Sunglasses (57)',\n",
       " 'Gradient, UV Protection Wayfarer Sunglasses (Free Size)',\n",
       " 'UV Protection, Riding Glasses Rectangular Sunglasses (F...',\n",
       " 'UV Protection Aviator Sunglasses (57)',\n",
       " 'UV Protection, Night Vision, Riding Glasses, Polarized ...',\n",
       " 'UV Protection Wayfarer Sunglasses (55)',\n",
       " 'UV Protection, Mirrored Retro Square Sunglasses (53)',\n",
       " 'Mirrored, UV Protection, Riding Glasses, Others Wrap-ar...',\n",
       " 'UV Protection Wayfarer Sunglasses (Free Size)',\n",
       " 'UV Protection, Night Vision, Gradient, Mirrored Round, ...',\n",
       " 'UV Protection, Gradient Butterfly, Over-sized Sunglasse...']"
      ]
     },
     "execution_count": 65,
     "metadata": {},
     "output_type": "execute_result"
    }
   ],
   "source": [
    "#Loop to iterate over the tags extracted above and extract the text inside them.\n",
    "prod_desc1=[]\n",
    "for i in prod_tags1:\n",
    "    prod_desc1.append(i.text)\n",
    "prod_desc1"
   ]
  },
  {
   "cell_type": "code",
   "execution_count": 66,
   "metadata": {},
   "outputs": [
    {
     "data": {
      "text/plain": [
       "[<selenium.webdriver.remote.webelement.WebElement (session=\"592ff384e38d3b2b95e9d5117e87e3ea\", element=\"b99f0197-6f66-4fb2-9c55-fcffd553233c\")>,\n",
       " <selenium.webdriver.remote.webelement.WebElement (session=\"592ff384e38d3b2b95e9d5117e87e3ea\", element=\"60559848-7e77-4cf8-9969-6ff0c348d069\")>,\n",
       " <selenium.webdriver.remote.webelement.WebElement (session=\"592ff384e38d3b2b95e9d5117e87e3ea\", element=\"f1ce2e3c-e9e8-4ea1-bb83-73f3d72a35f9\")>,\n",
       " <selenium.webdriver.remote.webelement.WebElement (session=\"592ff384e38d3b2b95e9d5117e87e3ea\", element=\"c8890b7a-d560-48b8-a86c-9805bf0f7f68\")>,\n",
       " <selenium.webdriver.remote.webelement.WebElement (session=\"592ff384e38d3b2b95e9d5117e87e3ea\", element=\"e99d038d-d029-4b3d-9ffb-979b75e90f1d\")>,\n",
       " <selenium.webdriver.remote.webelement.WebElement (session=\"592ff384e38d3b2b95e9d5117e87e3ea\", element=\"ead44f99-60ed-4f85-83a7-051f869bedb7\")>,\n",
       " <selenium.webdriver.remote.webelement.WebElement (session=\"592ff384e38d3b2b95e9d5117e87e3ea\", element=\"c0035468-22a4-45aa-bf36-1f56c4ca5a07\")>,\n",
       " <selenium.webdriver.remote.webelement.WebElement (session=\"592ff384e38d3b2b95e9d5117e87e3ea\", element=\"ea2bdcc6-9bc6-4c87-aec7-e6515db6a485\")>,\n",
       " <selenium.webdriver.remote.webelement.WebElement (session=\"592ff384e38d3b2b95e9d5117e87e3ea\", element=\"8c72b37d-fe89-4bc4-a9b7-4917569e5a1e\")>,\n",
       " <selenium.webdriver.remote.webelement.WebElement (session=\"592ff384e38d3b2b95e9d5117e87e3ea\", element=\"b9e89656-3be7-4d42-8a96-529d1bf905f6\")>,\n",
       " <selenium.webdriver.remote.webelement.WebElement (session=\"592ff384e38d3b2b95e9d5117e87e3ea\", element=\"1b10b3a9-ee77-44f1-a723-d51487b048db\")>,\n",
       " <selenium.webdriver.remote.webelement.WebElement (session=\"592ff384e38d3b2b95e9d5117e87e3ea\", element=\"1119eb19-54b2-40db-90ff-8d03007c1b13\")>,\n",
       " <selenium.webdriver.remote.webelement.WebElement (session=\"592ff384e38d3b2b95e9d5117e87e3ea\", element=\"1970adb2-4b52-435d-ac31-f6ec3323b0cb\")>,\n",
       " <selenium.webdriver.remote.webelement.WebElement (session=\"592ff384e38d3b2b95e9d5117e87e3ea\", element=\"ac48e1b4-79e3-4dbf-b163-960f3ad6835a\")>,\n",
       " <selenium.webdriver.remote.webelement.WebElement (session=\"592ff384e38d3b2b95e9d5117e87e3ea\", element=\"fe1dcef5-e024-4370-8bd9-f869060a9f70\")>,\n",
       " <selenium.webdriver.remote.webelement.WebElement (session=\"592ff384e38d3b2b95e9d5117e87e3ea\", element=\"14c42956-dfbf-4606-95e9-8071b0764277\")>,\n",
       " <selenium.webdriver.remote.webelement.WebElement (session=\"592ff384e38d3b2b95e9d5117e87e3ea\", element=\"d3c809fb-6997-45db-982c-5ba7a0eeb069\")>,\n",
       " <selenium.webdriver.remote.webelement.WebElement (session=\"592ff384e38d3b2b95e9d5117e87e3ea\", element=\"6f6926b3-cdfc-4e7a-8611-85fa295e17fa\")>,\n",
       " <selenium.webdriver.remote.webelement.WebElement (session=\"592ff384e38d3b2b95e9d5117e87e3ea\", element=\"6ca2d2b0-b01d-4276-aace-b2790e3534cf\")>,\n",
       " <selenium.webdriver.remote.webelement.WebElement (session=\"592ff384e38d3b2b95e9d5117e87e3ea\", element=\"c5db9952-fc40-4dec-9c5a-574f74812e80\")>,\n",
       " <selenium.webdriver.remote.webelement.WebElement (session=\"592ff384e38d3b2b95e9d5117e87e3ea\", element=\"38abc953-3cee-4d46-9249-d6d4494ec2c6\")>,\n",
       " <selenium.webdriver.remote.webelement.WebElement (session=\"592ff384e38d3b2b95e9d5117e87e3ea\", element=\"8df70f30-717e-4c65-9c43-b384e1fd979c\")>,\n",
       " <selenium.webdriver.remote.webelement.WebElement (session=\"592ff384e38d3b2b95e9d5117e87e3ea\", element=\"d6e309cc-1eed-44c3-9c70-80277671fe9a\")>,\n",
       " <selenium.webdriver.remote.webelement.WebElement (session=\"592ff384e38d3b2b95e9d5117e87e3ea\", element=\"1abf78e1-36cf-4993-b37d-f0fc51a9228d\")>,\n",
       " <selenium.webdriver.remote.webelement.WebElement (session=\"592ff384e38d3b2b95e9d5117e87e3ea\", element=\"04f40aab-a2b1-4756-9e51-3e7bab04db1d\")>,\n",
       " <selenium.webdriver.remote.webelement.WebElement (session=\"592ff384e38d3b2b95e9d5117e87e3ea\", element=\"294a0eec-85c2-4a77-8c9a-6c33cca40983\")>,\n",
       " <selenium.webdriver.remote.webelement.WebElement (session=\"592ff384e38d3b2b95e9d5117e87e3ea\", element=\"daf17d1d-bd4d-4167-978c-739a2d33cb95\")>,\n",
       " <selenium.webdriver.remote.webelement.WebElement (session=\"592ff384e38d3b2b95e9d5117e87e3ea\", element=\"5f5fbabd-4f16-49f2-b538-97076bde5711\")>,\n",
       " <selenium.webdriver.remote.webelement.WebElement (session=\"592ff384e38d3b2b95e9d5117e87e3ea\", element=\"b595ba2a-bfca-4799-93d5-ad6c4270b44f\")>,\n",
       " <selenium.webdriver.remote.webelement.WebElement (session=\"592ff384e38d3b2b95e9d5117e87e3ea\", element=\"61d86de7-4e42-4df3-a925-e0296a700d64\")>,\n",
       " <selenium.webdriver.remote.webelement.WebElement (session=\"592ff384e38d3b2b95e9d5117e87e3ea\", element=\"2295bf77-1888-47a2-bf80-a07bfc072926\")>,\n",
       " <selenium.webdriver.remote.webelement.WebElement (session=\"592ff384e38d3b2b95e9d5117e87e3ea\", element=\"5a8a8fa7-cff1-4b8e-b734-54708a66fe12\")>,\n",
       " <selenium.webdriver.remote.webelement.WebElement (session=\"592ff384e38d3b2b95e9d5117e87e3ea\", element=\"c31ab649-ea92-477a-959e-528a0ae72926\")>,\n",
       " <selenium.webdriver.remote.webelement.WebElement (session=\"592ff384e38d3b2b95e9d5117e87e3ea\", element=\"2cb633d4-3eba-4096-aa00-699cfbc40992\")>,\n",
       " <selenium.webdriver.remote.webelement.WebElement (session=\"592ff384e38d3b2b95e9d5117e87e3ea\", element=\"fe9630ce-80ad-4b59-b7d3-08cf6ede96b5\")>,\n",
       " <selenium.webdriver.remote.webelement.WebElement (session=\"592ff384e38d3b2b95e9d5117e87e3ea\", element=\"d1f388e5-a359-45aa-80f0-78e9441bdf21\")>,\n",
       " <selenium.webdriver.remote.webelement.WebElement (session=\"592ff384e38d3b2b95e9d5117e87e3ea\", element=\"8d9b7094-0d0c-4924-b374-971d38b84a32\")>,\n",
       " <selenium.webdriver.remote.webelement.WebElement (session=\"592ff384e38d3b2b95e9d5117e87e3ea\", element=\"861d6d0a-8839-40db-956c-b68b73495265\")>,\n",
       " <selenium.webdriver.remote.webelement.WebElement (session=\"592ff384e38d3b2b95e9d5117e87e3ea\", element=\"50dcb020-5813-421c-9d5e-01441306bc90\")>,\n",
       " <selenium.webdriver.remote.webelement.WebElement (session=\"592ff384e38d3b2b95e9d5117e87e3ea\", element=\"95f67850-0d99-41ab-84e2-152cecec9cf8\")>]"
      ]
     },
     "execution_count": 66,
     "metadata": {},
     "output_type": "execute_result"
    }
   ],
   "source": [
    "#So lets extract all the tags having the job titles\n",
    "price_tags1 = driver.find_elements_by_xpath(\"//div[@class='_30jeq3']\")\n",
    "price_tags1"
   ]
  },
  {
   "cell_type": "code",
   "execution_count": 67,
   "metadata": {},
   "outputs": [
    {
     "data": {
      "text/plain": [
       "['₹259',\n",
       " '₹281',\n",
       " '₹399',\n",
       " '₹1,206',\n",
       " '₹209',\n",
       " '₹399',\n",
       " '₹199',\n",
       " '₹499',\n",
       " '₹875',\n",
       " '₹1,206',\n",
       " '₹679',\n",
       " '₹3,843',\n",
       " '₹329',\n",
       " '₹525',\n",
       " '₹419',\n",
       " '₹674',\n",
       " '₹499',\n",
       " '₹339',\n",
       " '₹337',\n",
       " '₹1,132',\n",
       " '₹217',\n",
       " '₹399',\n",
       " '₹236',\n",
       " '₹1,206',\n",
       " '₹269',\n",
       " '₹210',\n",
       " '₹250',\n",
       " '₹1,129',\n",
       " '₹10,341',\n",
       " '₹1,206',\n",
       " '₹621',\n",
       " '₹449',\n",
       " '₹352',\n",
       " '₹395',\n",
       " '₹265',\n",
       " '₹399',\n",
       " '₹314',\n",
       " '₹200',\n",
       " '₹210',\n",
       " '₹785']"
      ]
     },
     "execution_count": 67,
     "metadata": {},
     "output_type": "execute_result"
    }
   ],
   "source": [
    "#Loop to iterate over the tags extracted above and extract the text inside them.\n",
    "price1=[]\n",
    "for i in price_tags1:\n",
    "    price1.append(i.text)\n",
    "price1"
   ]
  },
  {
   "cell_type": "code",
   "execution_count": 68,
   "metadata": {},
   "outputs": [
    {
     "data": {
      "text/plain": [
       "[<selenium.webdriver.remote.webelement.WebElement (session=\"592ff384e38d3b2b95e9d5117e87e3ea\", element=\"67c8704a-56b0-49b3-97d4-3f35fc6334b0\")>,\n",
       " <selenium.webdriver.remote.webelement.WebElement (session=\"592ff384e38d3b2b95e9d5117e87e3ea\", element=\"991ebd2f-5773-46e4-8a62-54486e444ca6\")>,\n",
       " <selenium.webdriver.remote.webelement.WebElement (session=\"592ff384e38d3b2b95e9d5117e87e3ea\", element=\"f7076eca-abef-445c-8a69-21837d6c6d99\")>,\n",
       " <selenium.webdriver.remote.webelement.WebElement (session=\"592ff384e38d3b2b95e9d5117e87e3ea\", element=\"3f4e4ffc-b953-4d80-b612-75ee8e423a40\")>,\n",
       " <selenium.webdriver.remote.webelement.WebElement (session=\"592ff384e38d3b2b95e9d5117e87e3ea\", element=\"9d252458-f1b2-428c-a8e8-13f62ac11e17\")>,\n",
       " <selenium.webdriver.remote.webelement.WebElement (session=\"592ff384e38d3b2b95e9d5117e87e3ea\", element=\"1a95f5c7-5645-49b1-90fb-135e274b8700\")>,\n",
       " <selenium.webdriver.remote.webelement.WebElement (session=\"592ff384e38d3b2b95e9d5117e87e3ea\", element=\"f198d8e5-30c8-4236-8102-ec904b2434b8\")>,\n",
       " <selenium.webdriver.remote.webelement.WebElement (session=\"592ff384e38d3b2b95e9d5117e87e3ea\", element=\"b85c7917-22b1-488c-8050-ea81210ee00a\")>,\n",
       " <selenium.webdriver.remote.webelement.WebElement (session=\"592ff384e38d3b2b95e9d5117e87e3ea\", element=\"9498f118-ec76-49db-80d4-72bdd772e279\")>,\n",
       " <selenium.webdriver.remote.webelement.WebElement (session=\"592ff384e38d3b2b95e9d5117e87e3ea\", element=\"1595be5e-1e0d-491b-9619-77b98aaeb8f9\")>,\n",
       " <selenium.webdriver.remote.webelement.WebElement (session=\"592ff384e38d3b2b95e9d5117e87e3ea\", element=\"51d320aa-056b-48fd-8a41-38e663e4b796\")>,\n",
       " <selenium.webdriver.remote.webelement.WebElement (session=\"592ff384e38d3b2b95e9d5117e87e3ea\", element=\"75626bf6-b8bc-4312-b35c-5b88e0bda75b\")>,\n",
       " <selenium.webdriver.remote.webelement.WebElement (session=\"592ff384e38d3b2b95e9d5117e87e3ea\", element=\"76c18f17-3c85-4771-a6f0-2c5a61b41a12\")>,\n",
       " <selenium.webdriver.remote.webelement.WebElement (session=\"592ff384e38d3b2b95e9d5117e87e3ea\", element=\"e731b09f-71e1-4bf3-842f-ca2b1c789a16\")>,\n",
       " <selenium.webdriver.remote.webelement.WebElement (session=\"592ff384e38d3b2b95e9d5117e87e3ea\", element=\"f7f5ff4d-3bbf-4244-a962-b17fe1ca12fa\")>,\n",
       " <selenium.webdriver.remote.webelement.WebElement (session=\"592ff384e38d3b2b95e9d5117e87e3ea\", element=\"7ede4039-18ea-4307-ba1c-27c2b244e143\")>,\n",
       " <selenium.webdriver.remote.webelement.WebElement (session=\"592ff384e38d3b2b95e9d5117e87e3ea\", element=\"b7ca30f6-5e7b-4b06-895e-cd375e0beb7f\")>,\n",
       " <selenium.webdriver.remote.webelement.WebElement (session=\"592ff384e38d3b2b95e9d5117e87e3ea\", element=\"fae00e70-d021-48b1-a0fc-f69b96c96eff\")>,\n",
       " <selenium.webdriver.remote.webelement.WebElement (session=\"592ff384e38d3b2b95e9d5117e87e3ea\", element=\"16be6e4c-7d66-436e-877a-77f4f1a66ebf\")>,\n",
       " <selenium.webdriver.remote.webelement.WebElement (session=\"592ff384e38d3b2b95e9d5117e87e3ea\", element=\"ac5c6c07-b85f-4da5-a855-e2bc474b439f\")>,\n",
       " <selenium.webdriver.remote.webelement.WebElement (session=\"592ff384e38d3b2b95e9d5117e87e3ea\", element=\"39972373-8a7e-40e5-bdf4-ac7b628840c7\")>,\n",
       " <selenium.webdriver.remote.webelement.WebElement (session=\"592ff384e38d3b2b95e9d5117e87e3ea\", element=\"c79e623b-f5e5-483f-8c61-a3577852af64\")>,\n",
       " <selenium.webdriver.remote.webelement.WebElement (session=\"592ff384e38d3b2b95e9d5117e87e3ea\", element=\"4aa51a33-f315-4120-ad39-8338f71c4a20\")>,\n",
       " <selenium.webdriver.remote.webelement.WebElement (session=\"592ff384e38d3b2b95e9d5117e87e3ea\", element=\"c1e2231b-15bb-4f5d-9627-6ecad536b25d\")>,\n",
       " <selenium.webdriver.remote.webelement.WebElement (session=\"592ff384e38d3b2b95e9d5117e87e3ea\", element=\"1484d37a-be2f-4409-93d2-dd20bc93e438\")>,\n",
       " <selenium.webdriver.remote.webelement.WebElement (session=\"592ff384e38d3b2b95e9d5117e87e3ea\", element=\"b6ce0123-55d8-4d42-9a55-807776b11d88\")>,\n",
       " <selenium.webdriver.remote.webelement.WebElement (session=\"592ff384e38d3b2b95e9d5117e87e3ea\", element=\"6f0f12c9-a7fb-4ed2-88c0-be93d94c00ee\")>,\n",
       " <selenium.webdriver.remote.webelement.WebElement (session=\"592ff384e38d3b2b95e9d5117e87e3ea\", element=\"4ca55cd3-194b-44bc-8a0d-d5c518e41669\")>,\n",
       " <selenium.webdriver.remote.webelement.WebElement (session=\"592ff384e38d3b2b95e9d5117e87e3ea\", element=\"ca799bd5-247c-4d83-879b-405f2b4272c3\")>,\n",
       " <selenium.webdriver.remote.webelement.WebElement (session=\"592ff384e38d3b2b95e9d5117e87e3ea\", element=\"a24e5235-2f07-4b7f-985d-6899def01c09\")>,\n",
       " <selenium.webdriver.remote.webelement.WebElement (session=\"592ff384e38d3b2b95e9d5117e87e3ea\", element=\"ce7394d1-8be6-49b0-ad52-c8e2cab881f8\")>,\n",
       " <selenium.webdriver.remote.webelement.WebElement (session=\"592ff384e38d3b2b95e9d5117e87e3ea\", element=\"91ac58f0-b3c5-4efa-9286-a642980e4c12\")>,\n",
       " <selenium.webdriver.remote.webelement.WebElement (session=\"592ff384e38d3b2b95e9d5117e87e3ea\", element=\"dcb04a19-aa3a-43b1-ad67-d0682f94f992\")>,\n",
       " <selenium.webdriver.remote.webelement.WebElement (session=\"592ff384e38d3b2b95e9d5117e87e3ea\", element=\"64beee15-898f-4f9d-b7b2-99cf1498c093\")>,\n",
       " <selenium.webdriver.remote.webelement.WebElement (session=\"592ff384e38d3b2b95e9d5117e87e3ea\", element=\"65279c66-1e8e-4ece-8d56-ae30bb02f075\")>,\n",
       " <selenium.webdriver.remote.webelement.WebElement (session=\"592ff384e38d3b2b95e9d5117e87e3ea\", element=\"795663bc-4a20-4e8c-bf6c-ffd9914d2f79\")>,\n",
       " <selenium.webdriver.remote.webelement.WebElement (session=\"592ff384e38d3b2b95e9d5117e87e3ea\", element=\"37dcda40-ba12-4feb-a993-08417fdb87cb\")>,\n",
       " <selenium.webdriver.remote.webelement.WebElement (session=\"592ff384e38d3b2b95e9d5117e87e3ea\", element=\"c14b2ae7-826f-453e-887f-1c40499c9eeb\")>,\n",
       " <selenium.webdriver.remote.webelement.WebElement (session=\"592ff384e38d3b2b95e9d5117e87e3ea\", element=\"fbf1afc7-f03c-41b1-856e-0dd0f6dbefd5\")>,\n",
       " <selenium.webdriver.remote.webelement.WebElement (session=\"592ff384e38d3b2b95e9d5117e87e3ea\", element=\"b60b06f1-6934-474c-9628-84cd64dec7b1\")>]"
      ]
     },
     "execution_count": 68,
     "metadata": {},
     "output_type": "execute_result"
    }
   ],
   "source": [
    "#So lets extract all the tags having the job titles\n",
    "discount_tags1 = driver.find_elements_by_xpath(\"//div[@class='_3Ay6Sb']\")\n",
    "discount_tags1"
   ]
  },
  {
   "cell_type": "code",
   "execution_count": 69,
   "metadata": {},
   "outputs": [
    {
     "data": {
      "text/plain": [
       "['82% off',\n",
       " '85% off',\n",
       " '80% off',\n",
       " '71% off',\n",
       " '73% off',\n",
       " '73% off',\n",
       " '80% off',\n",
       " '66% off',\n",
       " '70% off',\n",
       " '71% off',\n",
       " '72% off',\n",
       " '30% off',\n",
       " '83% off',\n",
       " '80% off',\n",
       " '71% off',\n",
       " '25% off',\n",
       " '77% off',\n",
       " '71% off',\n",
       " '83% off',\n",
       " '71% off',\n",
       " '78% off',\n",
       " '80% off',\n",
       " '60% off',\n",
       " '71% off',\n",
       " '77% off',\n",
       " '83% off',\n",
       " '84% off',\n",
       " '65% off',\n",
       " '10% off',\n",
       " '71% off',\n",
       " '22% off',\n",
       " '79% off',\n",
       " '82% off',\n",
       " '75% off',\n",
       " '79% off',\n",
       " '80% off',\n",
       " '84% off',\n",
       " '59% off',\n",
       " '78% off',\n",
       " '71% off']"
      ]
     },
     "execution_count": 69,
     "metadata": {},
     "output_type": "execute_result"
    }
   ],
   "source": [
    "#Loop to iterate over the tags extracted above and extract the text inside them.\n",
    "discount1=[]\n",
    "for i in discount_tags1:\n",
    "    discount1.append(i.text)\n",
    "discount1"
   ]
  },
  {
   "cell_type": "code",
   "execution_count": 72,
   "metadata": {},
   "outputs": [],
   "source": [
    "#do click using xpath function for 3rd page\n",
    "search_btn = driver.find_element_by_xpath(\"//a[@href='/search?q=Sunglasses&otracker=search&otracker1=search&marketplace=FLIPKART&as-show=on&as=off&page=3']\")\n",
    "search_btn.click()"
   ]
  },
  {
   "cell_type": "code",
   "execution_count": 73,
   "metadata": {},
   "outputs": [
    {
     "data": {
      "text/plain": [
       "[<selenium.webdriver.remote.webelement.WebElement (session=\"592ff384e38d3b2b95e9d5117e87e3ea\", element=\"98833726-8988-4952-af4f-a59d531d3017\")>,\n",
       " <selenium.webdriver.remote.webelement.WebElement (session=\"592ff384e38d3b2b95e9d5117e87e3ea\", element=\"5b6cec33-1456-44bc-abef-4b986d3c1809\")>,\n",
       " <selenium.webdriver.remote.webelement.WebElement (session=\"592ff384e38d3b2b95e9d5117e87e3ea\", element=\"12fde2ec-df3c-4f65-b471-39e0f7e39f44\")>,\n",
       " <selenium.webdriver.remote.webelement.WebElement (session=\"592ff384e38d3b2b95e9d5117e87e3ea\", element=\"8987adc4-3dd0-4e75-b7ae-fe9f6bd88692\")>,\n",
       " <selenium.webdriver.remote.webelement.WebElement (session=\"592ff384e38d3b2b95e9d5117e87e3ea\", element=\"61015bf4-2240-41d5-9689-5b94228b6a77\")>,\n",
       " <selenium.webdriver.remote.webelement.WebElement (session=\"592ff384e38d3b2b95e9d5117e87e3ea\", element=\"c0c89f80-e110-4a34-91b0-1f4dcb8a2b59\")>,\n",
       " <selenium.webdriver.remote.webelement.WebElement (session=\"592ff384e38d3b2b95e9d5117e87e3ea\", element=\"3c0d8399-5be7-4ce4-a476-16478202e583\")>,\n",
       " <selenium.webdriver.remote.webelement.WebElement (session=\"592ff384e38d3b2b95e9d5117e87e3ea\", element=\"615fd9f8-6616-4ce0-80c2-e90b48e7d1cb\")>,\n",
       " <selenium.webdriver.remote.webelement.WebElement (session=\"592ff384e38d3b2b95e9d5117e87e3ea\", element=\"136a8db3-cfff-4582-923d-b8350337c9f3\")>,\n",
       " <selenium.webdriver.remote.webelement.WebElement (session=\"592ff384e38d3b2b95e9d5117e87e3ea\", element=\"073646c9-ffa7-4742-adb4-76d76984a4ab\")>,\n",
       " <selenium.webdriver.remote.webelement.WebElement (session=\"592ff384e38d3b2b95e9d5117e87e3ea\", element=\"b944d4f2-8267-4cf5-ac33-258d9193f694\")>,\n",
       " <selenium.webdriver.remote.webelement.WebElement (session=\"592ff384e38d3b2b95e9d5117e87e3ea\", element=\"3a8d0d0e-4d6b-43e1-8770-787e9dea8a07\")>,\n",
       " <selenium.webdriver.remote.webelement.WebElement (session=\"592ff384e38d3b2b95e9d5117e87e3ea\", element=\"5ff9eb45-acfd-4434-ba21-db31afd513fe\")>,\n",
       " <selenium.webdriver.remote.webelement.WebElement (session=\"592ff384e38d3b2b95e9d5117e87e3ea\", element=\"95bd5377-60e9-43f5-be71-44374069b89e\")>,\n",
       " <selenium.webdriver.remote.webelement.WebElement (session=\"592ff384e38d3b2b95e9d5117e87e3ea\", element=\"8f1a2f7c-9629-42c5-9ef4-e69c31fcc212\")>,\n",
       " <selenium.webdriver.remote.webelement.WebElement (session=\"592ff384e38d3b2b95e9d5117e87e3ea\", element=\"2f0ab69f-f793-4474-a744-72c177318d5c\")>,\n",
       " <selenium.webdriver.remote.webelement.WebElement (session=\"592ff384e38d3b2b95e9d5117e87e3ea\", element=\"c8862fa8-c457-4866-a575-12962ea19362\")>,\n",
       " <selenium.webdriver.remote.webelement.WebElement (session=\"592ff384e38d3b2b95e9d5117e87e3ea\", element=\"5d68c8c2-5af3-4b47-8ce9-1782af0017c6\")>,\n",
       " <selenium.webdriver.remote.webelement.WebElement (session=\"592ff384e38d3b2b95e9d5117e87e3ea\", element=\"fdfba8ad-bcc7-4716-b419-ee67caefb5b3\")>,\n",
       " <selenium.webdriver.remote.webelement.WebElement (session=\"592ff384e38d3b2b95e9d5117e87e3ea\", element=\"43e2e824-c3f9-45c8-a4fc-4f6ab50770d0\")>,\n",
       " <selenium.webdriver.remote.webelement.WebElement (session=\"592ff384e38d3b2b95e9d5117e87e3ea\", element=\"cbd502b4-c587-4dec-b6ee-646532666c8f\")>,\n",
       " <selenium.webdriver.remote.webelement.WebElement (session=\"592ff384e38d3b2b95e9d5117e87e3ea\", element=\"40212de0-a8e2-4a4b-b6ba-01a679f9fe53\")>,\n",
       " <selenium.webdriver.remote.webelement.WebElement (session=\"592ff384e38d3b2b95e9d5117e87e3ea\", element=\"148195f1-4c24-457b-bbc8-c0bf8f9cb1a8\")>,\n",
       " <selenium.webdriver.remote.webelement.WebElement (session=\"592ff384e38d3b2b95e9d5117e87e3ea\", element=\"9d629626-a27d-499a-905b-4da1c564803c\")>,\n",
       " <selenium.webdriver.remote.webelement.WebElement (session=\"592ff384e38d3b2b95e9d5117e87e3ea\", element=\"b7c1413a-d289-45d7-9877-e9822dd50252\")>,\n",
       " <selenium.webdriver.remote.webelement.WebElement (session=\"592ff384e38d3b2b95e9d5117e87e3ea\", element=\"f17f1932-9630-4e1e-b213-69a41912ad61\")>,\n",
       " <selenium.webdriver.remote.webelement.WebElement (session=\"592ff384e38d3b2b95e9d5117e87e3ea\", element=\"934496a8-8bb9-4de5-b1a9-8f14dd610d07\")>,\n",
       " <selenium.webdriver.remote.webelement.WebElement (session=\"592ff384e38d3b2b95e9d5117e87e3ea\", element=\"fb1b7267-2369-4b9d-bf1c-8dc5e25b7253\")>,\n",
       " <selenium.webdriver.remote.webelement.WebElement (session=\"592ff384e38d3b2b95e9d5117e87e3ea\", element=\"48a4fc68-adf7-451a-9cb5-858e0d8daec8\")>,\n",
       " <selenium.webdriver.remote.webelement.WebElement (session=\"592ff384e38d3b2b95e9d5117e87e3ea\", element=\"a49586c2-7c11-44c1-8e33-ea4a24676e7b\")>,\n",
       " <selenium.webdriver.remote.webelement.WebElement (session=\"592ff384e38d3b2b95e9d5117e87e3ea\", element=\"ff24d91f-56f6-46dd-8090-f02ee8cf33de\")>,\n",
       " <selenium.webdriver.remote.webelement.WebElement (session=\"592ff384e38d3b2b95e9d5117e87e3ea\", element=\"9fc41f6f-3b64-4088-b789-4924a9e1411b\")>,\n",
       " <selenium.webdriver.remote.webelement.WebElement (session=\"592ff384e38d3b2b95e9d5117e87e3ea\", element=\"c8d4a419-dda4-48b8-a34d-54af40089675\")>,\n",
       " <selenium.webdriver.remote.webelement.WebElement (session=\"592ff384e38d3b2b95e9d5117e87e3ea\", element=\"aa95fb27-e11e-4b3e-9088-027ace0fdfba\")>,\n",
       " <selenium.webdriver.remote.webelement.WebElement (session=\"592ff384e38d3b2b95e9d5117e87e3ea\", element=\"571ada01-5887-48bc-a608-65ec5f7923b9\")>,\n",
       " <selenium.webdriver.remote.webelement.WebElement (session=\"592ff384e38d3b2b95e9d5117e87e3ea\", element=\"27792e43-912b-466f-a8e7-2c39dc957a0f\")>,\n",
       " <selenium.webdriver.remote.webelement.WebElement (session=\"592ff384e38d3b2b95e9d5117e87e3ea\", element=\"bb06b4c4-fa0b-4ccd-8fe5-7361e1b97829\")>,\n",
       " <selenium.webdriver.remote.webelement.WebElement (session=\"592ff384e38d3b2b95e9d5117e87e3ea\", element=\"bbacec6f-fb47-4112-a487-d8b36af23855\")>,\n",
       " <selenium.webdriver.remote.webelement.WebElement (session=\"592ff384e38d3b2b95e9d5117e87e3ea\", element=\"74e9bad3-fe8b-4986-a1c7-4987f8e05db2\")>,\n",
       " <selenium.webdriver.remote.webelement.WebElement (session=\"592ff384e38d3b2b95e9d5117e87e3ea\", element=\"3991fb8b-1ba0-4f24-9c11-88ff75a92ef8\")>]"
      ]
     },
     "execution_count": 73,
     "metadata": {},
     "output_type": "execute_result"
    }
   ],
   "source": [
    "#So lets extract all the tags having the brand name\n",
    "brand_tags2 = driver.find_elements_by_xpath(\"//div[@class='_2WkVRV']\")\n",
    "brand_tags2"
   ]
  },
  {
   "cell_type": "code",
   "execution_count": 74,
   "metadata": {},
   "outputs": [
    {
     "data": {
      "text/plain": [
       "['Silver Kartz',\n",
       " 'ROZZETTA CRAFT',\n",
       " 'GANSTA',\n",
       " 'SUNBEE',\n",
       " 'ROYAL SON',\n",
       " 'PHENOMENAL',\n",
       " 'Singco India',\n",
       " 'DEIXELS',\n",
       " 'hipe',\n",
       " 'HAMIW COLLECTION',\n",
       " 'Silver Kartz',\n",
       " 'Fastrack',\n",
       " 'ROZZETTA CRAFT',\n",
       " 'HAMIW COLLECTION',\n",
       " 'ROYAL SON',\n",
       " 'GANSTA',\n",
       " 'PHENOMENAL',\n",
       " 'Singco India',\n",
       " 'Fastrack',\n",
       " 'HAMIW COLLECTION',\n",
       " 'ROYAL SON',\n",
       " 'ROZZETTA CRAFT',\n",
       " 'PHENOMENAL',\n",
       " 'HAMIW COLLECTION',\n",
       " 'GANSTA',\n",
       " 'Fastrack',\n",
       " 'ROYAL SON',\n",
       " 'ROZZETTA CRAFT',\n",
       " 'GANSTA',\n",
       " 'ROYAL SON',\n",
       " 'Fastrack',\n",
       " 'ROYAL SON',\n",
       " 'ROZZETTA CRAFT',\n",
       " 'AISLIN',\n",
       " 'GANSTA',\n",
       " 'Fastrack',\n",
       " 'ROYAL SON',\n",
       " 'Fastrack',\n",
       " 'ROZZETTA CRAFT',\n",
       " 'NuVew']"
      ]
     },
     "execution_count": 74,
     "metadata": {},
     "output_type": "execute_result"
    }
   ],
   "source": [
    "#Loop to iterate over the tags extracted above and extract the text inside them.\n",
    "brand_name2=[]\n",
    "for i in brand_tags2:\n",
    "    brand_name2.append(i.text)\n",
    "brand_name2"
   ]
  },
  {
   "cell_type": "code",
   "execution_count": 76,
   "metadata": {},
   "outputs": [
    {
     "data": {
      "text/plain": [
       "[<selenium.webdriver.remote.webelement.WebElement (session=\"592ff384e38d3b2b95e9d5117e87e3ea\", element=\"2a9a56be-a1c8-4e97-bc19-27a4e557e7c4\")>,\n",
       " <selenium.webdriver.remote.webelement.WebElement (session=\"592ff384e38d3b2b95e9d5117e87e3ea\", element=\"dfe857bd-acf2-4f49-a177-1b84c72a9011\")>,\n",
       " <selenium.webdriver.remote.webelement.WebElement (session=\"592ff384e38d3b2b95e9d5117e87e3ea\", element=\"3d460530-996d-4f18-8df9-27220f9cb043\")>,\n",
       " <selenium.webdriver.remote.webelement.WebElement (session=\"592ff384e38d3b2b95e9d5117e87e3ea\", element=\"70a72908-0517-4598-95d9-5c10387c14db\")>,\n",
       " <selenium.webdriver.remote.webelement.WebElement (session=\"592ff384e38d3b2b95e9d5117e87e3ea\", element=\"c0473dd0-0ffb-4515-a3fc-5265e390fcc7\")>,\n",
       " <selenium.webdriver.remote.webelement.WebElement (session=\"592ff384e38d3b2b95e9d5117e87e3ea\", element=\"f30d6875-ce47-423f-9b4d-03f9db5bdac3\")>,\n",
       " <selenium.webdriver.remote.webelement.WebElement (session=\"592ff384e38d3b2b95e9d5117e87e3ea\", element=\"de31b8d8-7a0a-415b-87b6-9252d179e1d5\")>,\n",
       " <selenium.webdriver.remote.webelement.WebElement (session=\"592ff384e38d3b2b95e9d5117e87e3ea\", element=\"5651da34-daad-4fb7-871f-e45ebf46b77e\")>,\n",
       " <selenium.webdriver.remote.webelement.WebElement (session=\"592ff384e38d3b2b95e9d5117e87e3ea\", element=\"4d63e996-74a1-4ddc-9841-049eff29d449\")>,\n",
       " <selenium.webdriver.remote.webelement.WebElement (session=\"592ff384e38d3b2b95e9d5117e87e3ea\", element=\"f6798266-c166-41a3-9f10-cf00327294cb\")>,\n",
       " <selenium.webdriver.remote.webelement.WebElement (session=\"592ff384e38d3b2b95e9d5117e87e3ea\", element=\"f122e734-638e-41ca-81ad-923c419fb394\")>,\n",
       " <selenium.webdriver.remote.webelement.WebElement (session=\"592ff384e38d3b2b95e9d5117e87e3ea\", element=\"1fc146ab-e5a5-46b3-b261-349751ee10ad\")>,\n",
       " <selenium.webdriver.remote.webelement.WebElement (session=\"592ff384e38d3b2b95e9d5117e87e3ea\", element=\"06a0d0bd-bcb9-4cb5-9e6d-3fc3589ab209\")>,\n",
       " <selenium.webdriver.remote.webelement.WebElement (session=\"592ff384e38d3b2b95e9d5117e87e3ea\", element=\"76256bec-5d47-4744-9b3b-2c812210e1bf\")>,\n",
       " <selenium.webdriver.remote.webelement.WebElement (session=\"592ff384e38d3b2b95e9d5117e87e3ea\", element=\"d65588c6-4e84-4f0c-8019-1af7cb10d78a\")>,\n",
       " <selenium.webdriver.remote.webelement.WebElement (session=\"592ff384e38d3b2b95e9d5117e87e3ea\", element=\"b68fcd3d-ec30-4bc8-9dc9-a2e5be26fab5\")>,\n",
       " <selenium.webdriver.remote.webelement.WebElement (session=\"592ff384e38d3b2b95e9d5117e87e3ea\", element=\"36f17ef1-67fe-4bcc-883d-ca7576c2ea1d\")>,\n",
       " <selenium.webdriver.remote.webelement.WebElement (session=\"592ff384e38d3b2b95e9d5117e87e3ea\", element=\"14466444-9a88-494d-aa55-719b06c8c087\")>,\n",
       " <selenium.webdriver.remote.webelement.WebElement (session=\"592ff384e38d3b2b95e9d5117e87e3ea\", element=\"70270c5f-f141-4746-b381-67f939800bec\")>,\n",
       " <selenium.webdriver.remote.webelement.WebElement (session=\"592ff384e38d3b2b95e9d5117e87e3ea\", element=\"e0c657f7-dba9-4411-a489-c17250ec5476\")>,\n",
       " <selenium.webdriver.remote.webelement.WebElement (session=\"592ff384e38d3b2b95e9d5117e87e3ea\", element=\"c40ad8f6-b7f0-4a74-a99a-f45c8fdeb6d8\")>,\n",
       " <selenium.webdriver.remote.webelement.WebElement (session=\"592ff384e38d3b2b95e9d5117e87e3ea\", element=\"301656a9-8caa-4a87-8a00-1f673b707531\")>,\n",
       " <selenium.webdriver.remote.webelement.WebElement (session=\"592ff384e38d3b2b95e9d5117e87e3ea\", element=\"c97670fa-b09c-4fb4-b666-1abe8514407d\")>,\n",
       " <selenium.webdriver.remote.webelement.WebElement (session=\"592ff384e38d3b2b95e9d5117e87e3ea\", element=\"7b5f6306-3ad1-4bc5-ba3f-5dce517d991e\")>,\n",
       " <selenium.webdriver.remote.webelement.WebElement (session=\"592ff384e38d3b2b95e9d5117e87e3ea\", element=\"3fae1b86-6df6-4929-9060-c73f69ef0430\")>,\n",
       " <selenium.webdriver.remote.webelement.WebElement (session=\"592ff384e38d3b2b95e9d5117e87e3ea\", element=\"85faa340-315b-4d42-8f83-ab9f50c00bee\")>,\n",
       " <selenium.webdriver.remote.webelement.WebElement (session=\"592ff384e38d3b2b95e9d5117e87e3ea\", element=\"12949bc1-df4e-40bd-b038-ffbef3711cc0\")>,\n",
       " <selenium.webdriver.remote.webelement.WebElement (session=\"592ff384e38d3b2b95e9d5117e87e3ea\", element=\"be3eb4c7-502a-40aa-af4f-ee10d35a1154\")>,\n",
       " <selenium.webdriver.remote.webelement.WebElement (session=\"592ff384e38d3b2b95e9d5117e87e3ea\", element=\"7a47e345-9750-4a20-93e5-c66c22502872\")>,\n",
       " <selenium.webdriver.remote.webelement.WebElement (session=\"592ff384e38d3b2b95e9d5117e87e3ea\", element=\"4e35e50e-6825-4799-8202-ffd6cb7ce540\")>,\n",
       " <selenium.webdriver.remote.webelement.WebElement (session=\"592ff384e38d3b2b95e9d5117e87e3ea\", element=\"dddc52de-5b17-4afc-a610-4bd309cf85ea\")>,\n",
       " <selenium.webdriver.remote.webelement.WebElement (session=\"592ff384e38d3b2b95e9d5117e87e3ea\", element=\"2aa3577b-212f-455e-9ff4-b5f76369b475\")>,\n",
       " <selenium.webdriver.remote.webelement.WebElement (session=\"592ff384e38d3b2b95e9d5117e87e3ea\", element=\"9ab57049-e32b-433b-8ab3-6fa11bb3d0bf\")>,\n",
       " <selenium.webdriver.remote.webelement.WebElement (session=\"592ff384e38d3b2b95e9d5117e87e3ea\", element=\"41db52b7-15d1-4218-a798-fc72fd634c0d\")>,\n",
       " <selenium.webdriver.remote.webelement.WebElement (session=\"592ff384e38d3b2b95e9d5117e87e3ea\", element=\"891d2fa0-3b02-49df-afd6-34f3dcd3ac5c\")>,\n",
       " <selenium.webdriver.remote.webelement.WebElement (session=\"592ff384e38d3b2b95e9d5117e87e3ea\", element=\"c6dfd250-2788-4168-accc-932e9b5d7a2e\")>,\n",
       " <selenium.webdriver.remote.webelement.WebElement (session=\"592ff384e38d3b2b95e9d5117e87e3ea\", element=\"07b9abc9-85db-41d6-95a6-ce00ebe9622a\")>,\n",
       " <selenium.webdriver.remote.webelement.WebElement (session=\"592ff384e38d3b2b95e9d5117e87e3ea\", element=\"de54eec5-2fe2-4cb7-8f0d-86f0dac6a74c\")>,\n",
       " <selenium.webdriver.remote.webelement.WebElement (session=\"592ff384e38d3b2b95e9d5117e87e3ea\", element=\"116d3f2e-13d4-4a6c-881d-748b7c27501f\")>,\n",
       " <selenium.webdriver.remote.webelement.WebElement (session=\"592ff384e38d3b2b95e9d5117e87e3ea\", element=\"80799950-8c05-4604-9f3d-f7d81303db56\")>]"
      ]
     },
     "execution_count": 76,
     "metadata": {},
     "output_type": "execute_result"
    }
   ],
   "source": [
    "#So lets extract all the tags having the product desc\n",
    "prod_tags2 = driver.find_elements_by_xpath(\"//a[@class='IRpwTa']\")\n",
    "prod_tags2"
   ]
  },
  {
   "cell_type": "code",
   "execution_count": 77,
   "metadata": {},
   "outputs": [
    {
     "data": {
      "text/plain": [
       "['UV Protection Wayfarer, Aviator Sunglasses (88)',\n",
       " 'UV Protection, Gradient Retro Square Sunglasses (Free S...',\n",
       " 'UV Protection, Night Vision, Riding Glasses Aviator Sun...',\n",
       " 'UV Protection, Polarized, Mirrored Round Sunglasses (Fr...',\n",
       " 'Mirrored Aviator Sunglasses (55)',\n",
       " 'UV Protection Clubmaster Sunglasses (Free Size)',\n",
       " 'UV Protection Round Sunglasses (Free Size)',\n",
       " 'UV Protection Rectangular Sunglasses (Free Size)',\n",
       " 'Mirrored, UV Protection, Gradient Round Sunglasses (55)',\n",
       " 'UV Protection Round Sunglasses (53)',\n",
       " 'UV Protection Oval Sunglasses (56)',\n",
       " 'UV Protection Aviator Sunglasses (58)',\n",
       " 'Gradient, UV Protection Round Sunglasses (Free Size)',\n",
       " 'UV Protection Round Sunglasses (Free Size)',\n",
       " 'Polarized, UV Protection Aviator Sunglasses (58)',\n",
       " 'UV Protection Retro Square Sunglasses (53)',\n",
       " 'UV Protection, Mirrored, Gradient Retro Square Sunglass...',\n",
       " 'Riding Glasses, UV Protection, Others Aviator Sunglasse...',\n",
       " 'UV Protection Wayfarer Sunglasses (57)',\n",
       " 'UV Protection Wayfarer, Sports, Shield, Rectangular, Re...',\n",
       " 'Polarized Sports Sunglasses (68)',\n",
       " 'UV Protection, Gradient Rectangular Sunglasses (Free Si...',\n",
       " 'UV Protection, Mirrored Clubmaster Sunglasses (Free Siz...',\n",
       " 'UV Protection Wayfarer, Sports, Shield, Rectangular, Re...',\n",
       " 'UV Protection Aviator Sunglasses (57)',\n",
       " 'UV Protection, Polarized Wayfarer Sunglasses (56)',\n",
       " 'UV Protection Retro Square Sunglasses (88)',\n",
       " 'UV Protection, Gradient Retro Square Sunglasses (62)',\n",
       " 'UV Protection, Riding Glasses Wayfarer Sunglasses (53)',\n",
       " 'UV Protection Wrap-around Sunglasses (52)',\n",
       " 'UV Protection Wayfarer Sunglasses (Free Size)',\n",
       " 'UV Protection Retro Square Sunglasses (58)',\n",
       " 'UV Protection, Gradient Butterfly, Shield Sunglasses (F...',\n",
       " 'UV Protection, Gradient Round, Shield Sunglasses (50)',\n",
       " 'UV Protection, Gradient Wayfarer Sunglasses (53)',\n",
       " 'UV Protection Wayfarer Sunglasses (56)',\n",
       " 'UV Protection Retro Square Sunglasses (88)',\n",
       " 'UV Protection Wayfarer Sunglasses (Free Size)',\n",
       " 'UV Protection, Gradient Round Sunglasses (Free Size)',\n",
       " 'UV Protection, Gradient Cat-eye Sunglasses (63)']"
      ]
     },
     "execution_count": 77,
     "metadata": {},
     "output_type": "execute_result"
    }
   ],
   "source": [
    "#Loop to iterate over the tags extracted above and extract the text inside them.\n",
    "prod_desc2=[]\n",
    "for i in prod_tags2:\n",
    "    prod_desc2.append(i.text)\n",
    "prod_desc2"
   ]
  },
  {
   "cell_type": "code",
   "execution_count": 78,
   "metadata": {},
   "outputs": [
    {
     "data": {
      "text/plain": [
       "[<selenium.webdriver.remote.webelement.WebElement (session=\"592ff384e38d3b2b95e9d5117e87e3ea\", element=\"5427ddd5-f2a4-48e1-99aa-3328928945a9\")>,\n",
       " <selenium.webdriver.remote.webelement.WebElement (session=\"592ff384e38d3b2b95e9d5117e87e3ea\", element=\"f4b5e843-72b4-4431-87db-90612aa1beed\")>,\n",
       " <selenium.webdriver.remote.webelement.WebElement (session=\"592ff384e38d3b2b95e9d5117e87e3ea\", element=\"f842e839-6d2d-4b34-8a34-a0fc0dad122f\")>,\n",
       " <selenium.webdriver.remote.webelement.WebElement (session=\"592ff384e38d3b2b95e9d5117e87e3ea\", element=\"950260a1-874a-48b4-9e2a-9f5fb4bef886\")>,\n",
       " <selenium.webdriver.remote.webelement.WebElement (session=\"592ff384e38d3b2b95e9d5117e87e3ea\", element=\"149e0f97-bcc3-4f8e-af79-945b132261f3\")>,\n",
       " <selenium.webdriver.remote.webelement.WebElement (session=\"592ff384e38d3b2b95e9d5117e87e3ea\", element=\"4e30e4ee-62dc-43b9-985f-9693e329f885\")>,\n",
       " <selenium.webdriver.remote.webelement.WebElement (session=\"592ff384e38d3b2b95e9d5117e87e3ea\", element=\"8efc0c9c-e0de-42db-90b2-c53a1b689c96\")>,\n",
       " <selenium.webdriver.remote.webelement.WebElement (session=\"592ff384e38d3b2b95e9d5117e87e3ea\", element=\"d8cd17ab-9421-4ead-8770-0e34b92bef8d\")>,\n",
       " <selenium.webdriver.remote.webelement.WebElement (session=\"592ff384e38d3b2b95e9d5117e87e3ea\", element=\"412a286a-c260-4751-86db-0b3aed911cd5\")>,\n",
       " <selenium.webdriver.remote.webelement.WebElement (session=\"592ff384e38d3b2b95e9d5117e87e3ea\", element=\"34c748dc-c82f-48a9-9743-1380c52f1763\")>,\n",
       " <selenium.webdriver.remote.webelement.WebElement (session=\"592ff384e38d3b2b95e9d5117e87e3ea\", element=\"ecf4f3a9-7187-4cb9-9f82-753cb48a7d2c\")>,\n",
       " <selenium.webdriver.remote.webelement.WebElement (session=\"592ff384e38d3b2b95e9d5117e87e3ea\", element=\"77669994-c078-4458-92cf-e70621ec9161\")>,\n",
       " <selenium.webdriver.remote.webelement.WebElement (session=\"592ff384e38d3b2b95e9d5117e87e3ea\", element=\"95cf3b3a-fc69-408b-8141-c3c53d2d50a2\")>,\n",
       " <selenium.webdriver.remote.webelement.WebElement (session=\"592ff384e38d3b2b95e9d5117e87e3ea\", element=\"0b8dd247-63cb-4b52-989c-eec9675b7a61\")>,\n",
       " <selenium.webdriver.remote.webelement.WebElement (session=\"592ff384e38d3b2b95e9d5117e87e3ea\", element=\"27d95986-eb1b-4e3c-9f02-b65e6a4f589b\")>,\n",
       " <selenium.webdriver.remote.webelement.WebElement (session=\"592ff384e38d3b2b95e9d5117e87e3ea\", element=\"89668bcd-d348-4a1d-9733-626a101e8358\")>,\n",
       " <selenium.webdriver.remote.webelement.WebElement (session=\"592ff384e38d3b2b95e9d5117e87e3ea\", element=\"2d169e3d-ead9-49a3-baad-105ec10d57b6\")>,\n",
       " <selenium.webdriver.remote.webelement.WebElement (session=\"592ff384e38d3b2b95e9d5117e87e3ea\", element=\"2203cf0f-318c-40a1-b1ca-4ce0d8652167\")>,\n",
       " <selenium.webdriver.remote.webelement.WebElement (session=\"592ff384e38d3b2b95e9d5117e87e3ea\", element=\"ff8ef4ce-66e4-4f17-9129-bcafe2f6a196\")>,\n",
       " <selenium.webdriver.remote.webelement.WebElement (session=\"592ff384e38d3b2b95e9d5117e87e3ea\", element=\"7e2c87ed-053c-4b66-a2f0-9ed34b06c89f\")>,\n",
       " <selenium.webdriver.remote.webelement.WebElement (session=\"592ff384e38d3b2b95e9d5117e87e3ea\", element=\"0c67270c-9481-4b5b-ad17-85bf2b826804\")>,\n",
       " <selenium.webdriver.remote.webelement.WebElement (session=\"592ff384e38d3b2b95e9d5117e87e3ea\", element=\"29c58e8e-7850-4a2f-b449-e6846dc4af9c\")>,\n",
       " <selenium.webdriver.remote.webelement.WebElement (session=\"592ff384e38d3b2b95e9d5117e87e3ea\", element=\"2a75b5f9-f54d-4df9-a8a0-19ba6015d697\")>,\n",
       " <selenium.webdriver.remote.webelement.WebElement (session=\"592ff384e38d3b2b95e9d5117e87e3ea\", element=\"9318a62e-b496-48ba-84cd-ae95a58cf647\")>,\n",
       " <selenium.webdriver.remote.webelement.WebElement (session=\"592ff384e38d3b2b95e9d5117e87e3ea\", element=\"4952ebe7-b82d-4355-84a6-009d4f2e5bfc\")>,\n",
       " <selenium.webdriver.remote.webelement.WebElement (session=\"592ff384e38d3b2b95e9d5117e87e3ea\", element=\"efec67c8-4281-4a99-a05f-a0d14a383b7d\")>,\n",
       " <selenium.webdriver.remote.webelement.WebElement (session=\"592ff384e38d3b2b95e9d5117e87e3ea\", element=\"43c4845c-2eeb-46d3-8e19-c30ca2c97688\")>,\n",
       " <selenium.webdriver.remote.webelement.WebElement (session=\"592ff384e38d3b2b95e9d5117e87e3ea\", element=\"84506c6a-d442-4b7c-a380-33273b0fffe2\")>,\n",
       " <selenium.webdriver.remote.webelement.WebElement (session=\"592ff384e38d3b2b95e9d5117e87e3ea\", element=\"06a59c9e-9caa-4b8d-8d71-96d49bca6ba2\")>,\n",
       " <selenium.webdriver.remote.webelement.WebElement (session=\"592ff384e38d3b2b95e9d5117e87e3ea\", element=\"6425939d-bc9f-48d9-b88b-9f88424cb9ba\")>,\n",
       " <selenium.webdriver.remote.webelement.WebElement (session=\"592ff384e38d3b2b95e9d5117e87e3ea\", element=\"1ce89b6e-eff8-4b08-9501-91b18b11fb36\")>,\n",
       " <selenium.webdriver.remote.webelement.WebElement (session=\"592ff384e38d3b2b95e9d5117e87e3ea\", element=\"5dcecbe5-fdb0-4498-a048-38e2a5181fc4\")>,\n",
       " <selenium.webdriver.remote.webelement.WebElement (session=\"592ff384e38d3b2b95e9d5117e87e3ea\", element=\"5bf7ca44-9e68-4564-b351-dc22386e52c0\")>,\n",
       " <selenium.webdriver.remote.webelement.WebElement (session=\"592ff384e38d3b2b95e9d5117e87e3ea\", element=\"5985dcb1-38ba-47ca-90c7-e569ba2683cc\")>,\n",
       " <selenium.webdriver.remote.webelement.WebElement (session=\"592ff384e38d3b2b95e9d5117e87e3ea\", element=\"4c25c121-2dcd-4758-b206-0d227899fb30\")>,\n",
       " <selenium.webdriver.remote.webelement.WebElement (session=\"592ff384e38d3b2b95e9d5117e87e3ea\", element=\"7ca92ea4-9312-4efd-ad28-566118dcc0b1\")>,\n",
       " <selenium.webdriver.remote.webelement.WebElement (session=\"592ff384e38d3b2b95e9d5117e87e3ea\", element=\"591d5a7a-322b-4d7b-9ccc-4bca63ca42ae\")>,\n",
       " <selenium.webdriver.remote.webelement.WebElement (session=\"592ff384e38d3b2b95e9d5117e87e3ea\", element=\"49b9f2fe-cded-4e3a-81d0-5c2edf42b4da\")>,\n",
       " <selenium.webdriver.remote.webelement.WebElement (session=\"592ff384e38d3b2b95e9d5117e87e3ea\", element=\"cbedf3f9-6a90-4436-81dc-cecb6378f263\")>,\n",
       " <selenium.webdriver.remote.webelement.WebElement (session=\"592ff384e38d3b2b95e9d5117e87e3ea\", element=\"182d25ce-3235-4d30-b958-8b4b24770e2e\")>]"
      ]
     },
     "execution_count": 78,
     "metadata": {},
     "output_type": "execute_result"
    }
   ],
   "source": [
    "#So lets extract all the tags having the discount\n",
    "discount_tags2 = driver.find_elements_by_xpath(\"//div[@class='_3Ay6Sb']\")\n",
    "discount_tags2"
   ]
  },
  {
   "cell_type": "code",
   "execution_count": 79,
   "metadata": {},
   "outputs": [
    {
     "data": {
      "text/plain": [
       "['76% off',\n",
       " '77% off',\n",
       " '85% off',\n",
       " '80% off',\n",
       " '74% off',\n",
       " '84% off',\n",
       " '79% off',\n",
       " '86% off',\n",
       " '85% off',\n",
       " '86% off',\n",
       " '75% off',\n",
       " '13% off',\n",
       " '77% off',\n",
       " '88% off',\n",
       " '64% off',\n",
       " '84% off',\n",
       " '87% off',\n",
       " '84% off',\n",
       " '30% off',\n",
       " '88% off',\n",
       " '50% off',\n",
       " '77% off',\n",
       " '84% off',\n",
       " '86% off',\n",
       " '80% off',\n",
       " '15% off',\n",
       " '70% off',\n",
       " '75% off',\n",
       " '86% off',\n",
       " '57% off',\n",
       " '27% off',\n",
       " '66% off',\n",
       " '85% off',\n",
       " '77% off',\n",
       " '86% off',\n",
       " '15% off',\n",
       " '71% off',\n",
       " '15% off',\n",
       " '83% off',\n",
       " '74% off']"
      ]
     },
     "execution_count": 79,
     "metadata": {},
     "output_type": "execute_result"
    }
   ],
   "source": [
    "#Loop to iterate over the tags extracted above and extract the text inside them.\n",
    "discount2=[]\n",
    "for i in discount_tags2:\n",
    "    discount2.append(i.text)\n",
    "discount2"
   ]
  },
  {
   "cell_type": "code",
   "execution_count": 80,
   "metadata": {},
   "outputs": [],
   "source": [
    "discount_ = discount + discount1 + discount2 "
   ]
  },
  {
   "cell_type": "code",
   "execution_count": 81,
   "metadata": {},
   "outputs": [
    {
     "data": {
      "text/plain": [
       "['85% off',\n",
       " '77% off',\n",
       " '28% off',\n",
       " '77% off',\n",
       " '78% off',\n",
       " '84% off',\n",
       " '72% off',\n",
       " '82% off',\n",
       " '79% off',\n",
       " '80% off',\n",
       " '80% off',\n",
       " '75% off',\n",
       " '20% off',\n",
       " '74% off',\n",
       " '86% off',\n",
       " '68% off',\n",
       " '59% off',\n",
       " '81% off',\n",
       " '70% off',\n",
       " '73% off',\n",
       " '69% off',\n",
       " '10% off',\n",
       " '70% off',\n",
       " '66% off',\n",
       " '62% off',\n",
       " '82% off',\n",
       " '51% off',\n",
       " '80% off',\n",
       " '83% off',\n",
       " '73% off',\n",
       " '69% off',\n",
       " '62% off',\n",
       " '58% off',\n",
       " '67% off',\n",
       " '88% off',\n",
       " '18% off',\n",
       " '79% off',\n",
       " '84% off',\n",
       " '85% off',\n",
       " '71% off',\n",
       " '82% off',\n",
       " '85% off',\n",
       " '80% off',\n",
       " '71% off',\n",
       " '73% off',\n",
       " '73% off',\n",
       " '80% off',\n",
       " '66% off',\n",
       " '70% off',\n",
       " '71% off',\n",
       " '72% off',\n",
       " '30% off',\n",
       " '83% off',\n",
       " '80% off',\n",
       " '71% off',\n",
       " '25% off',\n",
       " '77% off',\n",
       " '71% off',\n",
       " '83% off',\n",
       " '71% off',\n",
       " '78% off',\n",
       " '80% off',\n",
       " '60% off',\n",
       " '71% off',\n",
       " '77% off',\n",
       " '83% off',\n",
       " '84% off',\n",
       " '65% off',\n",
       " '10% off',\n",
       " '71% off',\n",
       " '22% off',\n",
       " '79% off',\n",
       " '82% off',\n",
       " '75% off',\n",
       " '79% off',\n",
       " '80% off',\n",
       " '84% off',\n",
       " '59% off',\n",
       " '78% off',\n",
       " '71% off',\n",
       " '76% off',\n",
       " '77% off',\n",
       " '85% off',\n",
       " '80% off',\n",
       " '74% off',\n",
       " '84% off',\n",
       " '79% off',\n",
       " '86% off',\n",
       " '85% off',\n",
       " '86% off',\n",
       " '75% off',\n",
       " '13% off',\n",
       " '77% off',\n",
       " '88% off',\n",
       " '64% off',\n",
       " '84% off',\n",
       " '87% off',\n",
       " '84% off',\n",
       " '30% off',\n",
       " '88% off',\n",
       " '50% off',\n",
       " '77% off',\n",
       " '84% off',\n",
       " '86% off',\n",
       " '80% off',\n",
       " '15% off',\n",
       " '70% off',\n",
       " '75% off',\n",
       " '86% off',\n",
       " '57% off',\n",
       " '27% off',\n",
       " '66% off',\n",
       " '85% off',\n",
       " '77% off',\n",
       " '86% off',\n",
       " '15% off',\n",
       " '71% off',\n",
       " '15% off',\n",
       " '83% off',\n",
       " '74% off']"
      ]
     },
     "execution_count": 81,
     "metadata": {},
     "output_type": "execute_result"
    }
   ],
   "source": [
    "discount_"
   ]
  },
  {
   "cell_type": "code",
   "execution_count": 82,
   "metadata": {},
   "outputs": [
    {
     "data": {
      "text/plain": [
       "[<selenium.webdriver.remote.webelement.WebElement (session=\"592ff384e38d3b2b95e9d5117e87e3ea\", element=\"034dc8ee-297a-40eb-bf98-9ae05a443c4d\")>,\n",
       " <selenium.webdriver.remote.webelement.WebElement (session=\"592ff384e38d3b2b95e9d5117e87e3ea\", element=\"855ef46b-9b68-4685-9910-6fcfc3580247\")>,\n",
       " <selenium.webdriver.remote.webelement.WebElement (session=\"592ff384e38d3b2b95e9d5117e87e3ea\", element=\"df3f8382-ce67-4b6a-8168-8ce227b769e8\")>,\n",
       " <selenium.webdriver.remote.webelement.WebElement (session=\"592ff384e38d3b2b95e9d5117e87e3ea\", element=\"8a7aa1bc-fd1c-45df-b0a3-113d1bf68d54\")>,\n",
       " <selenium.webdriver.remote.webelement.WebElement (session=\"592ff384e38d3b2b95e9d5117e87e3ea\", element=\"f5706761-84c0-49cc-9854-a4a01bd6f5e5\")>,\n",
       " <selenium.webdriver.remote.webelement.WebElement (session=\"592ff384e38d3b2b95e9d5117e87e3ea\", element=\"9855d7bc-fa69-484b-87d7-e9d15e4aff53\")>,\n",
       " <selenium.webdriver.remote.webelement.WebElement (session=\"592ff384e38d3b2b95e9d5117e87e3ea\", element=\"2281ae99-064e-4fef-89de-763610a5449f\")>,\n",
       " <selenium.webdriver.remote.webelement.WebElement (session=\"592ff384e38d3b2b95e9d5117e87e3ea\", element=\"56676eaf-1b7d-4e2f-9682-4934d6cde56a\")>,\n",
       " <selenium.webdriver.remote.webelement.WebElement (session=\"592ff384e38d3b2b95e9d5117e87e3ea\", element=\"e6bc3cea-2b5b-4abd-9132-4005eb8ee96a\")>,\n",
       " <selenium.webdriver.remote.webelement.WebElement (session=\"592ff384e38d3b2b95e9d5117e87e3ea\", element=\"9a18d802-92a5-4c06-8c9b-84d14b42ef25\")>,\n",
       " <selenium.webdriver.remote.webelement.WebElement (session=\"592ff384e38d3b2b95e9d5117e87e3ea\", element=\"bb6c985b-852a-4308-977c-a84d5bf0663b\")>,\n",
       " <selenium.webdriver.remote.webelement.WebElement (session=\"592ff384e38d3b2b95e9d5117e87e3ea\", element=\"22ff85f2-5a0b-4143-b952-026d59a798bc\")>,\n",
       " <selenium.webdriver.remote.webelement.WebElement (session=\"592ff384e38d3b2b95e9d5117e87e3ea\", element=\"042e1981-7aaa-4add-8163-154f075e0df3\")>,\n",
       " <selenium.webdriver.remote.webelement.WebElement (session=\"592ff384e38d3b2b95e9d5117e87e3ea\", element=\"9b34e2db-8dc3-4cd2-9f54-1a3dae5675c6\")>,\n",
       " <selenium.webdriver.remote.webelement.WebElement (session=\"592ff384e38d3b2b95e9d5117e87e3ea\", element=\"6519512e-fa42-4a40-88b1-aa33ec418e0f\")>,\n",
       " <selenium.webdriver.remote.webelement.WebElement (session=\"592ff384e38d3b2b95e9d5117e87e3ea\", element=\"17983933-5732-4d82-ac64-5dc6a8ee5493\")>,\n",
       " <selenium.webdriver.remote.webelement.WebElement (session=\"592ff384e38d3b2b95e9d5117e87e3ea\", element=\"7fc12d0f-f3c4-4f3d-9ac2-6b7f939c1ce1\")>,\n",
       " <selenium.webdriver.remote.webelement.WebElement (session=\"592ff384e38d3b2b95e9d5117e87e3ea\", element=\"8b9ea40e-3c31-4deb-befb-76f1090b80b9\")>,\n",
       " <selenium.webdriver.remote.webelement.WebElement (session=\"592ff384e38d3b2b95e9d5117e87e3ea\", element=\"67c61df5-af53-4a10-8130-b11d765d27ee\")>,\n",
       " <selenium.webdriver.remote.webelement.WebElement (session=\"592ff384e38d3b2b95e9d5117e87e3ea\", element=\"c046c0fd-e2e0-4807-a45e-c378c10f36ca\")>,\n",
       " <selenium.webdriver.remote.webelement.WebElement (session=\"592ff384e38d3b2b95e9d5117e87e3ea\", element=\"66ae815c-2d1e-468c-abe9-a57353a33c20\")>,\n",
       " <selenium.webdriver.remote.webelement.WebElement (session=\"592ff384e38d3b2b95e9d5117e87e3ea\", element=\"9557d439-12e6-43dc-a36f-dc730a215c61\")>,\n",
       " <selenium.webdriver.remote.webelement.WebElement (session=\"592ff384e38d3b2b95e9d5117e87e3ea\", element=\"df88afd1-2962-48c8-8d5f-b1219ec3860a\")>,\n",
       " <selenium.webdriver.remote.webelement.WebElement (session=\"592ff384e38d3b2b95e9d5117e87e3ea\", element=\"df248abf-65cd-46f3-99ee-0fab230d9747\")>,\n",
       " <selenium.webdriver.remote.webelement.WebElement (session=\"592ff384e38d3b2b95e9d5117e87e3ea\", element=\"84763d80-b956-430d-927c-7a98fe6ce4bc\")>,\n",
       " <selenium.webdriver.remote.webelement.WebElement (session=\"592ff384e38d3b2b95e9d5117e87e3ea\", element=\"a0a51edb-42ed-44b7-9ffc-cfda9118f4a3\")>,\n",
       " <selenium.webdriver.remote.webelement.WebElement (session=\"592ff384e38d3b2b95e9d5117e87e3ea\", element=\"4aa2ac11-753c-4643-ac1f-8fda0419b00c\")>,\n",
       " <selenium.webdriver.remote.webelement.WebElement (session=\"592ff384e38d3b2b95e9d5117e87e3ea\", element=\"5ac7428e-f957-4acc-a705-81a6049a6957\")>,\n",
       " <selenium.webdriver.remote.webelement.WebElement (session=\"592ff384e38d3b2b95e9d5117e87e3ea\", element=\"c8e070e4-8744-40b5-b537-6253e94405ad\")>,\n",
       " <selenium.webdriver.remote.webelement.WebElement (session=\"592ff384e38d3b2b95e9d5117e87e3ea\", element=\"8d0220c5-3895-407c-9241-d91f3a42929b\")>,\n",
       " <selenium.webdriver.remote.webelement.WebElement (session=\"592ff384e38d3b2b95e9d5117e87e3ea\", element=\"c507fab8-651c-41f7-b66f-7a1ab513973d\")>,\n",
       " <selenium.webdriver.remote.webelement.WebElement (session=\"592ff384e38d3b2b95e9d5117e87e3ea\", element=\"ba8435aa-286d-48dc-897f-0025e9445d19\")>,\n",
       " <selenium.webdriver.remote.webelement.WebElement (session=\"592ff384e38d3b2b95e9d5117e87e3ea\", element=\"f20646b2-3816-4ae8-952c-863983299d77\")>,\n",
       " <selenium.webdriver.remote.webelement.WebElement (session=\"592ff384e38d3b2b95e9d5117e87e3ea\", element=\"814ef5b3-6b08-4148-9375-5006788f4918\")>,\n",
       " <selenium.webdriver.remote.webelement.WebElement (session=\"592ff384e38d3b2b95e9d5117e87e3ea\", element=\"0029ae17-f6b6-4b3f-b777-4f0195d8eda3\")>,\n",
       " <selenium.webdriver.remote.webelement.WebElement (session=\"592ff384e38d3b2b95e9d5117e87e3ea\", element=\"3832af47-fa33-4c99-8e2e-26c07ef5b985\")>,\n",
       " <selenium.webdriver.remote.webelement.WebElement (session=\"592ff384e38d3b2b95e9d5117e87e3ea\", element=\"5d8812f3-4ccd-4543-8797-9bf881130069\")>,\n",
       " <selenium.webdriver.remote.webelement.WebElement (session=\"592ff384e38d3b2b95e9d5117e87e3ea\", element=\"cda576f6-23fc-4a27-a146-fed6805968a2\")>,\n",
       " <selenium.webdriver.remote.webelement.WebElement (session=\"592ff384e38d3b2b95e9d5117e87e3ea\", element=\"25007a2e-d5dc-4ac4-a7c1-cd3778472ae0\")>,\n",
       " <selenium.webdriver.remote.webelement.WebElement (session=\"592ff384e38d3b2b95e9d5117e87e3ea\", element=\"c09c4e58-812e-4463-9d5c-90014d2107a7\")>]"
      ]
     },
     "execution_count": 82,
     "metadata": {},
     "output_type": "execute_result"
    }
   ],
   "source": [
    "#So lets extract all the tags having the price\n",
    "price_tags2 = driver.find_elements_by_xpath(\"//div[@class='_30jeq3']\")\n",
    "price_tags2"
   ]
  },
  {
   "cell_type": "code",
   "execution_count": 83,
   "metadata": {},
   "outputs": [
    {
     "data": {
      "text/plain": [
       "['₹279',\n",
       " '₹449',\n",
       " '₹292',\n",
       " '₹329',\n",
       " '₹379',\n",
       " '₹319',\n",
       " '₹205',\n",
       " '₹200',\n",
       " '₹210',\n",
       " '₹219',\n",
       " '₹299',\n",
       " '₹1,123',\n",
       " '₹449',\n",
       " '₹170',\n",
       " '₹711',\n",
       " '₹199',\n",
       " '₹259',\n",
       " '₹227',\n",
       " '₹559',\n",
       " '₹199',\n",
       " '₹1,234',\n",
       " '₹499',\n",
       " '₹319',\n",
       " '₹209',\n",
       " '₹207',\n",
       " '₹759',\n",
       " '₹599',\n",
       " '₹499',\n",
       " '₹260',\n",
       " '₹854',\n",
       " '₹576',\n",
       " '₹499',\n",
       " '₹399',\n",
       " '₹395',\n",
       " '₹263',\n",
       " '₹759',\n",
       " '₹569',\n",
       " '₹758',\n",
       " '₹449',\n",
       " '₹395']"
      ]
     },
     "execution_count": 83,
     "metadata": {},
     "output_type": "execute_result"
    }
   ],
   "source": [
    "#Loop to iterate over the tags extracted above and extract the text inside them.\n",
    "price2=[]\n",
    "for i in price_tags2:\n",
    "    price2.append(i.text)\n",
    "price2"
   ]
  },
  {
   "cell_type": "markdown",
   "metadata": {},
   "source": [
    "Now lets merge all the data"
   ]
  },
  {
   "cell_type": "code",
   "execution_count": 99,
   "metadata": {},
   "outputs": [],
   "source": [
    "prod_desc.insert(27, 'UV Protection Glasses')"
   ]
  },
  {
   "cell_type": "code",
   "execution_count": 100,
   "metadata": {},
   "outputs": [],
   "source": [
    "brand = brand_name + brand_name1 + brand_name2\n",
    "product = prod_desc + prod_desc1 + prod_desc2\n",
    "prices = price + price1 + price2"
   ]
  },
  {
   "cell_type": "code",
   "execution_count": 101,
   "metadata": {},
   "outputs": [
    {
     "name": "stdout",
     "output_type": "stream",
     "text": [
      "120 120 120 120\n"
     ]
    }
   ],
   "source": [
    "\n",
    "\n",
    "print(len(discount_),len(prices),len(product),len(brand))"
   ]
  },
  {
   "cell_type": "code",
   "execution_count": 86,
   "metadata": {},
   "outputs": [
    {
     "name": "stdout",
     "output_type": "stream",
     "text": [
      "37\n"
     ]
    }
   ],
   "source": []
  },
  {
   "cell_type": "code",
   "execution_count": 105,
   "metadata": {},
   "outputs": [
    {
     "data": {
      "text/html": [
       "<div>\n",
       "<style scoped>\n",
       "    .dataframe tbody tr th:only-of-type {\n",
       "        vertical-align: middle;\n",
       "    }\n",
       "\n",
       "    .dataframe tbody tr th {\n",
       "        vertical-align: top;\n",
       "    }\n",
       "\n",
       "    .dataframe thead th {\n",
       "        text-align: right;\n",
       "    }\n",
       "</style>\n",
       "<table border=\"1\" class=\"dataframe\">\n",
       "  <thead>\n",
       "    <tr style=\"text-align: right;\">\n",
       "      <th></th>\n",
       "      <th>Brand Name</th>\n",
       "      <th>Product Desc</th>\n",
       "      <th>Price</th>\n",
       "      <th>Discounts</th>\n",
       "    </tr>\n",
       "  </thead>\n",
       "  <tbody>\n",
       "    <tr>\n",
       "      <th>0</th>\n",
       "      <td>SUNBEE</td>\n",
       "      <td>UV Protection, Polarized, Mirrored Round Sungl...</td>\n",
       "      <td>₹210</td>\n",
       "      <td>85% off</td>\n",
       "    </tr>\n",
       "    <tr>\n",
       "      <th>1</th>\n",
       "      <td>HAMIW COLLECTION</td>\n",
       "      <td>UV Protection Round Sunglasses (53)</td>\n",
       "      <td>₹395</td>\n",
       "      <td>77% off</td>\n",
       "    </tr>\n",
       "    <tr>\n",
       "      <th>2</th>\n",
       "      <td>Fastrack</td>\n",
       "      <td>UV Protection Rectangular Sunglasses (Free Size)</td>\n",
       "      <td>₹570</td>\n",
       "      <td>28% off</td>\n",
       "    </tr>\n",
       "    <tr>\n",
       "      <th>3</th>\n",
       "      <td>ROZZETTA CRAFT</td>\n",
       "      <td>UV Protection Retro Square Sunglasses (Free Size)</td>\n",
       "      <td>₹499</td>\n",
       "      <td>77% off</td>\n",
       "    </tr>\n",
       "    <tr>\n",
       "      <th>4</th>\n",
       "      <td>PIRASO</td>\n",
       "      <td>UV Protection Aviator Sunglasses (Free Size)</td>\n",
       "      <td>₹349</td>\n",
       "      <td>78% off</td>\n",
       "    </tr>\n",
       "    <tr>\n",
       "      <th>...</th>\n",
       "      <td>...</td>\n",
       "      <td>...</td>\n",
       "      <td>...</td>\n",
       "      <td>...</td>\n",
       "    </tr>\n",
       "    <tr>\n",
       "      <th>115</th>\n",
       "      <td>Fastrack</td>\n",
       "      <td>UV Protection Wayfarer Sunglasses (56)</td>\n",
       "      <td>₹759</td>\n",
       "      <td>15% off</td>\n",
       "    </tr>\n",
       "    <tr>\n",
       "      <th>116</th>\n",
       "      <td>ROYAL SON</td>\n",
       "      <td>UV Protection Retro Square Sunglasses (88)</td>\n",
       "      <td>₹569</td>\n",
       "      <td>71% off</td>\n",
       "    </tr>\n",
       "    <tr>\n",
       "      <th>117</th>\n",
       "      <td>Fastrack</td>\n",
       "      <td>UV Protection Wayfarer Sunglasses (Free Size)</td>\n",
       "      <td>₹758</td>\n",
       "      <td>15% off</td>\n",
       "    </tr>\n",
       "    <tr>\n",
       "      <th>118</th>\n",
       "      <td>ROZZETTA CRAFT</td>\n",
       "      <td>UV Protection, Gradient Round Sunglasses (Free...</td>\n",
       "      <td>₹449</td>\n",
       "      <td>83% off</td>\n",
       "    </tr>\n",
       "    <tr>\n",
       "      <th>119</th>\n",
       "      <td>NuVew</td>\n",
       "      <td>UV Protection, Gradient Cat-eye Sunglasses (63)</td>\n",
       "      <td>₹395</td>\n",
       "      <td>74% off</td>\n",
       "    </tr>\n",
       "  </tbody>\n",
       "</table>\n",
       "<p>120 rows × 4 columns</p>\n",
       "</div>"
      ],
      "text/plain": [
       "           Brand Name                                       Product Desc  \\\n",
       "0              SUNBEE  UV Protection, Polarized, Mirrored Round Sungl...   \n",
       "1    HAMIW COLLECTION                UV Protection Round Sunglasses (53)   \n",
       "2            Fastrack   UV Protection Rectangular Sunglasses (Free Size)   \n",
       "3      ROZZETTA CRAFT  UV Protection Retro Square Sunglasses (Free Size)   \n",
       "4              PIRASO       UV Protection Aviator Sunglasses (Free Size)   \n",
       "..                ...                                                ...   \n",
       "115          Fastrack             UV Protection Wayfarer Sunglasses (56)   \n",
       "116         ROYAL SON         UV Protection Retro Square Sunglasses (88)   \n",
       "117          Fastrack      UV Protection Wayfarer Sunglasses (Free Size)   \n",
       "118    ROZZETTA CRAFT  UV Protection, Gradient Round Sunglasses (Free...   \n",
       "119             NuVew    UV Protection, Gradient Cat-eye Sunglasses (63)   \n",
       "\n",
       "    Price Discounts  \n",
       "0    ₹210   85% off  \n",
       "1    ₹395   77% off  \n",
       "2    ₹570   28% off  \n",
       "3    ₹499   77% off  \n",
       "4    ₹349   78% off  \n",
       "..    ...       ...  \n",
       "115  ₹759   15% off  \n",
       "116  ₹569   71% off  \n",
       "117  ₹758   15% off  \n",
       "118  ₹449   83% off  \n",
       "119  ₹395   74% off  \n",
       "\n",
       "[120 rows x 4 columns]"
      ]
     },
     "execution_count": 105,
     "metadata": {},
     "output_type": "execute_result"
    }
   ],
   "source": [
    "flipkart=pd.DataFrame({})\n",
    "flipkart['Brand Name'] = brand\n",
    "flipkart['Product Desc'] = product\n",
    "flipkart['Price'] = prices\n",
    "flipkart['Discounts'] = discount_\n",
    "\n",
    "flipkart"
   ]
  },
  {
   "cell_type": "code",
   "execution_count": null,
   "metadata": {},
   "outputs": [],
   "source": []
  },
  {
   "cell_type": "code",
   "execution_count": null,
   "metadata": {},
   "outputs": [],
   "source": []
  },
  {
   "cell_type": "markdown",
   "metadata": {},
   "source": [
    "PROBLEM STATEMENT:\n",
    "Q7: Scrape 100 reviews data from flipkart.com for iphone11 phone. You have to \n",
    "go the link: https://www.flipkart.com/apple-iphone-11-black-64-gb-includes\u0002earpods-power\u0002adapter/p/itm0f37c2240b217?pid=MOBFKCTSVZAXUHGR&lid=LSTMOBFKC\n",
    "TSVZAXUHGREPBFGI&marketplace.\n",
    "When you will open the above link you will reach to the below shown webpage.\n",
    "As shown in the above page you have to scrape the tick marked attributes.\n",
    "These are \n",
    "1. Rating \n",
    "2. Review_summary \n",
    "3. Full review\n",
    "You have to scrape this data for first 100 reviews."
   ]
  },
  {
   "cell_type": "code",
   "execution_count": 112,
   "metadata": {},
   "outputs": [],
   "source": [
    "#Lets now import all the required libraries\n",
    "import selenium\n",
    "import pandas as pd\n",
    "from selenium import webdriver\n",
    "import time"
   ]
  },
  {
   "cell_type": "code",
   "execution_count": 109,
   "metadata": {},
   "outputs": [],
   "source": [
    "#Lets first connect to the web driver\n",
    "driver = webdriver.Chrome('chromedriver.exe')"
   ]
  },
  {
   "cell_type": "code",
   "execution_count": 110,
   "metadata": {},
   "outputs": [],
   "source": [
    "url = 'https://www.flipkart.com/apple-iphone-11-black-64-gb-includes-earpods-power-adapter/product-reviews/itm0f37c2240b217?pid=MOBFKCTSVZAXUHGR&lid=LSTMOBFKCTSVZAXUHGREPBFGI&marketplace=FLIPKART'\n",
    "driver.get(url)"
   ]
  },
  {
   "cell_type": "code",
   "execution_count": 119,
   "metadata": {},
   "outputs": [],
   "source": [
    "review = []\n",
    "for i in range(0,10):\n",
    "    for j in driver.find_elements_by_xpath('//p[@class=\"_2-N8zT\"]'):\n",
    "        review.append(j.text)\n",
    "    driver.find_element_by_xpath('//nav[@class=\"yFHi8N\"]').click()\n",
    "    time.sleep(4)\n",
    "    \n"
   ]
  },
  {
   "cell_type": "code",
   "execution_count": 121,
   "metadata": {},
   "outputs": [
    {
     "data": {
      "text/plain": [
       "['Super!',\n",
       " 'Perfect product!',\n",
       " 'Must buy!',\n",
       " 'Great product',\n",
       " 'Awesome',\n",
       " 'Mind-blowing purchase',\n",
       " 'Perfect product!',\n",
       " 'Fabulous!',\n",
       " 'Perfect product!',\n",
       " 'Excellent',\n",
       " 'Super!',\n",
       " 'Perfect product!',\n",
       " 'Must buy!',\n",
       " 'Great product',\n",
       " 'Awesome',\n",
       " 'Mind-blowing purchase',\n",
       " 'Perfect product!',\n",
       " 'Fabulous!',\n",
       " 'Perfect product!',\n",
       " 'Excellent',\n",
       " 'Super!',\n",
       " 'Perfect product!',\n",
       " 'Must buy!',\n",
       " 'Great product',\n",
       " 'Awesome',\n",
       " 'Mind-blowing purchase',\n",
       " 'Perfect product!',\n",
       " 'Fabulous!',\n",
       " 'Perfect product!',\n",
       " 'Excellent',\n",
       " 'Super!',\n",
       " 'Perfect product!',\n",
       " 'Must buy!',\n",
       " 'Great product',\n",
       " 'Awesome',\n",
       " 'Mind-blowing purchase',\n",
       " 'Perfect product!',\n",
       " 'Fabulous!',\n",
       " 'Perfect product!',\n",
       " 'Excellent',\n",
       " 'Super!',\n",
       " 'Perfect product!',\n",
       " 'Must buy!',\n",
       " 'Great product',\n",
       " 'Awesome',\n",
       " 'Mind-blowing purchase',\n",
       " 'Perfect product!',\n",
       " 'Fabulous!',\n",
       " 'Perfect product!',\n",
       " 'Excellent',\n",
       " 'Super!',\n",
       " 'Perfect product!',\n",
       " 'Must buy!',\n",
       " 'Great product',\n",
       " 'Awesome',\n",
       " 'Mind-blowing purchase',\n",
       " 'Perfect product!',\n",
       " 'Fabulous!',\n",
       " 'Perfect product!',\n",
       " 'Excellent',\n",
       " 'Super!',\n",
       " 'Perfect product!',\n",
       " 'Must buy!',\n",
       " 'Great product',\n",
       " 'Awesome',\n",
       " 'Mind-blowing purchase',\n",
       " 'Perfect product!',\n",
       " 'Fabulous!',\n",
       " 'Perfect product!',\n",
       " 'Excellent',\n",
       " 'Super!',\n",
       " 'Perfect product!',\n",
       " 'Must buy!',\n",
       " 'Great product',\n",
       " 'Awesome',\n",
       " 'Mind-blowing purchase',\n",
       " 'Perfect product!',\n",
       " 'Fabulous!',\n",
       " 'Perfect product!',\n",
       " 'Excellent',\n",
       " 'Super!',\n",
       " 'Perfect product!',\n",
       " 'Must buy!',\n",
       " 'Great product',\n",
       " 'Awesome',\n",
       " 'Mind-blowing purchase',\n",
       " 'Perfect product!',\n",
       " 'Fabulous!',\n",
       " 'Perfect product!',\n",
       " 'Excellent',\n",
       " 'Super!',\n",
       " 'Perfect product!',\n",
       " 'Must buy!',\n",
       " 'Great product',\n",
       " 'Awesome',\n",
       " 'Mind-blowing purchase',\n",
       " 'Perfect product!',\n",
       " 'Fabulous!',\n",
       " 'Perfect product!',\n",
       " 'Excellent']"
      ]
     },
     "execution_count": 121,
     "metadata": {},
     "output_type": "execute_result"
    }
   ],
   "source": [
    "review"
   ]
  },
  {
   "cell_type": "code",
   "execution_count": 122,
   "metadata": {},
   "outputs": [],
   "source": [
    "full_review = []\n",
    "for i in range(0,10):\n",
    "    for j in driver.find_elements_by_xpath('//div[@class=\"t-ZTKy\"]'):\n",
    "        full_review.append(j.text)\n",
    "    driver.find_element_by_xpath('//nav[@class=\"yFHi8N\"]').click()\n",
    "    time.sleep(4)"
   ]
  },
  {
   "cell_type": "code",
   "execution_count": 125,
   "metadata": {},
   "outputs": [
    {
     "data": {
      "text/plain": [
       "['Did an upgrade from 6s plus to iphone 11.\\nAo far the experience is well and good. Felt smoother than 6s plus. The camera quality is superb. Battery backup is descent. Not a heavy user, and gets power more than a day. Go for it if you need an alrounder iphone in a competitve price.',\n",
       " 'Value for money\\n5 star rating\\nExcellent camera\\nBattery backup full day in single charge.\\n\\nTougher and water resistant design, glossy back.\\nThe screen has excellent brightness and contrast.\\nApple A13 Bionic is the fastest smartphone chip on the planet.\\nExcellent battery life, fast charging support.\\nStereo speakers with great quality.',\n",
       " 'Damn this phone is a blast . Upgraded from android to ios and is a duperb experience. Battery backup is top notch and display also pretty good',\n",
       " \"Again back to apple iphone after a gap of 2-3 years. It's pleasure to use iOS and the quality product by Apple. Iphone 11 still works like a beast in 2021 also. It really capable of doing day to day usage as well as hard core gaming. Battery is awesome. I'm really too much satisfied with it. Apart fto the very gorgious IPS LCD (AMOLED will be better) everything is mind boggling. Iphone💕.\",\n",
       " 'Always love the apple products, upgraded from old iPhone 6S plus to this after having my first baby. I just love to click baby’s photos with it. Overall I just love this phone. Battery back up is okay, sound quality is good. Haven’t tested yet waterproof yet. Only one thing I hate is apple could have given charger & headphones in box.',\n",
       " 'awesome Phone Smooth Touch Too good Sexyy looks one word Awesome',\n",
       " 'Best and amazing product.....phone looks so premium.... battary is also good as expected .... Wide angle camera is so addictive ...if you are a IOS lover....then this phone will be the best choice for you all!!💯🔥',\n",
       " 'I purchased the iPhone 11 a month back. I must say Apple has impressed me yet again . I have been an Apple user for past 5 years . The phone is power packed with amazing features . What impressed me the most was the battery backup the phone offers . Battery can easily run upto 1.5 days in single charge with moderate to\\nHeavy usage . If you’re looking for a value for money device , I don’t see any other phone in the price range which can match the iPhone 11 .\\nOne thing I didn’t like was that ...\\nREAD MORE',\n",
       " 'It is just awesome mobile for this price from Apple,\\n\\nAfter 10 days review\\n\\nBattery enough for 1 day even 24*7 Internet will be on and mostly internet usage\\n\\nCamera is just awesome cool , android 64 MP is equal to this just 12 MP\\n\\nA13 Bionic chip will give more high performance without hanging\\n\\nAudio stereo speakers will give Dolby atoms sound with crystal clear\\n\\nVideo recording is like cinematic shots of every sec can be a 4K 60fps. Just awesome this phone\\niPhone 11 loved one',\n",
       " \"Just go for it.\\nThis phone is really amazing. I ordered it for my wife and we click photos on this thing which are better than dslr. I own OnePlus 6t but it's camera sucks. iPhone is really amazing when it comes to camera. It's worth spending 50k on this. Cons- only display is lcd. While using u don't feel it but if u compare with other phone then u can see difference quite easily.\\nChanging from Android to iphone is bit difficult coz most of things u don't know but I liked it. Some of the a...\\nREAD MORE\",\n",
       " 'Did an upgrade from 6s plus to iphone 11.\\nAo far the experience is well and good. Felt smoother than 6s plus. The camera quality is superb. Battery backup is descent. Not a heavy user, and gets power more than a day. Go for it if you need an alrounder iphone in a competitve price.',\n",
       " 'Value for money\\n5 star rating\\nExcellent camera\\nBattery backup full day in single charge.\\n\\nTougher and water resistant design, glossy back.\\nThe screen has excellent brightness and contrast.\\nApple A13 Bionic is the fastest smartphone chip on the planet.\\nExcellent battery life, fast charging support.\\nStereo speakers with great quality.',\n",
       " 'Damn this phone is a blast . Upgraded from android to ios and is a duperb experience. Battery backup is top notch and display also pretty good',\n",
       " \"Again back to apple iphone after a gap of 2-3 years. It's pleasure to use iOS and the quality product by Apple. Iphone 11 still works like a beast in 2021 also. It really capable of doing day to day usage as well as hard core gaming. Battery is awesome. I'm really too much satisfied with it. Apart fto the very gorgious IPS LCD (AMOLED will be better) everything is mind boggling. Iphone💕.\",\n",
       " 'Always love the apple products, upgraded from old iPhone 6S plus to this after having my first baby. I just love to click baby’s photos with it. Overall I just love this phone. Battery back up is okay, sound quality is good. Haven’t tested yet waterproof yet. Only one thing I hate is apple could have given charger & headphones in box.',\n",
       " 'awesome Phone Smooth Touch Too good Sexyy looks one word Awesome',\n",
       " 'Best and amazing product.....phone looks so premium.... battary is also good as expected .... Wide angle camera is so addictive ...if you are a IOS lover....then this phone will be the best choice for you all!!💯🔥',\n",
       " 'I purchased the iPhone 11 a month back. I must say Apple has impressed me yet again . I have been an Apple user for past 5 years . The phone is power packed with amazing features . What impressed me the most was the battery backup the phone offers . Battery can easily run upto 1.5 days in single charge with moderate to\\nHeavy usage . If you’re looking for a value for money device , I don’t see any other phone in the price range which can match the iPhone 11 .\\nOne thing I didn’t like was that ...\\nREAD MORE',\n",
       " 'It is just awesome mobile for this price from Apple,\\n\\nAfter 10 days review\\n\\nBattery enough for 1 day even 24*7 Internet will be on and mostly internet usage\\n\\nCamera is just awesome cool , android 64 MP is equal to this just 12 MP\\n\\nA13 Bionic chip will give more high performance without hanging\\n\\nAudio stereo speakers will give Dolby atoms sound with crystal clear\\n\\nVideo recording is like cinematic shots of every sec can be a 4K 60fps. Just awesome this phone\\niPhone 11 loved one',\n",
       " \"Just go for it.\\nThis phone is really amazing. I ordered it for my wife and we click photos on this thing which are better than dslr. I own OnePlus 6t but it's camera sucks. iPhone is really amazing when it comes to camera. It's worth spending 50k on this. Cons- only display is lcd. While using u don't feel it but if u compare with other phone then u can see difference quite easily.\\nChanging from Android to iphone is bit difficult coz most of things u don't know but I liked it. Some of the a...\\nREAD MORE\",\n",
       " 'Did an upgrade from 6s plus to iphone 11.\\nAo far the experience is well and good. Felt smoother than 6s plus. The camera quality is superb. Battery backup is descent. Not a heavy user, and gets power more than a day. Go for it if you need an alrounder iphone in a competitve price.',\n",
       " 'Value for money\\n5 star rating\\nExcellent camera\\nBattery backup full day in single charge.\\n\\nTougher and water resistant design, glossy back.\\nThe screen has excellent brightness and contrast.\\nApple A13 Bionic is the fastest smartphone chip on the planet.\\nExcellent battery life, fast charging support.\\nStereo speakers with great quality.',\n",
       " 'Damn this phone is a blast . Upgraded from android to ios and is a duperb experience. Battery backup is top notch and display also pretty good',\n",
       " \"Again back to apple iphone after a gap of 2-3 years. It's pleasure to use iOS and the quality product by Apple. Iphone 11 still works like a beast in 2021 also. It really capable of doing day to day usage as well as hard core gaming. Battery is awesome. I'm really too much satisfied with it. Apart fto the very gorgious IPS LCD (AMOLED will be better) everything is mind boggling. Iphone💕.\",\n",
       " 'Always love the apple products, upgraded from old iPhone 6S plus to this after having my first baby. I just love to click baby’s photos with it. Overall I just love this phone. Battery back up is okay, sound quality is good. Haven’t tested yet waterproof yet. Only one thing I hate is apple could have given charger & headphones in box.',\n",
       " 'awesome Phone Smooth Touch Too good Sexyy looks one word Awesome',\n",
       " 'Best and amazing product.....phone looks so premium.... battary is also good as expected .... Wide angle camera is so addictive ...if you are a IOS lover....then this phone will be the best choice for you all!!💯🔥',\n",
       " 'I purchased the iPhone 11 a month back. I must say Apple has impressed me yet again . I have been an Apple user for past 5 years . The phone is power packed with amazing features . What impressed me the most was the battery backup the phone offers . Battery can easily run upto 1.5 days in single charge with moderate to\\nHeavy usage . If you’re looking for a value for money device , I don’t see any other phone in the price range which can match the iPhone 11 .\\nOne thing I didn’t like was that ...\\nREAD MORE',\n",
       " 'It is just awesome mobile for this price from Apple,\\n\\nAfter 10 days review\\n\\nBattery enough for 1 day even 24*7 Internet will be on and mostly internet usage\\n\\nCamera is just awesome cool , android 64 MP is equal to this just 12 MP\\n\\nA13 Bionic chip will give more high performance without hanging\\n\\nAudio stereo speakers will give Dolby atoms sound with crystal clear\\n\\nVideo recording is like cinematic shots of every sec can be a 4K 60fps. Just awesome this phone\\niPhone 11 loved one',\n",
       " \"Just go for it.\\nThis phone is really amazing. I ordered it for my wife and we click photos on this thing which are better than dslr. I own OnePlus 6t but it's camera sucks. iPhone is really amazing when it comes to camera. It's worth spending 50k on this. Cons- only display is lcd. While using u don't feel it but if u compare with other phone then u can see difference quite easily.\\nChanging from Android to iphone is bit difficult coz most of things u don't know but I liked it. Some of the a...\\nREAD MORE\",\n",
       " 'Did an upgrade from 6s plus to iphone 11.\\nAo far the experience is well and good. Felt smoother than 6s plus. The camera quality is superb. Battery backup is descent. Not a heavy user, and gets power more than a day. Go for it if you need an alrounder iphone in a competitve price.',\n",
       " 'Value for money\\n5 star rating\\nExcellent camera\\nBattery backup full day in single charge.\\n\\nTougher and water resistant design, glossy back.\\nThe screen has excellent brightness and contrast.\\nApple A13 Bionic is the fastest smartphone chip on the planet.\\nExcellent battery life, fast charging support.\\nStereo speakers with great quality.',\n",
       " 'Damn this phone is a blast . Upgraded from android to ios and is a duperb experience. Battery backup is top notch and display also pretty good',\n",
       " \"Again back to apple iphone after a gap of 2-3 years. It's pleasure to use iOS and the quality product by Apple. Iphone 11 still works like a beast in 2021 also. It really capable of doing day to day usage as well as hard core gaming. Battery is awesome. I'm really too much satisfied with it. Apart fto the very gorgious IPS LCD (AMOLED will be better) everything is mind boggling. Iphone💕.\",\n",
       " 'Always love the apple products, upgraded from old iPhone 6S plus to this after having my first baby. I just love to click baby’s photos with it. Overall I just love this phone. Battery back up is okay, sound quality is good. Haven’t tested yet waterproof yet. Only one thing I hate is apple could have given charger & headphones in box.',\n",
       " 'awesome Phone Smooth Touch Too good Sexyy looks one word Awesome',\n",
       " 'Best and amazing product.....phone looks so premium.... battary is also good as expected .... Wide angle camera is so addictive ...if you are a IOS lover....then this phone will be the best choice for you all!!💯🔥',\n",
       " 'I purchased the iPhone 11 a month back. I must say Apple has impressed me yet again . I have been an Apple user for past 5 years . The phone is power packed with amazing features . What impressed me the most was the battery backup the phone offers . Battery can easily run upto 1.5 days in single charge with moderate to\\nHeavy usage . If you’re looking for a value for money device , I don’t see any other phone in the price range which can match the iPhone 11 .\\nOne thing I didn’t like was that ...\\nREAD MORE',\n",
       " 'It is just awesome mobile for this price from Apple,\\n\\nAfter 10 days review\\n\\nBattery enough for 1 day even 24*7 Internet will be on and mostly internet usage\\n\\nCamera is just awesome cool , android 64 MP is equal to this just 12 MP\\n\\nA13 Bionic chip will give more high performance without hanging\\n\\nAudio stereo speakers will give Dolby atoms sound with crystal clear\\n\\nVideo recording is like cinematic shots of every sec can be a 4K 60fps. Just awesome this phone\\niPhone 11 loved one',\n",
       " \"Just go for it.\\nThis phone is really amazing. I ordered it for my wife and we click photos on this thing which are better than dslr. I own OnePlus 6t but it's camera sucks. iPhone is really amazing when it comes to camera. It's worth spending 50k on this. Cons- only display is lcd. While using u don't feel it but if u compare with other phone then u can see difference quite easily.\\nChanging from Android to iphone is bit difficult coz most of things u don't know but I liked it. Some of the a...\\nREAD MORE\",\n",
       " 'Did an upgrade from 6s plus to iphone 11.\\nAo far the experience is well and good. Felt smoother than 6s plus. The camera quality is superb. Battery backup is descent. Not a heavy user, and gets power more than a day. Go for it if you need an alrounder iphone in a competitve price.',\n",
       " 'Value for money\\n5 star rating\\nExcellent camera\\nBattery backup full day in single charge.\\n\\nTougher and water resistant design, glossy back.\\nThe screen has excellent brightness and contrast.\\nApple A13 Bionic is the fastest smartphone chip on the planet.\\nExcellent battery life, fast charging support.\\nStereo speakers with great quality.',\n",
       " 'Damn this phone is a blast . Upgraded from android to ios and is a duperb experience. Battery backup is top notch and display also pretty good',\n",
       " \"Again back to apple iphone after a gap of 2-3 years. It's pleasure to use iOS and the quality product by Apple. Iphone 11 still works like a beast in 2021 also. It really capable of doing day to day usage as well as hard core gaming. Battery is awesome. I'm really too much satisfied with it. Apart fto the very gorgious IPS LCD (AMOLED will be better) everything is mind boggling. Iphone💕.\",\n",
       " 'Always love the apple products, upgraded from old iPhone 6S plus to this after having my first baby. I just love to click baby’s photos with it. Overall I just love this phone. Battery back up is okay, sound quality is good. Haven’t tested yet waterproof yet. Only one thing I hate is apple could have given charger & headphones in box.',\n",
       " 'awesome Phone Smooth Touch Too good Sexyy looks one word Awesome',\n",
       " 'Best and amazing product.....phone looks so premium.... battary is also good as expected .... Wide angle camera is so addictive ...if you are a IOS lover....then this phone will be the best choice for you all!!💯🔥',\n",
       " 'I purchased the iPhone 11 a month back. I must say Apple has impressed me yet again . I have been an Apple user for past 5 years . The phone is power packed with amazing features . What impressed me the most was the battery backup the phone offers . Battery can easily run upto 1.5 days in single charge with moderate to\\nHeavy usage . If you’re looking for a value for money device , I don’t see any other phone in the price range which can match the iPhone 11 .\\nOne thing I didn’t like was that ...\\nREAD MORE',\n",
       " 'It is just awesome mobile for this price from Apple,\\n\\nAfter 10 days review\\n\\nBattery enough for 1 day even 24*7 Internet will be on and mostly internet usage\\n\\nCamera is just awesome cool , android 64 MP is equal to this just 12 MP\\n\\nA13 Bionic chip will give more high performance without hanging\\n\\nAudio stereo speakers will give Dolby atoms sound with crystal clear\\n\\nVideo recording is like cinematic shots of every sec can be a 4K 60fps. Just awesome this phone\\niPhone 11 loved one',\n",
       " \"Just go for it.\\nThis phone is really amazing. I ordered it for my wife and we click photos on this thing which are better than dslr. I own OnePlus 6t but it's camera sucks. iPhone is really amazing when it comes to camera. It's worth spending 50k on this. Cons- only display is lcd. While using u don't feel it but if u compare with other phone then u can see difference quite easily.\\nChanging from Android to iphone is bit difficult coz most of things u don't know but I liked it. Some of the a...\\nREAD MORE\",\n",
       " 'Did an upgrade from 6s plus to iphone 11.\\nAo far the experience is well and good. Felt smoother than 6s plus. The camera quality is superb. Battery backup is descent. Not a heavy user, and gets power more than a day. Go for it if you need an alrounder iphone in a competitve price.',\n",
       " 'Value for money\\n5 star rating\\nExcellent camera\\nBattery backup full day in single charge.\\n\\nTougher and water resistant design, glossy back.\\nThe screen has excellent brightness and contrast.\\nApple A13 Bionic is the fastest smartphone chip on the planet.\\nExcellent battery life, fast charging support.\\nStereo speakers with great quality.',\n",
       " 'Damn this phone is a blast . Upgraded from android to ios and is a duperb experience. Battery backup is top notch and display also pretty good',\n",
       " \"Again back to apple iphone after a gap of 2-3 years. It's pleasure to use iOS and the quality product by Apple. Iphone 11 still works like a beast in 2021 also. It really capable of doing day to day usage as well as hard core gaming. Battery is awesome. I'm really too much satisfied with it. Apart fto the very gorgious IPS LCD (AMOLED will be better) everything is mind boggling. Iphone💕.\",\n",
       " 'Always love the apple products, upgraded from old iPhone 6S plus to this after having my first baby. I just love to click baby’s photos with it. Overall I just love this phone. Battery back up is okay, sound quality is good. Haven’t tested yet waterproof yet. Only one thing I hate is apple could have given charger & headphones in box.',\n",
       " 'awesome Phone Smooth Touch Too good Sexyy looks one word Awesome',\n",
       " 'Best and amazing product.....phone looks so premium.... battary is also good as expected .... Wide angle camera is so addictive ...if you are a IOS lover....then this phone will be the best choice for you all!!💯🔥',\n",
       " 'I purchased the iPhone 11 a month back. I must say Apple has impressed me yet again . I have been an Apple user for past 5 years . The phone is power packed with amazing features . What impressed me the most was the battery backup the phone offers . Battery can easily run upto 1.5 days in single charge with moderate to\\nHeavy usage . If you’re looking for a value for money device , I don’t see any other phone in the price range which can match the iPhone 11 .\\nOne thing I didn’t like was that ...\\nREAD MORE',\n",
       " 'It is just awesome mobile for this price from Apple,\\n\\nAfter 10 days review\\n\\nBattery enough for 1 day even 24*7 Internet will be on and mostly internet usage\\n\\nCamera is just awesome cool , android 64 MP is equal to this just 12 MP\\n\\nA13 Bionic chip will give more high performance without hanging\\n\\nAudio stereo speakers will give Dolby atoms sound with crystal clear\\n\\nVideo recording is like cinematic shots of every sec can be a 4K 60fps. Just awesome this phone\\niPhone 11 loved one',\n",
       " \"Just go for it.\\nThis phone is really amazing. I ordered it for my wife and we click photos on this thing which are better than dslr. I own OnePlus 6t but it's camera sucks. iPhone is really amazing when it comes to camera. It's worth spending 50k on this. Cons- only display is lcd. While using u don't feel it but if u compare with other phone then u can see difference quite easily.\\nChanging from Android to iphone is bit difficult coz most of things u don't know but I liked it. Some of the a...\\nREAD MORE\",\n",
       " 'Did an upgrade from 6s plus to iphone 11.\\nAo far the experience is well and good. Felt smoother than 6s plus. The camera quality is superb. Battery backup is descent. Not a heavy user, and gets power more than a day. Go for it if you need an alrounder iphone in a competitve price.',\n",
       " 'Value for money\\n5 star rating\\nExcellent camera\\nBattery backup full day in single charge.\\n\\nTougher and water resistant design, glossy back.\\nThe screen has excellent brightness and contrast.\\nApple A13 Bionic is the fastest smartphone chip on the planet.\\nExcellent battery life, fast charging support.\\nStereo speakers with great quality.',\n",
       " 'Damn this phone is a blast . Upgraded from android to ios and is a duperb experience. Battery backup is top notch and display also pretty good',\n",
       " \"Again back to apple iphone after a gap of 2-3 years. It's pleasure to use iOS and the quality product by Apple. Iphone 11 still works like a beast in 2021 also. It really capable of doing day to day usage as well as hard core gaming. Battery is awesome. I'm really too much satisfied with it. Apart fto the very gorgious IPS LCD (AMOLED will be better) everything is mind boggling. Iphone💕.\",\n",
       " 'Always love the apple products, upgraded from old iPhone 6S plus to this after having my first baby. I just love to click baby’s photos with it. Overall I just love this phone. Battery back up is okay, sound quality is good. Haven’t tested yet waterproof yet. Only one thing I hate is apple could have given charger & headphones in box.',\n",
       " 'awesome Phone Smooth Touch Too good Sexyy looks one word Awesome',\n",
       " 'Best and amazing product.....phone looks so premium.... battary is also good as expected .... Wide angle camera is so addictive ...if you are a IOS lover....then this phone will be the best choice for you all!!💯🔥',\n",
       " 'I purchased the iPhone 11 a month back. I must say Apple has impressed me yet again . I have been an Apple user for past 5 years . The phone is power packed with amazing features . What impressed me the most was the battery backup the phone offers . Battery can easily run upto 1.5 days in single charge with moderate to\\nHeavy usage . If you’re looking for a value for money device , I don’t see any other phone in the price range which can match the iPhone 11 .\\nOne thing I didn’t like was that ...\\nREAD MORE',\n",
       " 'It is just awesome mobile for this price from Apple,\\n\\nAfter 10 days review\\n\\nBattery enough for 1 day even 24*7 Internet will be on and mostly internet usage\\n\\nCamera is just awesome cool , android 64 MP is equal to this just 12 MP\\n\\nA13 Bionic chip will give more high performance without hanging\\n\\nAudio stereo speakers will give Dolby atoms sound with crystal clear\\n\\nVideo recording is like cinematic shots of every sec can be a 4K 60fps. Just awesome this phone\\niPhone 11 loved one',\n",
       " \"Just go for it.\\nThis phone is really amazing. I ordered it for my wife and we click photos on this thing which are better than dslr. I own OnePlus 6t but it's camera sucks. iPhone is really amazing when it comes to camera. It's worth spending 50k on this. Cons- only display is lcd. While using u don't feel it but if u compare with other phone then u can see difference quite easily.\\nChanging from Android to iphone is bit difficult coz most of things u don't know but I liked it. Some of the a...\\nREAD MORE\",\n",
       " 'Did an upgrade from 6s plus to iphone 11.\\nAo far the experience is well and good. Felt smoother than 6s plus. The camera quality is superb. Battery backup is descent. Not a heavy user, and gets power more than a day. Go for it if you need an alrounder iphone in a competitve price.',\n",
       " 'Value for money\\n5 star rating\\nExcellent camera\\nBattery backup full day in single charge.\\n\\nTougher and water resistant design, glossy back.\\nThe screen has excellent brightness and contrast.\\nApple A13 Bionic is the fastest smartphone chip on the planet.\\nExcellent battery life, fast charging support.\\nStereo speakers with great quality.',\n",
       " 'Damn this phone is a blast . Upgraded from android to ios and is a duperb experience. Battery backup is top notch and display also pretty good',\n",
       " \"Again back to apple iphone after a gap of 2-3 years. It's pleasure to use iOS and the quality product by Apple. Iphone 11 still works like a beast in 2021 also. It really capable of doing day to day usage as well as hard core gaming. Battery is awesome. I'm really too much satisfied with it. Apart fto the very gorgious IPS LCD (AMOLED will be better) everything is mind boggling. Iphone💕.\",\n",
       " 'Always love the apple products, upgraded from old iPhone 6S plus to this after having my first baby. I just love to click baby’s photos with it. Overall I just love this phone. Battery back up is okay, sound quality is good. Haven’t tested yet waterproof yet. Only one thing I hate is apple could have given charger & headphones in box.',\n",
       " 'awesome Phone Smooth Touch Too good Sexyy looks one word Awesome',\n",
       " 'Best and amazing product.....phone looks so premium.... battary is also good as expected .... Wide angle camera is so addictive ...if you are a IOS lover....then this phone will be the best choice for you all!!💯🔥',\n",
       " 'I purchased the iPhone 11 a month back. I must say Apple has impressed me yet again . I have been an Apple user for past 5 years . The phone is power packed with amazing features . What impressed me the most was the battery backup the phone offers . Battery can easily run upto 1.5 days in single charge with moderate to\\nHeavy usage . If you’re looking for a value for money device , I don’t see any other phone in the price range which can match the iPhone 11 .\\nOne thing I didn’t like was that ...\\nREAD MORE',\n",
       " 'It is just awesome mobile for this price from Apple,\\n\\nAfter 10 days review\\n\\nBattery enough for 1 day even 24*7 Internet will be on and mostly internet usage\\n\\nCamera is just awesome cool , android 64 MP is equal to this just 12 MP\\n\\nA13 Bionic chip will give more high performance without hanging\\n\\nAudio stereo speakers will give Dolby atoms sound with crystal clear\\n\\nVideo recording is like cinematic shots of every sec can be a 4K 60fps. Just awesome this phone\\niPhone 11 loved one',\n",
       " \"Just go for it.\\nThis phone is really amazing. I ordered it for my wife and we click photos on this thing which are better than dslr. I own OnePlus 6t but it's camera sucks. iPhone is really amazing when it comes to camera. It's worth spending 50k on this. Cons- only display is lcd. While using u don't feel it but if u compare with other phone then u can see difference quite easily.\\nChanging from Android to iphone is bit difficult coz most of things u don't know but I liked it. Some of the a...\\nREAD MORE\",\n",
       " 'Did an upgrade from 6s plus to iphone 11.\\nAo far the experience is well and good. Felt smoother than 6s plus. The camera quality is superb. Battery backup is descent. Not a heavy user, and gets power more than a day. Go for it if you need an alrounder iphone in a competitve price.',\n",
       " 'Value for money\\n5 star rating\\nExcellent camera\\nBattery backup full day in single charge.\\n\\nTougher and water resistant design, glossy back.\\nThe screen has excellent brightness and contrast.\\nApple A13 Bionic is the fastest smartphone chip on the planet.\\nExcellent battery life, fast charging support.\\nStereo speakers with great quality.',\n",
       " 'Damn this phone is a blast . Upgraded from android to ios and is a duperb experience. Battery backup is top notch and display also pretty good',\n",
       " \"Again back to apple iphone after a gap of 2-3 years. It's pleasure to use iOS and the quality product by Apple. Iphone 11 still works like a beast in 2021 also. It really capable of doing day to day usage as well as hard core gaming. Battery is awesome. I'm really too much satisfied with it. Apart fto the very gorgious IPS LCD (AMOLED will be better) everything is mind boggling. Iphone💕.\",\n",
       " 'Always love the apple products, upgraded from old iPhone 6S plus to this after having my first baby. I just love to click baby’s photos with it. Overall I just love this phone. Battery back up is okay, sound quality is good. Haven’t tested yet waterproof yet. Only one thing I hate is apple could have given charger & headphones in box.',\n",
       " 'awesome Phone Smooth Touch Too good Sexyy looks one word Awesome',\n",
       " 'Best and amazing product.....phone looks so premium.... battary is also good as expected .... Wide angle camera is so addictive ...if you are a IOS lover....then this phone will be the best choice for you all!!💯🔥',\n",
       " 'I purchased the iPhone 11 a month back. I must say Apple has impressed me yet again . I have been an Apple user for past 5 years . The phone is power packed with amazing features . What impressed me the most was the battery backup the phone offers . Battery can easily run upto 1.5 days in single charge with moderate to\\nHeavy usage . If you’re looking for a value for money device , I don’t see any other phone in the price range which can match the iPhone 11 .\\nOne thing I didn’t like was that ...\\nREAD MORE',\n",
       " 'It is just awesome mobile for this price from Apple,\\n\\nAfter 10 days review\\n\\nBattery enough for 1 day even 24*7 Internet will be on and mostly internet usage\\n\\nCamera is just awesome cool , android 64 MP is equal to this just 12 MP\\n\\nA13 Bionic chip will give more high performance without hanging\\n\\nAudio stereo speakers will give Dolby atoms sound with crystal clear\\n\\nVideo recording is like cinematic shots of every sec can be a 4K 60fps. Just awesome this phone\\niPhone 11 loved one',\n",
       " \"Just go for it.\\nThis phone is really amazing. I ordered it for my wife and we click photos on this thing which are better than dslr. I own OnePlus 6t but it's camera sucks. iPhone is really amazing when it comes to camera. It's worth spending 50k on this. Cons- only display is lcd. While using u don't feel it but if u compare with other phone then u can see difference quite easily.\\nChanging from Android to iphone is bit difficult coz most of things u don't know but I liked it. Some of the a...\\nREAD MORE\",\n",
       " 'Did an upgrade from 6s plus to iphone 11.\\nAo far the experience is well and good. Felt smoother than 6s plus. The camera quality is superb. Battery backup is descent. Not a heavy user, and gets power more than a day. Go for it if you need an alrounder iphone in a competitve price.',\n",
       " 'Value for money\\n5 star rating\\nExcellent camera\\nBattery backup full day in single charge.\\n\\nTougher and water resistant design, glossy back.\\nThe screen has excellent brightness and contrast.\\nApple A13 Bionic is the fastest smartphone chip on the planet.\\nExcellent battery life, fast charging support.\\nStereo speakers with great quality.',\n",
       " 'Damn this phone is a blast . Upgraded from android to ios and is a duperb experience. Battery backup is top notch and display also pretty good',\n",
       " \"Again back to apple iphone after a gap of 2-3 years. It's pleasure to use iOS and the quality product by Apple. Iphone 11 still works like a beast in 2021 also. It really capable of doing day to day usage as well as hard core gaming. Battery is awesome. I'm really too much satisfied with it. Apart fto the very gorgious IPS LCD (AMOLED will be better) everything is mind boggling. Iphone💕.\",\n",
       " 'Always love the apple products, upgraded from old iPhone 6S plus to this after having my first baby. I just love to click baby’s photos with it. Overall I just love this phone. Battery back up is okay, sound quality is good. Haven’t tested yet waterproof yet. Only one thing I hate is apple could have given charger & headphones in box.',\n",
       " 'awesome Phone Smooth Touch Too good Sexyy looks one word Awesome',\n",
       " 'Best and amazing product.....phone looks so premium.... battary is also good as expected .... Wide angle camera is so addictive ...if you are a IOS lover....then this phone will be the best choice for you all!!💯🔥',\n",
       " 'I purchased the iPhone 11 a month back. I must say Apple has impressed me yet again . I have been an Apple user for past 5 years . The phone is power packed with amazing features . What impressed me the most was the battery backup the phone offers . Battery can easily run upto 1.5 days in single charge with moderate to\\nHeavy usage . If you’re looking for a value for money device , I don’t see any other phone in the price range which can match the iPhone 11 .\\nOne thing I didn’t like was that ...\\nREAD MORE',\n",
       " 'It is just awesome mobile for this price from Apple,\\n\\nAfter 10 days review\\n\\nBattery enough for 1 day even 24*7 Internet will be on and mostly internet usage\\n\\nCamera is just awesome cool , android 64 MP is equal to this just 12 MP\\n\\nA13 Bionic chip will give more high performance without hanging\\n\\nAudio stereo speakers will give Dolby atoms sound with crystal clear\\n\\nVideo recording is like cinematic shots of every sec can be a 4K 60fps. Just awesome this phone\\niPhone 11 loved one',\n",
       " \"Just go for it.\\nThis phone is really amazing. I ordered it for my wife and we click photos on this thing which are better than dslr. I own OnePlus 6t but it's camera sucks. iPhone is really amazing when it comes to camera. It's worth spending 50k on this. Cons- only display is lcd. While using u don't feel it but if u compare with other phone then u can see difference quite easily.\\nChanging from Android to iphone is bit difficult coz most of things u don't know but I liked it. Some of the a...\\nREAD MORE\"]"
      ]
     },
     "execution_count": 125,
     "metadata": {},
     "output_type": "execute_result"
    }
   ],
   "source": [
    "full_review"
   ]
  },
  {
   "cell_type": "code",
   "execution_count": 126,
   "metadata": {},
   "outputs": [],
   "source": [
    "ratings = []\n",
    "for i in range(0,10):\n",
    "    for j in driver.find_elements_by_xpath('//div[@class=\"_3LWZlK _1BLPMq\"]'):\n",
    "        ratings.append(j.text)\n",
    "    driver.find_element_by_xpath('//nav[@class=\"yFHi8N\"]').click()\n",
    "    time.sleep(4)"
   ]
  },
  {
   "cell_type": "code",
   "execution_count": 129,
   "metadata": {},
   "outputs": [
    {
     "data": {
      "text/plain": [
       "['5',\n",
       " '5',\n",
       " '5',\n",
       " '5',\n",
       " '5',\n",
       " '5',\n",
       " '5',\n",
       " '5',\n",
       " '5',\n",
       " '5',\n",
       " '5',\n",
       " '5',\n",
       " '5',\n",
       " '5',\n",
       " '5',\n",
       " '5',\n",
       " '5',\n",
       " '5',\n",
       " '5',\n",
       " '5',\n",
       " '5',\n",
       " '5',\n",
       " '5',\n",
       " '5',\n",
       " '5',\n",
       " '5',\n",
       " '5',\n",
       " '5',\n",
       " '5',\n",
       " '5',\n",
       " '5',\n",
       " '5',\n",
       " '5',\n",
       " '5',\n",
       " '5',\n",
       " '5',\n",
       " '5',\n",
       " '5',\n",
       " '5',\n",
       " '5',\n",
       " '5',\n",
       " '5',\n",
       " '5',\n",
       " '5',\n",
       " '5',\n",
       " '5',\n",
       " '5',\n",
       " '5',\n",
       " '5',\n",
       " '5',\n",
       " '5',\n",
       " '5',\n",
       " '5',\n",
       " '5',\n",
       " '5',\n",
       " '5',\n",
       " '5',\n",
       " '5',\n",
       " '5',\n",
       " '5',\n",
       " '5',\n",
       " '5',\n",
       " '5',\n",
       " '5',\n",
       " '5',\n",
       " '5',\n",
       " '5',\n",
       " '5',\n",
       " '5',\n",
       " '5',\n",
       " '5',\n",
       " '5',\n",
       " '5',\n",
       " '5',\n",
       " '5',\n",
       " '5',\n",
       " '5',\n",
       " '5',\n",
       " '5',\n",
       " '5',\n",
       " '5',\n",
       " '5',\n",
       " '5',\n",
       " '5',\n",
       " '5',\n",
       " '5',\n",
       " '5',\n",
       " '5',\n",
       " '5',\n",
       " '5',\n",
       " '5',\n",
       " '5',\n",
       " '5',\n",
       " '5',\n",
       " '5',\n",
       " '5',\n",
       " '5',\n",
       " '5',\n",
       " '5',\n",
       " '5']"
      ]
     },
     "execution_count": 129,
     "metadata": {},
     "output_type": "execute_result"
    }
   ],
   "source": [
    "ratings"
   ]
  },
  {
   "cell_type": "code",
   "execution_count": 130,
   "metadata": {},
   "outputs": [
    {
     "data": {
      "text/html": [
       "<div>\n",
       "<style scoped>\n",
       "    .dataframe tbody tr th:only-of-type {\n",
       "        vertical-align: middle;\n",
       "    }\n",
       "\n",
       "    .dataframe tbody tr th {\n",
       "        vertical-align: top;\n",
       "    }\n",
       "\n",
       "    .dataframe thead th {\n",
       "        text-align: right;\n",
       "    }\n",
       "</style>\n",
       "<table border=\"1\" class=\"dataframe\">\n",
       "  <thead>\n",
       "    <tr style=\"text-align: right;\">\n",
       "      <th></th>\n",
       "      <th>Review</th>\n",
       "      <th>Rating</th>\n",
       "      <th>Full Review</th>\n",
       "    </tr>\n",
       "  </thead>\n",
       "  <tbody>\n",
       "    <tr>\n",
       "      <th>0</th>\n",
       "      <td>Super!</td>\n",
       "      <td>5</td>\n",
       "      <td>Did an upgrade from 6s plus to iphone 11.\\nAo ...</td>\n",
       "    </tr>\n",
       "    <tr>\n",
       "      <th>1</th>\n",
       "      <td>Perfect product!</td>\n",
       "      <td>5</td>\n",
       "      <td>Value for money\\n5 star rating\\nExcellent came...</td>\n",
       "    </tr>\n",
       "    <tr>\n",
       "      <th>2</th>\n",
       "      <td>Must buy!</td>\n",
       "      <td>5</td>\n",
       "      <td>Damn this phone is a blast . Upgraded from and...</td>\n",
       "    </tr>\n",
       "    <tr>\n",
       "      <th>3</th>\n",
       "      <td>Great product</td>\n",
       "      <td>5</td>\n",
       "      <td>Again back to apple iphone after a gap of 2-3 ...</td>\n",
       "    </tr>\n",
       "    <tr>\n",
       "      <th>4</th>\n",
       "      <td>Awesome</td>\n",
       "      <td>5</td>\n",
       "      <td>Always love the apple products, upgraded from ...</td>\n",
       "    </tr>\n",
       "    <tr>\n",
       "      <th>...</th>\n",
       "      <td>...</td>\n",
       "      <td>...</td>\n",
       "      <td>...</td>\n",
       "    </tr>\n",
       "    <tr>\n",
       "      <th>95</th>\n",
       "      <td>Mind-blowing purchase</td>\n",
       "      <td>5</td>\n",
       "      <td>awesome Phone Smooth Touch Too good Sexyy look...</td>\n",
       "    </tr>\n",
       "    <tr>\n",
       "      <th>96</th>\n",
       "      <td>Perfect product!</td>\n",
       "      <td>5</td>\n",
       "      <td>Best and amazing product.....phone looks so pr...</td>\n",
       "    </tr>\n",
       "    <tr>\n",
       "      <th>97</th>\n",
       "      <td>Fabulous!</td>\n",
       "      <td>5</td>\n",
       "      <td>I purchased the iPhone 11 a month back. I must...</td>\n",
       "    </tr>\n",
       "    <tr>\n",
       "      <th>98</th>\n",
       "      <td>Perfect product!</td>\n",
       "      <td>5</td>\n",
       "      <td>It is just awesome mobile for this price from ...</td>\n",
       "    </tr>\n",
       "    <tr>\n",
       "      <th>99</th>\n",
       "      <td>Excellent</td>\n",
       "      <td>5</td>\n",
       "      <td>Just go for it.\\nThis phone is really amazing....</td>\n",
       "    </tr>\n",
       "  </tbody>\n",
       "</table>\n",
       "<p>100 rows × 3 columns</p>\n",
       "</div>"
      ],
      "text/plain": [
       "                   Review Rating  \\\n",
       "0                  Super!      5   \n",
       "1        Perfect product!      5   \n",
       "2               Must buy!      5   \n",
       "3           Great product      5   \n",
       "4                 Awesome      5   \n",
       "..                    ...    ...   \n",
       "95  Mind-blowing purchase      5   \n",
       "96       Perfect product!      5   \n",
       "97              Fabulous!      5   \n",
       "98       Perfect product!      5   \n",
       "99              Excellent      5   \n",
       "\n",
       "                                          Full Review  \n",
       "0   Did an upgrade from 6s plus to iphone 11.\\nAo ...  \n",
       "1   Value for money\\n5 star rating\\nExcellent came...  \n",
       "2   Damn this phone is a blast . Upgraded from and...  \n",
       "3   Again back to apple iphone after a gap of 2-3 ...  \n",
       "4   Always love the apple products, upgraded from ...  \n",
       "..                                                ...  \n",
       "95  awesome Phone Smooth Touch Too good Sexyy look...  \n",
       "96  Best and amazing product.....phone looks so pr...  \n",
       "97  I purchased the iPhone 11 a month back. I must...  \n",
       "98  It is just awesome mobile for this price from ...  \n",
       "99  Just go for it.\\nThis phone is really amazing....  \n",
       "\n",
       "[100 rows x 3 columns]"
      ]
     },
     "execution_count": 130,
     "metadata": {},
     "output_type": "execute_result"
    }
   ],
   "source": [
    "Reviews=pd.DataFrame({})\n",
    "Reviews['Review'] =review\n",
    "Reviews['Rating'] =ratings\n",
    "Reviews['Full Review'] = full_review\n",
    "\n",
    "\n",
    "Reviews"
   ]
  },
  {
   "cell_type": "code",
   "execution_count": null,
   "metadata": {},
   "outputs": [],
   "source": []
  },
  {
   "cell_type": "code",
   "execution_count": null,
   "metadata": {},
   "outputs": [],
   "source": []
  },
  {
   "cell_type": "markdown",
   "metadata": {},
   "source": [
    "Q8: Scrape data for first 100 sneakers you find when you visit flipkart.com and \n",
    "search for “sneakers” in the search field.\n",
    "You have to scrape 4 attributes of each sneaker :\n",
    "1. Brand\n",
    "3. Price\n",
    "4. discount %\n",
    "As shown in the below image, you have to scrape the tick marked attributes.\n",
    "Also note that all the steps required during scraping should be done through code \n",
    "only and not manually."
   ]
  },
  {
   "cell_type": "code",
   "execution_count": 131,
   "metadata": {},
   "outputs": [],
   "source": [
    "#Lets now import all the required libraries\n",
    "import selenium\n",
    "import pandas as pd\n",
    "from selenium import webdriver"
   ]
  },
  {
   "cell_type": "code",
   "execution_count": 132,
   "metadata": {},
   "outputs": [],
   "source": [
    "#Lets first connect to the web driver\n",
    "driver = webdriver.Chrome('chromedriver.exe')"
   ]
  },
  {
   "cell_type": "code",
   "execution_count": 133,
   "metadata": {},
   "outputs": [],
   "source": [
    "url = 'https://www.flipkart.com/'\n",
    "driver.get(url)"
   ]
  },
  {
   "cell_type": "code",
   "execution_count": 134,
   "metadata": {},
   "outputs": [
    {
     "data": {
      "text/plain": [
       "<selenium.webdriver.remote.webelement.WebElement (session=\"ba7efe76b7031ec0efb2fec173a7ed29\", element=\"f0b40ba7-2d1f-43f3-b91e-bda1078de74a\")>"
      ]
     },
     "execution_count": 134,
     "metadata": {},
     "output_type": "execute_result"
    }
   ],
   "source": [
    "#finding elements for job search bar\n",
    "search_bar = driver.find_element_by_xpath(\"//div[@class='_3OO5Xc']//input\")\n",
    "search_bar"
   ]
  },
  {
   "cell_type": "code",
   "execution_count": 135,
   "metadata": {},
   "outputs": [],
   "source": [
    "#write on search bar\n",
    "search_bar.send_keys('Sneakers')"
   ]
  },
  {
   "cell_type": "code",
   "execution_count": 136,
   "metadata": {},
   "outputs": [],
   "source": [
    "#do click using xpath function\n",
    "search_btn = driver.find_element_by_xpath(\"//button[@class='L0Z3Pu']\")\n",
    "search_btn.click()"
   ]
  },
  {
   "cell_type": "code",
   "execution_count": 137,
   "metadata": {},
   "outputs": [],
   "source": [
    "brand = []\n",
    "for i in range(0,3):\n",
    "    for j in driver.find_elements_by_xpath('//div[@class=\"_2WkVRV\"]'):\n",
    "        brand.append(j.text)\n",
    "    driver.find_element_by_xpath('//nav[@class=\"yFHi8N\"]').click()\n",
    "    time.sleep(4)"
   ]
  },
  {
   "cell_type": "code",
   "execution_count": 141,
   "metadata": {},
   "outputs": [
    {
     "data": {
      "text/plain": [
       "['World Wear Footwear',\n",
       " 'luxury fashion',\n",
       " 'Robbie jones',\n",
       " 'HOTSTYLE',\n",
       " 'ORICUM',\n",
       " 'Robbie jones',\n",
       " 'Shoes Bank',\n",
       " 'VIPSJAZZY',\n",
       " 'Numenzo',\n",
       " 'Robbie jones',\n",
       " 'Stefano Rads',\n",
       " 'bluemaker',\n",
       " 'BRUTON',\n",
       " 'India hub',\n",
       " '\"trend\"',\n",
       " 'aadi',\n",
       " 'Echor',\n",
       " 'VORII',\n",
       " 'Kraasa',\n",
       " 'DUCATI',\n",
       " 'Birde',\n",
       " 'Zsyto',\n",
       " '3SIX5',\n",
       " '\"trend\"',\n",
       " 'Echor',\n",
       " 'TR',\n",
       " 'Skechers',\n",
       " 'Baogi',\n",
       " 'SCATCHITE',\n",
       " 'Fzzirok',\n",
       " 'SPARX',\n",
       " 'Alfiyo',\n",
       " 'T-ROCK',\n",
       " 'Fzzirok',\n",
       " 'Svpanther',\n",
       " 'SPARX',\n",
       " 'SPARX',\n",
       " 'Magnolia',\n",
       " 'restinfoot',\n",
       " 'HARMEET',\n",
       " 'PUMA',\n",
       " 'Qtsy',\n",
       " 'HOC',\n",
       " 'DUCATI',\n",
       " 'PUMA',\n",
       " 'SPORTER',\n",
       " 'PUMA',\n",
       " 'Jack Diamond',\n",
       " 'PUMA',\n",
       " 'India hub',\n",
       " 'SORT',\n",
       " 'Bata',\n",
       " 'Rising Wolf',\n",
       " 'Robbie jones',\n",
       " 'PUMA',\n",
       " 'SPARX',\n",
       " 'ADIDAS',\n",
       " 'bacca bucci',\n",
       " 'BRUTON',\n",
       " 'Birde',\n",
       " 'Magnolia',\n",
       " 'SPARX',\n",
       " 'Numenzo',\n",
       " 'Rising Wolf',\n",
       " 'ASTEROID',\n",
       " 'D-SNEAKERZ',\n",
       " 'SPARX',\n",
       " 'Baogi',\n",
       " 'Englewood',\n",
       " 'Kavon',\n",
       " 'PUMA',\n",
       " 'ESSENCE',\n",
       " 'SPARX',\n",
       " 'K K',\n",
       " 'ESSENCE',\n",
       " 'ORICUM',\n",
       " 'PUMA',\n",
       " 'SPARX',\n",
       " 'bacca bucci',\n",
       " 'Robbie jones',\n",
       " 'PUMA',\n",
       " 'Qtsy',\n",
       " 'HOC',\n",
       " 'DUCATI',\n",
       " 'PUMA',\n",
       " 'SPORTER',\n",
       " 'PUMA',\n",
       " 'Jack Diamond',\n",
       " 'PUMA',\n",
       " 'India hub',\n",
       " 'SORT',\n",
       " 'Bata',\n",
       " 'Rising Wolf',\n",
       " 'Robbie jones',\n",
       " 'PUMA',\n",
       " 'SPARX',\n",
       " 'ADIDAS',\n",
       " 'bacca bucci',\n",
       " 'BRUTON',\n",
       " 'Birde',\n",
       " 'Magnolia',\n",
       " 'SPARX',\n",
       " 'Numenzo',\n",
       " 'Rising Wolf',\n",
       " 'ASTEROID',\n",
       " 'D-SNEAKERZ',\n",
       " 'SPARX',\n",
       " 'Baogi',\n",
       " 'Englewood',\n",
       " 'Kavon',\n",
       " 'PUMA',\n",
       " 'ESSENCE',\n",
       " 'SPARX',\n",
       " 'K K',\n",
       " 'ESSENCE',\n",
       " 'ORICUM',\n",
       " 'PUMA',\n",
       " 'SPARX',\n",
       " 'bacca bucci',\n",
       " 'Robbie jones']"
      ]
     },
     "execution_count": 141,
     "metadata": {},
     "output_type": "execute_result"
    }
   ],
   "source": [
    "brand"
   ]
  },
  {
   "cell_type": "code",
   "execution_count": 146,
   "metadata": {},
   "outputs": [],
   "source": [
    "price = []\n",
    "for i in range(0,3):\n",
    "    for j in driver.find_elements_by_xpath('//div[@class=\"_30jeq3\"]'):\n",
    "        price.append(j.text)\n",
    "    driver.find_element_by_xpath('//nav[@class=\"yFHi8N\"]').click()\n",
    "    time.sleep(4)"
   ]
  },
  {
   "cell_type": "code",
   "execution_count": 148,
   "metadata": {},
   "outputs": [
    {
     "data": {
      "text/plain": [
       "['₹399',\n",
       " '₹549',\n",
       " '₹379',\n",
       " '₹283',\n",
       " '₹377',\n",
       " '₹474',\n",
       " '₹349',\n",
       " '₹419',\n",
       " '₹399',\n",
       " '₹428',\n",
       " '₹229',\n",
       " '₹474',\n",
       " '₹499',\n",
       " '₹1,987',\n",
       " '₹426',\n",
       " '₹298',\n",
       " '₹569',\n",
       " '₹379',\n",
       " '₹416',\n",
       " '₹1,461',\n",
       " '₹757',\n",
       " '₹328',\n",
       " '₹214',\n",
       " '₹283',\n",
       " '₹569',\n",
       " '₹599',\n",
       " '₹2,364',\n",
       " '₹399',\n",
       " '₹398',\n",
       " '₹474',\n",
       " '₹769',\n",
       " '₹459',\n",
       " '₹378',\n",
       " '₹370',\n",
       " '₹515',\n",
       " '₹632',\n",
       " '₹699',\n",
       " '₹311',\n",
       " '₹379',\n",
       " '₹485',\n",
       " '₹1,644',\n",
       " '₹396',\n",
       " '₹398',\n",
       " '₹568',\n",
       " '₹2,009',\n",
       " '₹498',\n",
       " '₹1,329',\n",
       " '₹379',\n",
       " '₹1,491',\n",
       " '₹389',\n",
       " '₹599',\n",
       " '₹899',\n",
       " '₹485',\n",
       " '₹419',\n",
       " '₹2,285',\n",
       " '₹1,049',\n",
       " '₹1,799',\n",
       " '₹1,234',\n",
       " '₹341',\n",
       " '₹474',\n",
       " '₹424',\n",
       " '₹629',\n",
       " '₹599',\n",
       " '₹399',\n",
       " '₹474',\n",
       " '₹346',\n",
       " '₹649',\n",
       " '₹399',\n",
       " '₹499',\n",
       " '₹498',\n",
       " '₹3,185',\n",
       " '₹424',\n",
       " '₹1,000',\n",
       " '₹474',\n",
       " '₹424',\n",
       " '₹664',\n",
       " '₹3,919',\n",
       " '₹669',\n",
       " '₹949',\n",
       " '₹379',\n",
       " '₹1,644',\n",
       " '₹396',\n",
       " '₹398',\n",
       " '₹568',\n",
       " '₹2,009',\n",
       " '₹498',\n",
       " '₹1,329',\n",
       " '₹379',\n",
       " '₹1,491',\n",
       " '₹389',\n",
       " '₹599',\n",
       " '₹899',\n",
       " '₹485',\n",
       " '₹419',\n",
       " '₹2,285',\n",
       " '₹1,049',\n",
       " '₹1,799',\n",
       " '₹1,234',\n",
       " '₹341',\n",
       " '₹474',\n",
       " '₹424',\n",
       " '₹629',\n",
       " '₹599',\n",
       " '₹399',\n",
       " '₹474',\n",
       " '₹346',\n",
       " '₹649',\n",
       " '₹399',\n",
       " '₹499',\n",
       " '₹498',\n",
       " '₹3,185',\n",
       " '₹424',\n",
       " '₹1,000',\n",
       " '₹474',\n",
       " '₹424',\n",
       " '₹664',\n",
       " '₹3,919',\n",
       " '₹669',\n",
       " '₹949',\n",
       " '₹379']"
      ]
     },
     "execution_count": 148,
     "metadata": {},
     "output_type": "execute_result"
    }
   ],
   "source": [
    "price"
   ]
  },
  {
   "cell_type": "code",
   "execution_count": 149,
   "metadata": {},
   "outputs": [],
   "source": [
    "discount = []\n",
    "for i in range(0,3):\n",
    "    for j in driver.find_elements_by_xpath('//div[@class=\"_3Ay6Sb\"]'):\n",
    "        discount.append(j.text)\n",
    "    driver.find_element_by_xpath('//nav[@class=\"yFHi8N\"]').click()\n",
    "    time.sleep(4)"
   ]
  },
  {
   "cell_type": "code",
   "execution_count": 151,
   "metadata": {},
   "outputs": [
    {
     "data": {
      "text/plain": [
       "['53% off',\n",
       " '50% off',\n",
       " '69% off',\n",
       " '71% off',\n",
       " '42% off',\n",
       " '50% off',\n",
       " '62% off',\n",
       " '62% off',\n",
       " '57% off',\n",
       " '61% off',\n",
       " '75% off',\n",
       " '10% off',\n",
       " '75% off',\n",
       " '58% off',\n",
       " '67% off',\n",
       " '25% off',\n",
       " '55% off',\n",
       " '58% off',\n",
       " '85% off',\n",
       " '52% off',\n",
       " '57% off',\n",
       " '16% off',\n",
       " '40% off',\n",
       " '60% off',\n",
       " '52% off',\n",
       " '65% off',\n",
       " '7% off',\n",
       " '60% off',\n",
       " '73% off',\n",
       " '50% off',\n",
       " '42% off',\n",
       " '57% off',\n",
       " '23% off',\n",
       " '52% off',\n",
       " '57% off',\n",
       " '55% off',\n",
       " '44% off',\n",
       " '10% off',\n",
       " '62% off',\n",
       " '62% off',\n",
       " '53% off',\n",
       " '50% off',\n",
       " '69% off',\n",
       " '71% off',\n",
       " '42% off',\n",
       " '50% off',\n",
       " '62% off',\n",
       " '62% off',\n",
       " '57% off',\n",
       " '61% off',\n",
       " '75% off',\n",
       " '10% off',\n",
       " '75% off',\n",
       " '58% off',\n",
       " '67% off',\n",
       " '25% off',\n",
       " '55% off',\n",
       " '58% off',\n",
       " '85% off',\n",
       " '52% off',\n",
       " '57% off',\n",
       " '16% off',\n",
       " '40% off',\n",
       " '60% off',\n",
       " '52% off',\n",
       " '65% off',\n",
       " '7% off',\n",
       " '60% off',\n",
       " '73% off',\n",
       " '50% off',\n",
       " '42% off',\n",
       " '57% off',\n",
       " '23% off',\n",
       " '52% off',\n",
       " '57% off',\n",
       " '55% off',\n",
       " '44% off',\n",
       " '10% off',\n",
       " '62% off',\n",
       " '62% off',\n",
       " '53% off',\n",
       " '50% off',\n",
       " '69% off',\n",
       " '71% off',\n",
       " '42% off',\n",
       " '50% off',\n",
       " '62% off',\n",
       " '62% off',\n",
       " '57% off',\n",
       " '61% off',\n",
       " '75% off',\n",
       " '10% off',\n",
       " '75% off',\n",
       " '58% off',\n",
       " '67% off',\n",
       " '25% off',\n",
       " '55% off',\n",
       " '58% off',\n",
       " '85% off',\n",
       " '52% off',\n",
       " '57% off',\n",
       " '16% off',\n",
       " '40% off',\n",
       " '60% off',\n",
       " '52% off',\n",
       " '65% off',\n",
       " '7% off',\n",
       " '60% off',\n",
       " '73% off',\n",
       " '50% off',\n",
       " '42% off',\n",
       " '57% off',\n",
       " '23% off',\n",
       " '52% off',\n",
       " '57% off',\n",
       " '55% off',\n",
       " '44% off',\n",
       " '10% off',\n",
       " '62% off',\n",
       " '62% off']"
      ]
     },
     "execution_count": 151,
     "metadata": {},
     "output_type": "execute_result"
    }
   ],
   "source": [
    "discount"
   ]
  },
  {
   "cell_type": "code",
   "execution_count": 155,
   "metadata": {},
   "outputs": [
    {
     "data": {
      "text/html": [
       "<div>\n",
       "<style scoped>\n",
       "    .dataframe tbody tr th:only-of-type {\n",
       "        vertical-align: middle;\n",
       "    }\n",
       "\n",
       "    .dataframe tbody tr th {\n",
       "        vertical-align: top;\n",
       "    }\n",
       "\n",
       "    .dataframe thead th {\n",
       "        text-align: right;\n",
       "    }\n",
       "</style>\n",
       "<table border=\"1\" class=\"dataframe\">\n",
       "  <thead>\n",
       "    <tr style=\"text-align: right;\">\n",
       "      <th></th>\n",
       "      <th>Brand</th>\n",
       "      <th>Price</th>\n",
       "      <th>Discount</th>\n",
       "    </tr>\n",
       "  </thead>\n",
       "  <tbody>\n",
       "    <tr>\n",
       "      <th>0</th>\n",
       "      <td>World Wear Footwear</td>\n",
       "      <td>₹399</td>\n",
       "      <td>53% off</td>\n",
       "    </tr>\n",
       "    <tr>\n",
       "      <th>1</th>\n",
       "      <td>luxury fashion</td>\n",
       "      <td>₹549</td>\n",
       "      <td>50% off</td>\n",
       "    </tr>\n",
       "    <tr>\n",
       "      <th>2</th>\n",
       "      <td>Robbie jones</td>\n",
       "      <td>₹379</td>\n",
       "      <td>69% off</td>\n",
       "    </tr>\n",
       "    <tr>\n",
       "      <th>3</th>\n",
       "      <td>HOTSTYLE</td>\n",
       "      <td>₹283</td>\n",
       "      <td>71% off</td>\n",
       "    </tr>\n",
       "    <tr>\n",
       "      <th>4</th>\n",
       "      <td>ORICUM</td>\n",
       "      <td>₹377</td>\n",
       "      <td>42% off</td>\n",
       "    </tr>\n",
       "    <tr>\n",
       "      <th>...</th>\n",
       "      <td>...</td>\n",
       "      <td>...</td>\n",
       "      <td>...</td>\n",
       "    </tr>\n",
       "    <tr>\n",
       "      <th>115</th>\n",
       "      <td>ORICUM</td>\n",
       "      <td>₹664</td>\n",
       "      <td>55% off</td>\n",
       "    </tr>\n",
       "    <tr>\n",
       "      <th>116</th>\n",
       "      <td>PUMA</td>\n",
       "      <td>₹3,919</td>\n",
       "      <td>44% off</td>\n",
       "    </tr>\n",
       "    <tr>\n",
       "      <th>117</th>\n",
       "      <td>SPARX</td>\n",
       "      <td>₹669</td>\n",
       "      <td>10% off</td>\n",
       "    </tr>\n",
       "    <tr>\n",
       "      <th>118</th>\n",
       "      <td>bacca bucci</td>\n",
       "      <td>₹949</td>\n",
       "      <td>62% off</td>\n",
       "    </tr>\n",
       "    <tr>\n",
       "      <th>119</th>\n",
       "      <td>Robbie jones</td>\n",
       "      <td>₹379</td>\n",
       "      <td>62% off</td>\n",
       "    </tr>\n",
       "  </tbody>\n",
       "</table>\n",
       "<p>120 rows × 3 columns</p>\n",
       "</div>"
      ],
      "text/plain": [
       "                   Brand   Price Discount\n",
       "0    World Wear Footwear    ₹399  53% off\n",
       "1         luxury fashion    ₹549  50% off\n",
       "2           Robbie jones    ₹379  69% off\n",
       "3               HOTSTYLE    ₹283  71% off\n",
       "4                 ORICUM    ₹377  42% off\n",
       "..                   ...     ...      ...\n",
       "115               ORICUM    ₹664  55% off\n",
       "116                 PUMA  ₹3,919  44% off\n",
       "117                SPARX    ₹669  10% off\n",
       "118          bacca bucci    ₹949  62% off\n",
       "119         Robbie jones    ₹379  62% off\n",
       "\n",
       "[120 rows x 3 columns]"
      ]
     },
     "execution_count": 155,
     "metadata": {},
     "output_type": "execute_result"
    }
   ],
   "source": [
    "sneakers=pd.DataFrame({})\n",
    "sneakers['Brand'] = brand\n",
    "sneakers['Price'] = price\n",
    "sneakers['Discount'] = discount\n",
    "\n",
    "sneakers"
   ]
  },
  {
   "cell_type": "code",
   "execution_count": null,
   "metadata": {},
   "outputs": [],
   "source": []
  },
  {
   "cell_type": "code",
   "execution_count": null,
   "metadata": {},
   "outputs": [],
   "source": []
  },
  {
   "cell_type": "markdown",
   "metadata": {},
   "source": [
    "Q9: Go to the link - https://www.myntra.com/shoes\n",
    "Set Price filter to “Rs. 6649 to Rs. 13099” , Color filter to “Black”, as shown in \n",
    "the below image.\n",
    "And then scrape First 100 shoes data you get. The data should include “Brand” of \n",
    "the shoes , Short Shoe description, price of the shoe as shown in the below image.\n",
    "Please note that applying the filter and scraping the data , everything should be \n",
    "done through code only and there should not be any manual step."
   ]
  },
  {
   "cell_type": "code",
   "execution_count": 20,
   "metadata": {},
   "outputs": [],
   "source": [
    "#Lets now import all the required libraries\n",
    "import selenium\n",
    "import pandas as pd\n",
    "from selenium import webdriver\n",
    "import time"
   ]
  },
  {
   "cell_type": "code",
   "execution_count": 2,
   "metadata": {},
   "outputs": [],
   "source": [
    "#Lets first connect to the web driver\n",
    "driver = webdriver.Chrome('chromedriver.exe')"
   ]
  },
  {
   "cell_type": "code",
   "execution_count": 4,
   "metadata": {},
   "outputs": [],
   "source": [
    "url = 'https://www.myntra.com/shoes'\n",
    "driver.get(url)"
   ]
  },
  {
   "cell_type": "code",
   "execution_count": null,
   "metadata": {},
   "outputs": [],
   "source": [
    "#do click using xpath function for price\n",
    "chk_box1 = driver.find_element_by_xpath(\"//div[@class='price-input']\")\n",
    "chk_box1.click()"
   ]
  },
  {
   "cell_type": "code",
   "execution_count": 18,
   "metadata": {},
   "outputs": [],
   "source": [
    "#do click using xpath function for colour\n",
    "chk_box = driver.find_element_by_xpath(\"//span[@class='colour-label colour-colorDisplay']\")\n",
    "chk_box.click()"
   ]
  },
  {
   "cell_type": "markdown",
   "metadata": {},
   "source": [
    "So now lets 3 create empty lists. In these lists the data will be stored while scraping."
   ]
  },
  {
   "cell_type": "code",
   "execution_count": 21,
   "metadata": {},
   "outputs": [],
   "source": [
    "brand_name = []\n",
    "for i in range(0,2):\n",
    "    for j in driver.find_elements_by_xpath('//h3[@class=\"product-brand\"]'):\n",
    "        brand_name.append(j.text)\n",
    "    driver.find_element_by_xpath('//li[@class=\"pagination-active\"]').click()\n",
    "    time.sleep(4)"
   ]
  },
  {
   "cell_type": "code",
   "execution_count": 24,
   "metadata": {},
   "outputs": [
    {
     "data": {
      "text/plain": [
       "['Nike',\n",
       " 'Nike',\n",
       " 'ALDO',\n",
       " 'Nike',\n",
       " 'Nike',\n",
       " 'ALDO',\n",
       " 'Nike',\n",
       " 'Nike',\n",
       " 'Nike',\n",
       " 'Nike',\n",
       " 'UNDER ARMOUR',\n",
       " 'UNDER ARMOUR',\n",
       " 'UNDER ARMOUR',\n",
       " 'Puma',\n",
       " 'UNDER ARMOUR',\n",
       " 'ASICS',\n",
       " 'Puma',\n",
       " 'Hush Puppies',\n",
       " 'UNDER ARMOUR',\n",
       " 'Puma',\n",
       " 'Saint G',\n",
       " 'UNDER ARMOUR',\n",
       " 'Puma',\n",
       " 'UNDER ARMOUR',\n",
       " 'UNDER ARMOUR',\n",
       " 'Onitsuka Tiger',\n",
       " 'FILA',\n",
       " 'UNDER ARMOUR',\n",
       " 'Puma',\n",
       " 'Puma',\n",
       " 'Nike',\n",
       " 'ASICS',\n",
       " 'Puma',\n",
       " 'Puma',\n",
       " 'Puma',\n",
       " 'UNDER ARMOUR',\n",
       " 'UNDER ARMOUR',\n",
       " 'Skechers',\n",
       " 'Cole Haan',\n",
       " 'ALDO',\n",
       " 'Hush Puppies',\n",
       " 'Ruosh',\n",
       " 'Heel & Buckle London',\n",
       " 'UNDER ARMOUR',\n",
       " 'UNDER ARMOUR',\n",
       " 'UNDER ARMOUR',\n",
       " 'Bugatti',\n",
       " 'Ruosh',\n",
       " 'Saint G',\n",
       " 'Reebok',\n",
       " 'Nike',\n",
       " 'Nike',\n",
       " 'ALDO',\n",
       " 'Nike',\n",
       " 'Nike',\n",
       " 'ALDO',\n",
       " 'Nike',\n",
       " 'Nike',\n",
       " 'Nike',\n",
       " 'Nike',\n",
       " 'UNDER ARMOUR',\n",
       " 'UNDER ARMOUR',\n",
       " 'UNDER ARMOUR',\n",
       " 'Puma',\n",
       " 'UNDER ARMOUR',\n",
       " 'ASICS',\n",
       " 'Puma',\n",
       " 'Hush Puppies',\n",
       " 'UNDER ARMOUR',\n",
       " 'Puma',\n",
       " 'Saint G',\n",
       " 'UNDER ARMOUR',\n",
       " 'Puma',\n",
       " 'UNDER ARMOUR',\n",
       " 'UNDER ARMOUR',\n",
       " 'Onitsuka Tiger',\n",
       " 'FILA',\n",
       " 'UNDER ARMOUR',\n",
       " 'Puma',\n",
       " 'Puma',\n",
       " 'Nike',\n",
       " 'ASICS',\n",
       " 'Puma',\n",
       " 'Puma',\n",
       " 'Puma',\n",
       " 'UNDER ARMOUR',\n",
       " 'UNDER ARMOUR',\n",
       " 'Skechers',\n",
       " 'Cole Haan',\n",
       " 'ALDO',\n",
       " 'Hush Puppies',\n",
       " 'Ruosh',\n",
       " 'Heel & Buckle London',\n",
       " 'UNDER ARMOUR',\n",
       " 'UNDER ARMOUR',\n",
       " 'UNDER ARMOUR',\n",
       " 'Bugatti',\n",
       " 'Ruosh',\n",
       " 'Saint G',\n",
       " 'Reebok']"
      ]
     },
     "execution_count": 24,
     "metadata": {},
     "output_type": "execute_result"
    }
   ],
   "source": [
    "brand_name"
   ]
  },
  {
   "cell_type": "code",
   "execution_count": 25,
   "metadata": {},
   "outputs": [],
   "source": [
    "prod_desc = []\n",
    "for i in range(0,2):\n",
    "    for j in driver.find_elements_by_xpath('//h4[@class=\"product-product\"]'):\n",
    "        prod_desc.append(j.text)\n",
    "    driver.find_element_by_xpath('//li[@class=\"pagination-active\"]').click()\n",
    "    time.sleep(4)"
   ]
  },
  {
   "cell_type": "code",
   "execution_count": 27,
   "metadata": {},
   "outputs": [
    {
     "data": {
      "text/plain": [
       "['AIR ZOOM PEGASUS Running Shoes',\n",
       " 'Men KD13 EP Basketball Shoes',\n",
       " 'Men Sneakers',\n",
       " 'Men JORDAN DELTA Basketball',\n",
       " 'Men REACT MILER Running Shoes',\n",
       " 'Men Textured Sneakers',\n",
       " 'Women PEGASUS 37 Running Shoes',\n",
       " 'Men AIR ZOOM Running Shoes',\n",
       " 'Men JOYRIDE Running Shoes',\n",
       " 'Women REACT Running Shoes',\n",
       " 'Men HOVR Strt Walking Shoes',\n",
       " 'Men Liquify Running Shoes',\n",
       " 'HOVR Sonic 3 Running Shoes',\n",
       " 'Men SPEED 500 2 Running Shoes',\n",
       " 'Charged Rogue 2 Wide 2E Shoes',\n",
       " 'Men Black Sports Shoes',\n",
       " 'Women Eternity Nitro Running',\n",
       " 'Men Solid Leather Formal Slip-Ons',\n",
       " 'Charged Impulse Running Shoes',\n",
       " 'Men UltraRide Running Shoes',\n",
       " 'Men Textured Leather Formal Loafers',\n",
       " 'HOVR Infinite 2 Running Shoes',\n",
       " 'Men Velocity Nitro Running',\n",
       " 'Men HOVR Guardian Shoes',\n",
       " 'Women Liquify Rebel Running',\n",
       " 'Unisex Mexico 66 Paraty Sneakers',\n",
       " 'Men Running Shoes',\n",
       " 'Women Charged Breathe TR 2',\n",
       " 'Women Provoke XT Training',\n",
       " 'Women Liberate Nitro Running',\n",
       " 'Men JORDAN DELTA Sneakers',\n",
       " 'Men Running Shoes',\n",
       " 'Future Rider Twofold Sneakers',\n",
       " 'Men FUTURE Z 3.1Football Shoes',\n",
       " 'Unisex RS-X Pop Sneakers',\n",
       " 'Men Charged Will Sneakers',\n",
       " 'Women Charged Breathe OIL SLK',\n",
       " \"Women D'LITES 3.0 Sneakers\",\n",
       " 'Women Woven Design Sneakers',\n",
       " 'Women Open Toe Flats',\n",
       " 'Men Formal Derbys',\n",
       " 'Men Solid Leather Formal Derbys',\n",
       " 'Men Leather Formal Oxfords',\n",
       " 'Women HOVR Rise 2 Training',\n",
       " 'Women TriBase Reign 2 Training',\n",
       " 'HOVR Sonic 3 Running Shoes',\n",
       " 'Women Mules',\n",
       " 'Men Formal Brogues',\n",
       " 'Men Leather Chelsea Boots',\n",
       " 'Forever Floatride Energy 2',\n",
       " 'AIR ZOOM PEGASUS Running Shoes',\n",
       " 'Men KD13 EP Basketball Shoes',\n",
       " 'Men Sneakers',\n",
       " '',\n",
       " 'Men REACT MILER Running Shoes',\n",
       " 'Men Textured Sneakers',\n",
       " 'Women PEGASUS 37 Running Shoes',\n",
       " 'Men AIR ZOOM Running Shoes',\n",
       " 'Men JOYRIDE Running Shoes',\n",
       " 'Women REACT Running Shoes',\n",
       " 'Men HOVR Strt Walking Shoes',\n",
       " 'Men Liquify Running Shoes',\n",
       " 'HOVR Sonic 3 Running Shoes',\n",
       " 'Men SPEED 500 2 Running Shoes',\n",
       " 'Charged Rogue 2 Wide 2E Shoes',\n",
       " 'Men Black Sports Shoes',\n",
       " 'Women Eternity Nitro Running',\n",
       " 'Men Solid Leather Formal Slip-Ons',\n",
       " 'Charged Impulse Running Shoes',\n",
       " 'Men UltraRide Running Shoes',\n",
       " 'Men Textured Leather Formal Loafers',\n",
       " 'HOVR Infinite 2 Running Shoes',\n",
       " 'Men Velocity Nitro Running',\n",
       " 'Men HOVR Guardian Shoes',\n",
       " 'Women Liquify Rebel Running',\n",
       " 'Unisex Mexico 66 Paraty Sneakers',\n",
       " 'Men Running Shoes',\n",
       " 'Women Charged Breathe TR 2',\n",
       " 'Women Provoke XT Training',\n",
       " 'Women Liberate Nitro Running',\n",
       " 'Men JORDAN DELTA Sneakers',\n",
       " 'Men Running Shoes',\n",
       " 'Future Rider Twofold Sneakers',\n",
       " 'Men FUTURE Z 3.1Football Shoes',\n",
       " 'Unisex RS-X Pop Sneakers',\n",
       " 'Men Charged Will Sneakers',\n",
       " 'Women Charged Breathe OIL SLK',\n",
       " \"Women D'LITES 3.0 Sneakers\",\n",
       " 'Women Woven Design Sneakers',\n",
       " 'Women Open Toe Flats',\n",
       " 'Men Formal Derbys',\n",
       " 'Men Solid Leather Formal Derbys',\n",
       " 'Men Leather Formal Oxfords',\n",
       " 'Women HOVR Rise 2 Training',\n",
       " 'Women TriBase Reign 2 Training',\n",
       " 'HOVR Sonic 3 Running Shoes',\n",
       " 'Women Mules',\n",
       " 'Men Formal Brogues',\n",
       " 'Men Leather Chelsea Boots',\n",
       " 'Forever Floatride Energy 2']"
      ]
     },
     "execution_count": 27,
     "metadata": {},
     "output_type": "execute_result"
    }
   ],
   "source": [
    "prod_desc"
   ]
  },
  {
   "cell_type": "code",
   "execution_count": 28,
   "metadata": {},
   "outputs": [],
   "source": [
    "price = []\n",
    "for i in range(0,2):\n",
    "    for j in driver.find_elements_by_xpath('//div[@class=\"product-price\"]'):\n",
    "        price.append(j.text)\n",
    "    driver.find_element_by_xpath('//li[@class=\"pagination-active\"]').click()\n",
    "    time.sleep(4)"
   ]
  },
  {
   "cell_type": "code",
   "execution_count": 30,
   "metadata": {},
   "outputs": [
    {
     "data": {
      "text/plain": [
       "['Rs. 11495',\n",
       " 'Rs. 12995',\n",
       " 'Rs. 9999',\n",
       " 'Rs. 12495',\n",
       " 'Rs. 8796Rs. 10995(20% OFF)',\n",
       " 'Rs. 7199Rs. 8999(20% OFF)',\n",
       " 'Rs. 7496Rs. 9995(25% OFF)',\n",
       " 'Rs. 7721Rs. 10295(25% OFF)',\n",
       " 'Rs. 11246Rs. 14995(25% OFF)',\n",
       " 'Rs. 8396Rs. 11995(30% OFF)',\n",
       " 'Rs. 9999',\n",
       " 'Rs. 10999',\n",
       " 'Rs. 10999',\n",
       " 'Rs. 6999Rs. 9999(30% OFF)',\n",
       " 'Rs. 7999',\n",
       " 'Rs. 6999Rs. 9999(30% OFF)',\n",
       " 'Rs. 12999',\n",
       " 'Rs. 8999',\n",
       " 'Rs. 7999',\n",
       " 'Rs. 7649Rs. 8999(15% OFF)',\n",
       " 'Rs. 9975Rs. 10500(5% OFF)',\n",
       " 'Rs. 11999',\n",
       " 'Rs. 10999',\n",
       " 'Rs. 10199Rs. 11999(15% OFF)',\n",
       " 'Rs. 8999',\n",
       " 'Rs. 6999',\n",
       " 'Rs. 8499',\n",
       " 'Rs. 7999',\n",
       " 'Rs. 7999',\n",
       " 'Rs. 7999Rs. 9999(20% OFF)',\n",
       " 'Rs. 10995',\n",
       " 'Rs. 6999Rs. 9999(30% OFF)',\n",
       " 'Rs. 6999',\n",
       " 'Rs. 7199Rs. 7999(10% OFF)',\n",
       " 'Rs. 8499Rs. 9999(15% OFF)',\n",
       " 'Rs. 7224Rs. 8499(15% OFF)',\n",
       " 'Rs. 8999',\n",
       " 'Rs. 6999',\n",
       " 'Rs. 6749Rs. 14999(55% OFF)',\n",
       " 'Rs. 8999',\n",
       " 'Rs. 9999',\n",
       " 'Rs. 8990',\n",
       " 'Rs. 7693Rs. 10990(30% OFF)',\n",
       " 'Rs. 9999',\n",
       " 'Rs. 11999',\n",
       " 'Rs. 10999',\n",
       " 'Rs. 7499',\n",
       " 'Rs. 6990',\n",
       " 'Rs. 11305Rs. 11900(5% OFF)',\n",
       " 'Rs. 9999',\n",
       " 'Rs. 11495',\n",
       " 'Rs. 12995',\n",
       " 'Rs. 9999',\n",
       " 'Rs. 12495',\n",
       " 'Rs. 8796Rs. 10995(20% OFF)',\n",
       " 'Rs. 7199Rs. 8999(20% OFF)',\n",
       " 'Rs. 7496Rs. 9995(25% OFF)',\n",
       " 'Rs. 7721Rs. 10295(25% OFF)',\n",
       " 'Rs. 11246Rs. 14995(25% OFF)',\n",
       " 'Rs. 8396Rs. 11995(30% OFF)',\n",
       " 'Rs. 9999',\n",
       " 'Rs. 10999',\n",
       " 'Rs. 10999',\n",
       " 'Rs. 6999Rs. 9999(30% OFF)',\n",
       " 'Rs. 7999',\n",
       " 'Rs. 6999Rs. 9999(30% OFF)',\n",
       " 'Rs. 12999',\n",
       " 'Rs. 8999',\n",
       " 'Rs. 7999',\n",
       " 'Rs. 7649Rs. 8999(15% OFF)',\n",
       " 'Rs. 9975Rs. 10500(5% OFF)',\n",
       " 'Rs. 11999',\n",
       " 'Rs. 10999',\n",
       " 'Rs. 10199Rs. 11999(15% OFF)',\n",
       " 'Rs. 8999',\n",
       " 'Rs. 6999',\n",
       " 'Rs. 8499',\n",
       " 'Rs. 7999',\n",
       " 'Rs. 7999',\n",
       " 'Rs. 7999Rs. 9999(20% OFF)',\n",
       " 'Rs. 10995',\n",
       " 'Rs. 6999Rs. 9999(30% OFF)',\n",
       " 'Rs. 6999',\n",
       " 'Rs. 7199Rs. 7999(10% OFF)',\n",
       " 'Rs. 8499Rs. 9999(15% OFF)',\n",
       " 'Rs. 7224Rs. 8499(15% OFF)',\n",
       " 'Rs. 8999',\n",
       " 'Rs. 6999',\n",
       " 'Rs. 6749Rs. 14999(55% OFF)',\n",
       " 'Rs. 8999',\n",
       " 'Rs. 9999',\n",
       " 'Rs. 8990',\n",
       " 'Rs. 7693Rs. 10990(30% OFF)',\n",
       " 'Rs. 9999',\n",
       " 'Rs. 11999',\n",
       " 'Rs. 10999',\n",
       " 'Rs. 7499',\n",
       " 'Rs. 6990',\n",
       " 'Rs. 11305Rs. 11900(5% OFF)',\n",
       " 'Rs. 9999']"
      ]
     },
     "execution_count": 30,
     "metadata": {},
     "output_type": "execute_result"
    }
   ],
   "source": [
    "price"
   ]
  },
  {
   "cell_type": "code",
   "execution_count": 31,
   "metadata": {},
   "outputs": [
    {
     "data": {
      "text/html": [
       "<div>\n",
       "<style scoped>\n",
       "    .dataframe tbody tr th:only-of-type {\n",
       "        vertical-align: middle;\n",
       "    }\n",
       "\n",
       "    .dataframe tbody tr th {\n",
       "        vertical-align: top;\n",
       "    }\n",
       "\n",
       "    .dataframe thead th {\n",
       "        text-align: right;\n",
       "    }\n",
       "</style>\n",
       "<table border=\"1\" class=\"dataframe\">\n",
       "  <thead>\n",
       "    <tr style=\"text-align: right;\">\n",
       "      <th></th>\n",
       "      <th>Brand</th>\n",
       "      <th>Product Desc</th>\n",
       "      <th>Price</th>\n",
       "    </tr>\n",
       "  </thead>\n",
       "  <tbody>\n",
       "    <tr>\n",
       "      <th>0</th>\n",
       "      <td>Nike</td>\n",
       "      <td>AIR ZOOM PEGASUS Running Shoes</td>\n",
       "      <td>Rs. 11495</td>\n",
       "    </tr>\n",
       "    <tr>\n",
       "      <th>1</th>\n",
       "      <td>Nike</td>\n",
       "      <td>Men KD13 EP Basketball Shoes</td>\n",
       "      <td>Rs. 12995</td>\n",
       "    </tr>\n",
       "    <tr>\n",
       "      <th>2</th>\n",
       "      <td>ALDO</td>\n",
       "      <td>Men Sneakers</td>\n",
       "      <td>Rs. 9999</td>\n",
       "    </tr>\n",
       "    <tr>\n",
       "      <th>3</th>\n",
       "      <td>Nike</td>\n",
       "      <td>Men JORDAN DELTA Basketball</td>\n",
       "      <td>Rs. 12495</td>\n",
       "    </tr>\n",
       "    <tr>\n",
       "      <th>4</th>\n",
       "      <td>Nike</td>\n",
       "      <td>Men REACT MILER Running Shoes</td>\n",
       "      <td>Rs. 8796Rs. 10995(20% OFF)</td>\n",
       "    </tr>\n",
       "    <tr>\n",
       "      <th>...</th>\n",
       "      <td>...</td>\n",
       "      <td>...</td>\n",
       "      <td>...</td>\n",
       "    </tr>\n",
       "    <tr>\n",
       "      <th>95</th>\n",
       "      <td>UNDER ARMOUR</td>\n",
       "      <td>HOVR Sonic 3 Running Shoes</td>\n",
       "      <td>Rs. 10999</td>\n",
       "    </tr>\n",
       "    <tr>\n",
       "      <th>96</th>\n",
       "      <td>Bugatti</td>\n",
       "      <td>Women Mules</td>\n",
       "      <td>Rs. 7499</td>\n",
       "    </tr>\n",
       "    <tr>\n",
       "      <th>97</th>\n",
       "      <td>Ruosh</td>\n",
       "      <td>Men Formal Brogues</td>\n",
       "      <td>Rs. 6990</td>\n",
       "    </tr>\n",
       "    <tr>\n",
       "      <th>98</th>\n",
       "      <td>Saint G</td>\n",
       "      <td>Men Leather Chelsea Boots</td>\n",
       "      <td>Rs. 11305Rs. 11900(5% OFF)</td>\n",
       "    </tr>\n",
       "    <tr>\n",
       "      <th>99</th>\n",
       "      <td>Reebok</td>\n",
       "      <td>Forever Floatride Energy 2</td>\n",
       "      <td>Rs. 9999</td>\n",
       "    </tr>\n",
       "  </tbody>\n",
       "</table>\n",
       "<p>100 rows × 3 columns</p>\n",
       "</div>"
      ],
      "text/plain": [
       "           Brand                    Product Desc                       Price\n",
       "0           Nike  AIR ZOOM PEGASUS Running Shoes                   Rs. 11495\n",
       "1           Nike    Men KD13 EP Basketball Shoes                   Rs. 12995\n",
       "2           ALDO                    Men Sneakers                    Rs. 9999\n",
       "3           Nike     Men JORDAN DELTA Basketball                   Rs. 12495\n",
       "4           Nike   Men REACT MILER Running Shoes  Rs. 8796Rs. 10995(20% OFF)\n",
       "..           ...                             ...                         ...\n",
       "95  UNDER ARMOUR      HOVR Sonic 3 Running Shoes                   Rs. 10999\n",
       "96       Bugatti                     Women Mules                    Rs. 7499\n",
       "97         Ruosh              Men Formal Brogues                    Rs. 6990\n",
       "98       Saint G       Men Leather Chelsea Boots  Rs. 11305Rs. 11900(5% OFF)\n",
       "99        Reebok      Forever Floatride Energy 2                    Rs. 9999\n",
       "\n",
       "[100 rows x 3 columns]"
      ]
     },
     "execution_count": 31,
     "metadata": {},
     "output_type": "execute_result"
    }
   ],
   "source": [
    "myntra=pd.DataFrame({})\n",
    "myntra['Brand'] = brand_name\n",
    "myntra['Product Desc'] = prod_desc\n",
    "myntra['Price'] = price\n",
    "\n",
    "myntra"
   ]
  },
  {
   "cell_type": "code",
   "execution_count": null,
   "metadata": {},
   "outputs": [],
   "source": []
  },
  {
   "cell_type": "code",
   "execution_count": null,
   "metadata": {},
   "outputs": [],
   "source": []
  },
  {
   "cell_type": "markdown",
   "metadata": {},
   "source": [
    "Q10: Go to webpage https://www.amazon.in/\n",
    " Enter “Laptop” in the search field and then click the search icon.\n",
    " Then set CPU Type filter to “Intel Core i7” and “Intel Core i9” as shown in the \n",
    "below image:\n",
    "After setting the filters scrape first 10 laptops data. You have to scrape 3 attributes \n",
    "for each laptop:\n",
    "1. title\n",
    "2. Ratings\n",
    "3. Price\n",
    "As shown in the below image as the tick marked attributes.\n"
   ]
  },
  {
   "cell_type": "code",
   "execution_count": 89,
   "metadata": {},
   "outputs": [],
   "source": [
    "#Lets now import all the required libraries\n",
    "import selenium\n",
    "import pandas as pd\n",
    "from selenium import webdriver"
   ]
  },
  {
   "cell_type": "code",
   "execution_count": 90,
   "metadata": {},
   "outputs": [],
   "source": [
    "#Lets first connect to the web driver\n",
    "driver = webdriver.Chrome('chromedriver.exe')"
   ]
  },
  {
   "cell_type": "code",
   "execution_count": 91,
   "metadata": {},
   "outputs": [],
   "source": [
    "url = 'https://www.amazon.in/'\n",
    "driver.get(url)"
   ]
  },
  {
   "cell_type": "code",
   "execution_count": 92,
   "metadata": {},
   "outputs": [
    {
     "data": {
      "text/plain": [
       "<selenium.webdriver.remote.webelement.WebElement (session=\"088ef5344dc7cd5f7f3c00a07c9e459f\", element=\"0aec5820-7d78-41f1-9c0e-d1ad28a9bfba\")>"
      ]
     },
     "execution_count": 92,
     "metadata": {},
     "output_type": "execute_result"
    }
   ],
   "source": [
    "\n",
    "#finding elements for job search bar\n",
    "search_bar = driver.find_element_by_id('twotabsearchtextbox')\n",
    "search_bar"
   ]
  },
  {
   "cell_type": "code",
   "execution_count": 93,
   "metadata": {},
   "outputs": [],
   "source": [
    "#write on search bar\n",
    "search_bar.send_keys('Laptop')"
   ]
  },
  {
   "cell_type": "code",
   "execution_count": 94,
   "metadata": {},
   "outputs": [],
   "source": [
    "#do click using xpath function\n",
    "search_btn = driver.find_element_by_id('nav-search-submit-button')\n",
    "search_btn.click()"
   ]
  },
  {
   "cell_type": "code",
   "execution_count": 95,
   "metadata": {},
   "outputs": [],
   "source": [
    "#locating the i7 filter\n",
    "filter_button = driver.find_elements_by_xpath('//a[@class=\"a-link-normal s-navigation-item\"]/span')\n",
    "for i in filter_button:\n",
    "    if i.text == 'Intel Core i7':\n",
    "        i.click()\n",
    "        break"
   ]
  },
  {
   "cell_type": "code",
   "execution_count": 96,
   "metadata": {},
   "outputs": [
    {
     "data": {
      "text/plain": [
       "[<selenium.webdriver.remote.webelement.WebElement (session=\"088ef5344dc7cd5f7f3c00a07c9e459f\", element=\"ffc54edd-112d-4785-8489-794e4044335d\")>,\n",
       " <selenium.webdriver.remote.webelement.WebElement (session=\"088ef5344dc7cd5f7f3c00a07c9e459f\", element=\"0962bf9b-85be-466b-b171-6ab6773234be\")>,\n",
       " <selenium.webdriver.remote.webelement.WebElement (session=\"088ef5344dc7cd5f7f3c00a07c9e459f\", element=\"200d8e9b-73be-4dc5-b0d8-ff246471aa5f\")>,\n",
       " <selenium.webdriver.remote.webelement.WebElement (session=\"088ef5344dc7cd5f7f3c00a07c9e459f\", element=\"3a0c02ba-6df2-4b74-8bf9-9eeac2e9388e\")>,\n",
       " <selenium.webdriver.remote.webelement.WebElement (session=\"088ef5344dc7cd5f7f3c00a07c9e459f\", element=\"9153ef69-a82d-429b-873f-ce13fd272eec\")>,\n",
       " <selenium.webdriver.remote.webelement.WebElement (session=\"088ef5344dc7cd5f7f3c00a07c9e459f\", element=\"cf56242e-1768-4892-a514-6e70d1f3e049\")>,\n",
       " <selenium.webdriver.remote.webelement.WebElement (session=\"088ef5344dc7cd5f7f3c00a07c9e459f\", element=\"db313c58-8d22-4b6c-9daa-9d6047867418\")>,\n",
       " <selenium.webdriver.remote.webelement.WebElement (session=\"088ef5344dc7cd5f7f3c00a07c9e459f\", element=\"34ac9613-8d88-4b83-9256-6e1e9bd868f5\")>,\n",
       " <selenium.webdriver.remote.webelement.WebElement (session=\"088ef5344dc7cd5f7f3c00a07c9e459f\", element=\"6ff41032-1e6b-40bc-9b41-6cee7ad34ef4\")>,\n",
       " <selenium.webdriver.remote.webelement.WebElement (session=\"088ef5344dc7cd5f7f3c00a07c9e459f\", element=\"f20e18a3-39e7-4ac9-a92c-b6e871c9348d\")>,\n",
       " <selenium.webdriver.remote.webelement.WebElement (session=\"088ef5344dc7cd5f7f3c00a07c9e459f\", element=\"a6b65fd4-f9f1-4f4e-9fc6-f82c4ab5caf3\")>,\n",
       " <selenium.webdriver.remote.webelement.WebElement (session=\"088ef5344dc7cd5f7f3c00a07c9e459f\", element=\"35fb2d9a-4eae-4d6e-aa01-6fc1f8b82070\")>,\n",
       " <selenium.webdriver.remote.webelement.WebElement (session=\"088ef5344dc7cd5f7f3c00a07c9e459f\", element=\"8985a68d-52c7-4e01-a6aa-390d241f2c71\")>,\n",
       " <selenium.webdriver.remote.webelement.WebElement (session=\"088ef5344dc7cd5f7f3c00a07c9e459f\", element=\"d89a8fdd-adfb-4914-93fc-b59bdfaf5690\")>,\n",
       " <selenium.webdriver.remote.webelement.WebElement (session=\"088ef5344dc7cd5f7f3c00a07c9e459f\", element=\"5cc7eb7a-f686-4714-9aca-52a17c437259\")>,\n",
       " <selenium.webdriver.remote.webelement.WebElement (session=\"088ef5344dc7cd5f7f3c00a07c9e459f\", element=\"3553fee1-4d33-4983-9a79-78e4d17cdbe5\")>,\n",
       " <selenium.webdriver.remote.webelement.WebElement (session=\"088ef5344dc7cd5f7f3c00a07c9e459f\", element=\"d36d4c06-b0bf-47a6-93b3-9d2aef88b8da\")>,\n",
       " <selenium.webdriver.remote.webelement.WebElement (session=\"088ef5344dc7cd5f7f3c00a07c9e459f\", element=\"1dc06897-eba7-4307-8604-c3db4081e16e\")>,\n",
       " <selenium.webdriver.remote.webelement.WebElement (session=\"088ef5344dc7cd5f7f3c00a07c9e459f\", element=\"170a485a-c629-4409-b935-4b424a629a4b\")>,\n",
       " <selenium.webdriver.remote.webelement.WebElement (session=\"088ef5344dc7cd5f7f3c00a07c9e459f\", element=\"65569f16-c0c0-49e4-87a4-bbdd1873b138\")>,\n",
       " <selenium.webdriver.remote.webelement.WebElement (session=\"088ef5344dc7cd5f7f3c00a07c9e459f\", element=\"923e780b-a74e-4204-b889-5e761c82da83\")>,\n",
       " <selenium.webdriver.remote.webelement.WebElement (session=\"088ef5344dc7cd5f7f3c00a07c9e459f\", element=\"3e1bd4e6-7ca7-43b0-802e-cf2d4d97b255\")>,\n",
       " <selenium.webdriver.remote.webelement.WebElement (session=\"088ef5344dc7cd5f7f3c00a07c9e459f\", element=\"bb475152-a9bf-40d0-a480-71db047629c4\")>,\n",
       " <selenium.webdriver.remote.webelement.WebElement (session=\"088ef5344dc7cd5f7f3c00a07c9e459f\", element=\"2b89199e-7565-4838-b109-48a217c1807c\")>,\n",
       " <selenium.webdriver.remote.webelement.WebElement (session=\"088ef5344dc7cd5f7f3c00a07c9e459f\", element=\"5dca1619-7752-4160-b787-bde3b798eb7a\")>]"
      ]
     },
     "execution_count": 96,
     "metadata": {},
     "output_type": "execute_result"
    }
   ],
   "source": [
    "#So lets extract all the tags having the job titles\n",
    "titles_tags = driver.find_elements_by_xpath(\"//span[@class='a-size-medium a-color-base a-text-normal']\")\n",
    "titles_tags"
   ]
  },
  {
   "cell_type": "code",
   "execution_count": 97,
   "metadata": {},
   "outputs": [
    {
     "data": {
      "text/plain": [
       "['(Renewed) Dell Latitude E6420 14 Inch Laptop (Core I7 2460M/4GB/320GB/Nvidia Dedicated Graphics/Windows Professional/MS Office), Dark Grey',\n",
       " 'Mi Notebook Horizon Edition 14 Intel Core i5-10210U 10th Gen 14-inch (35.56 cms) Thin and Light Laptop(8GB/512GB SSD/Windows 10/Nvidia MX350 2GB Graphics/Grey/1.35Kg), XMA1904-AR+Webcam',\n",
       " \"(Renewed) HP EliteBook 840 G3 Laptop (Core i7 6th Gen/8GB/500GB/WEBCAM/14'' Touch/DOS)\",\n",
       " 'Lenovo Legion 5Pi 10th Gen Intel Core i7 15.6\" FHD Gaming Laptop (16GB/1TB SSD/Windows 10/MS Office 2019/144 Hz/NVIDIA RTX 2060 6GB GDDR6/with M300 RGB Gaming Mouse/Iron Grey/2.3Kg), 82AW005SIN',\n",
       " 'Asus ROG Zephyrus S Ultra Slim Gaming Laptop, 15.6\" 144Hz IPS Type FHD, GeForce RTX 2070, Intel Core i7-8750H, 16GB DDR4, 512GB PCIe NVMe SSD, Aura Sync RGB, Windows 10, GX531GW-AS76',\n",
       " 'HP Pavilion (2021) Thin & Light 11th Gen Core i7 Laptop, 16 GB RAM, 1TB SSD, Iris Xe Graphics, 14\" (35.56cms) FHD Screen, Windows 10, MS Office, Backlit Keyboard (14-dv0058TU)',\n",
       " 'Lenovo Yoga Slim 7i 11th Gen Intel Core i7 14\" FHD IPS Thin and Light Laptop (16GB/1TB SSD/Win 10/Office/Intel Iris Xe Graphics/Fingerprint/HD IR Camera/Aluminium Surface/Slate Grey/1.36Kg) 82A3009QIN',\n",
       " 'HP Pavilion Gaming 10th Gen Intel Core i7 Processor 15.6-inch FHD Gaming Laptop (16GB/512GB SSD + 32GB Intel Optane/Windows 10/NVIDIA 1650Ti 4GB/Shadow Black), 15-dk1509TX',\n",
       " '(Renewed) Lenovo Intel 4th Gen Core i7-4980HQ 12.5-Inch (31.75 cms) Touchscreen Full HD (1920 X 1080) Pixels Laptop (8 GB/500 GB/Windows 10 Pro/Black/3 Kg), LENOVO THINKPAD YOGA S1',\n",
       " 'Lenovo IdeaPad Flex 5 11th Gen Intel Core i7 14-inch FHD IPS 2-in-1 Touchscreen Laptop (16GB/512GB SSD/Win 10/Office 2019/Lenovo Digital Pen Stylus/Fingerprint Reader/Graphite Grey/1.5Kg), 82HS0092IN',\n",
       " 'Acer Nitro 5 Intel Core i7-9th Gen 17.3-inch Display 1920 x 1080 Gaming Laptop (8GB Ram/1 TB HDD/256 GB SSD/Window 10 Home/4GB NVIDIA GeForce GTX 1650 Graphics/Black), AN517-51',\n",
       " '2019 HP 17.3\" HD+ Touchscreen Laptop Computer',\n",
       " 'Acer Swift 3X 14\" FHD IPS Display Ultra Thin and Light Notebook (Intel i7 - 11th Gen/16 GB RAM+ 32GB Optane/512GB SSD/Win10/Microsoft Office 2019/Intel Iris Xe Max/Steam Blue/1.37 Kg), SF314-510G',\n",
       " 'CUK VivoBook K571 by ASUS 15 Inch Gaming Laptop (Intel Core i7, 16GB RAM, 256GB NVMe SSD + 1TB HDD, NVIDIA GeForce GTX 1650 Ti 4GB, 15.6\" FHD, Windows 10 Home) Thin Notebook Computer',\n",
       " 'Dell XPS 7390 13.3-inch (33.78 cms) UHD Display Thin & Light Laptop (10th Gen Core i7-10510U/16GB/512GB SSD/Win 10 + MS Office/Integrated Graphics), Silver',\n",
       " 'HP 14 Thin & Light 14\" (35.56cms) FHD Laptop (11th Gen Intel i7-1165G7/8GB/512GB SSD/Windows 10/MS Office 2019/Alexa Built-in/Pale Gold/1.47 kg), 14s-dr2007TU',\n",
       " 'Razer Blade Pro 17 Gaming Laptop 2019',\n",
       " '(Renewed) Dell Intel 4th Gen Core i7 4600U 14-Inch (35.56 cms) 1366x768 Laptop (4 GB/256 GB SSD/Windows 10/MS Office Pro 2019 /Intel HD Graphics 4600/Silver/1.80 kg), Dell Lattitude E7440',\n",
       " 'Lenovo 2019 Yoga C930 2-in-1 13.9\" 4K UHD Touch-Screen Laptop (Intel i7, 16GB DDR4, 1TB PCI-e SSD, 2X Thunderbolt 3, Dolby Atmos Audio, Webcam, WiFi, Windows 10, Active Pen, 3 LBS, 0.6\", Mica)',\n",
       " 'Life Digital Laptop 15.6-inch (39.62 cms) (Intel Core i7, 8GB RAM, 512GB SSD, Windows 10), ZED AIR CX7',\n",
       " '(Renewed) Lenovo T430 14-inch Laptop (Core i7/ 16GB RAM /1TB HDD/Windows 10 Pro/MS Office 2019, Intel Integrated Graphics, PAN INDIA WARRANTY) Black',\n",
       " 'HP Pavilion x360 (2021) 14\" (35.56cms) FHD Touchscreen Laptop, 11th Gen Core i7, 8 GB RAM, 512GB SSD, 2-in-1 Convertible, Windows 10, MS Office, Finger Print Reader (14-dw1040TU)',\n",
       " '(Renewed) Dell Latitude E6420 14 Inch Laptop (Core I7 2460M/8GB/256GB SSD/Nvidia Dedicated Graphics/Windows Professional/MS Office), Dark Grey',\n",
       " 'HP Pavilion Gaming 10th Gen Intel Core i7 Processor 15.6-inch FHD Gaming Laptop (16GB/512GB SSD + 32GB Intel Optane/Windows 10/NVIDIA 1650 4GB/Shadow Black), 15-dk1151TX',\n",
       " '(Renewed) Lenovo T430 14-inch Laptop (Core i7/ 4GB RAM (Upgradable to 16)/500GB HDD/Windows 10 Pro/MS Office 2019, Intel Integrated Graphics, PAN INDIA WARRANTY) Black']"
      ]
     },
     "execution_count": 97,
     "metadata": {},
     "output_type": "execute_result"
    }
   ],
   "source": [
    "#Loop to iterate over the tags extracted above and extract the text inside them.\n",
    "title=[]\n",
    "for i in titles_tags:\n",
    "    title.append(i.text)\n",
    "title"
   ]
  },
  {
   "cell_type": "code",
   "execution_count": 98,
   "metadata": {},
   "outputs": [
    {
     "data": {
      "text/plain": [
       "[<selenium.webdriver.remote.webelement.WebElement (session=\"088ef5344dc7cd5f7f3c00a07c9e459f\", element=\"99dd331a-8e45-4cd8-8658-961da8426617\")>,\n",
       " <selenium.webdriver.remote.webelement.WebElement (session=\"088ef5344dc7cd5f7f3c00a07c9e459f\", element=\"cd1dac52-3255-454a-8ca4-ed92e9d15865\")>,\n",
       " <selenium.webdriver.remote.webelement.WebElement (session=\"088ef5344dc7cd5f7f3c00a07c9e459f\", element=\"932b4558-fc4e-4aa7-8c8a-61f43eb17c92\")>,\n",
       " <selenium.webdriver.remote.webelement.WebElement (session=\"088ef5344dc7cd5f7f3c00a07c9e459f\", element=\"92cd2918-6956-4008-98e9-3e9cd0aaf31c\")>,\n",
       " <selenium.webdriver.remote.webelement.WebElement (session=\"088ef5344dc7cd5f7f3c00a07c9e459f\", element=\"d83a9b44-ae08-4391-aa10-62128bb281a6\")>,\n",
       " <selenium.webdriver.remote.webelement.WebElement (session=\"088ef5344dc7cd5f7f3c00a07c9e459f\", element=\"7bf700e8-b66b-41ca-aef9-e0ba77718b07\")>,\n",
       " <selenium.webdriver.remote.webelement.WebElement (session=\"088ef5344dc7cd5f7f3c00a07c9e459f\", element=\"ff984827-e912-4232-a54b-8cc9ac7d3fd8\")>,\n",
       " <selenium.webdriver.remote.webelement.WebElement (session=\"088ef5344dc7cd5f7f3c00a07c9e459f\", element=\"23fedb1a-574d-466e-a65b-ab268d3758a9\")>,\n",
       " <selenium.webdriver.remote.webelement.WebElement (session=\"088ef5344dc7cd5f7f3c00a07c9e459f\", element=\"c14a530f-9cd1-43a8-bc45-bdc4cf7f1d28\")>,\n",
       " <selenium.webdriver.remote.webelement.WebElement (session=\"088ef5344dc7cd5f7f3c00a07c9e459f\", element=\"ef8fe252-d357-4005-a22e-a31d41cc326a\")>,\n",
       " <selenium.webdriver.remote.webelement.WebElement (session=\"088ef5344dc7cd5f7f3c00a07c9e459f\", element=\"2647714b-c6c7-4c4f-addf-ae48bb344c09\")>,\n",
       " <selenium.webdriver.remote.webelement.WebElement (session=\"088ef5344dc7cd5f7f3c00a07c9e459f\", element=\"c2bc2331-4a20-4f48-b89d-5cd3e5b4a3e1\")>,\n",
       " <selenium.webdriver.remote.webelement.WebElement (session=\"088ef5344dc7cd5f7f3c00a07c9e459f\", element=\"67adf78e-394b-493d-8042-ae795c508752\")>,\n",
       " <selenium.webdriver.remote.webelement.WebElement (session=\"088ef5344dc7cd5f7f3c00a07c9e459f\", element=\"863bf67c-c4b7-4b4e-8ec7-8a1d25bc75fc\")>,\n",
       " <selenium.webdriver.remote.webelement.WebElement (session=\"088ef5344dc7cd5f7f3c00a07c9e459f\", element=\"fecac83c-ca65-44af-9b1d-6f2099d01b08\")>,\n",
       " <selenium.webdriver.remote.webelement.WebElement (session=\"088ef5344dc7cd5f7f3c00a07c9e459f\", element=\"ff8d1fef-9779-4743-b47f-d8c2d5d0b606\")>,\n",
       " <selenium.webdriver.remote.webelement.WebElement (session=\"088ef5344dc7cd5f7f3c00a07c9e459f\", element=\"df192d97-fdb0-409b-b703-87a83c880f3a\")>,\n",
       " <selenium.webdriver.remote.webelement.WebElement (session=\"088ef5344dc7cd5f7f3c00a07c9e459f\", element=\"b92dc1d3-50e4-47bd-81b3-59e19429487f\")>,\n",
       " <selenium.webdriver.remote.webelement.WebElement (session=\"088ef5344dc7cd5f7f3c00a07c9e459f\", element=\"e24a8098-e89a-4e5b-8108-d983ddf0a9e2\")>,\n",
       " <selenium.webdriver.remote.webelement.WebElement (session=\"088ef5344dc7cd5f7f3c00a07c9e459f\", element=\"eec453c5-1b6f-4f72-bf98-db6a2c7c9b3b\")>,\n",
       " <selenium.webdriver.remote.webelement.WebElement (session=\"088ef5344dc7cd5f7f3c00a07c9e459f\", element=\"70d5f32e-d1f0-442a-9ccd-fadeb12a31ed\")>,\n",
       " <selenium.webdriver.remote.webelement.WebElement (session=\"088ef5344dc7cd5f7f3c00a07c9e459f\", element=\"dd81bfa4-515a-4854-a744-2e29d477454c\")>]"
      ]
     },
     "execution_count": 98,
     "metadata": {},
     "output_type": "execute_result"
    }
   ],
   "source": [
    "#So lets extract all the tags having the ratings\n",
    "rating_tags = driver.find_elements_by_xpath(\"//span[@class='a-icon-alt']\")\n",
    "rating_tags"
   ]
  },
  {
   "cell_type": "code",
   "execution_count": 99,
   "metadata": {},
   "outputs": [
    {
     "data": {
      "text/plain": [
       "['',\n",
       " '',\n",
       " '',\n",
       " '',\n",
       " '',\n",
       " '',\n",
       " '',\n",
       " '',\n",
       " '',\n",
       " '',\n",
       " '',\n",
       " '',\n",
       " '',\n",
       " '',\n",
       " '',\n",
       " '',\n",
       " '',\n",
       " '',\n",
       " '',\n",
       " '',\n",
       " '',\n",
       " '']"
      ]
     },
     "execution_count": 99,
     "metadata": {},
     "output_type": "execute_result"
    }
   ],
   "source": [
    "#Loop to iterate over the tags extracted above and extract the text inside them.\n",
    "rating=[]\n",
    "for i in rating_tags:\n",
    "    rating.append(i.text)\n",
    "rating"
   ]
  },
  {
   "cell_type": "code",
   "execution_count": 100,
   "metadata": {},
   "outputs": [
    {
     "data": {
      "text/plain": [
       "[<selenium.webdriver.remote.webelement.WebElement (session=\"088ef5344dc7cd5f7f3c00a07c9e459f\", element=\"aacd8016-629f-4619-bd8b-ef10f8aa7079\")>,\n",
       " <selenium.webdriver.remote.webelement.WebElement (session=\"088ef5344dc7cd5f7f3c00a07c9e459f\", element=\"cba525f3-7016-4b18-b679-8cdda6569bfc\")>,\n",
       " <selenium.webdriver.remote.webelement.WebElement (session=\"088ef5344dc7cd5f7f3c00a07c9e459f\", element=\"e7db0316-25a9-459f-b2b4-3918a295a5fc\")>,\n",
       " <selenium.webdriver.remote.webelement.WebElement (session=\"088ef5344dc7cd5f7f3c00a07c9e459f\", element=\"9fb2680a-1d20-4376-a29e-f5400e2ebbc2\")>,\n",
       " <selenium.webdriver.remote.webelement.WebElement (session=\"088ef5344dc7cd5f7f3c00a07c9e459f\", element=\"77eef36a-6d68-45d2-8bf7-953b5f50a0eb\")>,\n",
       " <selenium.webdriver.remote.webelement.WebElement (session=\"088ef5344dc7cd5f7f3c00a07c9e459f\", element=\"03b27e08-38ef-416e-897d-f60cc453a0a1\")>,\n",
       " <selenium.webdriver.remote.webelement.WebElement (session=\"088ef5344dc7cd5f7f3c00a07c9e459f\", element=\"ba02c64a-53ea-401a-ab83-694eb50bd761\")>,\n",
       " <selenium.webdriver.remote.webelement.WebElement (session=\"088ef5344dc7cd5f7f3c00a07c9e459f\", element=\"0ec0f8f7-65d6-4d6a-8a6c-b37c392f2cba\")>,\n",
       " <selenium.webdriver.remote.webelement.WebElement (session=\"088ef5344dc7cd5f7f3c00a07c9e459f\", element=\"9db3e4eb-7279-4462-b5ad-f814b95ca2d3\")>,\n",
       " <selenium.webdriver.remote.webelement.WebElement (session=\"088ef5344dc7cd5f7f3c00a07c9e459f\", element=\"439d0c4e-0c5e-4531-8f4c-a332015d3c00\")>,\n",
       " <selenium.webdriver.remote.webelement.WebElement (session=\"088ef5344dc7cd5f7f3c00a07c9e459f\", element=\"22772d5b-95a6-40a6-b782-d8b9bf279bde\")>,\n",
       " <selenium.webdriver.remote.webelement.WebElement (session=\"088ef5344dc7cd5f7f3c00a07c9e459f\", element=\"beca042d-0594-4971-859c-1bf2b9d3d714\")>,\n",
       " <selenium.webdriver.remote.webelement.WebElement (session=\"088ef5344dc7cd5f7f3c00a07c9e459f\", element=\"8946c760-0bb9-48c6-b854-96d262e2853c\")>,\n",
       " <selenium.webdriver.remote.webelement.WebElement (session=\"088ef5344dc7cd5f7f3c00a07c9e459f\", element=\"d05aba41-f5fc-4935-a6e7-fa4396af1758\")>,\n",
       " <selenium.webdriver.remote.webelement.WebElement (session=\"088ef5344dc7cd5f7f3c00a07c9e459f\", element=\"72589398-210a-44a1-9224-982e2f5ff4b0\")>,\n",
       " <selenium.webdriver.remote.webelement.WebElement (session=\"088ef5344dc7cd5f7f3c00a07c9e459f\", element=\"9abbbfd8-6aed-43b2-af1b-91dd5db0e2dd\")>,\n",
       " <selenium.webdriver.remote.webelement.WebElement (session=\"088ef5344dc7cd5f7f3c00a07c9e459f\", element=\"5fbebce5-6300-4cfa-a6eb-26fc7fdf8805\")>,\n",
       " <selenium.webdriver.remote.webelement.WebElement (session=\"088ef5344dc7cd5f7f3c00a07c9e459f\", element=\"2c0070a4-9910-4bf5-b1cf-dc7731cedbd8\")>,\n",
       " <selenium.webdriver.remote.webelement.WebElement (session=\"088ef5344dc7cd5f7f3c00a07c9e459f\", element=\"42795c52-e662-4f67-9c91-f22aaefdcc59\")>,\n",
       " <selenium.webdriver.remote.webelement.WebElement (session=\"088ef5344dc7cd5f7f3c00a07c9e459f\", element=\"53184e2c-e60e-48d2-8e45-cc3e42453707\")>,\n",
       " <selenium.webdriver.remote.webelement.WebElement (session=\"088ef5344dc7cd5f7f3c00a07c9e459f\", element=\"f62e908a-1ad4-4442-90b9-b6af99cf787b\")>]"
      ]
     },
     "execution_count": 100,
     "metadata": {},
     "output_type": "execute_result"
    }
   ],
   "source": [
    "#So lets extract all the tags having the price\n",
    "price_tags = driver.find_elements_by_xpath(\"//span[@class='a-price-whole']\")\n",
    "price_tags"
   ]
  },
  {
   "cell_type": "code",
   "execution_count": 101,
   "metadata": {},
   "outputs": [
    {
     "data": {
      "text/plain": [
       "['35,000',\n",
       " '49,999',\n",
       " '44,999',\n",
       " '3,43,099',\n",
       " '79,990',\n",
       " '97,990',\n",
       " '84,990',\n",
       " '46,290',\n",
       " '83,990',\n",
       " '69,990',\n",
       " '2,01,524',\n",
       " '80,990',\n",
       " '1,44,643',\n",
       " '1,64,990',\n",
       " '39,999',\n",
       " '2,16,327',\n",
       " '47,050',\n",
       " '34,999',\n",
       " '78,493',\n",
       " '43,000',\n",
       " '29,999']"
      ]
     },
     "execution_count": 101,
     "metadata": {},
     "output_type": "execute_result"
    }
   ],
   "source": [
    "#Loop to iterate over the tags extracted above and extract the text inside them.\n",
    "price=[]\n",
    "for i in price_tags:\n",
    "    price.append(i.text)\n",
    "price"
   ]
  },
  {
   "cell_type": "code",
   "execution_count": 102,
   "metadata": {},
   "outputs": [],
   "source": [
    "#locating the i7 filter\n",
    "filter_button = driver.find_elements_by_xpath('//a[@class=\"a-link-normal s-navigation-item\"]/span')\n",
    "for i in filter_button:\n",
    "    if i.text == 'Intel Core i9':\n",
    "        i.click()\n",
    "        break"
   ]
  },
  {
   "cell_type": "code",
   "execution_count": 103,
   "metadata": {},
   "outputs": [
    {
     "data": {
      "text/plain": [
       "[<selenium.webdriver.remote.webelement.WebElement (session=\"088ef5344dc7cd5f7f3c00a07c9e459f\", element=\"b0ea429b-fe00-42f1-b4c4-4d6cee0bfe23\")>,\n",
       " <selenium.webdriver.remote.webelement.WebElement (session=\"088ef5344dc7cd5f7f3c00a07c9e459f\", element=\"b1dcf8d7-90b9-40f2-8477-36c4dbf83d4d\")>,\n",
       " <selenium.webdriver.remote.webelement.WebElement (session=\"088ef5344dc7cd5f7f3c00a07c9e459f\", element=\"6070c119-9d60-4247-973a-eb14192ea69f\")>,\n",
       " <selenium.webdriver.remote.webelement.WebElement (session=\"088ef5344dc7cd5f7f3c00a07c9e459f\", element=\"0cae2860-81ae-4c1d-a53a-edf5c3376a9e\")>,\n",
       " <selenium.webdriver.remote.webelement.WebElement (session=\"088ef5344dc7cd5f7f3c00a07c9e459f\", element=\"80a91b74-18ec-49ba-8405-a52089f77346\")>,\n",
       " <selenium.webdriver.remote.webelement.WebElement (session=\"088ef5344dc7cd5f7f3c00a07c9e459f\", element=\"1c30c28a-9d4d-4736-b6d2-eedb6b3a0283\")>,\n",
       " <selenium.webdriver.remote.webelement.WebElement (session=\"088ef5344dc7cd5f7f3c00a07c9e459f\", element=\"fc3da9ce-4117-47f9-b13b-15245cb2551c\")>,\n",
       " <selenium.webdriver.remote.webelement.WebElement (session=\"088ef5344dc7cd5f7f3c00a07c9e459f\", element=\"5b49fbf4-406d-416d-9cf7-edf5c7ffa6ae\")>,\n",
       " <selenium.webdriver.remote.webelement.WebElement (session=\"088ef5344dc7cd5f7f3c00a07c9e459f\", element=\"89555e15-4b6e-4e14-b8ea-98edbde37a34\")>,\n",
       " <selenium.webdriver.remote.webelement.WebElement (session=\"088ef5344dc7cd5f7f3c00a07c9e459f\", element=\"3bb4f8d2-a2ba-4f9a-a35f-3181cbc85b84\")>,\n",
       " <selenium.webdriver.remote.webelement.WebElement (session=\"088ef5344dc7cd5f7f3c00a07c9e459f\", element=\"9b987f10-2a5b-4eb3-9179-95359c9f9083\")>]"
      ]
     },
     "execution_count": 103,
     "metadata": {},
     "output_type": "execute_result"
    }
   ],
   "source": [
    "#So lets extract all the tags having the job titles\n",
    "titles_tags1 = driver.find_elements_by_xpath(\"//span[@class='a-size-medium a-color-base a-text-normal']\")\n",
    "titles_tags1"
   ]
  },
  {
   "cell_type": "code",
   "execution_count": 104,
   "metadata": {},
   "outputs": [
    {
     "data": {
      "text/plain": [
       "['Dell XPS 9570 15.6\" (39.62cms) UHD Laptop (8th Gen i9-8950HK/32GB/1TB SSD/Win 10 + MS Office/Integrated Graphics), Silver',\n",
       " 'ASUS ZenBook Pro Duo Intel Core i9-10980HK 10th Gen 15.6\" 4K UHD OLED Touchscreen Laptop (32GB RAM/1TB NVMe SSD/Windows 10/6GB NVIDIA GeForce RTX 2060 Graphics/Celestial Blue/2.5 Kg), UX581LV-H2035T',\n",
       " '(Renewed) Dell G Series G7  7588 15.6-inch FHD Laptop (8th gen Core i9-8950HK/16GB/1TB + 128GB SSD/Windows 10/MS Office/6 GB Nvidia GeForce GTX 1060 Graphics)',\n",
       " 'Lenovo Legion 7 10th Gen Intel Core i9 15.6 inch Full HD Gaming Laptop (16GB/1TB SSD/Windows 10/MS Office 2019/144 Hz/NVIDIA RTX 2080 8GB GDDR6 Graphics/Slate Grey/2.25Kg), 81YU006HIN',\n",
       " 'ASUS ROG Zephyrus Duo 15, 15.6\" FHD 300Hz/3ms, Intel Core i9-10980HK 10th Gen, RTX 2080 SUPER Max-Q 8GB Graphic, Gaming Laptop (32GB/2TB RAID 0 SSD/Office 2019/Windows 10/Gray/2.4 Kg) GX550LXS-HF168TS',\n",
       " 'Dell Alienware m15(R3) 15.6\" (39.62cms) UHD Gaming Laptop (10th Gen Core i9-10980HK/32GB/1TB SSD/Windows 10 Home & MS Office/8GB NVIDIA RTX 2080 Graphics), Lunar Light',\n",
       " 'ASUS ROG Strix Scar 17 (2020), 17.3\" FHD 300Hz/3ms, Intel Core i9-10980HK 10th Gen, RTX 2080 Super GDDR6 8GB Graphics, Gaming Laptop (32GB/2TB RAID 0 SSD/Windows 10/Black/2.99 Kg), G732LXS-HG059T',\n",
       " '(Renewed) Dell XPS 9570 Laptop|i9-8950HK|32GB DDR4|1TB SSD|15.6\" 4K Touch|NVIDIA GTX 1050Ti 4GB|Win 10 HSL|Backlit',\n",
       " 'Dell G7 7500 15.6inch FHD 300 Hz Display Gaming Laptop (10th Gen i9-10885H / 16 GB / 1TB SSD / NVIDIA RTX 2070 8GB Graphics / 1Yr Premium Warranty / Win 10 + MS Office H&S 2019) D560233WIN9B, Black',\n",
       " 'Apple MacBook Pro (16-inch, 16GB RAM, 1TB Storage, 2.3GHz 9th Gen Intel Core i9) - Space Grey',\n",
       " 'HP Z4 Workstation, Intel Core i9-7900X, RAM 32GB (4x8GB), 2TB Hard Disk, GFX NVIDIA Quadro P2000 5GB (4) DP, Windows 10 Pro, DVDRW, 3 Yrs Onsite Warranty by HP']"
      ]
     },
     "execution_count": 104,
     "metadata": {},
     "output_type": "execute_result"
    }
   ],
   "source": [
    "#Loop to iterate over the tags extracted above and extract the text inside them.\n",
    "title1=[]\n",
    "for i in titles_tags1:\n",
    "    title1.append(i.text)\n",
    "title1"
   ]
  },
  {
   "cell_type": "code",
   "execution_count": 105,
   "metadata": {},
   "outputs": [
    {
     "data": {
      "text/plain": [
       "[<selenium.webdriver.remote.webelement.WebElement (session=\"088ef5344dc7cd5f7f3c00a07c9e459f\", element=\"cdda51e9-edeb-4a38-bd1a-ac5b463d8d99\")>,\n",
       " <selenium.webdriver.remote.webelement.WebElement (session=\"088ef5344dc7cd5f7f3c00a07c9e459f\", element=\"4f46a5fa-bc7a-4e31-90a5-376393dc19ae\")>,\n",
       " <selenium.webdriver.remote.webelement.WebElement (session=\"088ef5344dc7cd5f7f3c00a07c9e459f\", element=\"4bee0121-0894-4ab2-a60d-50c8e02d794e\")>,\n",
       " <selenium.webdriver.remote.webelement.WebElement (session=\"088ef5344dc7cd5f7f3c00a07c9e459f\", element=\"ddf0c54b-8f83-48fb-9b9e-c09c9649dd43\")>,\n",
       " <selenium.webdriver.remote.webelement.WebElement (session=\"088ef5344dc7cd5f7f3c00a07c9e459f\", element=\"ec9795af-7302-4494-8ff4-30f461121581\")>,\n",
       " <selenium.webdriver.remote.webelement.WebElement (session=\"088ef5344dc7cd5f7f3c00a07c9e459f\", element=\"4f0ef427-886d-4f51-aa32-dfe689dd3c6c\")>,\n",
       " <selenium.webdriver.remote.webelement.WebElement (session=\"088ef5344dc7cd5f7f3c00a07c9e459f\", element=\"d42af50b-b12b-4cd8-b46f-4cc901fad350\")>,\n",
       " <selenium.webdriver.remote.webelement.WebElement (session=\"088ef5344dc7cd5f7f3c00a07c9e459f\", element=\"4b8b55a9-d8d6-46bc-b6c8-3fb865fc080c\")>,\n",
       " <selenium.webdriver.remote.webelement.WebElement (session=\"088ef5344dc7cd5f7f3c00a07c9e459f\", element=\"f751ad99-a101-4d84-8157-673b4bb3590f\")>,\n",
       " <selenium.webdriver.remote.webelement.WebElement (session=\"088ef5344dc7cd5f7f3c00a07c9e459f\", element=\"5bc97a47-8768-4e54-8362-27dfa5517533\")>,\n",
       " <selenium.webdriver.remote.webelement.WebElement (session=\"088ef5344dc7cd5f7f3c00a07c9e459f\", element=\"14222cc7-2149-4a5f-85b0-a0283245abde\")>,\n",
       " <selenium.webdriver.remote.webelement.WebElement (session=\"088ef5344dc7cd5f7f3c00a07c9e459f\", element=\"f34ac491-0871-4c89-a63e-2b2ec6d62ac2\")>]"
      ]
     },
     "execution_count": 105,
     "metadata": {},
     "output_type": "execute_result"
    }
   ],
   "source": [
    "#So lets extract all the tags having the ratings\n",
    "rating_tags1 = driver.find_elements_by_xpath(\"//span[@class='a-icon-alt']\")\n",
    "rating_tags1"
   ]
  },
  {
   "cell_type": "code",
   "execution_count": 106,
   "metadata": {},
   "outputs": [
    {
     "data": {
      "text/plain": [
       "['', '', '', '', '', '', '', '', '', '', '', '']"
      ]
     },
     "execution_count": 106,
     "metadata": {},
     "output_type": "execute_result"
    }
   ],
   "source": [
    "#Loop to iterate over the tags extracted above and extract the text inside them.\n",
    "rating1=[]\n",
    "for i in rating_tags1:\n",
    "    rating1.append(i.text)\n",
    "rating1"
   ]
  },
  {
   "cell_type": "code",
   "execution_count": 107,
   "metadata": {},
   "outputs": [
    {
     "data": {
      "text/plain": [
       "[<selenium.webdriver.remote.webelement.WebElement (session=\"088ef5344dc7cd5f7f3c00a07c9e459f\", element=\"402c11a1-1c12-46da-bd0e-14f2d4fee510\")>,\n",
       " <selenium.webdriver.remote.webelement.WebElement (session=\"088ef5344dc7cd5f7f3c00a07c9e459f\", element=\"689ba773-8a4f-470e-ba48-c9a35e9049e7\")>,\n",
       " <selenium.webdriver.remote.webelement.WebElement (session=\"088ef5344dc7cd5f7f3c00a07c9e459f\", element=\"30ea4722-1ee6-43ed-8eba-2957c2cd8f22\")>,\n",
       " <selenium.webdriver.remote.webelement.WebElement (session=\"088ef5344dc7cd5f7f3c00a07c9e459f\", element=\"f188ea4f-8243-45b6-a4fc-d6e892e41884\")>,\n",
       " <selenium.webdriver.remote.webelement.WebElement (session=\"088ef5344dc7cd5f7f3c00a07c9e459f\", element=\"0ac31773-08c1-4cff-8521-4b13de65bd55\")>,\n",
       " <selenium.webdriver.remote.webelement.WebElement (session=\"088ef5344dc7cd5f7f3c00a07c9e459f\", element=\"651290f3-0c04-41b4-9825-e56986805091\")>,\n",
       " <selenium.webdriver.remote.webelement.WebElement (session=\"088ef5344dc7cd5f7f3c00a07c9e459f\", element=\"e53cbbfd-53b5-49cc-ad16-e2e50e120c6d\")>,\n",
       " <selenium.webdriver.remote.webelement.WebElement (session=\"088ef5344dc7cd5f7f3c00a07c9e459f\", element=\"6fcf36e6-0f38-418f-8858-00942af02103\")>,\n",
       " <selenium.webdriver.remote.webelement.WebElement (session=\"088ef5344dc7cd5f7f3c00a07c9e459f\", element=\"1be258a7-49d3-41f7-8bd3-89a94cc5a6ee\")>,\n",
       " <selenium.webdriver.remote.webelement.WebElement (session=\"088ef5344dc7cd5f7f3c00a07c9e459f\", element=\"08166fb0-52ba-420a-9a39-7689c61d3cd4\")>,\n",
       " <selenium.webdriver.remote.webelement.WebElement (session=\"088ef5344dc7cd5f7f3c00a07c9e459f\", element=\"2d5b6f65-5e1f-4405-bb78-72b617658102\")>]"
      ]
     },
     "execution_count": 107,
     "metadata": {},
     "output_type": "execute_result"
    }
   ],
   "source": [
    "#So lets extract all the tags having the price\n",
    "price_tags1 = driver.find_elements_by_xpath(\"//span[@class='a-price-whole']\")\n",
    "price_tags1"
   ]
  },
  {
   "cell_type": "code",
   "execution_count": 108,
   "metadata": {},
   "outputs": [
    {
     "data": {
      "text/plain": [
       "['2,48,790',\n",
       " '2,99,999',\n",
       " '1,22,000',\n",
       " '2,62,990',\n",
       " '2,66,990',\n",
       " '3,19,990',\n",
       " '2,77,490',\n",
       " '1,89,900',\n",
       " '2,00,690',\n",
       " '2,15,990',\n",
       " '2,69,900']"
      ]
     },
     "execution_count": 108,
     "metadata": {},
     "output_type": "execute_result"
    }
   ],
   "source": [
    "#Loop to iterate over the tags extracted above and extract the text inside them.\n",
    "price1=[]\n",
    "for i in price_tags1:\n",
    "    price1.append(i.text)\n",
    "price1"
   ]
  },
  {
   "cell_type": "code",
   "execution_count": 109,
   "metadata": {},
   "outputs": [],
   "source": [
    "prices = price + price1\n",
    "titles = title + title1"
   ]
  },
  {
   "cell_type": "code",
   "execution_count": 114,
   "metadata": {},
   "outputs": [],
   "source": [
    "del titles[-4]"
   ]
  },
  {
   "cell_type": "code",
   "execution_count": 116,
   "metadata": {},
   "outputs": [],
   "source": [
    "del titles[-3]"
   ]
  },
  {
   "cell_type": "code",
   "execution_count": 117,
   "metadata": {},
   "outputs": [],
   "source": [
    "del titles[-2]"
   ]
  },
  {
   "cell_type": "code",
   "execution_count": 118,
   "metadata": {},
   "outputs": [],
   "source": [
    "del titles[-1]"
   ]
  },
  {
   "cell_type": "code",
   "execution_count": 119,
   "metadata": {},
   "outputs": [
    {
     "name": "stdout",
     "output_type": "stream",
     "text": [
      "32\n"
     ]
    }
   ],
   "source": [
    "print(len(titles))"
   ]
  },
  {
   "cell_type": "code",
   "execution_count": 121,
   "metadata": {},
   "outputs": [
    {
     "data": {
      "text/html": [
       "<div>\n",
       "<style scoped>\n",
       "    .dataframe tbody tr th:only-of-type {\n",
       "        vertical-align: middle;\n",
       "    }\n",
       "\n",
       "    .dataframe tbody tr th {\n",
       "        vertical-align: top;\n",
       "    }\n",
       "\n",
       "    .dataframe thead th {\n",
       "        text-align: right;\n",
       "    }\n",
       "</style>\n",
       "<table border=\"1\" class=\"dataframe\">\n",
       "  <thead>\n",
       "    <tr style=\"text-align: right;\">\n",
       "      <th></th>\n",
       "      <th>title</th>\n",
       "      <th>price</th>\n",
       "    </tr>\n",
       "  </thead>\n",
       "  <tbody>\n",
       "    <tr>\n",
       "      <th>0</th>\n",
       "      <td>(Renewed) Dell Latitude E6420 14 Inch Laptop (...</td>\n",
       "      <td>35,000</td>\n",
       "    </tr>\n",
       "    <tr>\n",
       "      <th>1</th>\n",
       "      <td>Mi Notebook Horizon Edition 14 Intel Core i5-1...</td>\n",
       "      <td>49,999</td>\n",
       "    </tr>\n",
       "    <tr>\n",
       "      <th>2</th>\n",
       "      <td>(Renewed) HP EliteBook 840 G3 Laptop (Core i7 ...</td>\n",
       "      <td>44,999</td>\n",
       "    </tr>\n",
       "    <tr>\n",
       "      <th>3</th>\n",
       "      <td>Lenovo Legion 5Pi 10th Gen Intel Core i7 15.6\"...</td>\n",
       "      <td>3,43,099</td>\n",
       "    </tr>\n",
       "    <tr>\n",
       "      <th>4</th>\n",
       "      <td>Asus ROG Zephyrus S Ultra Slim Gaming Laptop, ...</td>\n",
       "      <td>79,990</td>\n",
       "    </tr>\n",
       "    <tr>\n",
       "      <th>5</th>\n",
       "      <td>HP Pavilion (2021) Thin &amp; Light 11th Gen Core ...</td>\n",
       "      <td>97,990</td>\n",
       "    </tr>\n",
       "    <tr>\n",
       "      <th>6</th>\n",
       "      <td>Lenovo Yoga Slim 7i 11th Gen Intel Core i7 14\"...</td>\n",
       "      <td>84,990</td>\n",
       "    </tr>\n",
       "    <tr>\n",
       "      <th>7</th>\n",
       "      <td>HP Pavilion Gaming 10th Gen Intel Core i7 Proc...</td>\n",
       "      <td>46,290</td>\n",
       "    </tr>\n",
       "    <tr>\n",
       "      <th>8</th>\n",
       "      <td>(Renewed) Lenovo Intel 4th Gen Core i7-4980HQ ...</td>\n",
       "      <td>83,990</td>\n",
       "    </tr>\n",
       "    <tr>\n",
       "      <th>9</th>\n",
       "      <td>Lenovo IdeaPad Flex 5 11th Gen Intel Core i7 1...</td>\n",
       "      <td>69,990</td>\n",
       "    </tr>\n",
       "    <tr>\n",
       "      <th>10</th>\n",
       "      <td>Acer Nitro 5 Intel Core i7-9th Gen 17.3-inch D...</td>\n",
       "      <td>2,01,524</td>\n",
       "    </tr>\n",
       "    <tr>\n",
       "      <th>11</th>\n",
       "      <td>2019 HP 17.3\" HD+ Touchscreen Laptop Computer</td>\n",
       "      <td>80,990</td>\n",
       "    </tr>\n",
       "    <tr>\n",
       "      <th>12</th>\n",
       "      <td>Acer Swift 3X 14\" FHD IPS Display Ultra Thin a...</td>\n",
       "      <td>1,44,643</td>\n",
       "    </tr>\n",
       "    <tr>\n",
       "      <th>13</th>\n",
       "      <td>CUK VivoBook K571 by ASUS 15 Inch Gaming Lapto...</td>\n",
       "      <td>1,64,990</td>\n",
       "    </tr>\n",
       "    <tr>\n",
       "      <th>14</th>\n",
       "      <td>Dell XPS 7390 13.3-inch (33.78 cms) UHD Displa...</td>\n",
       "      <td>39,999</td>\n",
       "    </tr>\n",
       "    <tr>\n",
       "      <th>15</th>\n",
       "      <td>HP 14 Thin &amp; Light 14\" (35.56cms) FHD Laptop (...</td>\n",
       "      <td>2,16,327</td>\n",
       "    </tr>\n",
       "    <tr>\n",
       "      <th>16</th>\n",
       "      <td>Razer Blade Pro 17 Gaming Laptop 2019</td>\n",
       "      <td>47,050</td>\n",
       "    </tr>\n",
       "    <tr>\n",
       "      <th>17</th>\n",
       "      <td>(Renewed) Dell Intel 4th Gen Core i7 4600U 14-...</td>\n",
       "      <td>34,999</td>\n",
       "    </tr>\n",
       "    <tr>\n",
       "      <th>18</th>\n",
       "      <td>Lenovo 2019 Yoga C930 2-in-1 13.9\" 4K UHD Touc...</td>\n",
       "      <td>78,493</td>\n",
       "    </tr>\n",
       "    <tr>\n",
       "      <th>19</th>\n",
       "      <td>Life Digital Laptop 15.6-inch (39.62 cms) (Int...</td>\n",
       "      <td>43,000</td>\n",
       "    </tr>\n",
       "    <tr>\n",
       "      <th>20</th>\n",
       "      <td>(Renewed) Lenovo T430 14-inch Laptop (Core i7/...</td>\n",
       "      <td>29,999</td>\n",
       "    </tr>\n",
       "    <tr>\n",
       "      <th>21</th>\n",
       "      <td>HP Pavilion x360 (2021) 14\" (35.56cms) FHD Tou...</td>\n",
       "      <td>2,48,790</td>\n",
       "    </tr>\n",
       "    <tr>\n",
       "      <th>22</th>\n",
       "      <td>(Renewed) Dell Latitude E6420 14 Inch Laptop (...</td>\n",
       "      <td>2,99,999</td>\n",
       "    </tr>\n",
       "    <tr>\n",
       "      <th>23</th>\n",
       "      <td>HP Pavilion Gaming 10th Gen Intel Core i7 Proc...</td>\n",
       "      <td>1,22,000</td>\n",
       "    </tr>\n",
       "    <tr>\n",
       "      <th>24</th>\n",
       "      <td>(Renewed) Lenovo T430 14-inch Laptop (Core i7/...</td>\n",
       "      <td>2,62,990</td>\n",
       "    </tr>\n",
       "    <tr>\n",
       "      <th>25</th>\n",
       "      <td>Dell XPS 9570 15.6\" (39.62cms) UHD Laptop (8th...</td>\n",
       "      <td>2,66,990</td>\n",
       "    </tr>\n",
       "    <tr>\n",
       "      <th>26</th>\n",
       "      <td>ASUS ZenBook Pro Duo Intel Core i9-10980HK 10t...</td>\n",
       "      <td>3,19,990</td>\n",
       "    </tr>\n",
       "    <tr>\n",
       "      <th>27</th>\n",
       "      <td>(Renewed) Dell G Series G7  7588 15.6-inch FHD...</td>\n",
       "      <td>2,77,490</td>\n",
       "    </tr>\n",
       "    <tr>\n",
       "      <th>28</th>\n",
       "      <td>Lenovo Legion 7 10th Gen Intel Core i9 15.6 in...</td>\n",
       "      <td>1,89,900</td>\n",
       "    </tr>\n",
       "    <tr>\n",
       "      <th>29</th>\n",
       "      <td>ASUS ROG Zephyrus Duo 15, 15.6\" FHD 300Hz/3ms,...</td>\n",
       "      <td>2,00,690</td>\n",
       "    </tr>\n",
       "    <tr>\n",
       "      <th>30</th>\n",
       "      <td>Dell Alienware m15(R3) 15.6\" (39.62cms) UHD Ga...</td>\n",
       "      <td>2,15,990</td>\n",
       "    </tr>\n",
       "    <tr>\n",
       "      <th>31</th>\n",
       "      <td>ASUS ROG Strix Scar 17 (2020), 17.3\" FHD 300Hz...</td>\n",
       "      <td>2,69,900</td>\n",
       "    </tr>\n",
       "  </tbody>\n",
       "</table>\n",
       "</div>"
      ],
      "text/plain": [
       "                                                title     price\n",
       "0   (Renewed) Dell Latitude E6420 14 Inch Laptop (...    35,000\n",
       "1   Mi Notebook Horizon Edition 14 Intel Core i5-1...    49,999\n",
       "2   (Renewed) HP EliteBook 840 G3 Laptop (Core i7 ...    44,999\n",
       "3   Lenovo Legion 5Pi 10th Gen Intel Core i7 15.6\"...  3,43,099\n",
       "4   Asus ROG Zephyrus S Ultra Slim Gaming Laptop, ...    79,990\n",
       "5   HP Pavilion (2021) Thin & Light 11th Gen Core ...    97,990\n",
       "6   Lenovo Yoga Slim 7i 11th Gen Intel Core i7 14\"...    84,990\n",
       "7   HP Pavilion Gaming 10th Gen Intel Core i7 Proc...    46,290\n",
       "8   (Renewed) Lenovo Intel 4th Gen Core i7-4980HQ ...    83,990\n",
       "9   Lenovo IdeaPad Flex 5 11th Gen Intel Core i7 1...    69,990\n",
       "10  Acer Nitro 5 Intel Core i7-9th Gen 17.3-inch D...  2,01,524\n",
       "11      2019 HP 17.3\" HD+ Touchscreen Laptop Computer    80,990\n",
       "12  Acer Swift 3X 14\" FHD IPS Display Ultra Thin a...  1,44,643\n",
       "13  CUK VivoBook K571 by ASUS 15 Inch Gaming Lapto...  1,64,990\n",
       "14  Dell XPS 7390 13.3-inch (33.78 cms) UHD Displa...    39,999\n",
       "15  HP 14 Thin & Light 14\" (35.56cms) FHD Laptop (...  2,16,327\n",
       "16              Razer Blade Pro 17 Gaming Laptop 2019    47,050\n",
       "17  (Renewed) Dell Intel 4th Gen Core i7 4600U 14-...    34,999\n",
       "18  Lenovo 2019 Yoga C930 2-in-1 13.9\" 4K UHD Touc...    78,493\n",
       "19  Life Digital Laptop 15.6-inch (39.62 cms) (Int...    43,000\n",
       "20  (Renewed) Lenovo T430 14-inch Laptop (Core i7/...    29,999\n",
       "21  HP Pavilion x360 (2021) 14\" (35.56cms) FHD Tou...  2,48,790\n",
       "22  (Renewed) Dell Latitude E6420 14 Inch Laptop (...  2,99,999\n",
       "23  HP Pavilion Gaming 10th Gen Intel Core i7 Proc...  1,22,000\n",
       "24  (Renewed) Lenovo T430 14-inch Laptop (Core i7/...  2,62,990\n",
       "25  Dell XPS 9570 15.6\" (39.62cms) UHD Laptop (8th...  2,66,990\n",
       "26  ASUS ZenBook Pro Duo Intel Core i9-10980HK 10t...  3,19,990\n",
       "27  (Renewed) Dell G Series G7  7588 15.6-inch FHD...  2,77,490\n",
       "28  Lenovo Legion 7 10th Gen Intel Core i9 15.6 in...  1,89,900\n",
       "29  ASUS ROG Zephyrus Duo 15, 15.6\" FHD 300Hz/3ms,...  2,00,690\n",
       "30  Dell Alienware m15(R3) 15.6\" (39.62cms) UHD Ga...  2,15,990\n",
       "31  ASUS ROG Strix Scar 17 (2020), 17.3\" FHD 300Hz...  2,69,900"
      ]
     },
     "execution_count": 121,
     "metadata": {},
     "output_type": "execute_result"
    }
   ],
   "source": [
    "\n",
    "amazon=pd.DataFrame({})\n",
    "amazon['title'] = titles\n",
    "amazon['price'] = prices\n",
    "\n",
    "amazon"
   ]
  },
  {
   "cell_type": "code",
   "execution_count": null,
   "metadata": {},
   "outputs": [],
   "source": []
  }
 ],
 "metadata": {
  "kernelspec": {
   "display_name": "Python 3",
   "language": "python",
   "name": "python3"
  },
  "language_info": {
   "codemirror_mode": {
    "name": "ipython",
    "version": 3
   },
   "file_extension": ".py",
   "mimetype": "text/x-python",
   "name": "python",
   "nbconvert_exporter": "python",
   "pygments_lexer": "ipython3",
   "version": "3.8.5"
  }
 },
 "nbformat": 4,
 "nbformat_minor": 4
}
